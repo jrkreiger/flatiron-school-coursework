{
 "cells": [
  {
   "cell_type": "markdown",
   "metadata": {},
   "source": [
    "# Gradient Descent: Step Sizes - Lab\n",
    "\n",
    "## Introduction\n",
    "\n",
    "In this lab, you'll practice applying gradient descent.  As you know, gradient descent begins with an initial regression line and moves to a \"best fit\" regression line by changing values of $m$ and $b$ and evaluating the RSS.  So far, we have illustrated this technique by changing the values of $m$ and evaluating the RSS.  In this lab, you will work through applying this technique by changing the value of $b$ instead.  Let's get started.\n",
    "\n",
    "## Objectives\n",
    "\n",
    "You will be able to:\n",
    "\n",
    "- Understand how to go from RSS to finding a \"best fit\" line\n",
    "- Understand how gradient descent can be used to find the best intercept for your linear regression model\n",
    "\n",
    "## Setting up our initial regression line\n",
    "\n",
    "Once again, we'll take a look at revenues our data example, which looks like this:"
   ]
  },
  {
   "cell_type": "code",
   "execution_count": 1,
   "metadata": {
    "ExecuteTime": {
     "end_time": "2019-10-16T19:33:11.093747Z",
     "start_time": "2019-10-16T19:33:10.453748Z"
    }
   },
   "outputs": [
    {
     "data": {
      "image/png": "[encoded data removed]",
      "text/plain": [
       "<Figure size 432x288 with 1 Axes>"
      ]
     },
     "metadata": {
      "needs_background": "light"
     },
     "output_type": "display_data"
    }
   ],
   "source": [
    "import numpy as np\n",
    "np.set_printoptions(formatter={'float_kind':'{:f}'.format})\n",
    "import matplotlib.pyplot as plt\n",
    "%matplotlib inline\n",
    "np.random.seed(225)\n",
    "\n",
    "x = np.random.rand(30, 1).reshape(30)\n",
    "y_randterm = np.random.normal(0,3,30)\n",
    "y = 3+ 50* x + y_randterm\n",
    "\n",
    "plt.plot(x, y, '.b')\n",
    "plt.xlabel(\"x\", fontsize=14)\n",
    "plt.ylabel(\"y\", fontsize=14);"
   ]
  },
  {
   "cell_type": "markdown",
   "metadata": {},
   "source": [
    "We can start with some values for an initial not-so-accurate regression line, $y = 43x + 12$."
   ]
  },
  {
   "cell_type": "code",
   "execution_count": 2,
   "metadata": {
    "ExecuteTime": {
     "end_time": "2019-10-16T19:33:11.101765Z",
     "start_time": "2019-10-16T19:33:11.097353Z"
    }
   },
   "outputs": [],
   "source": [
    "def regression_formula(x):\n",
    "    return 12 + 43*x"
   ]
  },
  {
   "cell_type": "code",
   "execution_count": 3,
   "metadata": {
    "ExecuteTime": {
     "end_time": "2019-10-16T19:33:11.364353Z",
     "start_time": "2019-10-16T19:33:11.105555Z"
    }
   },
   "outputs": [
    {
     "data": {
      "image/png": "[encoded data removed]",
      "text/plain": [
       "<Figure size 432x288 with 1 Axes>"
      ]
     },
     "metadata": {
      "needs_background": "light"
     },
     "output_type": "display_data"
    }
   ],
   "source": [
    "np.random.seed(225)\n",
    "\n",
    "x = np.random.rand(30,1).reshape(30)\n",
    "y_randterm = np.random.normal(0,3,30)\n",
    "y = 3+ 50* x + y_randterm\n",
    "\n",
    "plt.plot(x, y, '.b')\n",
    "plt.plot(x, regression_formula(x), '-')\n",
    "plt.xlabel(\"x\", fontsize=14)\n",
    "plt.ylabel(\"y\", fontsize=14);"
   ]
  },
  {
   "cell_type": "code",
   "execution_count": 4,
   "metadata": {
    "ExecuteTime": {
     "end_time": "2019-10-16T19:33:11.374044Z",
     "start_time": "2019-10-16T19:33:11.368469Z"
    }
   },
   "outputs": [],
   "source": [
    "def errors(x_values, y_values, m, b):\n",
    "    y_line = (b + m*x_values)\n",
    "    return (y_values - y_line)\n",
    "\n",
    "def squared_errors(x_values, y_values, m, b):\n",
    "    return errors(x_values, y_values, m, b)**2\n",
    "\n",
    "def residual_sum_squares(x_values, y_values, m, b):\n",
    "    return sum(squared_errors(x_values, y_values, m, b))"
   ]
  },
  {
   "cell_type": "markdown",
   "metadata": {},
   "source": [
    "Now using the `residual_sum_squares`, function, we calculate the RSS to measure the accuracy of the regression line to our data.  Let's take another look at that function:"
   ]
  },
  {
   "cell_type": "code",
   "execution_count": 5,
   "metadata": {
    "ExecuteTime": {
     "end_time": "2019-10-16T19:33:11.385370Z",
     "start_time": "2019-10-16T19:33:11.378210Z"
    }
   },
   "outputs": [
    {
     "data": {
      "text/plain": [
       "1117.8454014417434"
      ]
     },
     "execution_count": 5,
     "metadata": {},
     "output_type": "execute_result"
    }
   ],
   "source": [
    "residual_sum_squares(x, y , 43, 12) "
   ]
  },
  {
   "cell_type": "markdown",
   "metadata": {},
   "source": [
    "### Building a cost curve\n",
    "\n",
    "Now let's use the `residual_sum_squares` function to build a cost curve.  Keeping the $m$ value fixed at $43$, write a function called `rss_values`.  \n",
    "* `rss_values` passes our dataset with the `x_values` and `y_values` arguments.  \n",
    "* It also takes a list of values of $b$, and an initial $m$ value as arguments.  \n",
    "* It outputs a numpy array with a first column of `b_values` and `rss_values`, with each key pointing to a list of the corresponding values."
   ]
  },
  {
   "cell_type": "code",
   "execution_count": 37,
   "metadata": {
    "ExecuteTime": {
     "end_time": "2019-10-16T19:41:14.721299Z",
     "start_time": "2019-10-16T19:41:14.713773Z"
    }
   },
   "outputs": [],
   "source": [
    "def rss_values(x_values, y_values, m, b_values):\n",
    "    b_min = min(b_values)\n",
    "    b_max = max(b_values)\n",
    "    b_range = ((b_max-b_min)*2) + 1\n",
    "    output = np.zeros((b_range,2))\n",
    "    for index, b in enumerate(np.linspace(b_min, b_max, b_range)):\n",
    "        output[index,0] = b\n",
    "        output[index,1] = residual_sum_squares(x, y, m, b)\n",
    "    return output           "
   ]
  },
  {
   "cell_type": "markdown",
   "metadata": {},
   "source": [
    "Now loop over a list with $b$ values between 0 and 14 with steps of 0.5. Store it in bval_RSS. Print out the resulting table."
   ]
  },
  {
   "cell_type": "code",
   "execution_count": 39,
   "metadata": {
    "ExecuteTime": {
     "end_time": "2019-10-16T19:41:31.509057Z",
     "start_time": "2019-10-16T19:41:31.497060Z"
    },
    "scrolled": true
   },
   "outputs": [
    {
     "name": "stdout",
     "output_type": "stream",
     "text": [
      "            1.00          1368.21\n",
      "            1.50          1199.33\n",
      "            2.00          1045.45\n",
      "            2.50           906.57\n",
      "            3.00           782.69\n",
      "            3.50           673.81\n",
      "            4.00           579.93\n",
      "            4.50           501.05\n",
      "            5.00           437.17\n",
      "            5.50           388.29\n",
      "            6.00           354.41\n",
      "            6.50           335.53\n",
      "            7.00           331.65\n",
      "            7.50           342.77\n",
      "            8.00           368.89\n",
      "            8.50           410.01\n",
      "            9.00           466.13\n",
      "            9.50           537.25\n",
      "           10.00           623.37\n",
      "           10.50           724.49\n",
      "           11.00           840.61\n",
      "           11.50           971.73\n",
      "           12.00          1117.85\n",
      "           12.50          1278.97\n",
      "           13.00          1455.08\n",
      "           13.50          1646.20\n",
      "           14.00          1852.32\n"
     ]
    }
   ],
   "source": [
    "import sys\n",
    "b_val = list(range(1, 15, 1))\n",
    "bval_RSS = rss_values(x, y, 43, b_val)\n",
    "np.savetxt(sys.stdout, bval_RSS, '%16.2f')  #this line is to round your result, which will make things look nicer."
   ]
  },
  {
   "cell_type": "markdown",
   "metadata": {},
   "source": [
    "Plotly provides for us a table chart, and we can pass the values generated from our `rss_values` function to create a table.\n",
    "\n",
    "And let's plot this out using a a line chart."
   ]
  },
  {
   "cell_type": "code",
   "execution_count": 40,
   "metadata": {
    "ExecuteTime": {
     "end_time": "2019-10-16T19:42:06.965836Z",
     "start_time": "2019-10-16T19:42:06.737652Z"
    }
   },
   "outputs": [
    {
     "data": {
      "image/png": "[encoded data removed]",
      "text/plain": [
       "<Figure size 720x504 with 1 Axes>"
      ]
     },
     "metadata": {
      "needs_background": "light"
     },
     "output_type": "display_data"
    }
   ],
   "source": [
    "plt.figure(figsize=(10,7))\n",
    "plt.plot(bval_RSS[:,0], bval_RSS[:,1], '-')\n",
    "plt.xlabel(\"b-values\", fontsize=14)\n",
    "plt.ylabel(\"RSS\", fontsize=14)\n",
    "plt.title(\"RSS with changes to intercept\", fontsize=16);"
   ]
  },
  {
   "cell_type": "markdown",
   "metadata": {},
   "source": [
    "## Looking at the slope of our cost curve\n",
    "\n",
    "In this section, we'll work up to building a gradient descent function that automatically changes our step size.  To get you started, we'll provide a function called `slope_at` that calculates the slope of the cost curve at a given point on the cost curve. Use the `slope_at` function for b-values 3 and 6."
   ]
  },
  {
   "cell_type": "code",
   "execution_count": 41,
   "metadata": {
    "ExecuteTime": {
     "end_time": "2019-10-16T19:42:22.974622Z",
     "start_time": "2019-10-16T19:42:22.969419Z"
    }
   },
   "outputs": [],
   "source": [
    "def slope_at(x_values, y_values, m, b):\n",
    "    delta = .001\n",
    "    base_rss = residual_sum_squares(x_values, y_values, m, b)\n",
    "    delta_rss = residual_sum_squares(x_values, y_values, m, b + delta)\n",
    "    numerator = delta_rss - base_rss\n",
    "    slope = numerator/delta\n",
    "    return {'b': b, 'slope': slope}"
   ]
  },
  {
   "cell_type": "code",
   "execution_count": 42,
   "metadata": {
    "ExecuteTime": {
     "end_time": "2019-10-16T19:42:45.503215Z",
     "start_time": "2019-10-16T19:42:45.492408Z"
    }
   },
   "outputs": [
    {
     "data": {
      "text/plain": [
       "{'b': 3, 'slope': -232.73066022784406}"
      ]
     },
     "execution_count": 42,
     "metadata": {},
     "output_type": "execute_result"
    }
   ],
   "source": [
    "# Use slope_at\n",
    "slope_at(x, y, 43, 3)\n",
    "#{'b': 3, 'slope': -232.73066022784406}"
   ]
  },
  {
   "cell_type": "code",
   "execution_count": 43,
   "metadata": {
    "ExecuteTime": {
     "end_time": "2019-10-16T19:42:59.716859Z",
     "start_time": "2019-10-16T19:42:59.707443Z"
    }
   },
   "outputs": [
    {
     "data": {
      "text/plain": [
       "{'b': 6, 'slope': -52.73066022772355}"
      ]
     },
     "execution_count": 43,
     "metadata": {},
     "output_type": "execute_result"
    }
   ],
   "source": [
    "# Use slope_at\n",
    "slope_at(x, y, 43, 6)\n",
    "{'b': 6, 'slope': -52.73066022772355}"
   ]
  },
  {
   "cell_type": "markdown",
   "metadata": {},
   "source": [
    "So the `slope_at` function takes in our dataset, and returns the slope of the cost curve at that point.  So the numbers -232.73 and -52.73 reflect the slopes at the cost curve when b is 3 and 6 respectively."
   ]
  },
  {
   "cell_type": "code",
   "execution_count": 44,
   "metadata": {
    "ExecuteTime": {
     "end_time": "2019-10-16T19:43:19.239559Z",
     "start_time": "2019-10-16T19:43:19.229056Z"
    }
   },
   "outputs": [],
   "source": [
    "slope_3 = slope_at(x, y, 43, 3)['slope']\n",
    "slope_6 = slope_at(x, y, 43, 6)['slope']\n",
    "\n",
    "x_3 = np.linspace(3-1, 3+1, 100)\n",
    "x_6 = np.linspace(6-1, 6+1, 100)\n",
    "\n",
    "rss_3 = residual_sum_squares(x, y, 43, 3)\n",
    "rss_6 = residual_sum_squares(x, y, 43, 6)\n",
    "\n",
    "tan_3 = rss_3+slope_3*(x_3-3)\n",
    "tan_6 = rss_6+slope_6*(x_6-6)"
   ]
  },
  {
   "cell_type": "code",
   "execution_count": 45,
   "metadata": {
    "ExecuteTime": {
     "end_time": "2019-10-16T19:43:20.440677Z",
     "start_time": "2019-10-16T19:43:20.187243Z"
    }
   },
   "outputs": [
    {
     "data": {
      "image/png": "[encoded data removed]",
      "text/plain": [
       "<Figure size 720x504 with 1 Axes>"
      ]
     },
     "metadata": {
      "needs_background": "light"
     },
     "output_type": "display_data"
    }
   ],
   "source": [
    "plt.figure(figsize=(10,7))\n",
    "plt.plot(bval_RSS[:,0], bval_RSS[:,1], '-')\n",
    "plt.plot(x_3, tan_3, color = \"red\",  label = \"slope =\" + str(round(slope_3,2)))\n",
    "plt.plot(x_6, tan_6, color = \"green\",  label = \"slope =\" + str(round(slope_6,2)))\n",
    "\n",
    "plt.xlabel(\"b-values\", fontsize=14)\n",
    "plt.ylabel(\"RSS\", fontsize=14)\n",
    "plt.legend(loc='upper right', fontsize='large')\n",
    "\n",
    "plt.title(\"RSS with changes to slope\", fontsize=16);"
   ]
  },
  {
   "cell_type": "markdown",
   "metadata": {},
   "source": [
    "As you can see, it seems pretty accurate.  When the curve is steeper and downwards at $b = 3$, the slope is around -232.73.  And at $b = 6$ with our cost curve becoming flatter, our slope is around -52.73. \n",
    "\n",
    "## Moving towards gradient descent\n",
    "\n",
    "Now that we are familiar with our `slope_at` function and how it calculates the slope of our cost curve at a given point, we can begin to use that function with our gradient descent procedure.\n",
    "\n",
    "Remember that gradient descent works by starting at a regression line with values m, and b, which corresponds to a point on our cost curve.  Then we alter our m or b value (here, the b value) by looking to the slope of the cost curve at that point.  Then we look to the slope of the cost curve at the new b value to indicate the size and direction of the next step.\n",
    "\n",
    "So now let's write a function called `updated_b`.  The function will tell us the step size and direction to move along our cost curve.  The `updated_b` function takes as arguments an initial value of $b$, a learning rate, and the `slope` of the cost curve at that value of $m$.  Its return value is the next value of `b` that it calculates."
   ]
  },
  {
   "cell_type": "code",
   "execution_count": 48,
   "metadata": {
    "ExecuteTime": {
     "end_time": "2019-10-16T19:45:46.014341Z",
     "start_time": "2019-10-16T19:45:46.008756Z"
    }
   },
   "outputs": [],
   "source": [
    "def updated_b(b, learning_rate, cost_curve_slope):\n",
    "    return -learning_rate * cost_curve_slope + b"
   ]
  },
  {
   "cell_type": "markdown",
   "metadata": {},
   "source": [
    "This is what our function returns."
   ]
  },
  {
   "cell_type": "code",
   "execution_count": 49,
   "metadata": {
    "ExecuteTime": {
     "end_time": "2019-10-16T19:45:47.216698Z",
     "start_time": "2019-10-16T19:45:47.206961Z"
    }
   },
   "outputs": [
    {
     "data": {
      "text/plain": [
       "5.3273066022784406"
      ]
     },
     "execution_count": 49,
     "metadata": {},
     "output_type": "execute_result"
    }
   ],
   "source": [
    "current_slope = slope_at(x, y, 43, 3)['slope']\n",
    "updated_b(3, .01, current_slope)\n",
    "# 5.327"
   ]
  },
  {
   "cell_type": "code",
   "execution_count": 50,
   "metadata": {
    "ExecuteTime": {
     "end_time": "2019-10-16T19:45:51.300634Z",
     "start_time": "2019-10-16T19:45:51.294244Z"
    }
   },
   "outputs": [
    {
     "data": {
      "text/plain": [
       "6.2581066022854674"
      ]
     },
     "execution_count": 50,
     "metadata": {},
     "output_type": "execute_result"
    }
   ],
   "source": [
    "current_slope = slope_at(x, y, 43, 5.327)['slope']\n",
    "updated_b(5.327, .01, current_slope)\n",
    "# 6.258"
   ]
  },
  {
   "cell_type": "code",
   "execution_count": 51,
   "metadata": {
    "ExecuteTime": {
     "end_time": "2019-10-16T19:45:52.321163Z",
     "start_time": "2019-10-16T19:45:52.311296Z"
    }
   },
   "outputs": [
    {
     "data": {
      "text/plain": [
       "6.630506602279827"
      ]
     },
     "execution_count": 51,
     "metadata": {},
     "output_type": "execute_result"
    }
   ],
   "source": [
    "current_slope = slope_at(x, y, 43, 6.258)['slope']\n",
    "updated_b(6.258, .01, current_slope)\n",
    "# 6.6305"
   ]
  },
  {
   "cell_type": "code",
   "execution_count": 52,
   "metadata": {
    "ExecuteTime": {
     "end_time": "2019-10-16T19:46:05.384225Z",
     "start_time": "2019-10-16T19:46:05.375672Z"
    }
   },
   "outputs": [
    {
     "data": {
      "text/plain": [
       "6.779706602280413"
      ]
     },
     "execution_count": 52,
     "metadata": {},
     "output_type": "execute_result"
    }
   ],
   "source": [
    "current_slope = slope_at(x, y, 43, 6.631)['slope']\n",
    "updated_b(6.631, .01, current_slope)\n",
    "# 6.780"
   ]
  },
  {
   "cell_type": "markdown",
   "metadata": {},
   "source": [
    "Take a careful look at how we use the `updated_b` function.  By using our updated value of $b$ we are quickly converging towards an optimal value of $b$.   \n",
    "\n",
    "Now let's write another function called `gradient_descent`.  The inputs of the function are `x_values`, `y_values`, `steps`, the `m` we are holding constant, the `learning_rate`, and the `current_b` that we are looking at.  The `steps` arguments represent the number of steps the function will take before the function stops.  We can get a sense of the return value in the cell below.  It is a list of dictionaries, with each dictionary having a key of the current `b` value, the `slope` of the cost curve at that `b` value, and the `rss` at that `b` value."
   ]
  },
  {
   "cell_type": "code",
   "execution_count": 57,
   "metadata": {
    "ExecuteTime": {
     "end_time": "2019-10-16T19:52:37.987175Z",
     "start_time": "2019-10-16T19:52:37.979497Z"
    }
   },
   "outputs": [],
   "source": [
    "def gradient_descent(x_values, y_values, steps, current_b, learning_rate, m):\n",
    "    output = []\n",
    "    b = current_b\n",
    "    for step in range(steps):\n",
    "        new_dict = {}\n",
    "        new_dict['b'] = b\n",
    "        new_dict['rss'] = residual_sum_squares(x, y, m, b)\n",
    "        new_dict['slope'] = slope_at(x, y, m, b)['slope']\n",
    "        output.append(new_dict)\n",
    "        b = updated_b(b, learning_rate, new_dict['slope'])\n",
    "    return output"
   ]
  },
  {
   "cell_type": "code",
   "execution_count": 59,
   "metadata": {
    "ExecuteTime": {
     "end_time": "2019-10-16T19:52:48.949876Z",
     "start_time": "2019-10-16T19:52:48.939715Z"
    }
   },
   "outputs": [
    {
     "data": {
      "text/plain": [
       "[{'b': 0, 'rss': 1750.9733241783329, 'slope': -412.73066022858984},\n",
       " {'b': 2.063653301142949,\n",
       "  'rss': 1026.9383735363217,\n",
       "  'slope': -288.91146215914887},\n",
       " {'b': 3.5082106119386935,\n",
       "  'rss': 672.1482467070473,\n",
       "  'slope': -202.23802351142695},\n",
       " {'b': 4.519400729495828,\n",
       "  'rss': 498.29198384953065,\n",
       "  'slope': -141.56661645807844},\n",
       " {'b': 5.2272338117862205,\n",
       "  'rss': 413.0960445515036,\n",
       "  'slope': -99.09663152063786},\n",
       " {'b': 5.72271696938941,\n",
       "  'rss': 371.34557494702494,\n",
       "  'slope': -69.36764206449197},\n",
       " {'b': 6.06955517971187,\n",
       "  'rss': 350.8847232969017,\n",
       "  'slope': -48.557349445161435},\n",
       " {'b': 6.312341926937677,\n",
       "  'rss': 340.8567209075995,\n",
       "  'slope': -33.99014461172101},\n",
       " {'b': 6.482292649996282,\n",
       "  'rss': 335.94147018031197,\n",
       "  'slope': -23.793101228136493},\n",
       " {'b': 6.601258156136964,\n",
       "  'rss': 333.5319266343892,\n",
       "  'slope': -16.655170859735335},\n",
       " {'b': 6.684534010435641,\n",
       "  'rss': 332.35050081419246,\n",
       "  'slope': -11.65861960168968},\n",
       " {'b': 6.742827108444089,\n",
       "  'rss': 331.7710775244176,\n",
       "  'slope': -8.161033721307831},\n",
       " {'b': 6.7836322770506285,\n",
       "  'rss': 331.4867928659041,\n",
       "  'slope': -5.712723604858638},\n",
       " {'b': 6.812195895074922,\n",
       "  'rss': 331.3472363106706,\n",
       "  'slope': -3.9989065235772614},\n",
       " {'b': 6.832190427692808,\n",
       "  'rss': 331.2786736478091,\n",
       "  'slope': -2.7992345662823936}]"
      ]
     },
     "metadata": {},
     "output_type": "display_data"
    }
   ],
   "source": [
    "descent_steps = gradient_descent(x, y, 15, 0, learning_rate = .005, m = 43)\n",
    "display(descent_steps)\n",
    "\n",
    "#[{'b': 0, 'rss': 1750.97, 'slope': -412.73},\n",
    "# {'b': 2.063653301142949, 'rss': 1026.94, 'slope': -288.91},\n",
    "# {'b': 3.5082106119386935, 'rss': 672.15, 'slope': -202.24},\n",
    "# {'b': 4.519400729495828, 'rss': 498.29, 'slope': -141.57},\n",
    "# {'b': 5.2272338117862205, 'rss': 413.1, 'slope': -99.1},\n",
    "# {'b': 5.72271696938941, 'rss': 371.35, 'slope': -69.37},\n",
    "# {'b': 6.06955517971187, 'rss': 350.88, 'slope': -48.56},\n",
    "# {'b': 6.312341926937677, 'rss': 340.86, 'slope': -33.99},\n",
    "# {'b': 6.482292649996282, 'rss': 335.94, 'slope': -23.79},\n",
    "# {'b': 6.601258156136964, 'rss': 333.53, 'slope': -16.66},\n",
    "# {'b': 6.684534010435641, 'rss': 332.35, 'slope': -11.66},\n",
    "# {'b': 6.742827108444089, 'rss': 331.77, 'slope': -8.16},\n",
    "# {'b': 6.7836322770506285, 'rss': 331.49, 'slope': -5.71},\n",
    "# {'b': 6.812195895074922, 'rss': 331.35, 'slope': -4.0},\n",
    "# {'b': 6.832190427692808, 'rss': 331.28, 'slope': -2.8}]"
   ]
  },
  {
   "cell_type": "markdown",
   "metadata": {},
   "source": [
    "Looking at our b-values, you get a pretty good idea of how our gradient descent function works.  It starts far away with $b = 0$, and the step size is relatively large, as is the slope of the cost curve.  As the $b$ value updates such that it approaches a minimum of the RSS, the slope of the cost curve and the size of each step both decrease.     \n",
    "\n",
    "Remember that each of these steps indicates a change in our regression line's slope value towards a \"fit\" that more accurately matches our dataset.  Let's plot the final regression line as found before, with $m=43$ and $b=6.83$"
   ]
  },
  {
   "cell_type": "code",
   "execution_count": 63,
   "metadata": {
    "ExecuteTime": {
     "end_time": "2019-10-16T19:55:10.679541Z",
     "start_time": "2019-10-16T19:55:10.471052Z"
    }
   },
   "outputs": [
    {
     "data": {
      "image/png": "[encoded data removed]",
      "text/plain": [
       "<Figure size 432x288 with 1 Axes>"
      ]
     },
     "metadata": {
      "needs_background": "light"
     },
     "output_type": "display_data"
    }
   ],
   "source": [
    "# plot the final result here\n",
    "np.random.seed(225)\n",
    "\n",
    "x = np.random.rand(30,1).reshape(30)\n",
    "y_randterm = np.random.normal(0,3,30)\n",
    "y = 3+ 50* x + y_randterm\n",
    "\n",
    "plt.plot(x, y, '.b')\n",
    "plt.plot(x, regression_formula(x), '-', label='preliminary')\n",
    "plt.xlabel(\"x\", fontsize=14)\n",
    "plt.ylabel(\"y\", fontsize=14)\n",
    "plt.plot(x, 43*x+6.83, label='final')\n",
    "plt.legend()\n",
    "plt.show();"
   ]
  },
  {
   "cell_type": "markdown",
   "metadata": {},
   "source": [
    "As you can see, this final intercept value of around $b=6.8$ better matches our data. Remember that the slope was kept constant. You can see that lifting the slope upwards could probably even lead to a better fit!\n",
    "\n",
    "## Summary\n",
    "\n",
    "In this lesson, we learned some more about gradient descent.  We saw how gradient descent allows our function to improve to a regression line that better matches our data.  We see how to change our regression line, by looking at the Residual Sum of Squares related to the current regression line. We update our regression line by looking at the rate of change of our RSS as we adjust our regression line in the right direction -- that is, the slope of our cost curve.  The larger the magnitude of our rate of change (or slope of our cost curve) the larger our step size.  This way, we take larger steps the further away we are from our minimizing our RSS, and take smaller steps as we converge towards our minimum RSS. "
   ]
  }
 ],
 "metadata": {
  "kernelspec": {
   "display_name": "Python 3",
   "language": "python",
   "name": "python3"
  },
  "language_info": {
   "codemirror_mode": {
    "name": "ipython",
    "version": 3
   },
   "file_extension": ".py",
   "mimetype": "text/x-python",
   "name": "python",
   "nbconvert_exporter": "python",
   "pygments_lexer": "ipython3",
   "version": "3.6.6"
  },
  "toc": {
   "base_numbering": 1,
   "nav_menu": {},
   "number_sections": true,
   "sideBar": true,
   "skip_h1_title": false,
   "title_cell": "Table of Contents",
   "title_sidebar": "Contents",
   "toc_cell": false,
   "toc_position": {},
   "toc_section_display": true,
   "toc_window_display": false
  }
 },
 "nbformat": 4,
 "nbformat_minor": 2
}
