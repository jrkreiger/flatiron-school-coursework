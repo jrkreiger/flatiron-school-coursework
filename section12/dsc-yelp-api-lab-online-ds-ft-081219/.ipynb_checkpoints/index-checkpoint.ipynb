{
 "cells": [
  {
   "cell_type": "markdown",
   "metadata": {},
   "source": [
    "# Yelp API - Lab\n",
    "\n",
    "\n",
    "## Introduction \n",
    "\n",
    "Now that we've seen how the Yelp API works and some basic Folium visualizations, it's time to put those skills to work in order to create a working map! Taking things a step further, you'll also independently explore how to perform pagination in order to retrieve a full results set from the Yelp API!\n",
    "\n",
    "## Objectives\n",
    "\n",
    "You will be able to: \n",
    "* Create HTTP requests to get data from Yelp API\n",
    "* Parse HTTP responses and perform data analysis on the data returned\n",
    "* Perform pagination to retrieve troves of data!\n",
    "* Create a simple geographical system on to view information about selected businesses, at a given location. \n",
    "\n",
    "## Problem Introduction\n",
    "\n",
    "You've now worked with some API calls, but we have yet to see how to retrieve a more complete dataset in a programmatic manner. Returning to the Yelp API, the [documentation](https://www.yelp.com/developers/documentation/v3/business_search) also provides us details regarding the API limits. These often include details about the number of requests a user is allowed to make within a specified time limit and the maximum number of results to be returned. In this case, we are told that any request has a maximum of 50 results per request and defaults to 20. Furthermore, any search will be limited to a total of 1000 results. To retrieve all 1000 of these results, we would have to page through the results piece by piece, retrieving 50 at a time. Processes such as these are often referred to as pagination.\n",
    "\n",
    "In this lab, you will define a search and then paginate over the results to retrieve all of the results. You'll then parse these responses as a DataFrame (for further exploration) and create a map using Folium to visualize the results geographically.\n",
    "\n",
    "## Part I - Make the Initial Request\n",
    "\n",
    "Start by making an initial request to the Yelp API. Your search must include at least 2 parameters: **term** and **location**. For example, you might search for pizza restaurants in NYC. The term and location is up to you, but make the request below."
   ]
  },
  {
   "cell_type": "code",
   "execution_count": 1,
   "metadata": {
    "ExecuteTime": {
     "end_time": "2019-09-09T18:00:33.489581Z",
     "start_time": "2019-09-09T18:00:33.318343Z"
    }
   },
   "outputs": [],
   "source": [
    "import json\n",
    "import requests\n",
    "\n",
    "def get_keys(path):\n",
    "    with open(path) as f:\n",
    "        return json.load(f)\n",
    "\n",
    "keys = get_keys(\"/Users/jennykreiger/.secret/yelp_api.json\")\n",
    "api_key = keys['api_key']"
   ]
  },
  {
   "cell_type": "code",
   "execution_count": 2,
   "metadata": {
    "ExecuteTime": {
     "end_time": "2019-09-09T18:00:34.164673Z",
     "start_time": "2019-09-09T18:00:33.492480Z"
    }
   },
   "outputs": [
    {
     "name": "stdout",
     "output_type": "stream",
     "text": [
      "{\"businesses\": [{\"id\": \"-Wgpa8PI5021arWnFdcSVg\", \"alias\": \"starbucks-seattle-340\", \"name\": \"Starbucks\", \"image_url\": \"https://s3-media2.fl.yelpcdn.com/bphoto/TKjhBGzC2oeg9GDDjnovJw/o.jpg\", \"is_closed\": false, \"url\": \"https://www.yelp.com/biz/starbucks-seattle-340?adjust_creative=O0BHKPgVUAR5ac7g1WBxTw&utm_campaign=yelp_api_v3&utm_medium=api_v3_business_search&utm_source=O0BHKPgVUAR5ac7g1WBxTw\", \"review_count\": 17, \"categories\": [{\"alias\": \"coffee\", \"title\": \"Coffee & Tea\"}], \"rating\": 3.5, \"coordinates\": {\"latitude\": 47.624406, \"longitude\": -122.338784}, \"transactions\": [], \"price\": \"$\", \"location\": {\"address1\": \"515 Westlake Ave N\", \"address2\": \"\", \"address3\": null, \"city\": \"Seattle\", \"zip_code\": \"98109\", \"country\": \"US\", \"state\": \"WA\", \"display_address\": [\"515 Westlake Ave N\", \"Seattle, WA 98109\"]}, \"phone\": \"+12066247023\", \"display_phone\": \"(206) 624-7023\", \"distance\": 269.96894093264325}, {\"id\": \"Bjaf3mewZBnVBiZJRKGssQ\", \"alias\": \"starbucks-seattle-216\", \"name\": \"Starbucks\", \"image\n"
     ]
    }
   ],
   "source": [
    "url = \"https://api.yelp.com/v3/businesses/search\"\n",
    "\n",
    "headers = {'Authorization': 'Bearer {}'.format(api_key)}\n",
    "\n",
    "url_params = {\n",
    "    'term': 'Starbucks',\n",
    "    'location': 'Seattle'\n",
    "}\n",
    "\n",
    "response = requests.get(url, headers=headers, params=url_params)\n",
    "print(response.text[:1000])"
   ]
  },
  {
   "cell_type": "markdown",
   "metadata": {},
   "source": [
    "## Pagination\n",
    "\n",
    "Now that you have an initial response, you can examine the contents of the json container. For example, you might start with ```response.json().keys()```. Here, you'll see a key for `'total'`, which tells you the full number of matching results given your query parameters. Write a loop (or ideally a function) which then makes successive API calls using the offset parameter to retrieve all of the results (or 5000 for a particularly large result set) for the original query. As you do this, be mindful of how you store the data. Your final goal will be to reformat the data concerning the businesses themselves into a pandas DataFrame from the json objects.\n",
    "\n",
    "**Note: be mindful of the API rate limits. You can only make 5000 requests per day, and are also can make requests too fast. Start prototyping small before running a loop that could be faulty. You can also use time.sleep(n) to add delays. For more details see https://www.yelp.com/developers/documentation/v3/rate_limiting.**"
   ]
  },
  {
   "cell_type": "code",
   "execution_count": 3,
   "metadata": {
    "ExecuteTime": {
     "end_time": "2019-09-09T18:00:34.191154Z",
     "start_time": "2019-09-09T18:00:34.170730Z"
    }
   },
   "outputs": [
    {
     "data": {
      "text/plain": [
       "dict_keys(['businesses', 'total', 'region'])"
      ]
     },
     "execution_count": 3,
     "metadata": {},
     "output_type": "execute_result"
    }
   ],
   "source": [
    "response.json().keys()"
   ]
  },
  {
   "cell_type": "code",
   "execution_count": 4,
   "metadata": {
    "ExecuteTime": {
     "end_time": "2019-09-09T18:00:34.208825Z",
     "start_time": "2019-09-09T18:00:34.197505Z"
    }
   },
   "outputs": [
    {
     "data": {
      "text/plain": [
       "2000"
      ]
     },
     "execution_count": 4,
     "metadata": {},
     "output_type": "execute_result"
    }
   ],
   "source": [
    "response.json()['total']"
   ]
  },
  {
   "cell_type": "code",
   "execution_count": 5,
   "metadata": {
    "ExecuteTime": {
     "end_time": "2019-09-09T18:00:34.790081Z",
     "start_time": "2019-09-09T18:00:34.212259Z"
    }
   },
   "outputs": [],
   "source": [
    "import pandas as pd\n",
    "import time"
   ]
  },
  {
   "cell_type": "code",
   "execution_count": 6,
   "metadata": {
    "ExecuteTime": {
     "end_time": "2019-09-09T18:00:34.801548Z",
     "start_time": "2019-09-09T18:00:34.793009Z"
    }
   },
   "outputs": [],
   "source": [
    "# Define a function to call the API and return reponse as DataFrame\n",
    "def call_to_df(url, headers, url_params):\n",
    "    response = requests.get(url, headers=headers, params=url_params)\n",
    "    \n",
    "    df = pd.DataFrame(response.json()['businesses'])\n",
    "    return df\n",
    "\n",
    "# Define a function to make repeated API calls and concatenate results\n",
    "def repeat_caller(url, headers, url_params):\n",
    "    max_results = response.json()['total']\n",
    "    print('Total results found: ', max_results)\n",
    "    offset = 0\n",
    "    dfs = []\n",
    "    while offset < max_results and offset < 1000:\n",
    "        url_params['offset'] = offset\n",
    "        dfs.append(call_to_df(url, headers, url_params))\n",
    "        time.sleep(1)\n",
    "        offset += 50\n",
    "    df = pd.concat(dfs, ignore_index=True)\n",
    "    return df"
   ]
  },
  {
   "cell_type": "code",
   "execution_count": 7,
   "metadata": {
    "ExecuteTime": {
     "end_time": "2019-09-09T18:01:17.211130Z",
     "start_time": "2019-09-09T18:00:34.806018Z"
    }
   },
   "outputs": [
    {
     "name": "stdout",
     "output_type": "stream",
     "text": [
      "Total results found:  2000\n"
     ]
    },
    {
     "data": {
      "text/plain": [
       "400"
      ]
     },
     "execution_count": 7,
     "metadata": {},
     "output_type": "execute_result"
    }
   ],
   "source": [
    "df = repeat_caller(url, headers, url_params)\n",
    "len(df)"
   ]
  },
  {
   "cell_type": "code",
   "execution_count": 8,
   "metadata": {
    "ExecuteTime": {
     "end_time": "2019-09-09T18:01:17.282440Z",
     "start_time": "2019-09-09T18:01:17.216915Z"
    }
   },
   "outputs": [
    {
     "data": {
      "text/html": [
       "<div>\n",
       "<style scoped>\n",
       "    .dataframe tbody tr th:only-of-type {\n",
       "        vertical-align: middle;\n",
       "    }\n",
       "\n",
       "    .dataframe tbody tr th {\n",
       "        vertical-align: top;\n",
       "    }\n",
       "\n",
       "    .dataframe thead th {\n",
       "        text-align: right;\n",
       "    }\n",
       "</style>\n",
       "<table border=\"1\" class=\"dataframe\">\n",
       "  <thead>\n",
       "    <tr style=\"text-align: right;\">\n",
       "      <th></th>\n",
       "      <th>alias</th>\n",
       "      <th>categories</th>\n",
       "      <th>coordinates</th>\n",
       "      <th>display_phone</th>\n",
       "      <th>distance</th>\n",
       "      <th>id</th>\n",
       "      <th>image_url</th>\n",
       "      <th>is_closed</th>\n",
       "      <th>location</th>\n",
       "      <th>name</th>\n",
       "      <th>phone</th>\n",
       "      <th>price</th>\n",
       "      <th>rating</th>\n",
       "      <th>review_count</th>\n",
       "      <th>transactions</th>\n",
       "      <th>url</th>\n",
       "    </tr>\n",
       "  </thead>\n",
       "  <tbody>\n",
       "    <tr>\n",
       "      <th>0</th>\n",
       "      <td>starbucks-seattle-340</td>\n",
       "      <td>[{'alias': 'coffee', 'title': 'Coffee &amp; Tea'}]</td>\n",
       "      <td>{'latitude': 47.624406, 'longitude': -122.338784}</td>\n",
       "      <td>(206) 624-7023</td>\n",
       "      <td>269.968941</td>\n",
       "      <td>-Wgpa8PI5021arWnFdcSVg</td>\n",
       "      <td>https://s3-media2.fl.yelpcdn.com/bphoto/TKjhBG...</td>\n",
       "      <td>False</td>\n",
       "      <td>{'address1': '515 Westlake Ave N', 'address2':...</td>\n",
       "      <td>Starbucks</td>\n",
       "      <td>+12066247023</td>\n",
       "      <td>$</td>\n",
       "      <td>3.5</td>\n",
       "      <td>17</td>\n",
       "      <td>[]</td>\n",
       "      <td>https://www.yelp.com/biz/starbucks-seattle-340...</td>\n",
       "    </tr>\n",
       "    <tr>\n",
       "      <th>1</th>\n",
       "      <td>starbucks-seattle-216</td>\n",
       "      <td>[{'alias': 'coffee', 'title': 'Coffee &amp; Tea'}]</td>\n",
       "      <td>{'latitude': 47.62282, 'longitude': -122.33691}</td>\n",
       "      <td>(206) 467-4945</td>\n",
       "      <td>307.450795</td>\n",
       "      <td>Bjaf3mewZBnVBiZJRKGssQ</td>\n",
       "      <td>https://s3-media3.fl.yelpcdn.com/bphoto/tofFJY...</td>\n",
       "      <td>False</td>\n",
       "      <td>{'address1': '442 Terry Avenue N', 'address2':...</td>\n",
       "      <td>Starbucks</td>\n",
       "      <td>+12064674945</td>\n",
       "      <td>$</td>\n",
       "      <td>4.0</td>\n",
       "      <td>54</td>\n",
       "      <td>[]</td>\n",
       "      <td>https://www.yelp.com/biz/starbucks-seattle-216...</td>\n",
       "    </tr>\n",
       "    <tr>\n",
       "      <th>2</th>\n",
       "      <td>starbucks-seattle-82</td>\n",
       "      <td>[{'alias': 'coffee', 'title': 'Coffee &amp; Tea'}]</td>\n",
       "      <td>{'latitude': 47.621473, 'longitude': -122.338248}</td>\n",
       "      <td>(206) 382-4624</td>\n",
       "      <td>484.383338</td>\n",
       "      <td>cVb5HjeKYx-2nuGQh7WUHQ</td>\n",
       "      <td>https://s3-media4.fl.yelpcdn.com/bphoto/ZCy2UR...</td>\n",
       "      <td>False</td>\n",
       "      <td>{'address1': '330 Westlake Ave N', 'address2':...</td>\n",
       "      <td>Starbucks</td>\n",
       "      <td>+12063824624</td>\n",
       "      <td>$$</td>\n",
       "      <td>3.5</td>\n",
       "      <td>22</td>\n",
       "      <td>[]</td>\n",
       "      <td>https://www.yelp.com/biz/starbucks-seattle-82?...</td>\n",
       "    </tr>\n",
       "    <tr>\n",
       "      <th>3</th>\n",
       "      <td>starbucks-seattle-77</td>\n",
       "      <td>[{'alias': 'coffee', 'title': 'Coffee &amp; Tea'}]</td>\n",
       "      <td>{'latitude': 47.629924, 'longitude': -122.340027}</td>\n",
       "      <td>(206) 216-0306</td>\n",
       "      <td>604.564258</td>\n",
       "      <td>vf_eeRuhiaAiE6guRv6m3A</td>\n",
       "      <td>https://s3-media4.fl.yelpcdn.com/bphoto/JtNyMA...</td>\n",
       "      <td>False</td>\n",
       "      <td>{'address1': '1200 Westlake Ave N', 'address2'...</td>\n",
       "      <td>Starbucks</td>\n",
       "      <td>+12062160306</td>\n",
       "      <td>$</td>\n",
       "      <td>3.5</td>\n",
       "      <td>45</td>\n",
       "      <td>[]</td>\n",
       "      <td>https://www.yelp.com/biz/starbucks-seattle-77?...</td>\n",
       "    </tr>\n",
       "    <tr>\n",
       "      <th>4</th>\n",
       "      <td>starbucks-seattle-321</td>\n",
       "      <td>[{'alias': 'coffee', 'title': 'Coffee &amp; Tea'}]</td>\n",
       "      <td>{'latitude': 47.6288488, 'longitude': -122.34252}</td>\n",
       "      <td>(206) 283-2211</td>\n",
       "      <td>649.149250</td>\n",
       "      <td>Si74GYf-P3s6z09lmqY0Sw</td>\n",
       "      <td>https://s3-media1.fl.yelpcdn.com/bphoto/zBa5rS...</td>\n",
       "      <td>True</td>\n",
       "      <td>{'address1': '1101 Dexter Ave', 'address2': ''...</td>\n",
       "      <td>Starbucks</td>\n",
       "      <td>+12062832211</td>\n",
       "      <td>$$</td>\n",
       "      <td>4.0</td>\n",
       "      <td>5</td>\n",
       "      <td>[]</td>\n",
       "      <td>https://www.yelp.com/biz/starbucks-seattle-321...</td>\n",
       "    </tr>\n",
       "  </tbody>\n",
       "</table>\n",
       "</div>"
      ],
      "text/plain": [
       "                   alias                                      categories  \\\n",
       "0  starbucks-seattle-340  [{'alias': 'coffee', 'title': 'Coffee & Tea'}]   \n",
       "1  starbucks-seattle-216  [{'alias': 'coffee', 'title': 'Coffee & Tea'}]   \n",
       "2   starbucks-seattle-82  [{'alias': 'coffee', 'title': 'Coffee & Tea'}]   \n",
       "3   starbucks-seattle-77  [{'alias': 'coffee', 'title': 'Coffee & Tea'}]   \n",
       "4  starbucks-seattle-321  [{'alias': 'coffee', 'title': 'Coffee & Tea'}]   \n",
       "\n",
       "                                         coordinates   display_phone  \\\n",
       "0  {'latitude': 47.624406, 'longitude': -122.338784}  (206) 624-7023   \n",
       "1    {'latitude': 47.62282, 'longitude': -122.33691}  (206) 467-4945   \n",
       "2  {'latitude': 47.621473, 'longitude': -122.338248}  (206) 382-4624   \n",
       "3  {'latitude': 47.629924, 'longitude': -122.340027}  (206) 216-0306   \n",
       "4  {'latitude': 47.6288488, 'longitude': -122.34252}  (206) 283-2211   \n",
       "\n",
       "     distance                      id  \\\n",
       "0  269.968941  -Wgpa8PI5021arWnFdcSVg   \n",
       "1  307.450795  Bjaf3mewZBnVBiZJRKGssQ   \n",
       "2  484.383338  cVb5HjeKYx-2nuGQh7WUHQ   \n",
       "3  604.564258  vf_eeRuhiaAiE6guRv6m3A   \n",
       "4  649.149250  Si74GYf-P3s6z09lmqY0Sw   \n",
       "\n",
       "                                           image_url  is_closed  \\\n",
       "0  https://s3-media2.fl.yelpcdn.com/bphoto/TKjhBG...      False   \n",
       "1  https://s3-media3.fl.yelpcdn.com/bphoto/tofFJY...      False   \n",
       "2  https://s3-media4.fl.yelpcdn.com/bphoto/ZCy2UR...      False   \n",
       "3  https://s3-media4.fl.yelpcdn.com/bphoto/JtNyMA...      False   \n",
       "4  https://s3-media1.fl.yelpcdn.com/bphoto/zBa5rS...       True   \n",
       "\n",
       "                                            location       name         phone  \\\n",
       "0  {'address1': '515 Westlake Ave N', 'address2':...  Starbucks  +12066247023   \n",
       "1  {'address1': '442 Terry Avenue N', 'address2':...  Starbucks  +12064674945   \n",
       "2  {'address1': '330 Westlake Ave N', 'address2':...  Starbucks  +12063824624   \n",
       "3  {'address1': '1200 Westlake Ave N', 'address2'...  Starbucks  +12062160306   \n",
       "4  {'address1': '1101 Dexter Ave', 'address2': ''...  Starbucks  +12062832211   \n",
       "\n",
       "  price  rating  review_count transactions  \\\n",
       "0     $     3.5            17           []   \n",
       "1     $     4.0            54           []   \n",
       "2    $$     3.5            22           []   \n",
       "3     $     3.5            45           []   \n",
       "4    $$     4.0             5           []   \n",
       "\n",
       "                                                 url  \n",
       "0  https://www.yelp.com/biz/starbucks-seattle-340...  \n",
       "1  https://www.yelp.com/biz/starbucks-seattle-216...  \n",
       "2  https://www.yelp.com/biz/starbucks-seattle-82?...  \n",
       "3  https://www.yelp.com/biz/starbucks-seattle-77?...  \n",
       "4  https://www.yelp.com/biz/starbucks-seattle-321...  "
      ]
     },
     "execution_count": 8,
     "metadata": {},
     "output_type": "execute_result"
    }
   ],
   "source": [
    "df.head()"
   ]
  },
  {
   "cell_type": "code",
   "execution_count": null,
   "metadata": {},
   "outputs": [],
   "source": []
  },
  {
   "cell_type": "markdown",
   "metadata": {},
   "source": [
    "## Exploratory Analysis\n",
    "\n",
    "Take the restaurants from the previous question and do an initial exploratory analysis. At minimum, this should include looking at the distribution of features such as price, rating and number of reviews as well as the relations between these dimensions."
   ]
  },
  {
   "cell_type": "code",
   "execution_count": 9,
   "metadata": {
    "ExecuteTime": {
     "end_time": "2019-09-09T18:01:18.779101Z",
     "start_time": "2019-09-09T18:01:17.286578Z"
    }
   },
   "outputs": [],
   "source": [
    "import matplotlib.pyplot as plt\n",
    "import seaborn as sns\n",
    "%matplotlib inline"
   ]
  },
  {
   "cell_type": "code",
   "execution_count": 10,
   "metadata": {
    "ExecuteTime": {
     "end_time": "2019-09-09T18:01:18.794093Z",
     "start_time": "2019-09-09T18:01:18.782424Z"
    }
   },
   "outputs": [
    {
     "data": {
      "text/plain": [
       "$       238\n",
       "$$      116\n",
       "$$$       3\n",
       "$$$$      2\n",
       "Name: price, dtype: int64"
      ]
     },
     "execution_count": 10,
     "metadata": {},
     "output_type": "execute_result"
    }
   ],
   "source": [
    "df.price.value_counts()\n"
   ]
  },
  {
   "cell_type": "code",
   "execution_count": 11,
   "metadata": {
    "ExecuteTime": {
     "end_time": "2019-09-09T18:01:19.071311Z",
     "start_time": "2019-09-09T18:01:18.798027Z"
    }
   },
   "outputs": [
    {
     "data": {
      "text/plain": [
       "4.0    117\n",
       "4.5     99\n",
       "3.5     75\n",
       "3.0     46\n",
       "5.0     32\n",
       "2.5     20\n",
       "2.0     11\n",
       "Name: rating, dtype: int64"
      ]
     },
     "metadata": {},
     "output_type": "display_data"
    },
    {
     "data": {
      "image/png": "[encoded data removed]",
      "text/plain": [
       "<Figure size 432x288 with 1 Axes>"
      ]
     },
     "metadata": {
      "needs_background": "light"
     },
     "output_type": "display_data"
    }
   ],
   "source": [
    "display(df.rating.value_counts())\n",
    "df.rating.hist();"
   ]
  },
  {
   "cell_type": "code",
   "execution_count": 12,
   "metadata": {
    "ExecuteTime": {
     "end_time": "2019-09-09T18:01:19.255857Z",
     "start_time": "2019-09-09T18:01:19.074526Z"
    }
   },
   "outputs": [
    {
     "data": {
      "image/png": "[encoded data removed]",
      "text/plain": [
       "<Figure size 432x288 with 1 Axes>"
      ]
     },
     "metadata": {
      "needs_background": "light"
     },
     "output_type": "display_data"
    }
   ],
   "source": [
    "df.review_count.hist()\n",
    "plt.show();"
   ]
  },
  {
   "cell_type": "code",
   "execution_count": 13,
   "metadata": {
    "ExecuteTime": {
     "end_time": "2019-09-09T18:01:19.269826Z",
     "start_time": "2019-09-09T18:01:19.258749Z"
    }
   },
   "outputs": [
    {
     "data": {
      "text/plain": [
       "price\n",
       "$       3.901261\n",
       "$$      3.767241\n",
       "$$$     3.333333\n",
       "$$$$    3.500000\n",
       "Name: rating, dtype: float64"
      ]
     },
     "execution_count": 13,
     "metadata": {},
     "output_type": "execute_result"
    }
   ],
   "source": [
    "df.groupby('price')['rating'].mean()"
   ]
  },
  {
   "cell_type": "code",
   "execution_count": 14,
   "metadata": {
    "ExecuteTime": {
     "end_time": "2019-09-09T18:01:19.283463Z",
     "start_time": "2019-09-09T18:01:19.273246Z"
    }
   },
   "outputs": [
    {
     "data": {
      "text/plain": [
       "price\n",
       "$       34885\n",
       "$$      16765\n",
       "$$$        38\n",
       "$$$$       18\n",
       "Name: review_count, dtype: int64"
      ]
     },
     "execution_count": 14,
     "metadata": {},
     "output_type": "execute_result"
    }
   ],
   "source": [
    "df.groupby('price')['review_count'].sum()"
   ]
  },
  {
   "cell_type": "code",
   "execution_count": 15,
   "metadata": {
    "ExecuteTime": {
     "end_time": "2019-09-09T18:01:19.351108Z",
     "start_time": "2019-09-09T18:01:19.288347Z"
    }
   },
   "outputs": [
    {
     "data": {
      "text/html": [
       "<div>\n",
       "<style scoped>\n",
       "    .dataframe tbody tr th:only-of-type {\n",
       "        vertical-align: middle;\n",
       "    }\n",
       "\n",
       "    .dataframe tbody tr th {\n",
       "        vertical-align: top;\n",
       "    }\n",
       "\n",
       "    .dataframe thead th {\n",
       "        text-align: right;\n",
       "    }\n",
       "</style>\n",
       "<table border=\"1\" class=\"dataframe\">\n",
       "  <thead>\n",
       "    <tr style=\"text-align: right;\">\n",
       "      <th></th>\n",
       "      <th>alias</th>\n",
       "      <th>categories</th>\n",
       "      <th>coordinates</th>\n",
       "      <th>display_phone</th>\n",
       "      <th>distance</th>\n",
       "      <th>id</th>\n",
       "      <th>image_url</th>\n",
       "      <th>is_closed</th>\n",
       "      <th>location</th>\n",
       "      <th>name</th>\n",
       "      <th>phone</th>\n",
       "      <th>price</th>\n",
       "      <th>rating</th>\n",
       "      <th>review_count</th>\n",
       "      <th>transactions</th>\n",
       "      <th>url</th>\n",
       "    </tr>\n",
       "  </thead>\n",
       "  <tbody>\n",
       "    <tr>\n",
       "      <th>19</th>\n",
       "      <td>starbucks-seattle-343</td>\n",
       "      <td>[{'alias': 'coffee', 'title': 'Coffee &amp; Tea'}]</td>\n",
       "      <td>{'latitude': 47.61182, 'longitude': -122.33561}</td>\n",
       "      <td>(206) 382-1201</td>\n",
       "      <td>1513.389883</td>\n",
       "      <td>nBYd4a3r2-18whECl4eVTQ</td>\n",
       "      <td>https://s3-media1.fl.yelpcdn.com/bphoto/pgOfSu...</td>\n",
       "      <td>True</td>\n",
       "      <td>{'address1': '515 Pine St', 'address2': '', 'a...</td>\n",
       "      <td>Starbucks</td>\n",
       "      <td>+12063821201</td>\n",
       "      <td>$$$</td>\n",
       "      <td>3.5</td>\n",
       "      <td>23</td>\n",
       "      <td>[]</td>\n",
       "      <td>https://www.yelp.com/biz/starbucks-seattle-343...</td>\n",
       "    </tr>\n",
       "    <tr>\n",
       "      <th>46</th>\n",
       "      <td>starbucks-seattle-57</td>\n",
       "      <td>[{'alias': 'coffee', 'title': 'Coffee &amp; Tea'}]</td>\n",
       "      <td>{'latitude': 47.559798, 'longitude': -122.385146}</td>\n",
       "      <td>(206) 932-6026</td>\n",
       "      <td>8191.250592</td>\n",
       "      <td>OYSTwQeSYedNcJ1zAiqzjw</td>\n",
       "      <td>https://s3-media3.fl.yelpcdn.com/bphoto/X-9m-M...</td>\n",
       "      <td>False</td>\n",
       "      <td>{'address1': '4754 42Nd Ave Sw', 'address2': '...</td>\n",
       "      <td>Starbucks</td>\n",
       "      <td>+12069326026</td>\n",
       "      <td>$$$</td>\n",
       "      <td>2.0</td>\n",
       "      <td>4</td>\n",
       "      <td>[]</td>\n",
       "      <td>https://www.yelp.com/biz/starbucks-seattle-57?...</td>\n",
       "    </tr>\n",
       "    <tr>\n",
       "      <th>90</th>\n",
       "      <td>starbucks-bothell-9</td>\n",
       "      <td>[{'alias': 'coffee', 'title': 'Coffee &amp; Tea'}]</td>\n",
       "      <td>{'latitude': 47.76529499, 'longitude': -122.21...</td>\n",
       "      <td>(425) 485-7548</td>\n",
       "      <td>18110.219900</td>\n",
       "      <td>dqMt-zrd1MGvdxYBu9iSAA</td>\n",
       "      <td>https://s3-media3.fl.yelpcdn.com/bphoto/y50VAL...</td>\n",
       "      <td>False</td>\n",
       "      <td>{'address1': '18921 Bothell Way N.E.', 'addres...</td>\n",
       "      <td>Starbucks</td>\n",
       "      <td>+14254857548</td>\n",
       "      <td>$$$$</td>\n",
       "      <td>2.5</td>\n",
       "      <td>8</td>\n",
       "      <td>[]</td>\n",
       "      <td>https://www.yelp.com/biz/starbucks-bothell-9?a...</td>\n",
       "    </tr>\n",
       "    <tr>\n",
       "      <th>281</th>\n",
       "      <td>get-up-and-go-espresso-kirkland</td>\n",
       "      <td>[{'alias': 'coffee', 'title': 'Coffee &amp; Tea'}]</td>\n",
       "      <td>{'latitude': 47.72158, 'longitude': -122.20696}</td>\n",
       "      <td>(425) 820-5820</td>\n",
       "      <td>14374.479852</td>\n",
       "      <td>EoBsc10pU-FbuCNK_NnEmQ</td>\n",
       "      <td>https://s3-media4.fl.yelpcdn.com/bphoto/fn7iw_...</td>\n",
       "      <td>False</td>\n",
       "      <td>{'address1': '13510 100th Ave NE', 'address2':...</td>\n",
       "      <td>Get Up &amp; Go Espresso</td>\n",
       "      <td>+14258205820</td>\n",
       "      <td>$$$$</td>\n",
       "      <td>4.5</td>\n",
       "      <td>10</td>\n",
       "      <td>[]</td>\n",
       "      <td>https://www.yelp.com/biz/get-up-and-go-espress...</td>\n",
       "    </tr>\n",
       "    <tr>\n",
       "      <th>392</th>\n",
       "      <td>rapha-seattle-seattle</td>\n",
       "      <td>[{'alias': 'sportswear', 'title': 'Sports Wear...</td>\n",
       "      <td>{'latitude': 47.61506, 'longitude': -122.32758}</td>\n",
       "      <td>(206) 420-1810</td>\n",
       "      <td>1286.652977</td>\n",
       "      <td>zw1NEVZfHzJ2sM1tU2IgKA</td>\n",
       "      <td>https://s3-media3.fl.yelpcdn.com/bphoto/FRMuQa...</td>\n",
       "      <td>False</td>\n",
       "      <td>{'address1': '301 E Pine St', 'address2': None...</td>\n",
       "      <td>Rapha Seattle</td>\n",
       "      <td>+12064201810</td>\n",
       "      <td>$$$</td>\n",
       "      <td>4.5</td>\n",
       "      <td>11</td>\n",
       "      <td>[]</td>\n",
       "      <td>https://www.yelp.com/biz/rapha-seattle-seattle...</td>\n",
       "    </tr>\n",
       "  </tbody>\n",
       "</table>\n",
       "</div>"
      ],
      "text/plain": [
       "                               alias  \\\n",
       "19             starbucks-seattle-343   \n",
       "46              starbucks-seattle-57   \n",
       "90               starbucks-bothell-9   \n",
       "281  get-up-and-go-espresso-kirkland   \n",
       "392            rapha-seattle-seattle   \n",
       "\n",
       "                                            categories  \\\n",
       "19      [{'alias': 'coffee', 'title': 'Coffee & Tea'}]   \n",
       "46      [{'alias': 'coffee', 'title': 'Coffee & Tea'}]   \n",
       "90      [{'alias': 'coffee', 'title': 'Coffee & Tea'}]   \n",
       "281     [{'alias': 'coffee', 'title': 'Coffee & Tea'}]   \n",
       "392  [{'alias': 'sportswear', 'title': 'Sports Wear...   \n",
       "\n",
       "                                           coordinates   display_phone  \\\n",
       "19     {'latitude': 47.61182, 'longitude': -122.33561}  (206) 382-1201   \n",
       "46   {'latitude': 47.559798, 'longitude': -122.385146}  (206) 932-6026   \n",
       "90   {'latitude': 47.76529499, 'longitude': -122.21...  (425) 485-7548   \n",
       "281    {'latitude': 47.72158, 'longitude': -122.20696}  (425) 820-5820   \n",
       "392    {'latitude': 47.61506, 'longitude': -122.32758}  (206) 420-1810   \n",
       "\n",
       "         distance                      id  \\\n",
       "19    1513.389883  nBYd4a3r2-18whECl4eVTQ   \n",
       "46    8191.250592  OYSTwQeSYedNcJ1zAiqzjw   \n",
       "90   18110.219900  dqMt-zrd1MGvdxYBu9iSAA   \n",
       "281  14374.479852  EoBsc10pU-FbuCNK_NnEmQ   \n",
       "392   1286.652977  zw1NEVZfHzJ2sM1tU2IgKA   \n",
       "\n",
       "                                             image_url  is_closed  \\\n",
       "19   https://s3-media1.fl.yelpcdn.com/bphoto/pgOfSu...       True   \n",
       "46   https://s3-media3.fl.yelpcdn.com/bphoto/X-9m-M...      False   \n",
       "90   https://s3-media3.fl.yelpcdn.com/bphoto/y50VAL...      False   \n",
       "281  https://s3-media4.fl.yelpcdn.com/bphoto/fn7iw_...      False   \n",
       "392  https://s3-media3.fl.yelpcdn.com/bphoto/FRMuQa...      False   \n",
       "\n",
       "                                              location                  name  \\\n",
       "19   {'address1': '515 Pine St', 'address2': '', 'a...             Starbucks   \n",
       "46   {'address1': '4754 42Nd Ave Sw', 'address2': '...             Starbucks   \n",
       "90   {'address1': '18921 Bothell Way N.E.', 'addres...             Starbucks   \n",
       "281  {'address1': '13510 100th Ave NE', 'address2':...  Get Up & Go Espresso   \n",
       "392  {'address1': '301 E Pine St', 'address2': None...         Rapha Seattle   \n",
       "\n",
       "            phone price  rating  review_count transactions  \\\n",
       "19   +12063821201   $$$     3.5            23           []   \n",
       "46   +12069326026   $$$     2.0             4           []   \n",
       "90   +14254857548  $$$$     2.5             8           []   \n",
       "281  +14258205820  $$$$     4.5            10           []   \n",
       "392  +12064201810   $$$     4.5            11           []   \n",
       "\n",
       "                                                   url  \n",
       "19   https://www.yelp.com/biz/starbucks-seattle-343...  \n",
       "46   https://www.yelp.com/biz/starbucks-seattle-57?...  \n",
       "90   https://www.yelp.com/biz/starbucks-bothell-9?a...  \n",
       "281  https://www.yelp.com/biz/get-up-and-go-espress...  \n",
       "392  https://www.yelp.com/biz/rapha-seattle-seattle...  "
      ]
     },
     "execution_count": 15,
     "metadata": {},
     "output_type": "execute_result"
    }
   ],
   "source": [
    "df.loc[df.price.isin(['$$$$','$$$'])]"
   ]
  },
  {
   "cell_type": "code",
   "execution_count": 16,
   "metadata": {
    "ExecuteTime": {
     "end_time": "2019-09-09T18:01:19.365792Z",
     "start_time": "2019-09-09T18:01:19.354792Z"
    }
   },
   "outputs": [
    {
     "data": {
      "text/plain": [
       "108"
      ]
     },
     "execution_count": 16,
     "metadata": {},
     "output_type": "execute_result"
    }
   ],
   "source": [
    "starbucks = df[df.name == 'Starbucks']\n",
    "len(starbucks)"
   ]
  },
  {
   "cell_type": "code",
   "execution_count": 17,
   "metadata": {
    "ExecuteTime": {
     "end_time": "2019-09-09T18:01:19.537414Z",
     "start_time": "2019-09-09T18:01:19.368883Z"
    },
    "scrolled": true
   },
   "outputs": [
    {
     "name": "stderr",
     "output_type": "stream",
     "text": [
      "/Users/jennykreiger/anaconda3/envs/learn-env/lib/python3.6/site-packages/ipykernel_launcher.py:1: SettingWithCopyWarning: \n",
      "A value is trying to be set on a copy of a slice from a DataFrame.\n",
      "Try using .loc[row_indexer,col_indexer] = value instead\n",
      "\n",
      "See the caveats in the documentation: http://pandas.pydata.org/pandas-docs/stable/indexing.html#indexing-view-versus-copy\n",
      "  \"\"\"Entry point for launching an IPython kernel.\n",
      "/Users/jennykreiger/anaconda3/envs/learn-env/lib/python3.6/site-packages/ipykernel_launcher.py:2: SettingWithCopyWarning: \n",
      "A value is trying to be set on a copy of a slice from a DataFrame.\n",
      "Try using .loc[row_indexer,col_indexer] = value instead\n",
      "\n",
      "See the caveats in the documentation: http://pandas.pydata.org/pandas-docs/stable/indexing.html#indexing-view-versus-copy\n",
      "  \n"
     ]
    },
    {
     "data": {
      "text/html": [
       "<div>\n",
       "<style scoped>\n",
       "    .dataframe tbody tr th:only-of-type {\n",
       "        vertical-align: middle;\n",
       "    }\n",
       "\n",
       "    .dataframe tbody tr th {\n",
       "        vertical-align: top;\n",
       "    }\n",
       "\n",
       "    .dataframe thead th {\n",
       "        text-align: right;\n",
       "    }\n",
       "</style>\n",
       "<table border=\"1\" class=\"dataframe\">\n",
       "  <thead>\n",
       "    <tr style=\"text-align: right;\">\n",
       "      <th></th>\n",
       "      <th>alias</th>\n",
       "      <th>categories</th>\n",
       "      <th>coordinates</th>\n",
       "      <th>display_phone</th>\n",
       "      <th>distance</th>\n",
       "      <th>id</th>\n",
       "      <th>image_url</th>\n",
       "      <th>is_closed</th>\n",
       "      <th>location</th>\n",
       "      <th>name</th>\n",
       "      <th>phone</th>\n",
       "      <th>price</th>\n",
       "      <th>rating</th>\n",
       "      <th>review_count</th>\n",
       "      <th>transactions</th>\n",
       "      <th>url</th>\n",
       "      <th>lat</th>\n",
       "      <th>long</th>\n",
       "    </tr>\n",
       "  </thead>\n",
       "  <tbody>\n",
       "    <tr>\n",
       "      <th>0</th>\n",
       "      <td>starbucks-seattle-340</td>\n",
       "      <td>[{'alias': 'coffee', 'title': 'Coffee &amp; Tea'}]</td>\n",
       "      <td>{'latitude': 47.624406, 'longitude': -122.338784}</td>\n",
       "      <td>(206) 624-7023</td>\n",
       "      <td>269.968941</td>\n",
       "      <td>-Wgpa8PI5021arWnFdcSVg</td>\n",
       "      <td>https://s3-media2.fl.yelpcdn.com/bphoto/TKjhBG...</td>\n",
       "      <td>False</td>\n",
       "      <td>{'address1': '515 Westlake Ave N', 'address2':...</td>\n",
       "      <td>Starbucks</td>\n",
       "      <td>+12066247023</td>\n",
       "      <td>$</td>\n",
       "      <td>3.5</td>\n",
       "      <td>17</td>\n",
       "      <td>[]</td>\n",
       "      <td>https://www.yelp.com/biz/starbucks-seattle-340...</td>\n",
       "      <td>47.624406</td>\n",
       "      <td>-122.338784</td>\n",
       "    </tr>\n",
       "    <tr>\n",
       "      <th>1</th>\n",
       "      <td>starbucks-seattle-216</td>\n",
       "      <td>[{'alias': 'coffee', 'title': 'Coffee &amp; Tea'}]</td>\n",
       "      <td>{'latitude': 47.62282, 'longitude': -122.33691}</td>\n",
       "      <td>(206) 467-4945</td>\n",
       "      <td>307.450795</td>\n",
       "      <td>Bjaf3mewZBnVBiZJRKGssQ</td>\n",
       "      <td>https://s3-media3.fl.yelpcdn.com/bphoto/tofFJY...</td>\n",
       "      <td>False</td>\n",
       "      <td>{'address1': '442 Terry Avenue N', 'address2':...</td>\n",
       "      <td>Starbucks</td>\n",
       "      <td>+12064674945</td>\n",
       "      <td>$</td>\n",
       "      <td>4.0</td>\n",
       "      <td>54</td>\n",
       "      <td>[]</td>\n",
       "      <td>https://www.yelp.com/biz/starbucks-seattle-216...</td>\n",
       "      <td>47.622820</td>\n",
       "      <td>-122.336910</td>\n",
       "    </tr>\n",
       "    <tr>\n",
       "      <th>2</th>\n",
       "      <td>starbucks-seattle-82</td>\n",
       "      <td>[{'alias': 'coffee', 'title': 'Coffee &amp; Tea'}]</td>\n",
       "      <td>{'latitude': 47.621473, 'longitude': -122.338248}</td>\n",
       "      <td>(206) 382-4624</td>\n",
       "      <td>484.383338</td>\n",
       "      <td>cVb5HjeKYx-2nuGQh7WUHQ</td>\n",
       "      <td>https://s3-media4.fl.yelpcdn.com/bphoto/ZCy2UR...</td>\n",
       "      <td>False</td>\n",
       "      <td>{'address1': '330 Westlake Ave N', 'address2':...</td>\n",
       "      <td>Starbucks</td>\n",
       "      <td>+12063824624</td>\n",
       "      <td>$$</td>\n",
       "      <td>3.5</td>\n",
       "      <td>22</td>\n",
       "      <td>[]</td>\n",
       "      <td>https://www.yelp.com/biz/starbucks-seattle-82?...</td>\n",
       "      <td>47.621473</td>\n",
       "      <td>-122.338248</td>\n",
       "    </tr>\n",
       "    <tr>\n",
       "      <th>3</th>\n",
       "      <td>starbucks-seattle-77</td>\n",
       "      <td>[{'alias': 'coffee', 'title': 'Coffee &amp; Tea'}]</td>\n",
       "      <td>{'latitude': 47.629924, 'longitude': -122.340027}</td>\n",
       "      <td>(206) 216-0306</td>\n",
       "      <td>604.564258</td>\n",
       "      <td>vf_eeRuhiaAiE6guRv6m3A</td>\n",
       "      <td>https://s3-media4.fl.yelpcdn.com/bphoto/JtNyMA...</td>\n",
       "      <td>False</td>\n",
       "      <td>{'address1': '1200 Westlake Ave N', 'address2'...</td>\n",
       "      <td>Starbucks</td>\n",
       "      <td>+12062160306</td>\n",
       "      <td>$</td>\n",
       "      <td>3.5</td>\n",
       "      <td>45</td>\n",
       "      <td>[]</td>\n",
       "      <td>https://www.yelp.com/biz/starbucks-seattle-77?...</td>\n",
       "      <td>47.629924</td>\n",
       "      <td>-122.340027</td>\n",
       "    </tr>\n",
       "    <tr>\n",
       "      <th>4</th>\n",
       "      <td>starbucks-seattle-321</td>\n",
       "      <td>[{'alias': 'coffee', 'title': 'Coffee &amp; Tea'}]</td>\n",
       "      <td>{'latitude': 47.6288488, 'longitude': -122.34252}</td>\n",
       "      <td>(206) 283-2211</td>\n",
       "      <td>649.149250</td>\n",
       "      <td>Si74GYf-P3s6z09lmqY0Sw</td>\n",
       "      <td>https://s3-media1.fl.yelpcdn.com/bphoto/zBa5rS...</td>\n",
       "      <td>True</td>\n",
       "      <td>{'address1': '1101 Dexter Ave', 'address2': ''...</td>\n",
       "      <td>Starbucks</td>\n",
       "      <td>+12062832211</td>\n",
       "      <td>$$</td>\n",
       "      <td>4.0</td>\n",
       "      <td>5</td>\n",
       "      <td>[]</td>\n",
       "      <td>https://www.yelp.com/biz/starbucks-seattle-321...</td>\n",
       "      <td>47.628849</td>\n",
       "      <td>-122.342520</td>\n",
       "    </tr>\n",
       "  </tbody>\n",
       "</table>\n",
       "</div>"
      ],
      "text/plain": [
       "                   alias                                      categories  \\\n",
       "0  starbucks-seattle-340  [{'alias': 'coffee', 'title': 'Coffee & Tea'}]   \n",
       "1  starbucks-seattle-216  [{'alias': 'coffee', 'title': 'Coffee & Tea'}]   \n",
       "2   starbucks-seattle-82  [{'alias': 'coffee', 'title': 'Coffee & Tea'}]   \n",
       "3   starbucks-seattle-77  [{'alias': 'coffee', 'title': 'Coffee & Tea'}]   \n",
       "4  starbucks-seattle-321  [{'alias': 'coffee', 'title': 'Coffee & Tea'}]   \n",
       "\n",
       "                                         coordinates   display_phone  \\\n",
       "0  {'latitude': 47.624406, 'longitude': -122.338784}  (206) 624-7023   \n",
       "1    {'latitude': 47.62282, 'longitude': -122.33691}  (206) 467-4945   \n",
       "2  {'latitude': 47.621473, 'longitude': -122.338248}  (206) 382-4624   \n",
       "3  {'latitude': 47.629924, 'longitude': -122.340027}  (206) 216-0306   \n",
       "4  {'latitude': 47.6288488, 'longitude': -122.34252}  (206) 283-2211   \n",
       "\n",
       "     distance                      id  \\\n",
       "0  269.968941  -Wgpa8PI5021arWnFdcSVg   \n",
       "1  307.450795  Bjaf3mewZBnVBiZJRKGssQ   \n",
       "2  484.383338  cVb5HjeKYx-2nuGQh7WUHQ   \n",
       "3  604.564258  vf_eeRuhiaAiE6guRv6m3A   \n",
       "4  649.149250  Si74GYf-P3s6z09lmqY0Sw   \n",
       "\n",
       "                                           image_url  is_closed  \\\n",
       "0  https://s3-media2.fl.yelpcdn.com/bphoto/TKjhBG...      False   \n",
       "1  https://s3-media3.fl.yelpcdn.com/bphoto/tofFJY...      False   \n",
       "2  https://s3-media4.fl.yelpcdn.com/bphoto/ZCy2UR...      False   \n",
       "3  https://s3-media4.fl.yelpcdn.com/bphoto/JtNyMA...      False   \n",
       "4  https://s3-media1.fl.yelpcdn.com/bphoto/zBa5rS...       True   \n",
       "\n",
       "                                            location       name         phone  \\\n",
       "0  {'address1': '515 Westlake Ave N', 'address2':...  Starbucks  +12066247023   \n",
       "1  {'address1': '442 Terry Avenue N', 'address2':...  Starbucks  +12064674945   \n",
       "2  {'address1': '330 Westlake Ave N', 'address2':...  Starbucks  +12063824624   \n",
       "3  {'address1': '1200 Westlake Ave N', 'address2'...  Starbucks  +12062160306   \n",
       "4  {'address1': '1101 Dexter Ave', 'address2': ''...  Starbucks  +12062832211   \n",
       "\n",
       "  price  rating  review_count transactions  \\\n",
       "0     $     3.5            17           []   \n",
       "1     $     4.0            54           []   \n",
       "2    $$     3.5            22           []   \n",
       "3     $     3.5            45           []   \n",
       "4    $$     4.0             5           []   \n",
       "\n",
       "                                                 url        lat        long  \n",
       "0  https://www.yelp.com/biz/starbucks-seattle-340...  47.624406 -122.338784  \n",
       "1  https://www.yelp.com/biz/starbucks-seattle-216...  47.622820 -122.336910  \n",
       "2  https://www.yelp.com/biz/starbucks-seattle-82?...  47.621473 -122.338248  \n",
       "3  https://www.yelp.com/biz/starbucks-seattle-77?...  47.629924 -122.340027  \n",
       "4  https://www.yelp.com/biz/starbucks-seattle-321...  47.628849 -122.342520  "
      ]
     },
     "execution_count": 17,
     "metadata": {},
     "output_type": "execute_result"
    }
   ],
   "source": [
    "starbucks['lat'] = starbucks.coordinates.map(lambda x: x['latitude']) \n",
    "starbucks['long'] = starbucks.coordinates.map(lambda x: x['longitude'])\n",
    "starbucks.head()"
   ]
  },
  {
   "cell_type": "markdown",
   "metadata": {},
   "source": [
    "## Mapping\n",
    "\n",
    "Look at the initial Yelp example and try and make a map using Folium of the restaurants you retrieved. Be sure to also add popups to the markers giving some basic information such as name, rating and price."
   ]
  },
  {
   "cell_type": "code",
   "execution_count": 22,
   "metadata": {
    "ExecuteTime": {
     "end_time": "2019-09-09T18:02:24.784560Z",
     "start_time": "2019-09-09T18:02:24.025664Z"
    }
   },
   "outputs": [],
   "source": [
    "import folium"
   ]
  },
  {
   "cell_type": "code",
   "execution_count": 23,
   "metadata": {
    "ExecuteTime": {
     "end_time": "2019-09-09T18:02:25.456560Z",
     "start_time": "2019-09-09T18:02:25.450067Z"
    }
   },
   "outputs": [],
   "source": [
    "# Get coordinates for each Starbucks\n",
    "points = list(zip(starbucks.lat, starbucks.long))"
   ]
  },
  {
   "cell_type": "code",
   "execution_count": 24,
   "metadata": {
    "ExecuteTime": {
     "end_time": "2019-09-09T18:02:26.280108Z",
     "start_time": "2019-09-09T18:02:26.258174Z"
    }
   },
   "outputs": [
    {
     "data": {
      "text/html": [
       "<div style=\"width:100%;\"><div style=\"position:relative;width:100%;height:0;padding-bottom:60%;\"><iframe src=\"data:text/html;charset=utf-8;base64,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\" style=\"position:absolute;width:100%;height:100%;left:0;top:0;border:none !important;\" allowfullscreen webkitallowfullscreen mozallowfullscreen></iframe></div></div>"
      ],
      "text/plain": [
       "<folium.folium.Map at 0x1a2198eac8>"
      ]
     },
     "execution_count": 24,
     "metadata": {},
     "output_type": "execute_result"
    }
   ],
   "source": [
    "# Create the basemap\n",
    "basemap = folium.Map([47.615103,-122.3372084], zoom_start=10)\n",
    "basemap"
   ]
  },
  {
   "cell_type": "code",
   "execution_count": 25,
   "metadata": {
    "ExecuteTime": {
     "end_time": "2019-09-09T18:02:28.737234Z",
     "start_time": "2019-09-09T18:02:28.634450Z"
    }
   },
   "outputs": [
    {
     "data": {
      "text/html": [
       "<div style=\"width:100%;\"><div style=\"position:relative;width:100%;height:0;padding-bottom:60%;\"><iframe src=\"data:text/html;charset=utf-8;base64,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\" style=\"position:absolute;width:100%;height:100%;left:0;top:0;border:none !important;\" allowfullscreen webkitallowfullscreen mozallowfullscreen></iframe></div></div>"
      ],
      "text/plain": [
       "<folium.folium.Map at 0x1a2198eac8>"
      ]
     },
     "execution_count": 25,
     "metadata": {},
     "output_type": "execute_result"
    }
   ],
   "source": [
    "# Add markers for each Starbucks\n",
    "for p in points:\n",
    "    lat = p[0]\n",
    "    long = p[1]\n",
    "    marker = folium.Marker(location=[lat, long])\n",
    "    marker.add_to(basemap)\n",
    "basemap"
   ]
  },
  {
   "cell_type": "code",
   "execution_count": 26,
   "metadata": {
    "ExecuteTime": {
     "end_time": "2019-09-09T18:02:31.283656Z",
     "start_time": "2019-09-09T18:02:31.027858Z"
    },
    "scrolled": true
   },
   "outputs": [
    {
     "data": {
      "text/html": [
       "<div style=\"width:100%;\"><div style=\"position:relative;width:100%;height:0;padding-bottom:60%;\"><iframe src=\"data:text/html;charset=utf-8;base64,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\" style=\"position:absolute;width:100%;height:100%;left:0;top:0;border:none !important;\" allowfullscreen webkitallowfullscreen mozallowfullscreen></iframe></div></div>"
      ],
      "text/plain": [
       "<folium.folium.Map at 0x1a2198eac8>"
      ]
     },
     "execution_count": 26,
     "metadata": {},
     "output_type": "execute_result"
    }
   ],
   "source": [
    "# Add informative popups to each point\n",
    "for row in starbucks.index:\n",
    "    lat = starbucks['lat'][row]\n",
    "    long = starbucks['long'][row]\n",
    "    price = starbucks['price'][row]\n",
    "    rating = starbucks['rating'][row]\n",
    "    phone = starbucks['display_phone'][row]\n",
    "    popup_text = \"Price: {} \\nRating: {} \\nPhone: {}\".format(price, rating, phone)\n",
    "    popup = folium.Popup(popup_text, parse_html=True)\n",
    "    marker = folium.Marker(location=[lat,long], popup=popup)\n",
    "    marker.add_to(basemap)\n",
    "basemap"
   ]
  },
  {
   "cell_type": "markdown",
   "metadata": {},
   "source": [
    "## Summary\n",
    "\n",
    "Nice work! In this lab, you synthesized your skills for the day, making multiple API calls to Yelp in order to paginate through a results set, performing some basic exploratory analysis and then creating a nice map visual to display the results! Well done!"
   ]
  }
 ],
 "metadata": {
  "kernelspec": {
   "display_name": "learn-env",
   "language": "python",
   "name": "learn-env"
  },
  "language_info": {
   "codemirror_mode": {
    "name": "ipython",
    "version": 3
   },
   "file_extension": ".py",
   "mimetype": "text/x-python",
   "name": "python",
   "nbconvert_exporter": "python",
   "pygments_lexer": "ipython3",
   "version": "3.6.6"
  },
  "toc": {
   "base_numbering": 1,
   "nav_menu": {},
   "number_sections": true,
   "sideBar": true,
   "skip_h1_title": false,
   "title_cell": "Table of Contents",
   "title_sidebar": "Contents",
   "toc_cell": false,
   "toc_position": {},
   "toc_section_display": true,
   "toc_window_display": false
  }
 },
 "nbformat": 4,
 "nbformat_minor": 2
}
