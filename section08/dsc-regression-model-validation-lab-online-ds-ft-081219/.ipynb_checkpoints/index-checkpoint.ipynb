{
 "cells": [
  {
   "cell_type": "markdown",
   "metadata": {},
   "source": [
    "# Regression Model Validation - Lab\n",
    "\n",
    "## Introduction\n",
    "\n",
    "In this lab, you'll be able to validate your model using train-test-split.\n",
    "\n",
    "\n",
    "## Objectives\n",
    "\n",
    "You will be able to:\n",
    "\n",
    "- Calculate the mean squared error (MSE) as a measure of predictive performance\n",
    "- Validate the model using the test data\n"
   ]
  },
  {
   "cell_type": "markdown",
   "metadata": {},
   "source": [
    "## Let's use our Boston Housing Data again!\n",
    "\n",
    "This time, let's only include the variables that were previously selected using recursive feature elimination. We included the code to preprocess below."
   ]
  },
  {
   "cell_type": "code",
   "execution_count": 1,
   "metadata": {},
   "outputs": [],
   "source": [
    "import pandas as pd\n",
    "import numpy as np\n",
    "import matplotlib.pyplot as plt\n",
    "%matplotlib inline\n",
    "from sklearn.datasets import load_boston\n",
    "\n",
    "boston = load_boston()\n",
    "\n",
    "boston_features = pd.DataFrame(boston.data, columns = boston.feature_names)\n",
    "b = boston_features[\"B\"]\n",
    "logdis = np.log(boston_features[\"DIS\"])\n",
    "loglstat = np.log(boston_features[\"LSTAT\"])\n",
    "\n",
    "# minmax scaling\n",
    "boston_features[\"B\"] = (b-min(b))/(max(b)-min(b))\n",
    "boston_features[\"DIS\"] = (logdis-min(logdis))/(max(logdis)-min(logdis))\n",
    "\n",
    "#standardization\n",
    "boston_features[\"LSTAT\"] = (loglstat-np.mean(loglstat))/np.sqrt(np.var(loglstat))"
   ]
  },
  {
   "cell_type": "code",
   "execution_count": 2,
   "metadata": {},
   "outputs": [],
   "source": [
    "X = boston_features[['CHAS', 'RM', 'DIS', 'B', 'LSTAT']]\n",
    "y = pd.Series(boston.target)"
   ]
  },
  {
   "cell_type": "markdown",
   "metadata": {},
   "source": [
    "## Perform a train-test-split"
   ]
  },
  {
   "cell_type": "code",
   "execution_count": 3,
   "metadata": {},
   "outputs": [],
   "source": [
    "# Import train_test_split from sklearn\n",
    "from sklearn.model_selection import train_test_split\n",
    "X_train, X_test, y_train, y_test = train_test_split(X, y)"
   ]
  },
  {
   "cell_type": "markdown",
   "metadata": {},
   "source": [
    "## Apply your model to the train set"
   ]
  },
  {
   "cell_type": "markdown",
   "metadata": {},
   "source": [
    "#### Importing and initializing the model class"
   ]
  },
  {
   "cell_type": "code",
   "execution_count": 4,
   "metadata": {},
   "outputs": [],
   "source": [
    "from sklearn.linear_model import LinearRegression\n",
    "linreg = LinearRegression()"
   ]
  },
  {
   "cell_type": "markdown",
   "metadata": {},
   "source": [
    "#### Fitting the model to the train data"
   ]
  },
  {
   "cell_type": "code",
   "execution_count": 5,
   "metadata": {},
   "outputs": [
    {
     "data": {
      "text/plain": [
       "LinearRegression(copy_X=True, fit_intercept=True, n_jobs=None, normalize=False)"
      ]
     },
     "execution_count": 5,
     "metadata": {},
     "output_type": "execute_result"
    }
   ],
   "source": [
    "linreg.fit(X_train, y_train)"
   ]
  },
  {
   "cell_type": "markdown",
   "metadata": {},
   "source": [
    "#### Calculating predictions on the train set, and on the test set"
   ]
  },
  {
   "cell_type": "code",
   "execution_count": 6,
   "metadata": {},
   "outputs": [],
   "source": [
    "y_train_hat = linreg.predict(X_train)\n",
    "y_test_hat = linreg.predict(X_test)"
   ]
  },
  {
   "cell_type": "markdown",
   "metadata": {},
   "source": [
    "#### Calculating your residuals"
   ]
  },
  {
   "cell_type": "code",
   "execution_count": 7,
   "metadata": {},
   "outputs": [],
   "source": [
    "train_resid = y_train - y_train_hat\n",
    "test_resid = y_test - y_test_hat\n"
   ]
  },
  {
   "cell_type": "markdown",
   "metadata": {},
   "source": [
    "#### Calculating the Mean Squared Error\n",
    "A good way to compare overall performance is to compare the mean squarred error for the predicted values on the train and test sets."
   ]
  },
  {
   "cell_type": "code",
   "execution_count": 8,
   "metadata": {},
   "outputs": [
    {
     "name": "stdout",
     "output_type": "stream",
     "text": [
      "Train MSE:  21.16798871139338\n",
      "Test MSE:  23.670343849518556\n"
     ]
    }
   ],
   "source": [
    "train_mse = np.sum((train_resid)**2) / len(y_train)\n",
    "test_mse = np.sum((test_resid)**2) / len(y_test)\n",
    "\n",
    "print('Train MSE: ', train_mse)\n",
    "print('Test MSE: ', test_mse)"
   ]
  },
  {
   "cell_type": "code",
   "execution_count": 9,
   "metadata": {},
   "outputs": [],
   "source": [
    "# from sklearn.metrics import mean_squared_error\n",
    "# train_mse = mean_squared_error(y_train, y_train_hat)\n",
    "# test_mse = mean_squared_error(y_test, y_test_hat)"
   ]
  },
  {
   "cell_type": "markdown",
   "metadata": {},
   "source": [
    "If your test error is substantially worse then our train error, this is a sign that our model doesn't generalize well to future cases."
   ]
  },
  {
   "cell_type": "markdown",
   "metadata": {},
   "source": [
    "One simple way to demonstrate overfitting and underfitting is to alter the size of our train test split. By default, scikit learn's built in method allocates 25% of the data to the test set and 75% to the training set. Fitting a model on only 10% of the data is apt to lead to underfitting, while training a model on 99% of the data is apt to lead to overfitting."
   ]
  },
  {
   "cell_type": "markdown",
   "metadata": {},
   "source": [
    "# Evaluating the effect of train-test split size\n",
    "\n",
    "Iterate over a range of train-test split sizes from .5 to .95. For each of these, generate a new train/test split sample. Fit a model to the training sample and calculate both the training error and the test error (mse) for each of these splits. Plot these two curves (train error vs. training size and test error vs. training size) on a graph."
   ]
  },
  {
   "cell_type": "code",
   "execution_count": 10,
   "metadata": {
    "scrolled": true
   },
   "outputs": [],
   "source": [
    "# Make a list of train-test-split sizes to iterate over\n",
    "sizes = range(5, 100, 5)\n",
    "\n",
    "# Create the lists that will supply data for the plot\n",
    "all_train_mse = []\n",
    "all_test_mse = []\n",
    "\n",
    "# Run the models and collect the MSEs\n",
    "for size in sizes:\n",
    "    X_train, X_test, y_train, y_test = train_test_split(X, y, test_size=size/100)\n",
    "    linreg = LinearRegression()\n",
    "    linreg.fit(X_train, y_train)\n",
    "    y_train_hat = linreg.predict(X_train)\n",
    "    y_test_hat = linreg.predict(X_test)\n",
    "    train_resid = y_train - y_train_hat\n",
    "    test_resid = y_test - y_test_hat\n",
    "    train_mse = np.sum((train_resid)**2) / len(y_train)\n",
    "    test_mse = np.sum((test_resid)**2) / len(y_test)\n",
    "    all_train_mse.append(train_mse)\n",
    "    all_test_mse.append(test_mse)"
   ]
  },
  {
   "cell_type": "code",
   "execution_count": 11,
   "metadata": {},
   "outputs": [
    {
     "data": {
      "image/png": "[encoded data removed]",
      "text/plain": [
       "<Figure size 432x288 with 1 Axes>"
      ]
     },
     "metadata": {
      "needs_background": "light"
     },
     "output_type": "display_data"
    }
   ],
   "source": [
    "# Create the plot\n",
    "plt.scatter(sizes, all_train_mse, label=\"Training Error\")\n",
    "plt.scatter(sizes, all_test_mse, color='orange', label='Testing Error')\n",
    "plt.legend()\n",
    "plt.title('Train and Test MSEs at Various Train/Test Splits')\n",
    "plt.xlabel('% reserved for testing')\n",
    "plt.ylabel('Mean Squared Error')\n",
    "plt.show();"
   ]
  },
  {
   "cell_type": "markdown",
   "metadata": {},
   "source": [
    "# Evaluating the effect of train-test split size: extension\n",
    "\n",
    "Repeat the previous example, but for each train-test split size, generate 100 iterations of models/errors and save the average train/test error. This will help account for any particularly good/bad models that might have resulted from poor/good splits in the data. "
   ]
  },
  {
   "cell_type": "code",
   "execution_count": 12,
   "metadata": {},
   "outputs": [],
   "source": [
    "# Make a list of train-test-split sizes to iterate over\n",
    "sizes = range(5, 100, 5)\n",
    "\n",
    "# Create the lists that will supply data for the plot\n",
    "means_train_mse = []\n",
    "means_test_mse = []\n",
    "\n",
    "# Run the models and collect the MSEs\n",
    "for size in sizes:\n",
    "    all_train_mse = []\n",
    "    all_test_mse = []\n",
    "    for i in range(0,100):\n",
    "        X_train, X_test, y_train, y_test = train_test_split(X, y, test_size=size/100)\n",
    "        linreg = LinearRegression()\n",
    "        linreg.fit(X_train, y_train)\n",
    "        y_train_hat = linreg.predict(X_train)\n",
    "        y_test_hat = linreg.predict(X_test)\n",
    "        train_resid = y_train - y_train_hat\n",
    "        test_resid = y_test - y_test_hat\n",
    "        train_mse = np.sum((train_resid)**2) / len(y_train)\n",
    "        test_mse = np.sum((test_resid)**2) / len(y_test)\n",
    "        all_train_mse.append(train_mse)\n",
    "        all_test_mse.append(test_mse)\n",
    "    means_train_mse.append(np.mean(all_train_mse))\n",
    "    means_test_mse.append(np.mean(all_test_mse))"
   ]
  },
  {
   "cell_type": "code",
   "execution_count": 13,
   "metadata": {},
   "outputs": [
    {
     "data": {
      "image/png": "[encoded data removed]",
      "text/plain": [
       "<Figure size 432x288 with 1 Axes>"
      ]
     },
     "metadata": {
      "needs_background": "light"
     },
     "output_type": "display_data"
    }
   ],
   "source": [
    "# Create the plot\n",
    "plt.scatter(sizes, means_train_mse, label=\"Training Errors\")\n",
    "plt.scatter(sizes, means_test_mse, color='orange', label='Testing Errors')\n",
    "plt.legend()\n",
    "plt.suptitle('Train and Test MSEs at Various Train/Test Splits', y=1, fontsize=14)\n",
    "plt.title('Each point represents mean MSE from 100 trials', fontsize=10)\n",
    "plt.xlabel('% reserved for testing')\n",
    "plt.ylabel('Mean Squared Error')\n",
    "plt.show();"
   ]
  },
  {
   "cell_type": "markdown",
   "metadata": {},
   "source": [
    "I tried train/test splits at intervals of 5% from 5% to 95% (i.e., 50% of data reserved for testing, 55%, 60%, etc., up to 95%). At each split, I ran the model 100 times and took the mean of the train and test MSEs. I plotted these mean MSEs to visualize where in the range of possible train-test splits we get the smallest gap between train MSE and test MSE. After running the entire experiment several times, I can see that the smallest differences between mean test MSE and mean train MSE tend to occur when under 40% (or even under 20%) of the data is reserved for testing the model. When choosing a value to supply for `test_size` in the `train_test_split()` function, one would do well to choose 0.2 or less."
   ]
  },
  {
   "cell_type": "markdown",
   "metadata": {},
   "source": [
    "##  Summary "
   ]
  },
  {
   "cell_type": "markdown",
   "metadata": {},
   "source": [
    "Congratulations! You now practiced your knowledge on MSE and on using train-test-split."
   ]
  }
 ],
 "metadata": {
  "kernelspec": {
   "display_name": "learn-env",
   "language": "python",
   "name": "learn-env"
  },
  "language_info": {
   "codemirror_mode": {
    "name": "ipython",
    "version": 3
   },
   "file_extension": ".py",
   "mimetype": "text/x-python",
   "name": "python",
   "nbconvert_exporter": "python",
   "pygments_lexer": "ipython3",
   "version": "3.6.6"
  }
 },
 "nbformat": 4,
 "nbformat_minor": 2
}
