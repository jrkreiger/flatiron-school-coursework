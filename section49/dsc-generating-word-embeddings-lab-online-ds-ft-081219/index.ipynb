{
 "cells": [
  {
   "cell_type": "markdown",
   "metadata": {},
   "source": [
    "# Generating Word Embeddings - Lab\n",
    "\n",
    "## Introduction\n",
    "\n",
    "In this lab, you'll learn how to generate word embeddings by training a Word2Vec model, and then embedding layers into Deep Neural Networks for NLP!\n",
    "\n",
    "## Objectives\n",
    "\n",
    "You will be able to:\n",
    "\n",
    "* Demonstrate a basic understanding of the architecture of the Word2Vec model\n",
    "* Demonstrate an understanding of the various tunable parameters of Word2Vec such as vector size and window size\n",
    "\n",
    "## Getting Started\n",
    "\n",
    "In this lab, you'll start by creating your own word embeddings by making use of the Word2Vec Model. Then, you'll move onto building Neural Networks that make use of **_Embedding Layers_** to accomplish the same end-goal, but directly in your model. \n",
    "\n",
    "As you've seen, the easiest way to make use of Word2Vec is to import it from the [Gensim Library](https://radimrehurek.com/gensim/). This model contains a full implementation of Word2Vec, which you can use to begin training immediately. For this lab, you'll be working with the [News Category Dataset from Kaggle](https://www.kaggle.com/rmisra/news-category-dataset/version/2#_=_).  This dataset contains headlines and article descriptions from the news, as well as categories for which type of article they belong to.\n",
    "\n",
    "Run the cell below to import everything you'll need for this lab. "
   ]
  },
  {
   "cell_type": "code",
   "execution_count": 1,
   "metadata": {
    "ExecuteTime": {
     "end_time": "2019-12-11T17:39:44.327453Z",
     "start_time": "2019-12-11T17:39:39.188935Z"
    }
   },
   "outputs": [],
   "source": [
    "import pandas as pd\n",
    "import numpy as np\n",
    "np.random.seed(0)\n",
    "from gensim.models import Word2Vec\n",
    "from nltk import word_tokenize"
   ]
  },
  {
   "cell_type": "markdown",
   "metadata": {},
   "source": [
    "Now, import the data. The data stored in the file `'News_Category_Dataset_v2.json'`.  This file is compressed, so that it can be more easily stored in a github repo. **_Make sure to unzip the file before continuing!_**\n",
    "\n",
    "In the cell below, use the `read_json` function from pandas to read the dataset into a DataFrame. Be sure to include the parameter `lines=True` when reading in the dataset!\n",
    "\n",
    "Once you've loaded in the data, inspect the head of the DataFrame to see what your data looks like. "
   ]
  },
  {
   "cell_type": "code",
   "execution_count": 2,
   "metadata": {
    "ExecuteTime": {
     "end_time": "2019-12-11T17:46:29.949463Z",
     "start_time": "2019-12-11T17:46:27.800046Z"
    }
   },
   "outputs": [],
   "source": [
    "raw_df = pd.read_json('News_Category_Dataset_v2.json', lines=True)"
   ]
  },
  {
   "cell_type": "code",
   "execution_count": 3,
   "metadata": {
    "ExecuteTime": {
     "end_time": "2019-12-11T17:49:21.318626Z",
     "start_time": "2019-12-11T17:49:21.266937Z"
    }
   },
   "outputs": [
    {
     "data": {
      "text/html": [
       "<div>\n",
       "<style scoped>\n",
       "    .dataframe tbody tr th:only-of-type {\n",
       "        vertical-align: middle;\n",
       "    }\n",
       "\n",
       "    .dataframe tbody tr th {\n",
       "        vertical-align: top;\n",
       "    }\n",
       "\n",
       "    .dataframe thead th {\n",
       "        text-align: right;\n",
       "    }\n",
       "</style>\n",
       "<table border=\"1\" class=\"dataframe\">\n",
       "  <thead>\n",
       "    <tr style=\"text-align: right;\">\n",
       "      <th></th>\n",
       "      <th>category</th>\n",
       "      <th>headline</th>\n",
       "      <th>authors</th>\n",
       "      <th>link</th>\n",
       "      <th>short_description</th>\n",
       "      <th>date</th>\n",
       "    </tr>\n",
       "  </thead>\n",
       "  <tbody>\n",
       "    <tr>\n",
       "      <td>0</td>\n",
       "      <td>CRIME</td>\n",
       "      <td>There Were 2 Mass Shootings In Texas Last Week...</td>\n",
       "      <td>Melissa Jeltsen</td>\n",
       "      <td>https://www.huffingtonpost.com/entry/texas-ama...</td>\n",
       "      <td>She left her husband. He killed their children...</td>\n",
       "      <td>2018-05-26</td>\n",
       "    </tr>\n",
       "    <tr>\n",
       "      <td>1</td>\n",
       "      <td>ENTERTAINMENT</td>\n",
       "      <td>Will Smith Joins Diplo And Nicky Jam For The 2...</td>\n",
       "      <td>Andy McDonald</td>\n",
       "      <td>https://www.huffingtonpost.com/entry/will-smit...</td>\n",
       "      <td>Of course it has a song.</td>\n",
       "      <td>2018-05-26</td>\n",
       "    </tr>\n",
       "    <tr>\n",
       "      <td>2</td>\n",
       "      <td>ENTERTAINMENT</td>\n",
       "      <td>Hugh Grant Marries For The First Time At Age 57</td>\n",
       "      <td>Ron Dicker</td>\n",
       "      <td>https://www.huffingtonpost.com/entry/hugh-gran...</td>\n",
       "      <td>The actor and his longtime girlfriend Anna Ebe...</td>\n",
       "      <td>2018-05-26</td>\n",
       "    </tr>\n",
       "    <tr>\n",
       "      <td>3</td>\n",
       "      <td>ENTERTAINMENT</td>\n",
       "      <td>Jim Carrey Blasts 'Castrato' Adam Schiff And D...</td>\n",
       "      <td>Ron Dicker</td>\n",
       "      <td>https://www.huffingtonpost.com/entry/jim-carre...</td>\n",
       "      <td>The actor gives Dems an ass-kicking for not fi...</td>\n",
       "      <td>2018-05-26</td>\n",
       "    </tr>\n",
       "    <tr>\n",
       "      <td>4</td>\n",
       "      <td>ENTERTAINMENT</td>\n",
       "      <td>Julianna Margulies Uses Donald Trump Poop Bags...</td>\n",
       "      <td>Ron Dicker</td>\n",
       "      <td>https://www.huffingtonpost.com/entry/julianna-...</td>\n",
       "      <td>The \"Dietland\" actress said using the bags is ...</td>\n",
       "      <td>2018-05-26</td>\n",
       "    </tr>\n",
       "  </tbody>\n",
       "</table>\n",
       "</div>"
      ],
      "text/plain": [
       "        category                                           headline  \\\n",
       "0          CRIME  There Were 2 Mass Shootings In Texas Last Week...   \n",
       "1  ENTERTAINMENT  Will Smith Joins Diplo And Nicky Jam For The 2...   \n",
       "2  ENTERTAINMENT    Hugh Grant Marries For The First Time At Age 57   \n",
       "3  ENTERTAINMENT  Jim Carrey Blasts 'Castrato' Adam Schiff And D...   \n",
       "4  ENTERTAINMENT  Julianna Margulies Uses Donald Trump Poop Bags...   \n",
       "\n",
       "           authors                                               link  \\\n",
       "0  Melissa Jeltsen  https://www.huffingtonpost.com/entry/texas-ama...   \n",
       "1    Andy McDonald  https://www.huffingtonpost.com/entry/will-smit...   \n",
       "2       Ron Dicker  https://www.huffingtonpost.com/entry/hugh-gran...   \n",
       "3       Ron Dicker  https://www.huffingtonpost.com/entry/jim-carre...   \n",
       "4       Ron Dicker  https://www.huffingtonpost.com/entry/julianna-...   \n",
       "\n",
       "                                   short_description       date  \n",
       "0  She left her husband. He killed their children... 2018-05-26  \n",
       "1                           Of course it has a song. 2018-05-26  \n",
       "2  The actor and his longtime girlfriend Anna Ebe... 2018-05-26  \n",
       "3  The actor gives Dems an ass-kicking for not fi... 2018-05-26  \n",
       "4  The \"Dietland\" actress said using the bags is ... 2018-05-26  "
      ]
     },
     "execution_count": 3,
     "metadata": {},
     "output_type": "execute_result"
    }
   ],
   "source": [
    "raw_df.head()"
   ]
  },
  {
   "cell_type": "markdown",
   "metadata": {},
   "source": [
    "## Preparing the Data\n",
    "\n",
    "Since you're working with text data, you need to do some basic preprocessing including tokenization. Notice from the data sample that two different columns contain text data--`headline` and `short_description`. The more text data your Word2Vec model has, the better it will perform. Therefore, you'll want to combine the two columns before tokenizing each comment and training your Word2Vec model. \n",
    "\n",
    "In the cell below:\n",
    "\n",
    "* Create a column called `combined_text` that consists of the data from `df.headline` plus a space character (`' '`) plus the data from `df.short_description`.\n",
    "* Use the `combined_text` column's `map()` function and pass in `word_tokenize`. Store the result returned in `data`."
   ]
  },
  {
   "cell_type": "code",
   "execution_count": 8,
   "metadata": {
    "ExecuteTime": {
     "end_time": "2019-12-11T17:53:42.463537Z",
     "start_time": "2019-12-11T17:53:42.325522Z"
    }
   },
   "outputs": [
    {
     "data": {
      "text/html": [
       "<div>\n",
       "<style scoped>\n",
       "    .dataframe tbody tr th:only-of-type {\n",
       "        vertical-align: middle;\n",
       "    }\n",
       "\n",
       "    .dataframe tbody tr th {\n",
       "        vertical-align: top;\n",
       "    }\n",
       "\n",
       "    .dataframe thead th {\n",
       "        text-align: right;\n",
       "    }\n",
       "</style>\n",
       "<table border=\"1\" class=\"dataframe\">\n",
       "  <thead>\n",
       "    <tr style=\"text-align: right;\">\n",
       "      <th></th>\n",
       "      <th>category</th>\n",
       "      <th>headline</th>\n",
       "      <th>authors</th>\n",
       "      <th>link</th>\n",
       "      <th>short_description</th>\n",
       "      <th>date</th>\n",
       "      <th>combined_text</th>\n",
       "    </tr>\n",
       "  </thead>\n",
       "  <tbody>\n",
       "    <tr>\n",
       "      <td>0</td>\n",
       "      <td>CRIME</td>\n",
       "      <td>There Were 2 Mass Shootings In Texas Last Week...</td>\n",
       "      <td>Melissa Jeltsen</td>\n",
       "      <td>https://www.huffingtonpost.com/entry/texas-ama...</td>\n",
       "      <td>She left her husband. He killed their children...</td>\n",
       "      <td>2018-05-26</td>\n",
       "      <td>There Were 2 Mass Shootings In Texas Last Week...</td>\n",
       "    </tr>\n",
       "    <tr>\n",
       "      <td>1</td>\n",
       "      <td>ENTERTAINMENT</td>\n",
       "      <td>Will Smith Joins Diplo And Nicky Jam For The 2...</td>\n",
       "      <td>Andy McDonald</td>\n",
       "      <td>https://www.huffingtonpost.com/entry/will-smit...</td>\n",
       "      <td>Of course it has a song.</td>\n",
       "      <td>2018-05-26</td>\n",
       "      <td>Will Smith Joins Diplo And Nicky Jam For The 2...</td>\n",
       "    </tr>\n",
       "    <tr>\n",
       "      <td>2</td>\n",
       "      <td>ENTERTAINMENT</td>\n",
       "      <td>Hugh Grant Marries For The First Time At Age 57</td>\n",
       "      <td>Ron Dicker</td>\n",
       "      <td>https://www.huffingtonpost.com/entry/hugh-gran...</td>\n",
       "      <td>The actor and his longtime girlfriend Anna Ebe...</td>\n",
       "      <td>2018-05-26</td>\n",
       "      <td>Hugh Grant Marries For The First Time At Age 5...</td>\n",
       "    </tr>\n",
       "    <tr>\n",
       "      <td>3</td>\n",
       "      <td>ENTERTAINMENT</td>\n",
       "      <td>Jim Carrey Blasts 'Castrato' Adam Schiff And D...</td>\n",
       "      <td>Ron Dicker</td>\n",
       "      <td>https://www.huffingtonpost.com/entry/jim-carre...</td>\n",
       "      <td>The actor gives Dems an ass-kicking for not fi...</td>\n",
       "      <td>2018-05-26</td>\n",
       "      <td>Jim Carrey Blasts 'Castrato' Adam Schiff And D...</td>\n",
       "    </tr>\n",
       "    <tr>\n",
       "      <td>4</td>\n",
       "      <td>ENTERTAINMENT</td>\n",
       "      <td>Julianna Margulies Uses Donald Trump Poop Bags...</td>\n",
       "      <td>Ron Dicker</td>\n",
       "      <td>https://www.huffingtonpost.com/entry/julianna-...</td>\n",
       "      <td>The \"Dietland\" actress said using the bags is ...</td>\n",
       "      <td>2018-05-26</td>\n",
       "      <td>Julianna Margulies Uses Donald Trump Poop Bags...</td>\n",
       "    </tr>\n",
       "  </tbody>\n",
       "</table>\n",
       "</div>"
      ],
      "text/plain": [
       "        category                                           headline  \\\n",
       "0          CRIME  There Were 2 Mass Shootings In Texas Last Week...   \n",
       "1  ENTERTAINMENT  Will Smith Joins Diplo And Nicky Jam For The 2...   \n",
       "2  ENTERTAINMENT    Hugh Grant Marries For The First Time At Age 57   \n",
       "3  ENTERTAINMENT  Jim Carrey Blasts 'Castrato' Adam Schiff And D...   \n",
       "4  ENTERTAINMENT  Julianna Margulies Uses Donald Trump Poop Bags...   \n",
       "\n",
       "           authors                                               link  \\\n",
       "0  Melissa Jeltsen  https://www.huffingtonpost.com/entry/texas-ama...   \n",
       "1    Andy McDonald  https://www.huffingtonpost.com/entry/will-smit...   \n",
       "2       Ron Dicker  https://www.huffingtonpost.com/entry/hugh-gran...   \n",
       "3       Ron Dicker  https://www.huffingtonpost.com/entry/jim-carre...   \n",
       "4       Ron Dicker  https://www.huffingtonpost.com/entry/julianna-...   \n",
       "\n",
       "                                   short_description       date  \\\n",
       "0  She left her husband. He killed their children... 2018-05-26   \n",
       "1                           Of course it has a song. 2018-05-26   \n",
       "2  The actor and his longtime girlfriend Anna Ebe... 2018-05-26   \n",
       "3  The actor gives Dems an ass-kicking for not fi... 2018-05-26   \n",
       "4  The \"Dietland\" actress said using the bags is ... 2018-05-26   \n",
       "\n",
       "                                       combined_text  \n",
       "0  There Were 2 Mass Shootings In Texas Last Week...  \n",
       "1  Will Smith Joins Diplo And Nicky Jam For The 2...  \n",
       "2  Hugh Grant Marries For The First Time At Age 5...  \n",
       "3  Jim Carrey Blasts 'Castrato' Adam Schiff And D...  \n",
       "4  Julianna Margulies Uses Donald Trump Poop Bags...  "
      ]
     },
     "execution_count": 8,
     "metadata": {},
     "output_type": "execute_result"
    }
   ],
   "source": [
    "raw_df['combined_text'] = raw_df['headline'] + ' ' + raw_df['short_description']\n",
    "raw_df.head()"
   ]
  },
  {
   "cell_type": "code",
   "execution_count": 9,
   "metadata": {
    "ExecuteTime": {
     "end_time": "2019-12-11T17:54:55.838286Z",
     "start_time": "2019-12-11T17:53:55.523389Z"
    }
   },
   "outputs": [],
   "source": [
    "data = list(map(word_tokenize, raw_df['combined_text']))"
   ]
  },
  {
   "cell_type": "markdown",
   "metadata": {},
   "source": [
    "Inspect the first 5 items in `data` to see how everything looks. "
   ]
  },
  {
   "cell_type": "code",
   "execution_count": 10,
   "metadata": {
    "ExecuteTime": {
     "end_time": "2019-12-11T17:58:10.908504Z",
     "start_time": "2019-12-11T17:58:10.898568Z"
    }
   },
   "outputs": [
    {
     "data": {
      "text/plain": [
       "[['There',\n",
       "  'Were',\n",
       "  '2',\n",
       "  'Mass',\n",
       "  'Shootings',\n",
       "  'In',\n",
       "  'Texas',\n",
       "  'Last',\n",
       "  'Week',\n",
       "  ',',\n",
       "  'But',\n",
       "  'Only',\n",
       "  '1',\n",
       "  'On',\n",
       "  'TV',\n",
       "  'She',\n",
       "  'left',\n",
       "  'her',\n",
       "  'husband',\n",
       "  '.',\n",
       "  'He',\n",
       "  'killed',\n",
       "  'their',\n",
       "  'children',\n",
       "  '.',\n",
       "  'Just',\n",
       "  'another',\n",
       "  'day',\n",
       "  'in',\n",
       "  'America',\n",
       "  '.'],\n",
       " ['Will',\n",
       "  'Smith',\n",
       "  'Joins',\n",
       "  'Diplo',\n",
       "  'And',\n",
       "  'Nicky',\n",
       "  'Jam',\n",
       "  'For',\n",
       "  'The',\n",
       "  '2018',\n",
       "  'World',\n",
       "  'Cup',\n",
       "  \"'s\",\n",
       "  'Official',\n",
       "  'Song',\n",
       "  'Of',\n",
       "  'course',\n",
       "  'it',\n",
       "  'has',\n",
       "  'a',\n",
       "  'song',\n",
       "  '.'],\n",
       " ['Hugh',\n",
       "  'Grant',\n",
       "  'Marries',\n",
       "  'For',\n",
       "  'The',\n",
       "  'First',\n",
       "  'Time',\n",
       "  'At',\n",
       "  'Age',\n",
       "  '57',\n",
       "  'The',\n",
       "  'actor',\n",
       "  'and',\n",
       "  'his',\n",
       "  'longtime',\n",
       "  'girlfriend',\n",
       "  'Anna',\n",
       "  'Eberstein',\n",
       "  'tied',\n",
       "  'the',\n",
       "  'knot',\n",
       "  'in',\n",
       "  'a',\n",
       "  'civil',\n",
       "  'ceremony',\n",
       "  '.'],\n",
       " ['Jim',\n",
       "  'Carrey',\n",
       "  'Blasts',\n",
       "  \"'Castrato\",\n",
       "  \"'\",\n",
       "  'Adam',\n",
       "  'Schiff',\n",
       "  'And',\n",
       "  'Democrats',\n",
       "  'In',\n",
       "  'New',\n",
       "  'Artwork',\n",
       "  'The',\n",
       "  'actor',\n",
       "  'gives',\n",
       "  'Dems',\n",
       "  'an',\n",
       "  'ass-kicking',\n",
       "  'for',\n",
       "  'not',\n",
       "  'fighting',\n",
       "  'hard',\n",
       "  'enough',\n",
       "  'against',\n",
       "  'Donald',\n",
       "  'Trump',\n",
       "  '.'],\n",
       " ['Julianna',\n",
       "  'Margulies',\n",
       "  'Uses',\n",
       "  'Donald',\n",
       "  'Trump',\n",
       "  'Poop',\n",
       "  'Bags',\n",
       "  'To',\n",
       "  'Pick',\n",
       "  'Up',\n",
       "  'After',\n",
       "  'Her',\n",
       "  'Dog',\n",
       "  'The',\n",
       "  '``',\n",
       "  'Dietland',\n",
       "  \"''\",\n",
       "  'actress',\n",
       "  'said',\n",
       "  'using',\n",
       "  'the',\n",
       "  'bags',\n",
       "  'is',\n",
       "  'a',\n",
       "  '``',\n",
       "  'really',\n",
       "  'cathartic',\n",
       "  ',',\n",
       "  'therapeutic',\n",
       "  'moment',\n",
       "  '.',\n",
       "  \"''\"]]"
      ]
     },
     "execution_count": 10,
     "metadata": {},
     "output_type": "execute_result"
    }
   ],
   "source": [
    "data[:5]"
   ]
  },
  {
   "cell_type": "markdown",
   "metadata": {},
   "source": [
    "Notice that although the words are tokenized, they are still in the same order they were in as headlines. This is important, because the words need to be in their original order for Word2Vec to establish the meaning of them. Remember that for a Word2Vec model you can specify a  **_Window Size_** that tells the model how many words to take into consideration at one time. \n",
    "\n",
    "If your window size was 5, then the model would start by looking at the words \"Will Smith joins Diplo and\", and then slide the window by one, so that it's looking at \"Smith joins Diplo and Nicky\", and so on, until it had completely processed the text example at index 1 above. By doing this for every piece of text in the entire dataset, the Word2Vec model learns excellent vector representations for each word in an **_Embedding Space_**, where the relationships between vectors capture semantic meaning (recall the vector that captures gender in the previous \"king - man + woman = queen\" example you saw).\n",
    "\n",
    "Now that you've prepared the data, train your model and explore a bit!\n",
    "\n",
    "## Training the Model\n",
    "\n",
    "Start by instantiating a Word2Vec Model from gensim below. \n",
    "\n",
    "In the cell below:\n",
    "\n",
    "* Create a `Word2Vec` model and pass in the following arguments:\n",
    "    * The dataset we'll be training on, `data`\n",
    "    * The size of the word vectors to create, `size=100`\n",
    "    * The window size, `window=5`\n",
    "    * The minimum number of times a word needs to appear in order to be counted in  the model, `min_count=1`.\n",
    "    * The number of threads to use during training, `workers=4`"
   ]
  },
  {
   "cell_type": "code",
   "execution_count": 11,
   "metadata": {
    "ExecuteTime": {
     "end_time": "2019-12-11T17:58:59.085172Z",
     "start_time": "2019-12-11T17:58:13.839992Z"
    }
   },
   "outputs": [],
   "source": [
    "model = Word2Vec(data, size=100, window=5, min_count=1, workers=4)"
   ]
  },
  {
   "cell_type": "markdown",
   "metadata": {},
   "source": [
    "Now, that you've instantiated Word2Vec model, train it on your text data. \n",
    "\n",
    "In the cell below:\n",
    "\n",
    "* Call `model.train()` and pass in the following parameters:\n",
    "    * The dataset we'll be training on, `data`\n",
    "    * The `total_examples`  of sentences in the dataset, which you can find in `model.corpus_count`. \n",
    "    * The number of `epochs` you want to train for, which we'll set to `10`"
   ]
  },
  {
   "cell_type": "code",
   "execution_count": 12,
   "metadata": {
    "ExecuteTime": {
     "end_time": "2019-12-11T18:00:20.437519Z",
     "start_time": "2019-12-11T17:59:09.361982Z"
    }
   },
   "outputs": [
    {
     "data": {
      "text/plain": [
       "(55568556, 67352790)"
      ]
     },
     "execution_count": 12,
     "metadata": {},
     "output_type": "execute_result"
    }
   ],
   "source": [
    "model.train(data, total_examples=model.corpus_count, epochs=10)"
   ]
  },
  {
   "cell_type": "markdown",
   "metadata": {},
   "source": [
    "Great! you now have a fully trained model! The word vectors themselves are stored inside of a `Word2VecKeyedVectors` instance, which is stored inside of `model.wv`. To simplify this, restore this object inside of the variable `wv` to save yourself some keystrokes down the line. "
   ]
  },
  {
   "cell_type": "code",
   "execution_count": 13,
   "metadata": {
    "ExecuteTime": {
     "end_time": "2019-12-11T18:00:24.889147Z",
     "start_time": "2019-12-11T18:00:24.884020Z"
    }
   },
   "outputs": [],
   "source": [
    "wv = model.wv"
   ]
  },
  {
   "cell_type": "markdown",
   "metadata": {},
   "source": [
    "## Examining Your Word Vectors\n",
    "\n",
    "Now that you have a trained Word2Vec model, go ahead and explore the relationships between some of the words in the corpus! \n",
    "\n",
    "One cool thing you can use Word2Vec for is to get the most similar words to a given word. You can do this passing in the word to `wv.most_similar()`. \n",
    "\n",
    "In the cell below, try getting the most similar word to `'Texas'`."
   ]
  },
  {
   "cell_type": "code",
   "execution_count": 14,
   "metadata": {
    "ExecuteTime": {
     "end_time": "2019-12-11T18:00:26.138743Z",
     "start_time": "2019-12-11T18:00:25.980190Z"
    }
   },
   "outputs": [
    {
     "data": {
      "text/plain": [
       "[('Louisiana', 0.830621600151062),\n",
       " ('Oklahoma', 0.8161239624023438),\n",
       " ('Maryland', 0.8159974813461304),\n",
       " ('Pennsylvania', 0.8059967756271362),\n",
       " ('Illinois', 0.7873678207397461),\n",
       " ('Arkansas', 0.7868865728378296),\n",
       " ('Florida', 0.7861232757568359),\n",
       " ('Ohio', 0.7815952301025391),\n",
       " ('Georgia', 0.7787268757820129),\n",
       " ('Massachusetts', 0.7776572108268738)]"
      ]
     },
     "execution_count": 14,
     "metadata": {},
     "output_type": "execute_result"
    }
   ],
   "source": [
    "wv.most_similar('Texas')"
   ]
  },
  {
   "cell_type": "markdown",
   "metadata": {},
   "source": [
    "Interesting! All of the most similar words are also states. \n",
    "\n",
    "You can also get the least similar vectors to a given word by passing in the word to the `most_similar()` function's `negative` parameter. \n",
    "\n",
    "In the cell below, get the least similar words to `'Texas'`."
   ]
  },
  {
   "cell_type": "code",
   "execution_count": 15,
   "metadata": {
    "ExecuteTime": {
     "end_time": "2019-12-11T18:00:30.032734Z",
     "start_time": "2019-12-11T18:00:30.014514Z"
    }
   },
   "outputs": [
    {
     "data": {
      "text/plain": [
       "[('Likeable', 0.42309141159057617),\n",
       " ('Headstrong', 0.4228079617023468),\n",
       " ('uh-oh', 0.42100071907043457),\n",
       " ('Sis-In-Law', 0.37501466274261475),\n",
       " ('writer-producer', 0.36570245027542114),\n",
       " ('Parent/Grandparent', 0.36523735523223877),\n",
       " ('Habitable', 0.36209824681282043),\n",
       " ('Hunger-Free', 0.36110424995422363),\n",
       " ('Compel', 0.35852348804473877),\n",
       " ('Strategist™', 0.3540639877319336)]"
      ]
     },
     "execution_count": 15,
     "metadata": {},
     "output_type": "execute_result"
    }
   ],
   "source": [
    "wv.most_similar(negative='Texas')"
   ]
  },
  {
   "cell_type": "markdown",
   "metadata": {},
   "source": [
    "This seems like random noise. It is a result of the way Word2Vec is computing the similarity between word vectors in the embedding space. Although the word vectors closest to a given word vector are almost certainly going to have similar meaning or connotation with your given word, the word vectors that the model considers 'least similar' are just the word vectors that are farthest away, or have the lowest cosine similarity. It's important to understand that while the closest vectors in the embedding space will almost certainly share some level of semantic meaning with a given word, there is no guarantee that this relationship will hold at large distances. \n",
    "\n",
    "You can also get the vector for a given word by passing in the word as if you were passing in a key to a dictionary. \n",
    "\n",
    "In the cell below, get the word vector for `'Texas'`."
   ]
  },
  {
   "cell_type": "code",
   "execution_count": 16,
   "metadata": {
    "ExecuteTime": {
     "end_time": "2019-12-11T18:00:35.544283Z",
     "start_time": "2019-12-11T18:00:35.532620Z"
    }
   },
   "outputs": [
    {
     "data": {
      "text/plain": [
       "array([ 2.0980785 , -0.33158153, -0.12609781, -0.4637886 , -0.75266236,\n",
       "        1.2865642 , -1.7821869 ,  0.41678926,  0.6244918 ,  0.278757  ,\n",
       "       -0.33648118, -2.1892776 ,  2.0758069 , -0.35101303,  1.1323518 ,\n",
       "        0.03058979,  0.5087857 ,  0.29824865, -0.5194162 , -0.8392203 ,\n",
       "        1.3142842 , -0.51835746, -2.5143454 ,  0.07223639, -0.8356729 ,\n",
       "        1.5485003 , -1.3907362 , -1.2554688 ,  1.0043914 , -1.7070214 ,\n",
       "       -0.9772619 , -1.1564877 ,  0.49536848, -0.36561573,  2.1086712 ,\n",
       "        0.6722096 , -1.0656515 , -0.5531165 ,  0.5710325 ,  0.40095195,\n",
       "        1.6609126 ,  0.64141244, -0.70246017,  3.5544202 ,  0.14753164,\n",
       "        1.0961245 , -2.373388  , -0.68783456, -0.446178  , -3.265121  ,\n",
       "       -0.58560514,  0.4463796 , -2.9820662 ,  0.6521489 , -0.32485938,\n",
       "        0.6115925 , -0.7761048 ,  0.63755   ,  1.8471022 ,  1.1298958 ,\n",
       "        1.2457175 ,  2.5531137 ,  1.2009187 ,  0.44603318,  2.2767394 ,\n",
       "       -0.18380542, -0.6784027 , -0.77470404,  1.8985144 , -1.207413  ,\n",
       "       -0.8562275 , -0.86283237, -2.8285272 ,  0.8055052 , -1.2866229 ,\n",
       "        1.2429559 , -0.19052745, -0.01671164,  2.2902937 , -1.1501518 ,\n",
       "       -1.0933217 ,  0.38858598,  2.5875661 ,  1.3671    ,  0.5200147 ,\n",
       "       -0.07112312,  0.4575031 ,  0.7753284 , -1.5023901 , -0.6540498 ,\n",
       "        0.5116842 , -3.2016256 , -1.64994   ,  0.3679833 ,  0.36074752,\n",
       "        0.12119929,  0.2717134 ,  0.89970565, -0.9816244 , -0.20638813],\n",
       "      dtype=float32)"
      ]
     },
     "execution_count": 16,
     "metadata": {},
     "output_type": "execute_result"
    }
   ],
   "source": [
    "wv['Texas']"
   ]
  },
  {
   "cell_type": "markdown",
   "metadata": {},
   "source": [
    "Now get all of the word vectors from the object at once. You can find these inside of `wv.vectors`. Try it out in the cell below.  "
   ]
  },
  {
   "cell_type": "code",
   "execution_count": 17,
   "metadata": {
    "ExecuteTime": {
     "end_time": "2019-12-11T18:00:37.099256Z",
     "start_time": "2019-12-11T18:00:37.090110Z"
    }
   },
   "outputs": [
    {
     "data": {
      "text/plain": [
       "array([[-2.7351686e-01,  3.5819358e-01,  7.5372291e-01, ...,\n",
       "        -4.4155124e-01, -5.5344647e-01, -9.4181633e-01],\n",
       "       [-5.4966074e-01,  8.5896686e-02, -4.5398256e-01, ...,\n",
       "         1.2921782e+00, -1.3632373e+00, -4.2052138e-01],\n",
       "       [ 9.4026662e-02,  1.3069938e-01, -5.3443086e-01, ...,\n",
       "         9.0745467e-01, -5.4950494e-02, -2.1086490e+00],\n",
       "       ...,\n",
       "       [ 1.6287841e-02, -4.7992361e-03,  9.5050417e-02, ...,\n",
       "         1.0201327e-01,  1.2184987e-01,  5.0473046e-02],\n",
       "       [-4.0777419e-03, -6.6791107e-03, -2.8021615e-03, ...,\n",
       "        -1.8666487e-02,  2.0270061e-02,  3.1172633e-02],\n",
       "       [ 1.8732153e-02,  2.5470126e-02,  8.5094012e-02, ...,\n",
       "         9.2254989e-02,  1.7537050e-03,  5.2349925e-02]], dtype=float32)"
      ]
     },
     "execution_count": 17,
     "metadata": {},
     "output_type": "execute_result"
    }
   ],
   "source": [
    "wv.vectors"
   ]
  },
  {
   "cell_type": "markdown",
   "metadata": {},
   "source": [
    "As a final exercise, try to recreate the _'king' - 'man' + 'woman' = 'queen'_ example previously mentioned. You can do this by using the `most_similar` function and translating the word analogies into an addition/subtraction formulation (as shown above). Pass the original comparison, which you are calculating a difference between, to the negative parameter, and the analogous starter you want to apply the same transformation to, to the `positive` parameter.\n",
    "\n",
    "Do this now in the cell below. "
   ]
  },
  {
   "cell_type": "code",
   "execution_count": 18,
   "metadata": {
    "ExecuteTime": {
     "end_time": "2019-12-11T18:00:39.180694Z",
     "start_time": "2019-12-11T18:00:39.164383Z"
    }
   },
   "outputs": [
    {
     "data": {
      "text/plain": [
       "[('brunette', 0.588446319103241),\n",
       " ('princess', 0.556723415851593),\n",
       " ('revival', 0.5564587116241455),\n",
       " ('last-chance', 0.5453534722328186),\n",
       " ('title', 0.5440288782119751),\n",
       " ('queen', 0.5427923202514648),\n",
       " ('symbol', 0.5332902669906616),\n",
       " ('lover', 0.5301950573921204),\n",
       " ('feminist', 0.5247619152069092),\n",
       " ('gem', 0.5228767395019531)]"
      ]
     },
     "execution_count": 18,
     "metadata": {},
     "output_type": "execute_result"
    }
   ],
   "source": [
    "wv.most_similar(positive=['king', 'woman'], negative=['man'])"
   ]
  },
  {
   "cell_type": "markdown",
   "metadata": {},
   "source": [
    "As you can see from the output above, your model isn't perfect, but 'Queen' is still in the top 3, and with 'Princess' not too far behind. As you can see from the word in first place, 'reminiscent', your model is far from perfect. This is likely because you didn't have enough training data. That said, given the small amount of training data provided, the model still performs remarkably well! \n",
    "\n",
    "In the next lab, you'll reinvestigate transfer learning, loading in the weights from an open-sourced model that has already been trained for a very long time on a massive amount of data. Specifically, you'll work with the GloVe model from the Stanford NLP Group. There's not really any benefit from training the model ourselves, unless your text uses different, specialized vocabulary that isn't likely to be well represented inside an open-source model.\n",
    "\n",
    "## Summary\n",
    "\n",
    "In this lab, you learned how to train and use a Word2Vec model to created vectorized word embeddings!"
   ]
  }
 ],
 "metadata": {
  "kernelspec": {
   "display_name": "Python 3",
   "language": "python",
   "name": "python3"
  },
  "language_info": {
   "codemirror_mode": {
    "name": "ipython",
    "version": 3
   },
   "file_extension": ".py",
   "mimetype": "text/x-python",
   "name": "python",
   "nbconvert_exporter": "python",
   "pygments_lexer": "ipython3",
   "version": "3.6.6"
  },
  "toc": {
   "base_numbering": 1,
   "nav_menu": {},
   "number_sections": true,
   "sideBar": true,
   "skip_h1_title": false,
   "title_cell": "Table of Contents",
   "title_sidebar": "Contents",
   "toc_cell": false,
   "toc_position": {},
   "toc_section_display": true,
   "toc_window_display": false
  }
 },
 "nbformat": 4,
 "nbformat_minor": 2
}
