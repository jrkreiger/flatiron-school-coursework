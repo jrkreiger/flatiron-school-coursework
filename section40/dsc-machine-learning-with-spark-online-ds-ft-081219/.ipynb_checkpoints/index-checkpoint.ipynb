{
 "cells": [
  {
   "cell_type": "markdown",
   "metadata": {},
   "source": [
    "# Machine Learning with Spark\n",
    "\n",
    "## Introduction\n",
    "\n",
    "You've now explored how to perform operations on Spark RDDs for simple Map-Reduce tasks. Luckily, there are far more advanced use cases for spark, and many of them are found in the ml library, which we are going to explore in this lesson.\n",
    "\n",
    "\n",
    "## Objectives\n",
    "* Describe the use case for Machine Learning with Spark\n",
    "* Load and manipulate data with Spark DataFrames\n",
    "* Train a machine learning model with Spark\n",
    "\n",
    "\n",
    "## A Tale of Two Libraries\n",
    "\n",
    "If you look at the pyspark documentation, you'll notice that there are two different libraries for machine learning, [mllib](https://spark.apache.org/docs/latest/api/python/pyspark.mllib.html) and [ml](https://spark.apache.org/docs/latest/api/python/pyspark.ml.html). These libraries are extremely similar to one another, the only difference being that the mllib library is built upon the RDDs you just practiced using; whereas, the ml library is built on higher level Spark DataFrames, which has methods and attributes similar to pandas. Spark has stated that in the future, it is going to devote more effort to the `ml` library and that `mllib` will become deprecated. It's important to note that these libraries are much younger than pandas and sci-kit learn and there are not as many features present in either.\n",
    "\n",
    "## Spark DataFrames\n",
    "\n",
    "In the previous lessons, you've been introduced to SparkContext as the primary way to connect with a Spark Application. Here, we will be using SparkSession, which is from the [sql](https://spark.apache.org/docs/latest/api/python/pyspark.sql.html) component of pyspark. The SparkSession acts the same way as SparkContext; it a bridge between python and the Spark Application. It's just built on top of the Spark SQL API, a higher-level API than RDDs. In fact, a SparkContext object is spun up around which the SparkSession object is wrapped. Let's go through the process of manipulating some data here. For this example, we're going to be using the [Forest Fire dataset](https://archive.ics.uci.edu/ml/datasets/Forest+Fires) from UCI, which contains data about the area burned by wildfires in the Northeast region of Portugal in relation to numerous other factors.\n",
    "\n",
    "To begin with, let's create a SparkSession so that we can spin up our spark application.\n"
   ]
  },
  {
   "cell_type": "code",
   "execution_count": 1,
   "metadata": {},
   "outputs": [],
   "source": [
    "# importing the necessary libraries\n",
    "from pyspark import SparkContext\n",
    "from pyspark.sql import SparkSession\n",
    "# sc = SparkContext('local[*]')\n",
    "# spark = SparkSession(sc)"
   ]
  },
  {
   "cell_type": "markdown",
   "metadata": {},
   "source": [
    "An alternate, one liner way to create a SparkSession is below"
   ]
  },
  {
   "cell_type": "code",
   "execution_count": 2,
   "metadata": {},
   "outputs": [],
   "source": [
    "spark = SparkSession.builder.master(\"local\").getOrCreate()"
   ]
  },
  {
   "cell_type": "markdown",
   "metadata": {},
   "source": [
    "Now, we'll load the read in our data into the pyspark DataFrame object."
   ]
  },
  {
   "cell_type": "code",
   "execution_count": 3,
   "metadata": {},
   "outputs": [
    {
     "data": {
      "text/plain": [
       "pyspark.sql.dataframe.DataFrame"
      ]
     },
     "execution_count": 3,
     "metadata": {},
     "output_type": "execute_result"
    }
   ],
   "source": [
    "## reading in pyspark df\n",
    "spark_df = spark.read.csv('./forestfires.csv',header='true',inferSchema='true')\n",
    "\n",
    "## observing the datatype of df\n",
    "type(spark_df)"
   ]
  },
  {
   "cell_type": "markdown",
   "metadata": {},
   "source": [
    "You'll notice that some of the methods are extremely similar or the same as those found within Pandas."
   ]
  },
  {
   "cell_type": "code",
   "execution_count": 4,
   "metadata": {},
   "outputs": [
    {
     "data": {
      "text/plain": [
       "Row(X=7, Y=5, month='mar', day='fri', FFMC=86.2, DMC=26.2, DC=94.3, ISI=5.1, temp=8.2, RH=51, wind=6.7, rain=0.0, area=0.0)"
      ]
     },
     "execution_count": 4,
     "metadata": {},
     "output_type": "execute_result"
    }
   ],
   "source": [
    "spark_df.head()"
   ]
  },
  {
   "cell_type": "code",
   "execution_count": 5,
   "metadata": {},
   "outputs": [
    {
     "data": {
      "text/plain": [
       "['X',\n",
       " 'Y',\n",
       " 'month',\n",
       " 'day',\n",
       " 'FFMC',\n",
       " 'DMC',\n",
       " 'DC',\n",
       " 'ISI',\n",
       " 'temp',\n",
       " 'RH',\n",
       " 'wind',\n",
       " 'rain',\n",
       " 'area']"
      ]
     },
     "execution_count": 5,
     "metadata": {},
     "output_type": "execute_result"
    }
   ],
   "source": [
    "spark_df.columns"
   ]
  },
  {
   "cell_type": "markdown",
   "metadata": {},
   "source": [
    "Selecting multiple columns is the same"
   ]
  },
  {
   "cell_type": "code",
   "execution_count": 6,
   "metadata": {},
   "outputs": [
    {
     "data": {
      "text/plain": [
       "DataFrame[month: string, day: string, rain: double]"
      ]
     },
     "execution_count": 6,
     "metadata": {},
     "output_type": "execute_result"
    }
   ],
   "source": [
    "spark_df[['month','day','rain']]"
   ]
  },
  {
   "cell_type": "markdown",
   "metadata": {},
   "source": [
    "But selecting one column is different. If you want to maintain the methods of a spark DataFrame, you should use the `select` method. If you want to just select the column, you can use the same method you would use in pandas (this is primarily what you would use if you're attempting to create a Boolean mask).\n"
   ]
  },
  {
   "cell_type": "code",
   "execution_count": 7,
   "metadata": {
    "scrolled": true
   },
   "outputs": [],
   "source": [
    "d = spark_df.select('rain')"
   ]
  },
  {
   "cell_type": "code",
   "execution_count": 8,
   "metadata": {},
   "outputs": [
    {
     "data": {
      "text/plain": [
       "Column<b'rain'>"
      ]
     },
     "execution_count": 8,
     "metadata": {},
     "output_type": "execute_result"
    }
   ],
   "source": [
    "spark_df['rain']"
   ]
  },
  {
   "cell_type": "markdown",
   "metadata": {},
   "source": [
    "Let's take a look at all of our data types in this dataframe"
   ]
  },
  {
   "cell_type": "code",
   "execution_count": 9,
   "metadata": {},
   "outputs": [
    {
     "data": {
      "text/plain": [
       "[('X', 'int'),\n",
       " ('Y', 'int'),\n",
       " ('month', 'string'),\n",
       " ('day', 'string'),\n",
       " ('FFMC', 'double'),\n",
       " ('DMC', 'double'),\n",
       " ('DC', 'double'),\n",
       " ('ISI', 'double'),\n",
       " ('temp', 'double'),\n",
       " ('RH', 'int'),\n",
       " ('wind', 'double'),\n",
       " ('rain', 'double'),\n",
       " ('area', 'double')]"
      ]
     },
     "execution_count": 9,
     "metadata": {},
     "output_type": "execute_result"
    }
   ],
   "source": [
    "spark_df.dtypes"
   ]
  },
  {
   "cell_type": "markdown",
   "metadata": {},
   "source": [
    "## Aggregations with our DataFrame"
   ]
  },
  {
   "cell_type": "markdown",
   "metadata": {},
   "source": [
    "Let's investigate to see if there is any correlation between what month it is and the area of fire."
   ]
  },
  {
   "cell_type": "code",
   "execution_count": 10,
   "metadata": {},
   "outputs": [
    {
     "data": {
      "text/plain": [
       "DataFrame[month: string, avg(area): double]"
      ]
     },
     "execution_count": 10,
     "metadata": {},
     "output_type": "execute_result"
    }
   ],
   "source": [
    "spark_df_months = spark_df.groupBy('month').agg({'area':'mean'})\n",
    "spark_df_months"
   ]
  },
  {
   "cell_type": "markdown",
   "metadata": {},
   "source": [
    "Notice how the grouped DataFrame is not returned when you call the aggregation method. Remember, this is still Spark! The transformations and actions are kept separate so that it is easier to manage large quantities of data. You can perform the transformation by making a `collect` method call."
   ]
  },
  {
   "cell_type": "code",
   "execution_count": 11,
   "metadata": {},
   "outputs": [
    {
     "data": {
      "text/plain": [
       "[Row(month='jun', avg(area)=5.841176470588234),\n",
       " Row(month='aug', avg(area)=12.489076086956521),\n",
       " Row(month='may', avg(area)=19.24),\n",
       " Row(month='feb', avg(area)=6.275),\n",
       " Row(month='sep', avg(area)=17.942616279069753),\n",
       " Row(month='mar', avg(area)=4.356666666666667),\n",
       " Row(month='oct', avg(area)=6.638),\n",
       " Row(month='jul', avg(area)=14.3696875),\n",
       " Row(month='nov', avg(area)=0.0),\n",
       " Row(month='apr', avg(area)=8.891111111111112),\n",
       " Row(month='dec', avg(area)=13.33),\n",
       " Row(month='jan', avg(area)=0.0)]"
      ]
     },
     "execution_count": 11,
     "metadata": {},
     "output_type": "execute_result"
    }
   ],
   "source": [
    "spark_df_months.collect()"
   ]
  },
  {
   "cell_type": "markdown",
   "metadata": {},
   "source": [
    "As you can see, there seem to be larger area fires during what would be considered the summer months in Portugal. On your own, practice more aggregations and manipulations that you might be able to perform on this dataset. Now, we'll move on to using the machine learning applications of pyspark. "
   ]
  },
  {
   "cell_type": "markdown",
   "metadata": {},
   "source": [
    "## Boolean Masking\n",
    "Boolean masking also works with pyspark DataFrames just like Pandas DataFrames, the only difference being that the `filter` method is used in pyspark. To try this out, let's compare the amount the fire in those areas with absolutely no rain to those areas that had rain."
   ]
  },
  {
   "cell_type": "code",
   "execution_count": 12,
   "metadata": {},
   "outputs": [],
   "source": [
    "no_rain = spark_df.filter(spark_df['rain'] == 0.0)\n",
    "some_rain = spark_df.filter(spark_df['rain'] > 0.0)"
   ]
  },
  {
   "cell_type": "markdown",
   "metadata": {},
   "source": [
    "Now, to perform calculations to find the mean of a column, we'll have to import functions from `pyspark.sql`. As always, to read more about them, check out the [documentation](https://spark.apache.org/docs/latest/api/python/pyspark.sql.html#module-pyspark.sql.functions)."
   ]
  },
  {
   "cell_type": "code",
   "execution_count": 13,
   "metadata": {},
   "outputs": [
    {
     "name": "stdout",
     "output_type": "stream",
     "text": [
      "+------------------+\n",
      "|         avg(area)|\n",
      "+------------------+\n",
      "|13.023693516699408|\n",
      "+------------------+\n",
      "\n",
      "no rain fire area:  None \n",
      "\n",
      "+---------+\n",
      "|avg(area)|\n",
      "+---------+\n",
      "|  1.62375|\n",
      "+---------+\n",
      "\n",
      "some rain fire area:  None \n",
      "\n"
     ]
    }
   ],
   "source": [
    "from pyspark.sql.functions import mean\n",
    "\n",
    "print('no rain fire area: ',no_rain.select(mean('area')).show(),'\\n')\n",
    "\n",
    "print('some rain fire area: ',some_rain.select(mean('area')).show(),'\\n')"
   ]
  },
  {
   "cell_type": "markdown",
   "metadata": {},
   "source": [
    "Yes there's definitely something there! Unsurprisingly, rain plays in a big factor in the spread of wildfire.\n",
    "\n",
    "Let's try and get obtain data from only the summer months in Portugal (June, July, and August). We can also do the same for the winter months in Portugal (December, January, February)."
   ]
  },
  {
   "cell_type": "code",
   "execution_count": 14,
   "metadata": {},
   "outputs": [
    {
     "name": "stdout",
     "output_type": "stream",
     "text": [
      "+------------------+\n",
      "|         avg(area)|\n",
      "+------------------+\n",
      "|12.262317596566525|\n",
      "+------------------+\n",
      "\n",
      "summer months fire area None\n",
      "+-----------------+\n",
      "|        avg(area)|\n",
      "+-----------------+\n",
      "|7.918387096774193|\n",
      "+-----------------+\n",
      "\n",
      "winter months fire areas None\n"
     ]
    }
   ],
   "source": [
    "summer_months = spark_df.filter(spark_df['month'].isin(['jun','jul','aug']))\n",
    "winter_months = spark_df.filter(spark_df['month'].isin(['dec','jan','feb']))\n",
    "\n",
    "print('summer months fire area', summer_months.select(mean('area')).show())\n",
    "print('winter months fire areas', winter_months.select(mean('area')).show())"
   ]
  },
  {
   "cell_type": "markdown",
   "metadata": {},
   "source": [
    "## Machine Learning\n",
    "\n",
    "Now that we've performed some data manipulation and aggregation, lets get to the really cool stuff, machine learning! Pyspark states that they've used sklearn as an inspiration for their implementation of a machine learning library. As a result, many of the methods and functionalities look similar, but there are some crucial distinctions. There are three main concepts found within the ML library:\n",
    "\n",
    "`Transformer`: An algorithm that transforms one pyspark DataFrame into another DataFrame. \n",
    "\n",
    "`Estimator`: An algorithm that can be fit onto a pyspark DataFrame that can then be used as a Transformer. \n",
    "\n",
    "`Pipeline`: A pipeline very similar to an sklearn pipeline that chains together different actions.\n",
    "\n",
    "The reasoning behind this separation of the fitting and transforming step is because spark is lazily evaluated, so the 'fitting' of a model does not actually take place until the Transformation action is called. Let's examine what this actually looks like by performing a regression on the Forest Fire Dataset. To start off with, we'll import the necessary libraries for our tasks."
   ]
  },
  {
   "cell_type": "code",
   "execution_count": 15,
   "metadata": {},
   "outputs": [],
   "source": [
    "from pyspark.ml.regression import RandomForestRegressor\n",
    "from pyspark.ml import feature\n",
    "from pyspark.ml.feature import StringIndexer, VectorAssembler, OneHotEncoderEstimator"
   ]
  },
  {
   "cell_type": "markdown",
   "metadata": {},
   "source": [
    "Looking at our data, one can see that all the categories are numerical except for day and month. We saw some correlation between the month and area burned in a fire, so we will include that in our model. The day of the week, however, is highly unlikely to have any effect on fire, so we will drop it from the DataFrame."
   ]
  },
  {
   "cell_type": "code",
   "execution_count": 16,
   "metadata": {},
   "outputs": [
    {
     "data": {
      "text/plain": [
       "Row(X=7, Y=5, month='mar', FFMC=86.2, DMC=26.2, DC=94.3, ISI=5.1, temp=8.2, RH=51, wind=6.7, rain=0.0, area=0.0)"
      ]
     },
     "execution_count": 16,
     "metadata": {},
     "output_type": "execute_result"
    }
   ],
   "source": [
    "fire_df = spark_df.drop('day')\n",
    "fire_df.head()"
   ]
  },
  {
   "cell_type": "markdown",
   "metadata": {},
   "source": [
    "In order for us to run our model, we need to turn the months variable into a dummy variable. In `ml` this is a 2-step process that first requires turning the categorical variable into a numerical index (`StringIndexer`). Only after the variable is an int can pyspark create dummy variable columns related to each category (`OneHotEncoderEstimator`). You key parameters you when using these `ml` estimators are: inputCol (the column you want to change) and outputCol (where you will store the changed column). Here it is in action"
   ]
  },
  {
   "cell_type": "code",
   "execution_count": 17,
   "metadata": {},
   "outputs": [],
   "source": [
    "si = StringIndexer(inputCol='month',outputCol='month_num')\n",
    "model = si.fit(fire_df)\n",
    "new_df = model.transform(fire_df)"
   ]
  },
  {
   "cell_type": "markdown",
   "metadata": {},
   "source": [
    "Note the small, but critical distinction between sklearn's implementation of a transformer and pyspark's implementation. sklearn is more object oriented and spark is more functionally based programming."
   ]
  },
  {
   "cell_type": "code",
   "execution_count": 18,
   "metadata": {},
   "outputs": [
    {
     "data": {
      "text/plain": [
       "pyspark.ml.feature.StringIndexer"
      ]
     },
     "execution_count": 18,
     "metadata": {},
     "output_type": "execute_result"
    }
   ],
   "source": [
    "## this is an estimator (an untrained transformer)\n",
    "type(si)"
   ]
  },
  {
   "cell_type": "code",
   "execution_count": 19,
   "metadata": {},
   "outputs": [
    {
     "data": {
      "text/plain": [
       "pyspark.ml.feature.StringIndexerModel"
      ]
     },
     "execution_count": 19,
     "metadata": {},
     "output_type": "execute_result"
    }
   ],
   "source": [
    "## this is a transformer (a trained transformer)\n",
    "type(model)"
   ]
  },
  {
   "cell_type": "code",
   "execution_count": 20,
   "metadata": {},
   "outputs": [
    {
     "data": {
      "text/plain": [
       "['aug',\n",
       " 'sep',\n",
       " 'mar',\n",
       " 'jul',\n",
       " 'feb',\n",
       " 'jun',\n",
       " 'oct',\n",
       " 'apr',\n",
       " 'dec',\n",
       " 'jan',\n",
       " 'may',\n",
       " 'nov']"
      ]
     },
     "execution_count": 20,
     "metadata": {},
     "output_type": "execute_result"
    }
   ],
   "source": [
    "model.labels"
   ]
  },
  {
   "cell_type": "code",
   "execution_count": 21,
   "metadata": {},
   "outputs": [
    {
     "data": {
      "text/plain": [
       "[Row(X=7, Y=5, month='mar', FFMC=86.2, DMC=26.2, DC=94.3, ISI=5.1, temp=8.2, RH=51, wind=6.7, rain=0.0, area=0.0, month_num=2.0),\n",
       " Row(X=7, Y=4, month='oct', FFMC=90.6, DMC=35.4, DC=669.1, ISI=6.7, temp=18.0, RH=33, wind=0.9, rain=0.0, area=0.0, month_num=6.0),\n",
       " Row(X=7, Y=4, month='oct', FFMC=90.6, DMC=43.7, DC=686.9, ISI=6.7, temp=14.6, RH=33, wind=1.3, rain=0.0, area=0.0, month_num=6.0),\n",
       " Row(X=8, Y=6, month='mar', FFMC=91.7, DMC=33.3, DC=77.5, ISI=9.0, temp=8.3, RH=97, wind=4.0, rain=0.2, area=0.0, month_num=2.0)]"
      ]
     },
     "execution_count": 21,
     "metadata": {},
     "output_type": "execute_result"
    }
   ],
   "source": [
    "new_df.head(4)"
   ]
  },
  {
   "cell_type": "code",
   "execution_count": 22,
   "metadata": {},
   "outputs": [
    {
     "data": {
      "text/plain": [
       "Row(X=7, Y=5, month='mar', FFMC=86.2, DMC=26.2, DC=94.3, ISI=5.1, temp=8.2, RH=51, wind=6.7, rain=0.0, area=0.0, month_num=2.0)"
      ]
     },
     "execution_count": 22,
     "metadata": {},
     "output_type": "execute_result"
    }
   ],
   "source": [
    "#\n",
    "# new_df = new_df.drop('month')\n",
    "new_df.head()"
   ]
  },
  {
   "cell_type": "markdown",
   "metadata": {},
   "source": [
    "As you can see, we have created a new column called \"month_num\" that represents the month by a number. Now that we have performed this step, we can use Spark's version of OneHotEncoder. Let's make sure we have an accurate representation of the months."
   ]
  },
  {
   "cell_type": "code",
   "execution_count": 23,
   "metadata": {},
   "outputs": [
    {
     "data": {
      "text/plain": [
       "[Row(month_num=8.0),\n",
       " Row(month_num=0.0),\n",
       " Row(month_num=7.0),\n",
       " Row(month_num=1.0),\n",
       " Row(month_num=4.0),\n",
       " Row(month_num=11.0),\n",
       " Row(month_num=3.0),\n",
       " Row(month_num=2.0),\n",
       " Row(month_num=10.0),\n",
       " Row(month_num=6.0),\n",
       " Row(month_num=5.0),\n",
       " Row(month_num=9.0)]"
      ]
     },
     "execution_count": 23,
     "metadata": {},
     "output_type": "execute_result"
    }
   ],
   "source": [
    "new_df.select('month_num').distinct().collect()"
   ]
  },
  {
   "cell_type": "code",
   "execution_count": 24,
   "metadata": {},
   "outputs": [
    {
     "data": {
      "text/plain": [
       "Row(X=7, Y=5, month='mar', FFMC=86.2, DMC=26.2, DC=94.3, ISI=5.1, temp=8.2, RH=51, wind=6.7, rain=0.0, area=0.0, month_num=2.0, month_vec=SparseVector(11, {2: 1.0}))"
      ]
     },
     "execution_count": 24,
     "metadata": {},
     "output_type": "execute_result"
    }
   ],
   "source": [
    "## fitting and transforming the OneHotEncoder\n",
    "ohe = feature.OneHotEncoderEstimator(inputCols=['month_num'],outputCols=['month_vec'],dropLast=True)\n",
    "one_hot_encoded = ohe.fit(new_df).transform(new_df)\n",
    "one_hot_encoded.head()"
   ]
  },
  {
   "cell_type": "markdown",
   "metadata": {},
   "source": [
    "Great, we now have a OneHotEncoded sparse vector in the month_vec column! Because spark is optimized for big data, sparse vectors are used rather than entirely new columns for dummy variables because it is more space efficient. You can see in this first row of the data frame:  \n",
    "`month_vec=SparseVector(11, {2: 1.0})` this indicates that we have a sparse vector of size 11 (because of the parameter `dropLast = True` in OneHotEncoderEstimator) and this particular datapoint is the 2nd index of our month labels (march, based off the labels in the `model` StringEstimator transformer)  \n",
    "\n",
    "The final requirement for all machine learning models in pyspark is to put all of the features of your model into one Sparse Vector. This is once again for efficiency sake. Here, we are doing that with the `VectorAssembler` estimator."
   ]
  },
  {
   "cell_type": "code",
   "execution_count": 25,
   "metadata": {},
   "outputs": [],
   "source": [
    "features = ['X',\n",
    " 'Y',\n",
    " 'FFMC',\n",
    " 'DMC',\n",
    " 'DC',\n",
    " 'ISI',\n",
    " 'temp',\n",
    " 'RH',\n",
    " 'wind',\n",
    " 'rain',\n",
    " 'month_vec']\n",
    "\n",
    "target = 'area'\n",
    "\n",
    "vector = VectorAssembler(inputCols=features,outputCol='features')\n",
    "vectorized_df = vector.transform(one_hot_encoded)"
   ]
  },
  {
   "cell_type": "code",
   "execution_count": 26,
   "metadata": {},
   "outputs": [
    {
     "data": {
      "text/plain": [
       "Row(X=7, Y=5, month='mar', FFMC=86.2, DMC=26.2, DC=94.3, ISI=5.1, temp=8.2, RH=51, wind=6.7, rain=0.0, area=0.0, month_num=2.0, month_vec=SparseVector(11, {2: 1.0}), features=SparseVector(21, {0: 7.0, 1: 5.0, 2: 86.2, 3: 26.2, 4: 94.3, 5: 5.1, 6: 8.2, 7: 51.0, 8: 6.7, 12: 1.0}))"
      ]
     },
     "execution_count": 26,
     "metadata": {},
     "output_type": "execute_result"
    }
   ],
   "source": [
    "vectorized_df.head()"
   ]
  },
  {
   "cell_type": "markdown",
   "metadata": {},
   "source": [
    "Great! We now have our data in a format that seems acceptable for the last step. Now it's time for us to actually fit our model to data! Let's try and fit a Random Forest Regression model our data. Although there are still a bunch of other features in the DataFrame, it doesn't matter for the machine learning model API. All that needs to be specified are the names of the features column and the label column. Let's fit use Random Forest Regression to fit the model here."
   ]
  },
  {
   "cell_type": "code",
   "execution_count": 27,
   "metadata": {},
   "outputs": [],
   "source": [
    "## instantiating and fitting the model\n",
    "rf_model = RandomForestRegressor(featuresCol='features',labelCol='area',predictionCol=\"prediction\").fit(vectorized_df)"
   ]
  },
  {
   "cell_type": "code",
   "execution_count": 28,
   "metadata": {},
   "outputs": [
    {
     "data": {
      "text/plain": [
       "SparseVector(21, {0: 0.1068, 1: 0.0655, 2: 0.1444, 3: 0.1413, 4: 0.1178, 5: 0.0489, 6: 0.0984, 7: 0.0804, 8: 0.1497, 10: 0.0027, 11: 0.0391, 12: 0.0, 13: 0.0042, 14: 0.0002, 16: 0.0, 17: 0.0, 18: 0.0001, 20: 0.0005})"
      ]
     },
     "execution_count": 28,
     "metadata": {},
     "output_type": "execute_result"
    }
   ],
   "source": [
    "rf_model.featureImportances"
   ]
  },
  {
   "cell_type": "code",
   "execution_count": 29,
   "metadata": {},
   "outputs": [
    {
     "data": {
      "text/plain": [
       "[Row(area=0.0, prediction=5.590453951687039),\n",
       " Row(area=0.0, prediction=6.0778621166987605),\n",
       " Row(area=0.0, prediction=8.559628119674656),\n",
       " Row(area=0.0, prediction=7.971877982911005),\n",
       " Row(area=0.0, prediction=8.296784649063989),\n",
       " Row(area=0.0, prediction=6.71728529187496),\n",
       " Row(area=0.0, prediction=3.866013114636226),\n",
       " Row(area=0.0, prediction=5.5254393125674985),\n",
       " Row(area=0.0, prediction=6.425106730602695),\n",
       " Row(area=0.0, prediction=6.353045545022376)]"
      ]
     },
     "execution_count": 29,
     "metadata": {},
     "output_type": "execute_result"
    }
   ],
   "source": [
    "## generating predictions\n",
    "predictions = rf_model.transform(vectorized_df).select(\"area\",\"prediction\")\n",
    "predictions.head(10)"
   ]
  },
  {
   "cell_type": "markdown",
   "metadata": {},
   "source": [
    "Now we can evaluate how well the model performed using `RegressionEvaluator`."
   ]
  },
  {
   "cell_type": "code",
   "execution_count": 30,
   "metadata": {},
   "outputs": [],
   "source": [
    "from pyspark.ml.evaluation import RegressionEvaluator\n",
    "evaluator = RegressionEvaluator(predictionCol='prediction', labelCol='area')"
   ]
  },
  {
   "cell_type": "code",
   "execution_count": 31,
   "metadata": {},
   "outputs": [
    {
     "data": {
      "text/plain": [
       "0.7079057144952472"
      ]
     },
     "execution_count": 31,
     "metadata": {},
     "output_type": "execute_result"
    }
   ],
   "source": [
    "## evaluating r^2\n",
    "evaluator.evaluate(predictions,{evaluator.metricName:\"r2\"})"
   ]
  },
  {
   "cell_type": "code",
   "execution_count": 32,
   "metadata": {},
   "outputs": [
    {
     "data": {
      "text/plain": [
       "12.641137683177428"
      ]
     },
     "execution_count": 32,
     "metadata": {},
     "output_type": "execute_result"
    }
   ],
   "source": [
    "## evaluating mean absolute error\n",
    "evaluator.evaluate(predictions,{evaluator.metricName:\"mae\"})"
   ]
  },
  {
   "cell_type": "markdown",
   "metadata": {},
   "source": [
    "## Putting it all in a Pipeline\n",
    "\n",
    "We just performed a whole lot of transformations to our data. Let's take a look at all the estimators we used to create this model:\n",
    "\n",
    "* StringIndexer\n",
    "* OneHotEnconderEstimator\n",
    "* VectorAssembler\n",
    "* RandomForestRegressor\n",
    "\n",
    "Once we've fit our model in the Pipeline, we're then going to want to evaluate it to determine how well it performs. We can do this with:\n",
    "\n",
    "* RegressionEvaluator\n",
    "\n",
    "\n",
    "We can streamline all of these transformations to make it all much more efficient by chaining them together in a pipeline. The Pipeline object expects a list of the estimators prior set to the parameter `stages`."
   ]
  },
  {
   "cell_type": "code",
   "execution_count": 33,
   "metadata": {},
   "outputs": [],
   "source": [
    "# importing relevant libraries\n",
    "from pyspark.ml.tuning import ParamGridBuilder, TrainValidationSplit, CrossValidator\n",
    "from pyspark.ml import Pipeline"
   ]
  },
  {
   "cell_type": "code",
   "execution_count": 34,
   "metadata": {},
   "outputs": [],
   "source": [
    "## instantiating all necessary estimator objects\n",
    "\n",
    "string_indexer = StringIndexer(inputCol='month',outputCol='month_num',handleInvalid='keep')\n",
    "one_hot_encoder = OneHotEncoderEstimator(inputCols=['month_num'],outputCols=['month_vec'],dropLast=True)\n",
    "vector_assember = VectorAssembler(inputCols=features,outputCol='features')\n",
    "random_forest = RandomForestRegressor(featuresCol='features',labelCol='area')\n",
    "stages =  [string_indexer, one_hot_encoder, vector_assember,random_forest]\n",
    "\n",
    "# instantiating the pipeline with all them estimator objects\n",
    "pipeline = Pipeline(stages=stages)"
   ]
  },
  {
   "cell_type": "markdown",
   "metadata": {},
   "source": [
    "### Cross Validation\n",
    "You might have missed a critical step in the Random Forest Regression above; we did not cross validate or perform a train/test split! Now we're going to fix that by performing cross validation and also testing out multiple different combinations of parameters in pyspark's GridSearch equivalent. To begin with, we will create a parameter grid that contains the different parameters we want to use in our model."
   ]
  },
  {
   "cell_type": "code",
   "execution_count": 35,
   "metadata": {},
   "outputs": [],
   "source": [
    "# creating parameter grid\n",
    "\n",
    "params = ParamGridBuilder()\\\n",
    ".addGrid(random_forest.maxDepth, [5,10,15])\\\n",
    ".addGrid(random_forest.numTrees, [20,50,100])\\\n",
    ".build()"
   ]
  },
  {
   "cell_type": "markdown",
   "metadata": {},
   "source": [
    "Let's take a look at the params variable we just built."
   ]
  },
  {
   "cell_type": "code",
   "execution_count": 36,
   "metadata": {},
   "outputs": [
    {
     "name": "stdout",
     "output_type": "stream",
     "text": [
      "total combinations of parameters:  9\n"
     ]
    },
    {
     "data": {
      "text/plain": [
       "{Param(parent='RandomForestRegressor_bbe0ad2fcccd', name='maxDepth', doc='Maximum depth of the tree. (>= 0) E.g., depth 0 means 1 leaf node; depth 1 means 1 internal node + 2 leaf nodes.'): 5,\n",
       " Param(parent='RandomForestRegressor_bbe0ad2fcccd', name='numTrees', doc='Number of trees to train (>= 1).'): 20}"
      ]
     },
     "execution_count": 36,
     "metadata": {},
     "output_type": "execute_result"
    }
   ],
   "source": [
    "print('total combinations of parameters: ',len(params))\n",
    "\n",
    "params[0]"
   ]
  },
  {
   "cell_type": "markdown",
   "metadata": {},
   "source": [
    "Now it's time to combine all the steps we've created to work in a single line of code with the CrossValidator estimator."
   ]
  },
  {
   "cell_type": "code",
   "execution_count": 37,
   "metadata": {},
   "outputs": [],
   "source": [
    "## instantiating the evaluator by which we will measure our model's performance\n",
    "reg_evaluator = RegressionEvaluator(predictionCol='prediction', labelCol='area',metricName = 'mae')\n",
    "## instantiating crossvalidator estimator\n",
    "cv = CrossValidator(estimator=pipeline, estimatorParamMaps=params,evaluator=reg_evaluator,parallelism=4)"
   ]
  },
  {
   "cell_type": "code",
   "execution_count": 38,
   "metadata": {},
   "outputs": [],
   "source": [
    "## fitting crossvalidator\n",
    "cross_validated_model = cv.fit(fire_df)"
   ]
  },
  {
   "cell_type": "markdown",
   "metadata": {},
   "source": [
    "Now, let's see how well the model performed! Let's take a look at the average performance for each one of our 9 models. It looks like the optimal performance is an MAE around 23. Note that this is worse than our original model, but that's because our original model had substantial data leakage. We didn't do a train-test-split!"
   ]
  },
  {
   "cell_type": "code",
   "execution_count": 39,
   "metadata": {
    "scrolled": true
   },
   "outputs": [
    {
     "data": {
      "text/plain": [
       "[21.278864718183236,\n",
       " 20.842858659559905,\n",
       " 21.973919848048528,\n",
       " 21.582608982786844,\n",
       " 21.35375412826563,\n",
       " 22.74676249558219,\n",
       " 21.648628857735783,\n",
       " 21.471197411752346,\n",
       " 22.894746724672533]"
      ]
     },
     "execution_count": 39,
     "metadata": {},
     "output_type": "execute_result"
    }
   ],
   "source": [
    "cross_validated_model.avgMetrics"
   ]
  },
  {
   "cell_type": "markdown",
   "metadata": {},
   "source": [
    "Now, let's take a look at the optimal parameters of our best performing model. The cross_validated_model variable is now saved as the best performing model from the grid search just performed. Let's look to see how well the predictions performed. As you can see, this dataset has a large number of areas of \"0.0\" burned. Perhaps, it would be better to investigate this problem as a classification task."
   ]
  },
  {
   "cell_type": "code",
   "execution_count": 40,
   "metadata": {},
   "outputs": [
    {
     "name": "stdout",
     "output_type": "stream",
     "text": [
      "+------------------+-------+\n",
      "|        prediction|   area|\n",
      "+------------------+-------+\n",
      "| 5.540443763685769|    0.0|\n",
      "| 5.540209008015621|    0.0|\n",
      "| 5.255107158319282|    0.0|\n",
      "| 5.340407951045965|    0.0|\n",
      "| 4.189406666681819|    0.0|\n",
      "| 9.937355483673775|    0.0|\n",
      "|15.044732575071738|    0.0|\n",
      "| 7.838208493451117|    0.0|\n",
      "| 6.658159304018691|    0.0|\n",
      "|30.104691804865958|    0.0|\n",
      "| 6.739413159664569|    0.0|\n",
      "| 5.819930767884711|    0.0|\n",
      "| 8.157287420120994|    0.0|\n",
      "| 8.990780759575582|    0.0|\n",
      "| 43.24112497400585|    0.0|\n",
      "| 7.269366355653526|    0.0|\n",
      "|20.345841415363132|    0.0|\n",
      "|   7.7524144705357|    0.0|\n",
      "|4.5179108674772115|    0.0|\n",
      "| 4.660482384371875|    0.0|\n",
      "| 8.263065113826098|    0.0|\n",
      "| 4.963400481173717|    0.0|\n",
      "| 4.357778867394337|    0.0|\n",
      "|  5.66686223643433|    0.0|\n",
      "| 5.532855945461998|    0.0|\n",
      "|  6.41953882466031|    0.0|\n",
      "| 7.892709825614431|    0.0|\n",
      "|  7.50301603419343|    0.0|\n",
      "|31.108448757810542|    0.0|\n",
      "|10.055895568029378|    0.0|\n",
      "| 7.395599462088808|    0.0|\n",
      "| 7.201694819300045|    0.0|\n",
      "| 5.516393066916694|    0.0|\n",
      "| 6.345817551877207|    0.0|\n",
      "| 5.131929582651005|    0.0|\n",
      "|  7.31016900539444|    0.0|\n",
      "|6.9369506414492355|    0.0|\n",
      "| 5.906931785839152|    0.0|\n",
      "| 6.423341575191439|    0.0|\n",
      "|4.2688098956970535|    0.0|\n",
      "|12.412402168152646|    0.0|\n",
      "| 4.809686012271901|    0.0|\n",
      "| 4.066302450685534|    0.0|\n",
      "| 5.879988214719291|    0.0|\n",
      "| 6.604469157955574|    0.0|\n",
      "| 68.09017920642832|    0.0|\n",
      "| 6.093268102896591|    0.0|\n",
      "| 7.375911522214251|    0.0|\n",
      "|4.3594961162100745|    0.0|\n",
      "|6.0430138479735875|    0.0|\n",
      "|10.643880908748251|    0.0|\n",
      "| 4.362156645745308|    0.0|\n",
      "| 4.971236774619262|    0.0|\n",
      "| 4.971236774619262|    0.0|\n",
      "| 5.489054159162334|    0.0|\n",
      "|10.021064287795024|    0.0|\n",
      "| 6.469275642496908|    0.0|\n",
      "| 5.546614975934224|    0.0|\n",
      "| 5.193869907307903|    0.0|\n",
      "| 14.90109133777109|    0.0|\n",
      "| 4.215914283511855|    0.0|\n",
      "|3.9146037162455745|    0.0|\n",
      "| 8.640530170456461|    0.0|\n",
      "| 4.499504964462217|    0.0|\n",
      "| 5.200287186197285|    0.0|\n",
      "| 5.961354085406357|    0.0|\n",
      "|4.1773110808170175|    0.0|\n",
      "|6.8287459627033105|    0.0|\n",
      "| 6.983764821272955|    0.0|\n",
      "| 5.923600679411421|    0.0|\n",
      "|12.035715373043153|    0.0|\n",
      "| 4.549433786826769|    0.0|\n",
      "|3.9714923188508378|    0.0|\n",
      "| 4.717770292422792|    0.0|\n",
      "|7.6506996708774375|    0.0|\n",
      "| 11.32141028247966|    0.0|\n",
      "| 6.324248156037105|    0.0|\n",
      "| 4.299417976868672|    0.0|\n",
      "|3.1838894231468897|    0.0|\n",
      "|  34.2939159956179|    0.0|\n",
      "|14.878946486742537|    0.0|\n",
      "|11.772678280211954|    0.0|\n",
      "| 6.728349340945744|    0.0|\n",
      "|18.560701309894977|    0.0|\n",
      "| 9.353431464068171|    0.0|\n",
      "|18.250569285824422|    0.0|\n",
      "|27.615944436105153|    0.0|\n",
      "| 18.87833098741014|    0.0|\n",
      "|41.003553503394066|    0.0|\n",
      "|12.537792681611862|    0.0|\n",
      "| 5.264801171449247|    0.0|\n",
      "|12.564933787973642|    0.0|\n",
      "|17.203438447347203|    0.0|\n",
      "| 15.02593967295133|    0.0|\n",
      "|10.090999079121993|    0.0|\n",
      "| 5.816769229745684|    0.0|\n",
      "| 4.602873608863363|    0.0|\n",
      "| 4.649631258986289|    0.0|\n",
      "| 4.548613786932325|    0.0|\n",
      "|6.4155224689757695|    0.0|\n",
      "|6.4155224689757695|    0.0|\n",
      "| 4.570243631883562|    0.0|\n",
      "| 4.755845949639914|    0.0|\n",
      "|15.476484273545873|    0.0|\n",
      "| 4.437852431271901|    0.0|\n",
      "|5.6932609556556075|    0.0|\n",
      "| 5.579461106941993|    0.0|\n",
      "|4.4795888227641765|    0.0|\n",
      "|6.0729138296648095|    0.0|\n",
      "| 5.547681829578288|    0.0|\n",
      "| 5.498231159614217|    0.0|\n",
      "| 4.472387438291433|    0.0|\n",
      "| 5.852663164425211|    0.0|\n",
      "| 5.563562603718368|    0.0|\n",
      "| 4.571888671755496|    0.0|\n",
      "|19.212139444415644|    0.0|\n",
      "|  4.73072893083554|    0.0|\n",
      "| 6.193818871906051|    0.0|\n",
      "| 4.494200769803373|    0.0|\n",
      "| 4.307771131530378|    0.0|\n",
      "| 4.034534443194087|    0.0|\n",
      "|4.5814824405418655|    0.0|\n",
      "| 7.388729423036625|    0.0|\n",
      "| 5.483176461717668|    0.0|\n",
      "| 5.090306788112803|    0.0|\n",
      "| 7.272823429603261|    0.0|\n",
      "| 4.132784755511059|    0.0|\n",
      "| 8.359861048882498|    0.0|\n",
      "| 9.131356840002356|    0.0|\n",
      "| 4.845865055447867|    0.0|\n",
      "| 4.183505412654896|    0.0|\n",
      "| 4.257839888642222|    0.0|\n",
      "| 4.467993629506408|    0.0|\n",
      "| 5.039768849657033|    0.0|\n",
      "| 3.869754909879865|    0.0|\n",
      "|  4.68633087467802|    0.0|\n",
      "| 6.169445343973941|    0.0|\n",
      "| 5.911081723137259|    0.0|\n",
      "| 6.782501504962044|   0.36|\n",
      "|  9.40501697896139|   0.43|\n",
      "| 8.775791892220608|   0.47|\n",
      "|3.5604904518129454|   0.55|\n",
      "| 16.38625551884989|   0.61|\n",
      "|  4.91554011884207|   0.71|\n",
      "|4.7312014397926445|   0.77|\n",
      "|16.342456027874096|    0.9|\n",
      "| 4.771843465327485|   0.95|\n",
      "|21.480475728734646|   0.96|\n",
      "|13.248224929769037|   1.07|\n",
      "|31.846148783990692|   1.12|\n",
      "| 6.853094673614071|   1.19|\n",
      "|14.939128464220433|   1.36|\n",
      "| 4.138673727005391|   1.43|\n",
      "| 5.551004825527806|   1.46|\n",
      "|20.980828856649346|   1.46|\n",
      "| 4.978001546999444|   1.56|\n",
      "|14.639985615766182|   1.61|\n",
      "| 6.698509129340251|   1.63|\n",
      "| 4.629765369544802|   1.64|\n",
      "| 7.892709825614431|   1.69|\n",
      "| 4.881772639308544|   1.75|\n",
      "| 7.832340561672827|    1.9|\n",
      "| 6.658139828533194|   1.94|\n",
      "| 15.03025131137502|   1.95|\n",
      "| 6.105604315579753|   2.01|\n",
      "| 5.323039059488358|   2.14|\n",
      "| 4.736641319396764|   2.29|\n",
      "| 6.229828131279259|   2.51|\n",
      "| 8.858091881585777|   2.53|\n",
      "|  8.02633625708341|   2.55|\n",
      "| 7.836648448982957|   2.57|\n",
      "| 6.257618114478765|   2.69|\n",
      "| 8.243866377992495|   2.74|\n",
      "|  7.92424576057527|   3.07|\n",
      "| 4.463016874669122|    3.5|\n",
      "| 4.389817458339001|   4.53|\n",
      "| 6.638938563546987|   4.61|\n",
      "|4.3473010640712735|   4.69|\n",
      "| 6.531508540099966|   4.88|\n",
      "|6.5939792940015165|   5.23|\n",
      "| 7.766532957820957|   5.33|\n",
      "|11.889944594322783|   5.44|\n",
      "|4.3121566123944035|   6.38|\n",
      "|10.146525423704851|   6.83|\n",
      "| 7.352549205308643|   6.96|\n",
      "| 6.314825658361974|   7.04|\n",
      "|  9.84137105385011|   7.19|\n",
      "|11.471784427717019|    7.3|\n",
      "| 4.506075621803854|    7.4|\n",
      "| 5.112925335387221|   8.24|\n",
      "| 6.235319265712153|   8.31|\n",
      "| 6.792758373097805|   8.68|\n",
      "| 5.079725944137031|   8.71|\n",
      "|12.130308435148999|   9.41|\n",
      "| 5.079725944137031|  10.01|\n",
      "| 5.038406648483379|  10.02|\n",
      "| 6.638938563546987|  10.93|\n",
      "|13.228129105908497|  11.06|\n",
      "| 6.383201253228755|  11.24|\n",
      "| 8.411320029787591|  11.32|\n",
      "| 9.726296330665013|  11.53|\n",
      "| 5.474031429899988|   12.1|\n",
      "| 5.011965099016602|  13.05|\n",
      "| 9.205612821814077|   13.7|\n",
      "| 4.963190496322286|  13.99|\n",
      "| 7.912391521986925|  14.57|\n",
      "| 6.176931341965041|  15.45|\n",
      "|10.264344870247704|   17.2|\n",
      "| 8.172714581658479|  19.23|\n",
      "| 16.74723236066555|  23.41|\n",
      "| 7.465543662444702|  24.23|\n",
      "| 9.661609025816848|   26.0|\n",
      "| 6.062304077785748|  26.13|\n",
      "| 7.279570497150075|  27.35|\n",
      "| 6.776901249128503|  28.66|\n",
      "| 6.776901249128503|  28.66|\n",
      "|11.006468655264046|  29.48|\n",
      "| 7.704363472357014|  30.32|\n",
      "|16.695113186353208|  31.72|\n",
      "|14.736810330104587|  31.86|\n",
      "|7.3418275590593405|  32.07|\n",
      "| 8.711352808851094|  35.88|\n",
      "| 6.798397916644685|  36.85|\n",
      "|  22.1764715184804|  37.02|\n",
      "| 7.039614527376063|  37.71|\n",
      "|11.294463622783821|  48.55|\n",
      "|11.053743779983533|  49.37|\n",
      "|17.242644058054577|   58.3|\n",
      "| 35.38076601043051|   64.1|\n",
      "|17.916169918307133|   71.3|\n",
      "|20.508146834234687|  88.49|\n",
      "|30.650819221760365|  95.18|\n",
      "| 9.563712691336466| 103.39|\n",
      "|53.875708618865076| 105.66|\n",
      "|101.15862441952315| 154.88|\n",
      "| 40.24148815961158| 196.48|\n",
      "| 82.29477226519766| 200.94|\n",
      "|61.390337864024175| 212.88|\n",
      "|  626.519214898763|1090.84|\n",
      "| 5.066642615414644|    0.0|\n",
      "| 6.676615024862897|    0.0|\n",
      "| 5.581842830985489|    0.0|\n",
      "|4.3958750573137015|  10.13|\n",
      "|16.927749470945088|    0.0|\n",
      "|6.7204331091851905|   2.87|\n",
      "| 9.889683653673309|   0.76|\n",
      "|11.605742909772006|   0.09|\n",
      "| 3.686420572240493|   0.75|\n",
      "|16.040040451888796|    0.0|\n",
      "| 6.156928527408832|   2.47|\n",
      "|27.095723328376707|   0.68|\n",
      "| 5.737414042876639|   0.24|\n",
      "| 5.279113913736597|   0.21|\n",
      "| 4.782355137280425|   1.52|\n",
      "| 7.447080332306848|  10.34|\n",
      "| 7.813132651099481|    0.0|\n",
      "| 8.045583783375523|   8.02|\n",
      "| 5.952130274713028|   0.68|\n",
      "| 5.032452647180926|    0.0|\n",
      "| 6.579123443308597|   1.38|\n",
      "| 5.852219644794794|   8.85|\n",
      "| 4.749082859121272|    3.3|\n",
      "| 4.317510762096387|   4.25|\n",
      "| 7.283680308144461|   1.56|\n",
      "|  8.47736479337256|   6.54|\n",
      "| 5.751407420336724|   0.79|\n",
      "|5.1176617082202025|   0.17|\n",
      "| 4.226460065995159|    0.0|\n",
      "|  4.53616244737068|    0.0|\n",
      "| 4.679951663766639|    4.4|\n",
      "| 9.623709398283331|   0.52|\n",
      "| 6.904621391318321|   9.27|\n",
      "| 4.612577798901581|   3.09|\n",
      "| 6.836631532387233|   8.98|\n",
      "| 6.844865250312782|  11.19|\n",
      "|6.2912544688025465|   5.38|\n",
      "| 10.55367013046113|  17.85|\n",
      "|  9.44897865510729|  10.73|\n",
      "| 10.55367013046113|  22.03|\n",
      "| 10.55367013046113|   9.77|\n",
      "| 5.954452728115849|   9.27|\n",
      "| 18.61486870182699|  24.77|\n",
      "| 5.866020131849757|    0.0|\n",
      "| 5.187896427810841|    1.1|\n",
      "| 6.928831876883371|  24.24|\n",
      "| 8.239617671188164|    0.0|\n",
      "|29.422486816344925|    0.0|\n",
      "|  5.38857737041943|    0.0|\n",
      "| 6.097426146907306|    0.0|\n",
      "| 5.659433096100779|    0.0|\n",
      "| 4.647088994199573|    0.0|\n",
      "| 58.74645227430518|    8.0|\n",
      "|  5.49401579968304|   2.64|\n",
      "|38.161232487964384|  86.45|\n",
      "| 8.802192682628778|   6.57|\n",
      "|  8.13930966540786|    0.0|\n",
      "| 5.109115497335884|    0.9|\n",
      "|5.3078515660655095|    0.0|\n",
      "|13.561230001141997|    0.0|\n",
      "| 4.594737636215754|    0.0|\n",
      "+------------------+-------+\n",
      "only showing top 300 rows\n",
      "\n"
     ]
    }
   ],
   "source": [
    "predictions = cross_validated_model.transform(spark_df)\n",
    "predictions.select('prediction','area').show(300)"
   ]
  },
  {
   "cell_type": "markdown",
   "metadata": {},
   "source": [
    "Now let's go ahead and take a look at the feature importances of our Random Forest model. In order to do this, we need to unroll our pipeline to access the Random Forest Model. Let's start by first checking out the \"bestModel\" attribute of our cross_validated_model."
   ]
  },
  {
   "cell_type": "code",
   "execution_count": 41,
   "metadata": {
    "slideshow": {
     "slide_type": "slide"
    }
   },
   "outputs": [
    {
     "data": {
      "text/plain": [
       "pyspark.ml.pipeline.PipelineModel"
      ]
     },
     "execution_count": 41,
     "metadata": {},
     "output_type": "execute_result"
    }
   ],
   "source": [
    "type(cross_validated_model.bestModel)"
   ]
  },
  {
   "cell_type": "markdown",
   "metadata": {},
   "source": [
    "`ml` is treating the entire pipeline as the best performing model, so we need to go deeper into the pipeline to access the Random Forest model within it. Previously, we put the Random Forest Model as the final \"stage\" in the stages variable list. Let's look at the stages attribute of the bestModel."
   ]
  },
  {
   "cell_type": "code",
   "execution_count": 42,
   "metadata": {},
   "outputs": [
    {
     "data": {
      "text/plain": [
       "[StringIndexer_da64abb0e0db,\n",
       " OneHotEncoderEstimator_f11ef3ee25de,\n",
       " VectorAssembler_3d4a7fae1bc1,\n",
       " RandomForestRegressionModel (uid=RandomForestRegressor_bbe0ad2fcccd) with 50 trees]"
      ]
     },
     "execution_count": 42,
     "metadata": {},
     "output_type": "execute_result"
    }
   ],
   "source": [
    "cross_validated_model.bestModel.stages"
   ]
  },
  {
   "cell_type": "markdown",
   "metadata": {},
   "source": [
    "Perfect! There's the RandomForestRegressionModel, represented by the last item in the stages list. Now, we should be able to access all the attributes of the Random Forest Regressor."
   ]
  },
  {
   "cell_type": "code",
   "execution_count": 43,
   "metadata": {},
   "outputs": [],
   "source": [
    "optimal_rf_model = cross_validated_model.bestModel.stages[3]"
   ]
  },
  {
   "cell_type": "code",
   "execution_count": 44,
   "metadata": {},
   "outputs": [
    {
     "data": {
      "text/plain": [
       "SparseVector(22, {0: 0.0856, 1: 0.1027, 2: 0.1122, 3: 0.1779, 4: 0.1098, 5: 0.0469, 6: 0.1004, 7: 0.0712, 8: 0.1274, 9: 0.0, 10: 0.0104, 11: 0.0322, 12: 0.0002, 13: 0.0206, 14: 0.0003, 15: 0.0001, 16: 0.0001, 17: 0.0015, 18: 0.0001, 20: 0.0004})"
      ]
     },
     "execution_count": 44,
     "metadata": {},
     "output_type": "execute_result"
    }
   ],
   "source": [
    "optimal_rf_model.featureImportances"
   ]
  },
  {
   "cell_type": "code",
   "execution_count": 45,
   "metadata": {},
   "outputs": [
    {
     "data": {
      "text/plain": [
       "50"
      ]
     },
     "execution_count": 45,
     "metadata": {},
     "output_type": "execute_result"
    }
   ],
   "source": [
    "optimal_rf_model.getNumTrees"
   ]
  },
  {
   "cell_type": "markdown",
   "metadata": {},
   "source": [
    "## Summary\n",
    "\n",
    "In this lesson, you have learned about pyspark's DataFrames, machine learning models, and pipelines. With the use of a pipeline, you can train a huge number of models simultaneously, saving you a substantial amount of time and effort. Up next, you will have a chance to build a pyspark machine learning pipeline of your own with a classification problem!"
   ]
  }
 ],
 "metadata": {
  "kernelspec": {
   "display_name": "Python 3",
   "language": "python",
   "name": "python3"
  },
  "language_info": {
   "codemirror_mode": {
    "name": "ipython",
    "version": 3
   },
   "file_extension": ".py",
   "mimetype": "text/x-python",
   "name": "python",
   "nbconvert_exporter": "python",
   "pygments_lexer": "ipython3",
   "version": "3.7.3"
  }
 },
 "nbformat": 4,
 "nbformat_minor": 2
}
