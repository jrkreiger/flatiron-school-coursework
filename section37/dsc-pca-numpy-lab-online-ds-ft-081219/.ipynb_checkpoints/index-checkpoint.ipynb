{
 "cells": [
  {
   "cell_type": "markdown",
   "metadata": {},
   "source": [
    "# Performing Principal Component Analysis (PCA) - Lab\n",
    "\n",
    "## Introduction\n",
    "\n",
    "Now that you have high level overview of PCA as well as some of the details in the algorithm itself, its time to practice implementing PCA on your own using the NumPy package. \n",
    "\n",
    "## Objectives\n",
    "\n",
    "You will be able to:\n",
    "    \n",
    "* Implement PCA from scratch using NumPy"
   ]
  },
  {
   "cell_type": "markdown",
   "metadata": {},
   "source": [
    "## Import the Data\n",
    "\n",
    "To start, import the data stored in the file 'foodusa.csv'."
   ]
  },
  {
   "cell_type": "code",
   "execution_count": 1,
   "metadata": {
    "ExecuteTime": {
     "end_time": "2019-11-11T20:37:58.002427Z",
     "start_time": "2019-11-11T20:37:56.428774Z"
    }
   },
   "outputs": [
    {
     "data": {
      "text/html": [
       "<div>\n",
       "<style scoped>\n",
       "    .dataframe tbody tr th:only-of-type {\n",
       "        vertical-align: middle;\n",
       "    }\n",
       "\n",
       "    .dataframe tbody tr th {\n",
       "        vertical-align: top;\n",
       "    }\n",
       "\n",
       "    .dataframe thead th {\n",
       "        text-align: right;\n",
       "    }\n",
       "</style>\n",
       "<table border=\"1\" class=\"dataframe\">\n",
       "  <thead>\n",
       "    <tr style=\"text-align: right;\">\n",
       "      <th></th>\n",
       "      <th>City</th>\n",
       "      <th>Bread</th>\n",
       "      <th>Burger</th>\n",
       "      <th>Milk</th>\n",
       "      <th>Oranges</th>\n",
       "      <th>Tomatoes</th>\n",
       "    </tr>\n",
       "  </thead>\n",
       "  <tbody>\n",
       "    <tr>\n",
       "      <td>0</td>\n",
       "      <td>ATLANTA</td>\n",
       "      <td>24.5</td>\n",
       "      <td>94.5</td>\n",
       "      <td>73.9</td>\n",
       "      <td>80.1</td>\n",
       "      <td>41.6</td>\n",
       "    </tr>\n",
       "    <tr>\n",
       "      <td>1</td>\n",
       "      <td>BALTIMORE</td>\n",
       "      <td>26.5</td>\n",
       "      <td>91.0</td>\n",
       "      <td>67.5</td>\n",
       "      <td>74.6</td>\n",
       "      <td>53.3</td>\n",
       "    </tr>\n",
       "    <tr>\n",
       "      <td>2</td>\n",
       "      <td>BOSTON</td>\n",
       "      <td>29.7</td>\n",
       "      <td>100.8</td>\n",
       "      <td>61.4</td>\n",
       "      <td>104.0</td>\n",
       "      <td>59.6</td>\n",
       "    </tr>\n",
       "    <tr>\n",
       "      <td>3</td>\n",
       "      <td>BUFFALO</td>\n",
       "      <td>22.8</td>\n",
       "      <td>86.6</td>\n",
       "      <td>65.3</td>\n",
       "      <td>118.4</td>\n",
       "      <td>51.2</td>\n",
       "    </tr>\n",
       "    <tr>\n",
       "      <td>4</td>\n",
       "      <td>CHICAGO</td>\n",
       "      <td>26.7</td>\n",
       "      <td>86.7</td>\n",
       "      <td>62.7</td>\n",
       "      <td>105.9</td>\n",
       "      <td>51.2</td>\n",
       "    </tr>\n",
       "  </tbody>\n",
       "</table>\n",
       "</div>"
      ],
      "text/plain": [
       "        City  Bread  Burger  Milk  Oranges  Tomatoes\n",
       "0    ATLANTA   24.5    94.5  73.9     80.1      41.6\n",
       "1  BALTIMORE   26.5    91.0  67.5     74.6      53.3\n",
       "2     BOSTON   29.7   100.8  61.4    104.0      59.6\n",
       "3    BUFFALO   22.8    86.6  65.3    118.4      51.2\n",
       "4    CHICAGO   26.7    86.7  62.7    105.9      51.2"
      ]
     },
     "execution_count": 1,
     "metadata": {},
     "output_type": "execute_result"
    }
   ],
   "source": [
    "import numpy as np\n",
    "import pandas as pd\n",
    "\n",
    "df = pd.read_csv('foodusa.csv')\n",
    "df.head()"
   ]
  },
  {
   "cell_type": "markdown",
   "metadata": {},
   "source": [
    "## Normalize the Data\n",
    "\n",
    "Next, normalize your data by subtracting the feature mean from each of the columns"
   ]
  },
  {
   "cell_type": "code",
   "execution_count": 7,
   "metadata": {
    "ExecuteTime": {
     "end_time": "2019-11-11T20:40:00.012879Z",
     "start_time": "2019-11-11T20:40:00.006392Z"
    }
   },
   "outputs": [],
   "source": [
    "df_2 = df.drop('City', axis=1)"
   ]
  },
  {
   "cell_type": "code",
   "execution_count": 10,
   "metadata": {
    "ExecuteTime": {
     "end_time": "2019-11-11T20:40:31.038665Z",
     "start_time": "2019-11-11T20:40:30.982423Z"
    }
   },
   "outputs": [
    {
     "data": {
      "text/html": [
       "<div>\n",
       "<style scoped>\n",
       "    .dataframe tbody tr th:only-of-type {\n",
       "        vertical-align: middle;\n",
       "    }\n",
       "\n",
       "    .dataframe tbody tr th {\n",
       "        vertical-align: top;\n",
       "    }\n",
       "\n",
       "    .dataframe thead th {\n",
       "        text-align: right;\n",
       "    }\n",
       "</style>\n",
       "<table border=\"1\" class=\"dataframe\">\n",
       "  <thead>\n",
       "    <tr style=\"text-align: right;\">\n",
       "      <th></th>\n",
       "      <th>Bread</th>\n",
       "      <th>Burger</th>\n",
       "      <th>Milk</th>\n",
       "      <th>Oranges</th>\n",
       "      <th>Tomatoes</th>\n",
       "    </tr>\n",
       "  </thead>\n",
       "  <tbody>\n",
       "    <tr>\n",
       "      <td>count</td>\n",
       "      <td>2.300000e+01</td>\n",
       "      <td>2.300000e+01</td>\n",
       "      <td>2.300000e+01</td>\n",
       "      <td>2.300000e+01</td>\n",
       "      <td>2.300000e+01</td>\n",
       "    </tr>\n",
       "    <tr>\n",
       "      <td>mean</td>\n",
       "      <td>-9.267949e-16</td>\n",
       "      <td>-8.032222e-15</td>\n",
       "      <td>2.780385e-15</td>\n",
       "      <td>1.235726e-14</td>\n",
       "      <td>-5.869701e-15</td>\n",
       "    </tr>\n",
       "    <tr>\n",
       "      <td>std</td>\n",
       "      <td>2.506884e+00</td>\n",
       "      <td>7.554940e+00</td>\n",
       "      <td>6.950244e+00</td>\n",
       "      <td>1.423925e+01</td>\n",
       "      <td>7.602668e+00</td>\n",
       "    </tr>\n",
       "    <tr>\n",
       "      <td>min</td>\n",
       "      <td>-4.991304e+00</td>\n",
       "      <td>-1.415652e+01</td>\n",
       "      <td>-1.079565e+01</td>\n",
       "      <td>-2.839130e+01</td>\n",
       "      <td>-1.336522e+01</td>\n",
       "    </tr>\n",
       "    <tr>\n",
       "      <td>25%</td>\n",
       "      <td>-1.591304e+00</td>\n",
       "      <td>-4.956522e+00</td>\n",
       "      <td>-4.645652e+00</td>\n",
       "      <td>-7.591304e+00</td>\n",
       "      <td>-5.965217e+00</td>\n",
       "    </tr>\n",
       "    <tr>\n",
       "      <td>50%</td>\n",
       "      <td>8.695652e-03</td>\n",
       "      <td>-8.565217e-01</td>\n",
       "      <td>2.043478e-01</td>\n",
       "      <td>2.908696e+00</td>\n",
       "      <td>-1.965217e+00</td>\n",
       "    </tr>\n",
       "    <tr>\n",
       "      <td>75%</td>\n",
       "      <td>1.208696e+00</td>\n",
       "      <td>2.293478e+00</td>\n",
       "      <td>3.704348e+00</td>\n",
       "      <td>8.358696e+00</td>\n",
       "      <td>4.084783e+00</td>\n",
       "    </tr>\n",
       "    <tr>\n",
       "      <td>max</td>\n",
       "      <td>5.508696e+00</td>\n",
       "      <td>1.884348e+01</td>\n",
       "      <td>1.790435e+01</td>\n",
       "      <td>3.020870e+01</td>\n",
       "      <td>1.383478e+01</td>\n",
       "    </tr>\n",
       "  </tbody>\n",
       "</table>\n",
       "</div>"
      ],
      "text/plain": [
       "              Bread        Burger          Milk       Oranges      Tomatoes\n",
       "count  2.300000e+01  2.300000e+01  2.300000e+01  2.300000e+01  2.300000e+01\n",
       "mean  -9.267949e-16 -8.032222e-15  2.780385e-15  1.235726e-14 -5.869701e-15\n",
       "std    2.506884e+00  7.554940e+00  6.950244e+00  1.423925e+01  7.602668e+00\n",
       "min   -4.991304e+00 -1.415652e+01 -1.079565e+01 -2.839130e+01 -1.336522e+01\n",
       "25%   -1.591304e+00 -4.956522e+00 -4.645652e+00 -7.591304e+00 -5.965217e+00\n",
       "50%    8.695652e-03 -8.565217e-01  2.043478e-01  2.908696e+00 -1.965217e+00\n",
       "75%    1.208696e+00  2.293478e+00  3.704348e+00  8.358696e+00  4.084783e+00\n",
       "max    5.508696e+00  1.884348e+01  1.790435e+01  3.020870e+01  1.383478e+01"
      ]
     },
     "execution_count": 10,
     "metadata": {},
     "output_type": "execute_result"
    }
   ],
   "source": [
    "df2_mean = df_2.mean()\n",
    "\n",
    "mean_df2 = df_2 - df2_mean\n",
    "mean_df2.describe()"
   ]
  },
  {
   "cell_type": "markdown",
   "metadata": {},
   "source": [
    "## Calculate the Covariance Matrix\n",
    "\n",
    "The next step for PCA is to calculate to covariance matrix for your normalized data. Do so here."
   ]
  },
  {
   "cell_type": "code",
   "execution_count": 13,
   "metadata": {
    "ExecuteTime": {
     "end_time": "2019-11-11T20:41:57.750061Z",
     "start_time": "2019-11-11T20:41:57.738150Z"
    }
   },
   "outputs": [
    {
     "data": {
      "text/plain": [
       "array([[  6.2844664 ,  12.91096838,   5.71905138,   1.31037549,\n",
       "          7.28513834],\n",
       "       [ 12.91096838,  57.07711462,  17.50752964,  22.69187747,\n",
       "         36.29478261],\n",
       "       [  5.71905138,  17.50752964,  48.30588933,  -0.27503953,\n",
       "         13.44347826],\n",
       "       [  1.31037549,  22.69187747,  -0.27503953, 202.75628458,\n",
       "         38.76241107],\n",
       "       [  7.28513834,  36.29478261,  13.44347826,  38.76241107,\n",
       "         57.80055336]])"
      ]
     },
     "execution_count": 13,
     "metadata": {},
     "output_type": "execute_result"
    }
   ],
   "source": [
    "feature_cov = np.cov([mean_df2.Bread, mean_df2.Burger, mean_df2.Milk, \n",
    "                      mean_df2.Oranges, mean_df2.Tomatoes])\n",
    "feature_cov"
   ]
  },
  {
   "cell_type": "markdown",
   "metadata": {},
   "source": [
    "## Calculate the Eigenvectors\n",
    "\n",
    "Next, calculate the eigenvectors for your covariance matrix."
   ]
  },
  {
   "cell_type": "code",
   "execution_count": 14,
   "metadata": {
    "ExecuteTime": {
     "end_time": "2019-11-11T20:42:27.449076Z",
     "start_time": "2019-11-11T20:42:27.400563Z"
    }
   },
   "outputs": [
    {
     "name": "stdout",
     "output_type": "stream",
     "text": [
      "[218.99867893  91.72316894   3.02922934  20.81054128  37.66268981]\n",
      "[[-0.02848905 -0.16532108 -0.96716354 -0.18972574  0.02135748]\n",
      " [-0.2001224  -0.63218494  0.24877074 -0.65862454  0.25420475]\n",
      " [-0.0416723  -0.44215032  0.03606094  0.10765906 -0.88874949]\n",
      " [-0.93885906  0.31435473 -0.01521357 -0.06904699 -0.12135003]\n",
      " [-0.27558389 -0.52791603 -0.03429221  0.71684022  0.36100184]]\n"
     ]
    }
   ],
   "source": [
    "eig_val, eig_vec = np.linalg.eig(feature_cov)\n",
    "print(eig_val)\n",
    "print(eig_vec)"
   ]
  },
  {
   "cell_type": "markdown",
   "metadata": {},
   "source": [
    "## Sorting the Eigenvectors to Determine Primary Components\n",
    "\n",
    "Great! Now that you have the eigenvectors and their associated eigenvalues, sort the eigenvectors based on their eigenvalues!"
   ]
  },
  {
   "cell_type": "code",
   "execution_count": 15,
   "metadata": {
    "ExecuteTime": {
     "end_time": "2019-11-11T20:43:15.906315Z",
     "start_time": "2019-11-11T20:43:15.896884Z"
    }
   },
   "outputs": [
    {
     "data": {
      "text/plain": [
       "array([[-0.02848905, -0.16532108,  0.02135748, -0.18972574, -0.96716354],\n",
       "       [-0.2001224 , -0.63218494,  0.25420475, -0.65862454,  0.24877074],\n",
       "       [-0.0416723 , -0.44215032, -0.88874949,  0.10765906,  0.03606094],\n",
       "       [-0.93885906,  0.31435473, -0.12135003, -0.06904699, -0.01521357],\n",
       "       [-0.27558389, -0.52791603,  0.36100184,  0.71684022, -0.03429221]])"
      ]
     },
     "execution_count": 15,
     "metadata": {},
     "output_type": "execute_result"
    }
   ],
   "source": [
    "eig_indices = np.argsort(eig_val)[::-1]\n",
    "eigvec_sort = eig_vec[:, eig_indices]\n",
    "eigvec_sort"
   ]
  },
  {
   "cell_type": "markdown",
   "metadata": {},
   "source": [
    "## Reprojecting the Data\n",
    "\n",
    "Finally, reproject the dataset using your eigenvectors. Reproject the dataset down to 2 dimensions."
   ]
  },
  {
   "cell_type": "code",
   "execution_count": 16,
   "metadata": {
    "ExecuteTime": {
     "end_time": "2019-11-11T20:44:54.971906Z",
     "start_time": "2019-11-11T20:44:54.958885Z"
    }
   },
   "outputs": [
    {
     "data": {
      "text/plain": [
       "array([[ 11.10636706,  14.73134932, -14.17203836,   1.85530932,\n",
       "        -13.15196933],\n",
       "       [  1.21900301,  21.44989411,  -7.19007196,  -0.14425049,\n",
       "        -18.50968283],\n",
       "       [-12.29365615,  -4.73286484,  -2.84276415,  -1.4535148 ,\n",
       "         -5.90817824],\n",
       "       [ -4.27410508,  -4.95746329,   1.5045649 ,  -0.77897224,\n",
       "         15.50821919],\n",
       "       [ -2.08570219,   1.77071529,   2.26283823,  -3.2304897 ,\n",
       "          4.48154292]])"
      ]
     },
     "execution_count": 16,
     "metadata": {},
     "output_type": "execute_result"
    }
   ],
   "source": [
    "new_data = eigvec_sort.dot(mean_df2.T).T\n",
    "new_data[:5]"
   ]
  },
  {
   "cell_type": "markdown",
   "metadata": {},
   "source": [
    "## Summary\n",
    "\n",
    "Well done! You've now coded PCA on your own using NumPy! With that, it's time to look at further application of PCA."
   ]
  }
 ],
 "metadata": {
  "kernelspec": {
   "display_name": "Python 3",
   "language": "python",
   "name": "python3"
  },
  "language_info": {
   "codemirror_mode": {
    "name": "ipython",
    "version": 3
   },
   "file_extension": ".py",
   "mimetype": "text/x-python",
   "name": "python",
   "nbconvert_exporter": "python",
   "pygments_lexer": "ipython3",
   "version": "3.6.6"
  },
  "toc": {
   "base_numbering": 1,
   "nav_menu": {},
   "number_sections": true,
   "sideBar": true,
   "skip_h1_title": false,
   "title_cell": "Table of Contents",
   "title_sidebar": "Contents",
   "toc_cell": false,
   "toc_position": {},
   "toc_section_display": true,
   "toc_window_display": false
  }
 },
 "nbformat": 4,
 "nbformat_minor": 2
}
