{
 "cells": [
  {
   "cell_type": "markdown",
   "metadata": {},
   "source": [
    "# Inheritance - Lab\n",
    "\n",
    "## Introduction\n",
    "\n",
    "In this lab, you'll use what you've learned about inheritance to model a zoo using superclasses, subclasses, and maybe even an abstract superclass!\n",
    "\n",
    "## Objectives\n",
    "\n",
    "You will be able to:\n",
    "\n",
    "* Use inheritance to write D.R.Y. code\n",
    "* Understand the relationship between subclasses and superclasses\n",
    "* Create Object-Oriented data models that describe the real world with classes and subclasses\n",
    "\n",
    "## Modeling a Zoo\n",
    "\n",
    "Consider the following scenario:  You've been hired by a zookeeper to build a program that keeps track of all the animals in the zoo.  This is a great opportunity to make use of Inheritance and Object-Oriented Programming!\n",
    "\n",
    "## Creating an Abstract Superclass\n",
    "\n",
    "Start by creating an abstract superclass, `Animal`.  When our program is complete, all subclasses of `Animal` will have the following attributes:\n",
    "\n",
    "* `name`, which is a string set at instantation time\n",
    "* `size`, which can be `'small'`, `'medium'`, `'large'`, or `'enormous'`.\n",
    "* `weight`, which is an integer set at instantiation time.\n",
    "* `species`, a string that tells us the species of the animal\n",
    "* `food_type`, which can be `'herbivore'`, `'carnivore'`, or `'omnivore'`\n",
    "* `nocturnal`, a boolean value that is `True` if the animal sleeps during the day, otherwise `False`\n",
    "\n",
    "They'll also have the following behaviors:\n",
    "\n",
    "* `sleep`, which prints a string saying if the animal sleeps during day or night\n",
    "* `eat`, which takes in the string `plants` or `meat`, and returns `'{animal name} the {animal species} thinks {food} is yummy!'` or `'I don't eat this!'` based on the animal's `food_type` attribute. \n",
    "\n",
    "In the cell below, create an abstract superclass that meets these specifications.\n",
    "\n",
    "**_NOTE:_** For some attributes in an abstract superclass such as `size`, the initial value doesn't matter--just make sure that you remember to override it in each of the subclasses!"
   ]
  },
  {
   "cell_type": "code",
   "execution_count": 1,
   "metadata": {
    "ExecuteTime": {
     "end_time": "2019-09-06T23:42:04.590510Z",
     "start_time": "2019-09-06T23:42:04.582802Z"
    }
   },
   "outputs": [],
   "source": [
    "class Animal(object):\n",
    "    def __init__(self, name, weight):\n",
    "        self.name = name\n",
    "        self.size = None\n",
    "        self.weight = weight\n",
    "        self.species = None\n",
    "        self.food_type = None\n",
    "        self.nocturnal = False\n",
    "    \n",
    "    def sleep(self):\n",
    "        if self.nocturnal:\n",
    "            print(\"{} sleeps during the day.\".format(self.name))\n",
    "        else:\n",
    "            print(\"{} sleeps at night.\".format(self.name))\n",
    "    \n",
    "    def eat(self, food):\n",
    "        if self.food_type == 'omnivore':\n",
    "            print(\"{} the {} thinks {} is yummy!\".format(self.name, self.species, food))\n",
    "        elif (food == 'plants' and self.food_type == 'herbivore') or (food == 'meat' and self.food_type == 'carnivore'):\n",
    "            print(\"{} the {} thinks {} is yummy!\".format(self.name, self.species, food))\n",
    "        else:\n",
    "            print(\"I don't eat this!\")\n"
   ]
  },
  {
   "cell_type": "markdown",
   "metadata": {},
   "source": [
    "Great! Now that you have our Abstract Superclass, you can begin building out the specific animal classes.\n",
    "\n",
    "In the cell below, complete the `Elephant` class.  This class should:\n",
    "\n",
    "* Subclass `Animal`\n",
    "* Have a species of `'elephant'`\n",
    "* Have a size of `'enormous'`\n",
    "* Have a food type of `'herbivore'`\n",
    "* Set nocturnal to `False`\n",
    "\n",
    "**_Hint:_** Remember to make use of the `super()` object during initialization, and be sure to pass in the values it expects at instantiation time!"
   ]
  },
  {
   "cell_type": "code",
   "execution_count": 2,
   "metadata": {
    "ExecuteTime": {
     "end_time": "2019-09-06T23:42:13.389678Z",
     "start_time": "2019-09-06T23:42:13.383272Z"
    }
   },
   "outputs": [],
   "source": [
    "class Elephant(Animal):\n",
    "    def __init__(self, name, weight):\n",
    "        super().__init__(name, weight)\n",
    "        self.species = 'elephant'\n",
    "        self.size = 'enormous'\n",
    "        self.food_type = 'herbivore'\n",
    "        self.nocturnal = False"
   ]
  },
  {
   "cell_type": "markdown",
   "metadata": {},
   "source": [
    "Great! Now, in the cell below, create a `Tiger` class.  This class should:\n",
    "\n",
    "* Subclass `Animal`\n",
    "* Have a species of `'tiger'`\n",
    "* Have a size of `'large'`\n",
    "* Have a food type of `'carnivore'`\n",
    "* Set nocturnal to `True`"
   ]
  },
  {
   "cell_type": "code",
   "execution_count": 3,
   "metadata": {
    "ExecuteTime": {
     "end_time": "2019-09-06T23:42:14.350788Z",
     "start_time": "2019-09-06T23:42:14.342968Z"
    }
   },
   "outputs": [],
   "source": [
    "class Tiger(Animal):\n",
    "    def __init__(self, name, weight):\n",
    "        super().__init__(name, weight)\n",
    "        self.species = 'tiger'\n",
    "        self.size = 'large'\n",
    "        self.food_type = 'carnivore'\n",
    "        self.nocturnal = True"
   ]
  },
  {
   "cell_type": "markdown",
   "metadata": {},
   "source": [
    "Great! 2 More classes to go. In the cell below, create a `Raccoon` class.  This class should:\n",
    "\n",
    "* Subclass `Animal`\n",
    "* Have a species of `raccoon`\n",
    "* Have a size of `'small'`\n",
    "* Have a food type of `'omnivore'`\n",
    "* Set nocturnal to `True`"
   ]
  },
  {
   "cell_type": "code",
   "execution_count": 4,
   "metadata": {
    "ExecuteTime": {
     "end_time": "2019-09-06T23:42:15.035808Z",
     "start_time": "2019-09-06T23:42:15.030313Z"
    }
   },
   "outputs": [],
   "source": [
    "class Raccoon(Animal):\n",
    "    def __init__(self, name, weight):\n",
    "        super().__init__(name, weight)\n",
    "        self.species = 'raccoon'\n",
    "        self.size = 'small'\n",
    "        self.food_type = 'omnivore'\n",
    "        self.nocturnal = True"
   ]
  },
  {
   "cell_type": "markdown",
   "metadata": {},
   "source": [
    "Finally, create a `Gorilla` class.  This class should:\n",
    "\n",
    "* Subclass `Animal`\n",
    "* Have a species of `gorilla`\n",
    "* Have a size of `'Large'`\n",
    "* Have a food type of `'herbivore'`\n",
    "* Set nocturnal to `False`"
   ]
  },
  {
   "cell_type": "code",
   "execution_count": 5,
   "metadata": {
    "ExecuteTime": {
     "end_time": "2019-09-06T23:42:15.759199Z",
     "start_time": "2019-09-06T23:42:15.755251Z"
    }
   },
   "outputs": [],
   "source": [
    "class Gorilla(Animal):\n",
    "    def __init__(self, name, weight):\n",
    "        super().__init__(name, weight)\n",
    "        self.species = 'gorilla'\n",
    "        self.size = 'large'\n",
    "        self.food_type = 'herbivore'\n",
    "        self.nocturnal = False"
   ]
  },
  {
   "cell_type": "markdown",
   "metadata": {},
   "source": [
    "## Using Our Objects\n",
    "\n",
    "Now it's time to populate the zoo! To ease the creation of animal instances, create a function `add_animal_to_zoo`.\n",
    "\n",
    "This function should take in the following parameters:\n",
    "\n",
    "* `zoo`, an array representing the current state of the zoo\n",
    "* `animal_type`, a string.  Can be `'Gorilla'`, `'Raccoon'`, `'Tiger'`, or `'Elephant'`.\n",
    "* `name`, the name of the animal being created\n",
    "* `weight`, the weight of the animal being created\n",
    "\n",
    "The function should then:\n",
    "\n",
    "* use `animal_type` to determine which object to create\n",
    "* Create an instance of that animal, passing in the `name` and `weight`\n",
    "* Append the newly created animal to `zoo`\n",
    "* Return `zoo`"
   ]
  },
  {
   "cell_type": "code",
   "execution_count": 6,
   "metadata": {
    "ExecuteTime": {
     "end_time": "2019-09-06T23:42:16.886824Z",
     "start_time": "2019-09-06T23:42:16.879630Z"
    }
   },
   "outputs": [],
   "source": [
    "def add_animal_to_zoo(zoo, animal_type, name, weight):\n",
    "    if animal_type == 'Gorilla':\n",
    "        new_animal = Gorilla(name, weight)\n",
    "    elif animal_type == 'Raccoon':\n",
    "        new_animal = Raccoon(name, weight)\n",
    "    elif animal_type == 'Tiger':\n",
    "        new_animal = Tiger(name, weight)\n",
    "    else:\n",
    "        new_animal = Elephant(name, weight)\n",
    "    zoo.append(new_animal)\n",
    "    return zoo\n",
    "\n",
    "    "
   ]
  },
  {
   "cell_type": "markdown",
   "metadata": {},
   "source": [
    "Great! Now, add some animals to your zoo. \n",
    "\n",
    "Create the following animals and add them to your zoo.  The names and weights are up to you.\n",
    "\n",
    "* 2 Elephants\n",
    "* 2 Raccons\n",
    "* 1 Gorilla\n",
    "* 3 Tigers"
   ]
  },
  {
   "cell_type": "code",
   "execution_count": 7,
   "metadata": {
    "ExecuteTime": {
     "end_time": "2019-09-06T23:42:18.160925Z",
     "start_time": "2019-09-06T23:42:18.143604Z"
    }
   },
   "outputs": [
    {
     "data": {
      "text/plain": [
       "[<__main__.Elephant at 0x10a0f82e8>,\n",
       " <__main__.Elephant at 0x10a0f8390>,\n",
       " <__main__.Raccoon at 0x10a0f8400>,\n",
       " <__main__.Raccoon at 0x10a0f8438>,\n",
       " <__main__.Gorilla at 0x10a0f8470>,\n",
       " <__main__.Tiger at 0x10a0f84a8>,\n",
       " <__main__.Tiger at 0x10a0f84e0>,\n",
       " <__main__.Tiger at 0x10a0f8518>]"
      ]
     },
     "execution_count": 7,
     "metadata": {},
     "output_type": "execute_result"
    }
   ],
   "source": [
    "# Create your animals and add them to the 'zoo' in this cell!\n",
    "zoo = []\n",
    "add_animal_to_zoo(zoo, 'Elephant', 'Larry', 2000)\n",
    "add_animal_to_zoo(zoo, 'Elephant', 'Jerry', 2000)\n",
    "add_animal_to_zoo(zoo, 'Raccoon', 'Moe', 5)\n",
    "add_animal_to_zoo(zoo, 'Raccoon', 'Curly', 5)\n",
    "add_animal_to_zoo(zoo, 'Gorilla', 'Sandra', 550)\n",
    "add_animal_to_zoo(zoo, 'Tiger', 'Lilith', 750)\n",
    "add_animal_to_zoo(zoo, 'Tiger', 'Elspeth', 750)\n",
    "add_animal_to_zoo(zoo, 'Tiger', 'Macbeth', 750)"
   ]
  },
  {
   "cell_type": "markdown",
   "metadata": {},
   "source": [
    "Great! Now that you have a populated zoo, you can do what the zookeeper hired you to do--write a program that feeds the correct animals the right food at the right times!\n",
    "\n",
    "To do this, write a function called `feed_animals`.  This function should take in two arguments:\n",
    "\n",
    "* `zoo`, the zoo array containing all the animals\n",
    "* `time`, which can be `'Day'` or `'Night'`.  This should default to day if nothing is entered for `time`.\n",
    "\n",
    "This function should:\n",
    "\n",
    "* Feed only the non-nocturnal animals if `time='Day'`, or only the nocturnal animals if `time='Night'`\n",
    "* Check the food type of each animal before feeding.  If the animal is a carnivore, feed it `meat`; otherwise, feed it `plants`. Feed the animals by using their `.eat()` method."
   ]
  },
  {
   "cell_type": "code",
   "execution_count": 8,
   "metadata": {
    "ExecuteTime": {
     "end_time": "2019-09-06T23:42:22.886738Z",
     "start_time": "2019-09-06T23:42:22.879495Z"
    }
   },
   "outputs": [],
   "source": [
    "def feed_animals(zoo, time='Day'):\n",
    "    for animal in zoo:\n",
    "        if time == 'Day':\n",
    "            if animal.nocturnal == False:\n",
    "                if animal.food_type == 'carnivore':\n",
    "                    animal.eat('meat')\n",
    "                else:\n",
    "                    animal.eat('plants')\n",
    "        else:\n",
    "            if animal.nocturnal == True:\n",
    "                if animal.food_type == 'carnivore':\n",
    "                    animal.eat('meat')\n",
    "                else:\n",
    "                    animal.eat('plants')"
   ]
  },
  {
   "cell_type": "markdown",
   "metadata": {},
   "source": [
    "Now, test out your program.  Call the function for a daytime feeding below."
   ]
  },
  {
   "cell_type": "code",
   "execution_count": 9,
   "metadata": {
    "ExecuteTime": {
     "end_time": "2019-09-06T23:42:29.147209Z",
     "start_time": "2019-09-06T23:42:29.138534Z"
    }
   },
   "outputs": [
    {
     "name": "stdout",
     "output_type": "stream",
     "text": [
      "Larry the elephant thinks plants is yummy!\n",
      "Jerry the elephant thinks plants is yummy!\n",
      "Sandra the gorilla thinks plants is yummy!\n"
     ]
    }
   ],
   "source": [
    "feed_animals(zoo)"
   ]
  },
  {
   "cell_type": "markdown",
   "metadata": {},
   "source": [
    "If the elephants and gorrillas were fed then things should be good!\n",
    "\n",
    "In the cell below, call `feed_animals` again, but this time set `time='Night'`"
   ]
  },
  {
   "cell_type": "code",
   "execution_count": 10,
   "metadata": {
    "ExecuteTime": {
     "end_time": "2019-09-06T23:43:14.168963Z",
     "start_time": "2019-09-06T23:43:14.162290Z"
    }
   },
   "outputs": [
    {
     "name": "stdout",
     "output_type": "stream",
     "text": [
      "Moe the raccoon thinks plants is yummy!\n",
      "Curly the raccoon thinks plants is yummy!\n",
      "Lilith the tiger thinks meat is yummy!\n",
      "Elspeth the tiger thinks meat is yummy!\n",
      "Macbeth the tiger thinks meat is yummy!\n"
     ]
    }
   ],
   "source": [
    "feed_animals(zoo, time='Night')"
   ]
  },
  {
   "cell_type": "markdown",
   "metadata": {},
   "source": [
    "Thats it! You've used OOP and inheritance to build a working function to help the zookeeper feed his animals the right food at the correct times!\n",
    "\n",
    "## Summary\n",
    "\n",
    "In this lab, you learned how to:\n",
    "\n",
    "* Use inheritance to to write D.R.Y. code\n",
    "* Understand the relationship between subclasses and superclasses\n",
    "* Create Object-Oriented data models that describe the real world with classes and subclasses"
   ]
  }
 ],
 "metadata": {
  "kernelspec": {
   "display_name": "learn-env",
   "language": "python",
   "name": "learn-env"
  },
  "language_info": {
   "codemirror_mode": {
    "name": "ipython",
    "version": 3
   },
   "file_extension": ".py",
   "mimetype": "text/x-python",
   "name": "python",
   "nbconvert_exporter": "python",
   "pygments_lexer": "ipython3",
   "version": "3.6.6"
  },
  "toc": {
   "base_numbering": 1,
   "nav_menu": {},
   "number_sections": true,
   "sideBar": true,
   "skip_h1_title": false,
   "title_cell": "Table of Contents",
   "title_sidebar": "Contents",
   "toc_cell": false,
   "toc_position": {},
   "toc_section_display": true,
   "toc_window_display": false
  }
 },
 "nbformat": 4,
 "nbformat_minor": 2
}
