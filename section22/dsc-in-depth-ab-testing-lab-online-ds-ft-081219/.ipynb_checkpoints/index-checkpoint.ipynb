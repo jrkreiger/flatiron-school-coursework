{
 "cells": [
  {
   "cell_type": "markdown",
   "metadata": {},
   "source": [
    "# In Depth A/B Testing - Lab\n",
    "\n",
    "## Introduction\n",
    "\n",
    "In this lab, you'll explore a survey from Kaggle regarding budding data scientists. With this, you'll form some initial hypotheses, and test them using the tools you've acquired to date. \n",
    "\n",
    "## Objectives\n",
    "\n",
    "You will be able to:\n",
    "* Conduct statistical tests on a real-world dataset"
   ]
  },
  {
   "cell_type": "markdown",
   "metadata": {},
   "source": [
    "## Load the Dataset and Perform a Brief Exploration\n",
    "\n",
    "The data is stored in a file called **multipleChoiceResponses_cleaned.csv**. Feel free to check out the original dataset referenced at the bottom of this lab, although this cleaned version will undoubtedly be easier to work with. Additionally, meta-data regarding the questions is stored in a file name **schema.csv**. Load in the data itself as a Pandas DataFrame, and take a moment to briefly get acquainted with it.\n",
    "\n",
    "> Note: If you can't get the file to load properly, try changing the encoding format as in `encoding='latin1'`"
   ]
  },
  {
   "cell_type": "code",
   "execution_count": 1,
   "metadata": {
    "ExecuteTime": {
     "end_time": "2019-10-01T16:14:23.117715Z",
     "start_time": "2019-10-01T16:14:22.094145Z"
    }
   },
   "outputs": [],
   "source": [
    "#Your code here\n",
    "import pandas as pd\n",
    "import numpy as np\n",
    "import matplotlib.pyplot as plt\n",
    "import seaborn as sns\n",
    "%matplotlib inline\n",
    "sns.set_style('darkgrid')\n",
    "\n",
    "import warnings\n",
    "warnings.filterwarnings(\"ignore\")"
   ]
  },
  {
   "cell_type": "code",
   "execution_count": 2,
   "metadata": {
    "ExecuteTime": {
     "end_time": "2019-10-01T16:14:24.269710Z",
     "start_time": "2019-10-01T16:14:23.120874Z"
    }
   },
   "outputs": [
    {
     "data": {
      "text/html": [
       "<div>\n",
       "<style scoped>\n",
       "    .dataframe tbody tr th:only-of-type {\n",
       "        vertical-align: middle;\n",
       "    }\n",
       "\n",
       "    .dataframe tbody tr th {\n",
       "        vertical-align: top;\n",
       "    }\n",
       "\n",
       "    .dataframe thead th {\n",
       "        text-align: right;\n",
       "    }\n",
       "</style>\n",
       "<table border=\"1\" class=\"dataframe\">\n",
       "  <thead>\n",
       "    <tr style=\"text-align: right;\">\n",
       "      <th></th>\n",
       "      <th>GenderSelect</th>\n",
       "      <th>Country</th>\n",
       "      <th>Age</th>\n",
       "      <th>EmploymentStatus</th>\n",
       "      <th>StudentStatus</th>\n",
       "      <th>LearningDataScience</th>\n",
       "      <th>CodeWriter</th>\n",
       "      <th>CareerSwitcher</th>\n",
       "      <th>CurrentJobTitleSelect</th>\n",
       "      <th>TitleFit</th>\n",
       "      <th>...</th>\n",
       "      <th>JobFactorTitle</th>\n",
       "      <th>JobFactorCompanyFunding</th>\n",
       "      <th>JobFactorImpact</th>\n",
       "      <th>JobFactorRemote</th>\n",
       "      <th>JobFactorIndustry</th>\n",
       "      <th>JobFactorLeaderReputation</th>\n",
       "      <th>JobFactorDiversity</th>\n",
       "      <th>JobFactorPublishingOpportunity</th>\n",
       "      <th>exchangeRate</th>\n",
       "      <th>AdjustedCompensation</th>\n",
       "    </tr>\n",
       "  </thead>\n",
       "  <tbody>\n",
       "    <tr>\n",
       "      <th>0</th>\n",
       "      <td>Non-binary, genderqueer, or gender non-conforming</td>\n",
       "      <td>NaN</td>\n",
       "      <td>NaN</td>\n",
       "      <td>Employed full-time</td>\n",
       "      <td>NaN</td>\n",
       "      <td>NaN</td>\n",
       "      <td>Yes</td>\n",
       "      <td>NaN</td>\n",
       "      <td>DBA/Database Engineer</td>\n",
       "      <td>Fine</td>\n",
       "      <td>...</td>\n",
       "      <td>NaN</td>\n",
       "      <td>NaN</td>\n",
       "      <td>NaN</td>\n",
       "      <td>NaN</td>\n",
       "      <td>NaN</td>\n",
       "      <td>NaN</td>\n",
       "      <td>NaN</td>\n",
       "      <td>NaN</td>\n",
       "      <td>NaN</td>\n",
       "      <td>NaN</td>\n",
       "    </tr>\n",
       "    <tr>\n",
       "      <th>1</th>\n",
       "      <td>Female</td>\n",
       "      <td>United States</td>\n",
       "      <td>30.0</td>\n",
       "      <td>Not employed, but looking for work</td>\n",
       "      <td>NaN</td>\n",
       "      <td>NaN</td>\n",
       "      <td>NaN</td>\n",
       "      <td>NaN</td>\n",
       "      <td>NaN</td>\n",
       "      <td>NaN</td>\n",
       "      <td>...</td>\n",
       "      <td>NaN</td>\n",
       "      <td>NaN</td>\n",
       "      <td>NaN</td>\n",
       "      <td>NaN</td>\n",
       "      <td>NaN</td>\n",
       "      <td>Somewhat important</td>\n",
       "      <td>NaN</td>\n",
       "      <td>NaN</td>\n",
       "      <td>NaN</td>\n",
       "      <td>NaN</td>\n",
       "    </tr>\n",
       "    <tr>\n",
       "      <th>2</th>\n",
       "      <td>Male</td>\n",
       "      <td>Canada</td>\n",
       "      <td>28.0</td>\n",
       "      <td>Not employed, but looking for work</td>\n",
       "      <td>NaN</td>\n",
       "      <td>NaN</td>\n",
       "      <td>NaN</td>\n",
       "      <td>NaN</td>\n",
       "      <td>NaN</td>\n",
       "      <td>NaN</td>\n",
       "      <td>...</td>\n",
       "      <td>Very Important</td>\n",
       "      <td>Very Important</td>\n",
       "      <td>Very Important</td>\n",
       "      <td>Very Important</td>\n",
       "      <td>Very Important</td>\n",
       "      <td>Very Important</td>\n",
       "      <td>Very Important</td>\n",
       "      <td>Very Important</td>\n",
       "      <td>NaN</td>\n",
       "      <td>NaN</td>\n",
       "    </tr>\n",
       "    <tr>\n",
       "      <th>3</th>\n",
       "      <td>Male</td>\n",
       "      <td>United States</td>\n",
       "      <td>56.0</td>\n",
       "      <td>Independent contractor, freelancer, or self-em...</td>\n",
       "      <td>NaN</td>\n",
       "      <td>NaN</td>\n",
       "      <td>Yes</td>\n",
       "      <td>NaN</td>\n",
       "      <td>Operations Research Practitioner</td>\n",
       "      <td>Poorly</td>\n",
       "      <td>...</td>\n",
       "      <td>NaN</td>\n",
       "      <td>NaN</td>\n",
       "      <td>NaN</td>\n",
       "      <td>NaN</td>\n",
       "      <td>NaN</td>\n",
       "      <td>NaN</td>\n",
       "      <td>NaN</td>\n",
       "      <td>NaN</td>\n",
       "      <td>1.0</td>\n",
       "      <td>250000.0</td>\n",
       "    </tr>\n",
       "    <tr>\n",
       "      <th>4</th>\n",
       "      <td>Male</td>\n",
       "      <td>Taiwan</td>\n",
       "      <td>38.0</td>\n",
       "      <td>Employed full-time</td>\n",
       "      <td>NaN</td>\n",
       "      <td>NaN</td>\n",
       "      <td>Yes</td>\n",
       "      <td>NaN</td>\n",
       "      <td>Computer Scientist</td>\n",
       "      <td>Fine</td>\n",
       "      <td>...</td>\n",
       "      <td>NaN</td>\n",
       "      <td>NaN</td>\n",
       "      <td>NaN</td>\n",
       "      <td>NaN</td>\n",
       "      <td>NaN</td>\n",
       "      <td>NaN</td>\n",
       "      <td>NaN</td>\n",
       "      <td>NaN</td>\n",
       "      <td>NaN</td>\n",
       "      <td>NaN</td>\n",
       "    </tr>\n",
       "  </tbody>\n",
       "</table>\n",
       "<p>5 rows × 230 columns</p>\n",
       "</div>"
      ],
      "text/plain": [
       "                                        GenderSelect        Country   Age  \\\n",
       "0  Non-binary, genderqueer, or gender non-conforming            NaN   NaN   \n",
       "1                                             Female  United States  30.0   \n",
       "2                                               Male         Canada  28.0   \n",
       "3                                               Male  United States  56.0   \n",
       "4                                               Male         Taiwan  38.0   \n",
       "\n",
       "                                    EmploymentStatus StudentStatus  \\\n",
       "0                                 Employed full-time           NaN   \n",
       "1                 Not employed, but looking for work           NaN   \n",
       "2                 Not employed, but looking for work           NaN   \n",
       "3  Independent contractor, freelancer, or self-em...           NaN   \n",
       "4                                 Employed full-time           NaN   \n",
       "\n",
       "  LearningDataScience CodeWriter CareerSwitcher  \\\n",
       "0                 NaN        Yes            NaN   \n",
       "1                 NaN        NaN            NaN   \n",
       "2                 NaN        NaN            NaN   \n",
       "3                 NaN        Yes            NaN   \n",
       "4                 NaN        Yes            NaN   \n",
       "\n",
       "              CurrentJobTitleSelect TitleFit         ...           \\\n",
       "0             DBA/Database Engineer     Fine         ...            \n",
       "1                               NaN      NaN         ...            \n",
       "2                               NaN      NaN         ...            \n",
       "3  Operations Research Practitioner   Poorly         ...            \n",
       "4                Computer Scientist     Fine         ...            \n",
       "\n",
       "   JobFactorTitle JobFactorCompanyFunding JobFactorImpact JobFactorRemote  \\\n",
       "0             NaN                     NaN             NaN             NaN   \n",
       "1             NaN                     NaN             NaN             NaN   \n",
       "2  Very Important          Very Important  Very Important  Very Important   \n",
       "3             NaN                     NaN             NaN             NaN   \n",
       "4             NaN                     NaN             NaN             NaN   \n",
       "\n",
       "  JobFactorIndustry JobFactorLeaderReputation JobFactorDiversity  \\\n",
       "0               NaN                       NaN                NaN   \n",
       "1               NaN        Somewhat important                NaN   \n",
       "2    Very Important            Very Important     Very Important   \n",
       "3               NaN                       NaN                NaN   \n",
       "4               NaN                       NaN                NaN   \n",
       "\n",
       "  JobFactorPublishingOpportunity exchangeRate AdjustedCompensation  \n",
       "0                            NaN          NaN                  NaN  \n",
       "1                            NaN          NaN                  NaN  \n",
       "2                 Very Important          NaN                  NaN  \n",
       "3                            NaN          1.0             250000.0  \n",
       "4                            NaN          NaN                  NaN  \n",
       "\n",
       "[5 rows x 230 columns]"
      ]
     },
     "execution_count": 2,
     "metadata": {},
     "output_type": "execute_result"
    }
   ],
   "source": [
    "df = pd.read_csv('multipleChoiceResponses_cleaned.csv')\n",
    "df.head()"
   ]
  },
  {
   "cell_type": "code",
   "execution_count": 3,
   "metadata": {
    "ExecuteTime": {
     "end_time": "2019-10-01T16:14:24.464497Z",
     "start_time": "2019-10-01T16:14:24.274098Z"
    }
   },
   "outputs": [
    {
     "data": {
      "text/html": [
       "<div>\n",
       "<style scoped>\n",
       "    .dataframe tbody tr th:only-of-type {\n",
       "        vertical-align: middle;\n",
       "    }\n",
       "\n",
       "    .dataframe tbody tr th {\n",
       "        vertical-align: top;\n",
       "    }\n",
       "\n",
       "    .dataframe thead th {\n",
       "        text-align: right;\n",
       "    }\n",
       "</style>\n",
       "<table border=\"1\" class=\"dataframe\">\n",
       "  <thead>\n",
       "    <tr style=\"text-align: right;\">\n",
       "      <th></th>\n",
       "      <th>LearningCategorySelftTaught</th>\n",
       "      <th>LearningCategoryOnlineCourses</th>\n",
       "      <th>LearningCategoryWork</th>\n",
       "      <th>LearningCategoryUniversity</th>\n",
       "      <th>LearningCategoryKaggle</th>\n",
       "      <th>LearningCategoryOther</th>\n",
       "      <th>TimeGatheringData</th>\n",
       "      <th>TimeModelBuilding</th>\n",
       "      <th>TimeProduction</th>\n",
       "      <th>TimeVisualizing</th>\n",
       "      <th>TimeFindingInsights</th>\n",
       "      <th>TimeOtherSelect</th>\n",
       "      <th>CompensationAmount</th>\n",
       "      <th>exchangeRate</th>\n",
       "      <th>AdjustedCompensation</th>\n",
       "    </tr>\n",
       "  </thead>\n",
       "  <tbody>\n",
       "    <tr>\n",
       "      <th>count</th>\n",
       "      <td>16236.000000</td>\n",
       "      <td>16253.000000</td>\n",
       "      <td>16238.000000</td>\n",
       "      <td>16249.000000</td>\n",
       "      <td>16253.000000</td>\n",
       "      <td>16221.000000</td>\n",
       "      <td>10657.000000</td>\n",
       "      <td>10655.000000</td>\n",
       "      <td>10644.000000</td>\n",
       "      <td>10656.000000</td>\n",
       "      <td>10650.000000</td>\n",
       "      <td>10640.000000</td>\n",
       "      <td>5.178000e+03</td>\n",
       "      <td>4499.000000</td>\n",
       "      <td>4.343000e+03</td>\n",
       "    </tr>\n",
       "    <tr>\n",
       "      <th>mean</th>\n",
       "      <td>33.596945</td>\n",
       "      <td>25.814680</td>\n",
       "      <td>13.760184</td>\n",
       "      <td>21.133270</td>\n",
       "      <td>4.467212</td>\n",
       "      <td>1.449728</td>\n",
       "      <td>35.680304</td>\n",
       "      <td>27.455279</td>\n",
       "      <td>10.007657</td>\n",
       "      <td>13.639968</td>\n",
       "      <td>9.249953</td>\n",
       "      <td>2.254041</td>\n",
       "      <td>4.129494e+07</td>\n",
       "      <td>0.703416</td>\n",
       "      <td>6.636071e+06</td>\n",
       "    </tr>\n",
       "    <tr>\n",
       "      <th>std</th>\n",
       "      <td>23.781350</td>\n",
       "      <td>24.558786</td>\n",
       "      <td>17.845975</td>\n",
       "      <td>23.784604</td>\n",
       "      <td>10.186693</td>\n",
       "      <td>8.437395</td>\n",
       "      <td>19.364950</td>\n",
       "      <td>17.450835</td>\n",
       "      <td>10.458430</td>\n",
       "      <td>9.947624</td>\n",
       "      <td>12.429025</td>\n",
       "      <td>10.302431</td>\n",
       "      <td>1.965335e+09</td>\n",
       "      <td>0.486681</td>\n",
       "      <td>4.293996e+08</td>\n",
       "    </tr>\n",
       "    <tr>\n",
       "      <th>min</th>\n",
       "      <td>0.000000</td>\n",
       "      <td>0.000000</td>\n",
       "      <td>0.000000</td>\n",
       "      <td>0.000000</td>\n",
       "      <td>0.000000</td>\n",
       "      <td>0.000000</td>\n",
       "      <td>0.000000</td>\n",
       "      <td>0.000000</td>\n",
       "      <td>0.000000</td>\n",
       "      <td>0.000000</td>\n",
       "      <td>0.000000</td>\n",
       "      <td>0.000000</td>\n",
       "      <td>-9.900000e+01</td>\n",
       "      <td>0.000030</td>\n",
       "      <td>-7.351631e+01</td>\n",
       "    </tr>\n",
       "    <tr>\n",
       "      <th>25%</th>\n",
       "      <td>20.000000</td>\n",
       "      <td>10.000000</td>\n",
       "      <td>0.000000</td>\n",
       "      <td>0.000000</td>\n",
       "      <td>0.000000</td>\n",
       "      <td>0.000000</td>\n",
       "      <td>25.000000</td>\n",
       "      <td>15.000000</td>\n",
       "      <td>5.000000</td>\n",
       "      <td>10.000000</td>\n",
       "      <td>0.000000</td>\n",
       "      <td>0.000000</td>\n",
       "      <td>5.000000e+04</td>\n",
       "      <td>0.058444</td>\n",
       "      <td>2.036942e+04</td>\n",
       "    </tr>\n",
       "    <tr>\n",
       "      <th>50%</th>\n",
       "      <td>30.000000</td>\n",
       "      <td>20.000000</td>\n",
       "      <td>10.000000</td>\n",
       "      <td>15.000000</td>\n",
       "      <td>0.000000</td>\n",
       "      <td>0.000000</td>\n",
       "      <td>30.000000</td>\n",
       "      <td>30.000000</td>\n",
       "      <td>10.000000</td>\n",
       "      <td>10.000000</td>\n",
       "      <td>5.000000</td>\n",
       "      <td>0.000000</td>\n",
       "      <td>9.000000e+04</td>\n",
       "      <td>1.000000</td>\n",
       "      <td>5.381217e+04</td>\n",
       "    </tr>\n",
       "    <tr>\n",
       "      <th>75%</th>\n",
       "      <td>50.000000</td>\n",
       "      <td>35.000000</td>\n",
       "      <td>20.000000</td>\n",
       "      <td>40.000000</td>\n",
       "      <td>5.000000</td>\n",
       "      <td>0.000000</td>\n",
       "      <td>50.000000</td>\n",
       "      <td>40.000000</td>\n",
       "      <td>10.000000</td>\n",
       "      <td>15.000000</td>\n",
       "      <td>15.000000</td>\n",
       "      <td>0.000000</td>\n",
       "      <td>1.900000e+05</td>\n",
       "      <td>1.000000</td>\n",
       "      <td>9.566608e+04</td>\n",
       "    </tr>\n",
       "    <tr>\n",
       "      <th>max</th>\n",
       "      <td>100.000000</td>\n",
       "      <td>100.000000</td>\n",
       "      <td>100.000000</td>\n",
       "      <td>100.000000</td>\n",
       "      <td>100.000000</td>\n",
       "      <td>100.000000</td>\n",
       "      <td>100.000000</td>\n",
       "      <td>100.000000</td>\n",
       "      <td>100.000000</td>\n",
       "      <td>100.000000</td>\n",
       "      <td>303.000000</td>\n",
       "      <td>100.000000</td>\n",
       "      <td>1.000000e+11</td>\n",
       "      <td>2.652053</td>\n",
       "      <td>2.829740e+10</td>\n",
       "    </tr>\n",
       "  </tbody>\n",
       "</table>\n",
       "</div>"
      ],
      "text/plain": [
       "       LearningCategorySelftTaught  LearningCategoryOnlineCourses  \\\n",
       "count                 16236.000000                   16253.000000   \n",
       "mean                     33.596945                      25.814680   \n",
       "std                      23.781350                      24.558786   \n",
       "min                       0.000000                       0.000000   \n",
       "25%                      20.000000                      10.000000   \n",
       "50%                      30.000000                      20.000000   \n",
       "75%                      50.000000                      35.000000   \n",
       "max                     100.000000                     100.000000   \n",
       "\n",
       "       LearningCategoryWork  LearningCategoryUniversity  \\\n",
       "count          16238.000000                16249.000000   \n",
       "mean              13.760184                   21.133270   \n",
       "std               17.845975                   23.784604   \n",
       "min                0.000000                    0.000000   \n",
       "25%                0.000000                    0.000000   \n",
       "50%               10.000000                   15.000000   \n",
       "75%               20.000000                   40.000000   \n",
       "max              100.000000                  100.000000   \n",
       "\n",
       "       LearningCategoryKaggle  LearningCategoryOther  TimeGatheringData  \\\n",
       "count            16253.000000           16221.000000       10657.000000   \n",
       "mean                 4.467212               1.449728          35.680304   \n",
       "std                 10.186693               8.437395          19.364950   \n",
       "min                  0.000000               0.000000           0.000000   \n",
       "25%                  0.000000               0.000000          25.000000   \n",
       "50%                  0.000000               0.000000          30.000000   \n",
       "75%                  5.000000               0.000000          50.000000   \n",
       "max                100.000000             100.000000         100.000000   \n",
       "\n",
       "       TimeModelBuilding  TimeProduction  TimeVisualizing  \\\n",
       "count       10655.000000    10644.000000     10656.000000   \n",
       "mean           27.455279       10.007657        13.639968   \n",
       "std            17.450835       10.458430         9.947624   \n",
       "min             0.000000        0.000000         0.000000   \n",
       "25%            15.000000        5.000000        10.000000   \n",
       "50%            30.000000       10.000000        10.000000   \n",
       "75%            40.000000       10.000000        15.000000   \n",
       "max           100.000000      100.000000       100.000000   \n",
       "\n",
       "       TimeFindingInsights  TimeOtherSelect  CompensationAmount  exchangeRate  \\\n",
       "count         10650.000000     10640.000000        5.178000e+03   4499.000000   \n",
       "mean              9.249953         2.254041        4.129494e+07      0.703416   \n",
       "std              12.429025        10.302431        1.965335e+09      0.486681   \n",
       "min               0.000000         0.000000       -9.900000e+01      0.000030   \n",
       "25%               0.000000         0.000000        5.000000e+04      0.058444   \n",
       "50%               5.000000         0.000000        9.000000e+04      1.000000   \n",
       "75%              15.000000         0.000000        1.900000e+05      1.000000   \n",
       "max             303.000000       100.000000        1.000000e+11      2.652053   \n",
       "\n",
       "       AdjustedCompensation  \n",
       "count          4.343000e+03  \n",
       "mean           6.636071e+06  \n",
       "std            4.293996e+08  \n",
       "min           -7.351631e+01  \n",
       "25%            2.036942e+04  \n",
       "50%            5.381217e+04  \n",
       "75%            9.566608e+04  \n",
       "max            2.829740e+10  "
      ]
     },
     "execution_count": 3,
     "metadata": {},
     "output_type": "execute_result"
    }
   ],
   "source": [
    "df.describe()"
   ]
  },
  {
   "cell_type": "code",
   "execution_count": 4,
   "metadata": {
    "ExecuteTime": {
     "end_time": "2019-10-01T16:14:24.496843Z",
     "start_time": "2019-10-01T16:14:24.471557Z"
    },
    "scrolled": true
   },
   "outputs": [
    {
     "name": "stdout",
     "output_type": "stream",
     "text": [
      "<class 'pandas.core.frame.DataFrame'>\n",
      "RangeIndex: 26394 entries, 0 to 26393\n",
      "Columns: 230 entries, GenderSelect to AdjustedCompensation\n",
      "dtypes: float64(15), object(215)\n",
      "memory usage: 46.3+ MB\n"
     ]
    }
   ],
   "source": [
    "df.info()"
   ]
  },
  {
   "cell_type": "code",
   "execution_count": 5,
   "metadata": {
    "ExecuteTime": {
     "end_time": "2019-10-01T16:14:24.521538Z",
     "start_time": "2019-10-01T16:14:24.500858Z"
    },
    "scrolled": true
   },
   "outputs": [
    {
     "data": {
      "text/plain": [
       "Master's degree                                                      8204\n",
       "Bachelor's degree                                                    4811\n",
       "Doctoral degree                                                      3543\n",
       "Some college/university study without earning a bachelor's degree     786\n",
       "Professional degree                                                   451\n",
       "I did not complete any formal education past high school              257\n",
       "I prefer not to answer                                                 90\n",
       "Name: FormalEducation, dtype: int64"
      ]
     },
     "execution_count": 5,
     "metadata": {},
     "output_type": "execute_result"
    }
   ],
   "source": [
    "df.FormalEducation.value_counts()"
   ]
  },
  {
   "cell_type": "markdown",
   "metadata": {},
   "source": [
    "## Wages and Education\n",
    "\n",
    "You've been asked to determine whether education is impactful to salary. Develop a hypothesis test to compare the salaries of those with Master's degrees to those with Bachelor's degrees. Are the two statistically different according to your results?\n",
    "\n",
    "> Note: The relevant features are stored in the 'FormalEducation' and 'AdjustedCompensation' features."
   ]
  },
  {
   "cell_type": "code",
   "execution_count": 6,
   "metadata": {
    "ExecuteTime": {
     "end_time": "2019-10-01T16:14:24.668172Z",
     "start_time": "2019-10-01T16:14:24.524887Z"
    },
    "scrolled": true
   },
   "outputs": [
    {
     "data": {
      "text/html": [
       "<div>\n",
       "<style scoped>\n",
       "    .dataframe tbody tr th:only-of-type {\n",
       "        vertical-align: middle;\n",
       "    }\n",
       "\n",
       "    .dataframe tbody tr th {\n",
       "        vertical-align: top;\n",
       "    }\n",
       "\n",
       "    .dataframe thead th {\n",
       "        text-align: right;\n",
       "    }\n",
       "</style>\n",
       "<table border=\"1\" class=\"dataframe\">\n",
       "  <thead>\n",
       "    <tr style=\"text-align: right;\">\n",
       "      <th></th>\n",
       "      <th>LearningCategorySelftTaught</th>\n",
       "      <th>LearningCategoryOnlineCourses</th>\n",
       "      <th>LearningCategoryWork</th>\n",
       "      <th>LearningCategoryUniversity</th>\n",
       "      <th>LearningCategoryKaggle</th>\n",
       "      <th>LearningCategoryOther</th>\n",
       "      <th>TimeGatheringData</th>\n",
       "      <th>TimeModelBuilding</th>\n",
       "      <th>TimeProduction</th>\n",
       "      <th>TimeVisualizing</th>\n",
       "      <th>TimeFindingInsights</th>\n",
       "      <th>TimeOtherSelect</th>\n",
       "      <th>CompensationAmount</th>\n",
       "      <th>exchangeRate</th>\n",
       "      <th>AdjustedCompensation</th>\n",
       "    </tr>\n",
       "  </thead>\n",
       "  <tbody>\n",
       "    <tr>\n",
       "      <th>count</th>\n",
       "      <td>4331.000000</td>\n",
       "      <td>4335.000000</td>\n",
       "      <td>4337.000000</td>\n",
       "      <td>4332.000000</td>\n",
       "      <td>4334.000000</td>\n",
       "      <td>4331.000000</td>\n",
       "      <td>4342.000000</td>\n",
       "      <td>4340.000000</td>\n",
       "      <td>4333.000000</td>\n",
       "      <td>4340.000000</td>\n",
       "      <td>4338.000000</td>\n",
       "      <td>4328.000000</td>\n",
       "      <td>4.342000e+03</td>\n",
       "      <td>4342.000000</td>\n",
       "      <td>4.342000e+03</td>\n",
       "    </tr>\n",
       "    <tr>\n",
       "      <th>mean</th>\n",
       "      <td>33.012930</td>\n",
       "      <td>23.507151</td>\n",
       "      <td>20.236077</td>\n",
       "      <td>16.581602</td>\n",
       "      <td>5.292824</td>\n",
       "      <td>1.566159</td>\n",
       "      <td>37.246891</td>\n",
       "      <td>21.251843</td>\n",
       "      <td>11.098200</td>\n",
       "      <td>14.237673</td>\n",
       "      <td>13.400645</td>\n",
       "      <td>2.188309</td>\n",
       "      <td>4.920543e+07</td>\n",
       "      <td>0.706252</td>\n",
       "      <td>6.637600e+06</td>\n",
       "    </tr>\n",
       "    <tr>\n",
       "      <th>std</th>\n",
       "      <td>24.520472</td>\n",
       "      <td>23.489280</td>\n",
       "      <td>19.702310</td>\n",
       "      <td>22.114341</td>\n",
       "      <td>10.244674</td>\n",
       "      <td>8.325474</td>\n",
       "      <td>20.912887</td>\n",
       "      <td>15.351946</td>\n",
       "      <td>12.051884</td>\n",
       "      <td>11.074353</td>\n",
       "      <td>12.033618</td>\n",
       "      <td>11.106701</td>\n",
       "      <td>2.146162e+09</td>\n",
       "      <td>0.484515</td>\n",
       "      <td>4.294491e+08</td>\n",
       "    </tr>\n",
       "    <tr>\n",
       "      <th>min</th>\n",
       "      <td>0.000000</td>\n",
       "      <td>0.000000</td>\n",
       "      <td>0.000000</td>\n",
       "      <td>0.000000</td>\n",
       "      <td>0.000000</td>\n",
       "      <td>0.000000</td>\n",
       "      <td>0.000000</td>\n",
       "      <td>0.000000</td>\n",
       "      <td>0.000000</td>\n",
       "      <td>0.000000</td>\n",
       "      <td>0.000000</td>\n",
       "      <td>0.000000</td>\n",
       "      <td>0.000000e+00</td>\n",
       "      <td>0.000030</td>\n",
       "      <td>0.000000e+00</td>\n",
       "    </tr>\n",
       "    <tr>\n",
       "      <th>25%</th>\n",
       "      <td>15.000000</td>\n",
       "      <td>5.000000</td>\n",
       "      <td>0.000000</td>\n",
       "      <td>0.000000</td>\n",
       "      <td>0.000000</td>\n",
       "      <td>0.000000</td>\n",
       "      <td>20.000000</td>\n",
       "      <td>10.000000</td>\n",
       "      <td>1.000000</td>\n",
       "      <td>10.000000</td>\n",
       "      <td>5.000000</td>\n",
       "      <td>0.000000</td>\n",
       "      <td>5.000000e+04</td>\n",
       "      <td>0.077002</td>\n",
       "      <td>2.041214e+04</td>\n",
       "    </tr>\n",
       "    <tr>\n",
       "      <th>50%</th>\n",
       "      <td>30.000000</td>\n",
       "      <td>20.000000</td>\n",
       "      <td>20.000000</td>\n",
       "      <td>8.000000</td>\n",
       "      <td>0.000000</td>\n",
       "      <td>0.000000</td>\n",
       "      <td>40.000000</td>\n",
       "      <td>20.000000</td>\n",
       "      <td>10.000000</td>\n",
       "      <td>10.000000</td>\n",
       "      <td>10.000000</td>\n",
       "      <td>0.000000</td>\n",
       "      <td>9.999950e+04</td>\n",
       "      <td>1.000000</td>\n",
       "      <td>5.381217e+04</td>\n",
       "    </tr>\n",
       "    <tr>\n",
       "      <th>75%</th>\n",
       "      <td>50.000000</td>\n",
       "      <td>35.000000</td>\n",
       "      <td>30.000000</td>\n",
       "      <td>30.000000</td>\n",
       "      <td>10.000000</td>\n",
       "      <td>0.000000</td>\n",
       "      <td>50.000000</td>\n",
       "      <td>30.000000</td>\n",
       "      <td>15.000000</td>\n",
       "      <td>20.000000</td>\n",
       "      <td>20.000000</td>\n",
       "      <td>0.000000</td>\n",
       "      <td>2.185250e+05</td>\n",
       "      <td>1.000000</td>\n",
       "      <td>9.566608e+04</td>\n",
       "    </tr>\n",
       "    <tr>\n",
       "      <th>max</th>\n",
       "      <td>100.000000</td>\n",
       "      <td>100.000000</td>\n",
       "      <td>100.000000</td>\n",
       "      <td>100.000000</td>\n",
       "      <td>100.000000</td>\n",
       "      <td>100.000000</td>\n",
       "      <td>100.000000</td>\n",
       "      <td>100.000000</td>\n",
       "      <td>100.000000</td>\n",
       "      <td>100.000000</td>\n",
       "      <td>100.000000</td>\n",
       "      <td>100.000000</td>\n",
       "      <td>1.000000e+11</td>\n",
       "      <td>2.652053</td>\n",
       "      <td>2.829740e+10</td>\n",
       "    </tr>\n",
       "  </tbody>\n",
       "</table>\n",
       "</div>"
      ],
      "text/plain": [
       "       LearningCategorySelftTaught  LearningCategoryOnlineCourses  \\\n",
       "count                  4331.000000                    4335.000000   \n",
       "mean                     33.012930                      23.507151   \n",
       "std                      24.520472                      23.489280   \n",
       "min                       0.000000                       0.000000   \n",
       "25%                      15.000000                       5.000000   \n",
       "50%                      30.000000                      20.000000   \n",
       "75%                      50.000000                      35.000000   \n",
       "max                     100.000000                     100.000000   \n",
       "\n",
       "       LearningCategoryWork  LearningCategoryUniversity  \\\n",
       "count           4337.000000                 4332.000000   \n",
       "mean              20.236077                   16.581602   \n",
       "std               19.702310                   22.114341   \n",
       "min                0.000000                    0.000000   \n",
       "25%                0.000000                    0.000000   \n",
       "50%               20.000000                    8.000000   \n",
       "75%               30.000000                   30.000000   \n",
       "max              100.000000                  100.000000   \n",
       "\n",
       "       LearningCategoryKaggle  LearningCategoryOther  TimeGatheringData  \\\n",
       "count             4334.000000            4331.000000        4342.000000   \n",
       "mean                 5.292824               1.566159          37.246891   \n",
       "std                 10.244674               8.325474          20.912887   \n",
       "min                  0.000000               0.000000           0.000000   \n",
       "25%                  0.000000               0.000000          20.000000   \n",
       "50%                  0.000000               0.000000          40.000000   \n",
       "75%                 10.000000               0.000000          50.000000   \n",
       "max                100.000000             100.000000         100.000000   \n",
       "\n",
       "       TimeModelBuilding  TimeProduction  TimeVisualizing  \\\n",
       "count        4340.000000     4333.000000      4340.000000   \n",
       "mean           21.251843       11.098200        14.237673   \n",
       "std            15.351946       12.051884        11.074353   \n",
       "min             0.000000        0.000000         0.000000   \n",
       "25%            10.000000        1.000000        10.000000   \n",
       "50%            20.000000       10.000000        10.000000   \n",
       "75%            30.000000       15.000000        20.000000   \n",
       "max           100.000000      100.000000       100.000000   \n",
       "\n",
       "       TimeFindingInsights  TimeOtherSelect  CompensationAmount  exchangeRate  \\\n",
       "count          4338.000000      4328.000000        4.342000e+03   4342.000000   \n",
       "mean             13.400645         2.188309        4.920543e+07      0.706252   \n",
       "std              12.033618        11.106701        2.146162e+09      0.484515   \n",
       "min               0.000000         0.000000        0.000000e+00      0.000030   \n",
       "25%               5.000000         0.000000        5.000000e+04      0.077002   \n",
       "50%              10.000000         0.000000        9.999950e+04      1.000000   \n",
       "75%              20.000000         0.000000        2.185250e+05      1.000000   \n",
       "max             100.000000       100.000000        1.000000e+11      2.652053   \n",
       "\n",
       "       AdjustedCompensation  \n",
       "count          4.342000e+03  \n",
       "mean           6.637600e+06  \n",
       "std            4.294491e+08  \n",
       "min            0.000000e+00  \n",
       "25%            2.041214e+04  \n",
       "50%            5.381217e+04  \n",
       "75%            9.566608e+04  \n",
       "max            2.829740e+10  "
      ]
     },
     "execution_count": 6,
     "metadata": {},
     "output_type": "execute_result"
    }
   ],
   "source": [
    "# This will be a two-tailed test using ANOVA.\n",
    "\n",
    "# First, drop rows with NaN in the AdjustedCompensation column\n",
    "df_copy = df[df.AdjustedCompensation >= 0]\n",
    "df_copy.describe()"
   ]
  },
  {
   "cell_type": "code",
   "execution_count": 7,
   "metadata": {
    "ExecuteTime": {
     "end_time": "2019-10-01T16:14:24.679787Z",
     "start_time": "2019-10-01T16:14:24.671600Z"
    }
   },
   "outputs": [
    {
     "data": {
      "text/plain": [
       "0"
      ]
     },
     "execution_count": 7,
     "metadata": {},
     "output_type": "execute_result"
    }
   ],
   "source": [
    "df_copy.AdjustedCompensation.isna().sum()"
   ]
  },
  {
   "cell_type": "code",
   "execution_count": 8,
   "metadata": {
    "ExecuteTime": {
     "end_time": "2019-10-01T16:14:24.882439Z",
     "start_time": "2019-10-01T16:14:24.684245Z"
    },
    "scrolled": true
   },
   "outputs": [
    {
     "data": {
      "text/html": [
       "<div>\n",
       "<style scoped>\n",
       "    .dataframe tbody tr th:only-of-type {\n",
       "        vertical-align: middle;\n",
       "    }\n",
       "\n",
       "    .dataframe tbody tr th {\n",
       "        vertical-align: top;\n",
       "    }\n",
       "\n",
       "    .dataframe thead th {\n",
       "        text-align: right;\n",
       "    }\n",
       "</style>\n",
       "<table border=\"1\" class=\"dataframe\">\n",
       "  <thead>\n",
       "    <tr style=\"text-align: right;\">\n",
       "      <th></th>\n",
       "      <th>LearningCategorySelftTaught</th>\n",
       "      <th>LearningCategoryOnlineCourses</th>\n",
       "      <th>LearningCategoryWork</th>\n",
       "      <th>LearningCategoryUniversity</th>\n",
       "      <th>LearningCategoryKaggle</th>\n",
       "      <th>LearningCategoryOther</th>\n",
       "      <th>TimeGatheringData</th>\n",
       "      <th>TimeModelBuilding</th>\n",
       "      <th>TimeProduction</th>\n",
       "      <th>TimeVisualizing</th>\n",
       "      <th>TimeFindingInsights</th>\n",
       "      <th>TimeOtherSelect</th>\n",
       "      <th>CompensationAmount</th>\n",
       "      <th>exchangeRate</th>\n",
       "      <th>AdjustedCompensation</th>\n",
       "    </tr>\n",
       "  </thead>\n",
       "  <tbody>\n",
       "    <tr>\n",
       "      <th>count</th>\n",
       "      <td>3647.000000</td>\n",
       "      <td>3651.000000</td>\n",
       "      <td>3653.000000</td>\n",
       "      <td>3652.000000</td>\n",
       "      <td>3651.000000</td>\n",
       "      <td>3648.000000</td>\n",
       "      <td>3657.000000</td>\n",
       "      <td>3655.000000</td>\n",
       "      <td>3650.000000</td>\n",
       "      <td>3656.000000</td>\n",
       "      <td>3655.000000</td>\n",
       "      <td>3646.000000</td>\n",
       "      <td>3.657000e+03</td>\n",
       "      <td>3657.000000</td>\n",
       "      <td>3657.000000</td>\n",
       "    </tr>\n",
       "    <tr>\n",
       "      <th>mean</th>\n",
       "      <td>32.911982</td>\n",
       "      <td>23.136812</td>\n",
       "      <td>20.858162</td>\n",
       "      <td>16.714814</td>\n",
       "      <td>5.137250</td>\n",
       "      <td>1.426544</td>\n",
       "      <td>37.462948</td>\n",
       "      <td>20.711902</td>\n",
       "      <td>11.039452</td>\n",
       "      <td>14.076586</td>\n",
       "      <td>13.742544</td>\n",
       "      <td>2.402907</td>\n",
       "      <td>3.239632e+06</td>\n",
       "      <td>0.797494</td>\n",
       "      <td>77389.958348</td>\n",
       "    </tr>\n",
       "    <tr>\n",
       "      <th>std</th>\n",
       "      <td>24.497312</td>\n",
       "      <td>23.453936</td>\n",
       "      <td>19.895395</td>\n",
       "      <td>22.259262</td>\n",
       "      <td>10.085548</td>\n",
       "      <td>8.129876</td>\n",
       "      <td>20.776536</td>\n",
       "      <td>14.756806</td>\n",
       "      <td>12.055115</td>\n",
       "      <td>10.591211</td>\n",
       "      <td>12.081610</td>\n",
       "      <td>11.669866</td>\n",
       "      <td>3.702490e+07</td>\n",
       "      <td>0.445493</td>\n",
       "      <td>56516.799811</td>\n",
       "    </tr>\n",
       "    <tr>\n",
       "      <th>min</th>\n",
       "      <td>0.000000</td>\n",
       "      <td>0.000000</td>\n",
       "      <td>0.000000</td>\n",
       "      <td>0.000000</td>\n",
       "      <td>0.000000</td>\n",
       "      <td>0.000000</td>\n",
       "      <td>0.000000</td>\n",
       "      <td>0.000000</td>\n",
       "      <td>0.000000</td>\n",
       "      <td>0.000000</td>\n",
       "      <td>0.000000</td>\n",
       "      <td>0.000000</td>\n",
       "      <td>6.600000e+03</td>\n",
       "      <td>0.000030</td>\n",
       "      <td>10119.744000</td>\n",
       "    </tr>\n",
       "    <tr>\n",
       "      <th>25%</th>\n",
       "      <td>15.000000</td>\n",
       "      <td>5.000000</td>\n",
       "      <td>5.000000</td>\n",
       "      <td>0.000000</td>\n",
       "      <td>0.000000</td>\n",
       "      <td>0.000000</td>\n",
       "      <td>20.000000</td>\n",
       "      <td>10.000000</td>\n",
       "      <td>1.000000</td>\n",
       "      <td>10.000000</td>\n",
       "      <td>5.000000</td>\n",
       "      <td>0.000000</td>\n",
       "      <td>5.500000e+04</td>\n",
       "      <td>0.321350</td>\n",
       "      <td>35027.150000</td>\n",
       "    </tr>\n",
       "    <tr>\n",
       "      <th>50%</th>\n",
       "      <td>30.000000</td>\n",
       "      <td>20.000000</td>\n",
       "      <td>20.000000</td>\n",
       "      <td>5.500000</td>\n",
       "      <td>0.000000</td>\n",
       "      <td>0.000000</td>\n",
       "      <td>40.000000</td>\n",
       "      <td>20.000000</td>\n",
       "      <td>10.000000</td>\n",
       "      <td>10.000000</td>\n",
       "      <td>10.000000</td>\n",
       "      <td>0.000000</td>\n",
       "      <td>1.000000e+05</td>\n",
       "      <td>1.000000</td>\n",
       "      <td>65000.000000</td>\n",
       "    </tr>\n",
       "    <tr>\n",
       "      <th>75%</th>\n",
       "      <td>50.000000</td>\n",
       "      <td>33.000000</td>\n",
       "      <td>30.000000</td>\n",
       "      <td>30.000000</td>\n",
       "      <td>5.000000</td>\n",
       "      <td>0.000000</td>\n",
       "      <td>50.000000</td>\n",
       "      <td>30.000000</td>\n",
       "      <td>15.000000</td>\n",
       "      <td>20.000000</td>\n",
       "      <td>20.000000</td>\n",
       "      <td>0.000000</td>\n",
       "      <td>2.000000e+05</td>\n",
       "      <td>1.043382</td>\n",
       "      <td>104338.200000</td>\n",
       "    </tr>\n",
       "    <tr>\n",
       "      <th>max</th>\n",
       "      <td>100.000000</td>\n",
       "      <td>100.000000</td>\n",
       "      <td>100.000000</td>\n",
       "      <td>100.000000</td>\n",
       "      <td>100.000000</td>\n",
       "      <td>100.000000</td>\n",
       "      <td>100.000000</td>\n",
       "      <td>100.000000</td>\n",
       "      <td>100.000000</td>\n",
       "      <td>100.000000</td>\n",
       "      <td>100.000000</td>\n",
       "      <td>100.000000</td>\n",
       "      <td>1.194000e+09</td>\n",
       "      <td>2.652053</td>\n",
       "      <td>470000.000000</td>\n",
       "    </tr>\n",
       "  </tbody>\n",
       "</table>\n",
       "</div>"
      ],
      "text/plain": [
       "       LearningCategorySelftTaught  LearningCategoryOnlineCourses  \\\n",
       "count                  3647.000000                    3651.000000   \n",
       "mean                     32.911982                      23.136812   \n",
       "std                      24.497312                      23.453936   \n",
       "min                       0.000000                       0.000000   \n",
       "25%                      15.000000                       5.000000   \n",
       "50%                      30.000000                      20.000000   \n",
       "75%                      50.000000                      33.000000   \n",
       "max                     100.000000                     100.000000   \n",
       "\n",
       "       LearningCategoryWork  LearningCategoryUniversity  \\\n",
       "count           3653.000000                 3652.000000   \n",
       "mean              20.858162                   16.714814   \n",
       "std               19.895395                   22.259262   \n",
       "min                0.000000                    0.000000   \n",
       "25%                5.000000                    0.000000   \n",
       "50%               20.000000                    5.500000   \n",
       "75%               30.000000                   30.000000   \n",
       "max              100.000000                  100.000000   \n",
       "\n",
       "       LearningCategoryKaggle  LearningCategoryOther  TimeGatheringData  \\\n",
       "count             3651.000000            3648.000000        3657.000000   \n",
       "mean                 5.137250               1.426544          37.462948   \n",
       "std                 10.085548               8.129876          20.776536   \n",
       "min                  0.000000               0.000000           0.000000   \n",
       "25%                  0.000000               0.000000          20.000000   \n",
       "50%                  0.000000               0.000000          40.000000   \n",
       "75%                  5.000000               0.000000          50.000000   \n",
       "max                100.000000             100.000000         100.000000   \n",
       "\n",
       "       TimeModelBuilding  TimeProduction  TimeVisualizing  \\\n",
       "count        3655.000000     3650.000000      3656.000000   \n",
       "mean           20.711902       11.039452        14.076586   \n",
       "std            14.756806       12.055115        10.591211   \n",
       "min             0.000000        0.000000         0.000000   \n",
       "25%            10.000000        1.000000        10.000000   \n",
       "50%            20.000000       10.000000        10.000000   \n",
       "75%            30.000000       15.000000        20.000000   \n",
       "max           100.000000      100.000000       100.000000   \n",
       "\n",
       "       TimeFindingInsights  TimeOtherSelect  CompensationAmount  exchangeRate  \\\n",
       "count          3655.000000      3646.000000        3.657000e+03   3657.000000   \n",
       "mean             13.742544         2.402907        3.239632e+06      0.797494   \n",
       "std              12.081610        11.669866        3.702490e+07      0.445493   \n",
       "min               0.000000         0.000000        6.600000e+03      0.000030   \n",
       "25%               5.000000         0.000000        5.500000e+04      0.321350   \n",
       "50%              10.000000         0.000000        1.000000e+05      1.000000   \n",
       "75%              20.000000         0.000000        2.000000e+05      1.043382   \n",
       "max             100.000000       100.000000        1.194000e+09      2.652053   \n",
       "\n",
       "       AdjustedCompensation  \n",
       "count           3657.000000  \n",
       "mean           77389.958348  \n",
       "std            56516.799811  \n",
       "min            10119.744000  \n",
       "25%            35027.150000  \n",
       "50%            65000.000000  \n",
       "75%           104338.200000  \n",
       "max           470000.000000  "
      ]
     },
     "execution_count": 8,
     "metadata": {},
     "output_type": "execute_result"
    }
   ],
   "source": [
    "df_copy = df_copy[(df_copy.AdjustedCompensation < 500000) & (df_copy.AdjustedCompensation > 10000)]\n",
    "df_copy.describe()"
   ]
  },
  {
   "cell_type": "code",
   "execution_count": 9,
   "metadata": {
    "ExecuteTime": {
     "end_time": "2019-10-01T16:14:24.906909Z",
     "start_time": "2019-10-01T16:14:24.886493Z"
    },
    "scrolled": true
   },
   "outputs": [
    {
     "name": "stdout",
     "output_type": "stream",
     "text": [
      "Mean salary for MA: 73831.31244109935\n",
      "Number of MA: 1701\n",
      "Mean salary for BA: 69071.96770152132\n",
      "Number of BA: 844\n"
     ]
    }
   ],
   "source": [
    "# Make the two datasets\n",
    "masters = df_copy[df_copy.FormalEducation == 'Master\\'s degree']['AdjustedCompensation']\n",
    "print('Mean salary for MA:', masters.mean())\n",
    "print('Number of MA:', len(masters))\n",
    "bachelors = df_copy[df_copy.FormalEducation == 'Bachelor\\'s degree']['AdjustedCompensation']\n",
    "print('Mean salary for BA:', bachelors.mean())\n",
    "print('Number of BA:', len(bachelors))"
   ]
  },
  {
   "cell_type": "markdown",
   "metadata": {},
   "source": [
    "*State the hypotheses*\n",
    "\n",
    "H0: There is no difference; mean of masters = mean of bachelors.\n",
    "\n",
    "Ha: They are statistically different; mean of masters =/= mean of bachelors."
   ]
  },
  {
   "cell_type": "markdown",
   "metadata": {},
   "source": [
    "*Set alpha and power, determine that samples are big enough*"
   ]
  },
  {
   "cell_type": "code",
   "execution_count": 10,
   "metadata": {
    "ExecuteTime": {
     "end_time": "2019-10-01T16:14:24.918738Z",
     "start_time": "2019-10-01T16:14:24.910155Z"
    }
   },
   "outputs": [
    {
     "data": {
      "text/plain": [
       "56516.7998108296"
      ]
     },
     "execution_count": 10,
     "metadata": {},
     "output_type": "execute_result"
    }
   ],
   "source": [
    "# Set variables\n",
    "alpha = 0.05\n",
    "power = 0.8\n",
    "effect_size = 0.2\n",
    "\n",
    "# Get the population standard deviation for use in calculations\n",
    "pop_stdev = df_copy.AdjustedCompensation.std()\n",
    "pop_stdev"
   ]
  },
  {
   "cell_type": "code",
   "execution_count": 11,
   "metadata": {
    "ExecuteTime": {
     "end_time": "2019-10-01T16:14:24.946885Z",
     "start_time": "2019-10-01T16:14:24.922816Z"
    }
   },
   "outputs": [
    {
     "data": {
      "text/plain": [
       "393.4056989990335"
      ]
     },
     "execution_count": 11,
     "metadata": {},
     "output_type": "execute_result"
    }
   ],
   "source": [
    "# Calculate the required sample size\n",
    "from statsmodels.stats.power import TTestIndPower, TTestPower\n",
    "power_analysis = TTestIndPower()\n",
    "\n",
    "power_analysis.solve_power(effect_size=effect_size, alpha=alpha, power=power,\n",
    "                          alternative='two-sided')"
   ]
  },
  {
   "cell_type": "markdown",
   "metadata": {
    "ExecuteTime": {
     "end_time": "2019-10-01T13:56:57.628991Z",
     "start_time": "2019-10-01T13:56:57.621184Z"
    }
   },
   "source": [
    "The samples are big enough to detect an effect size of 0.2 with alpha = 0.05 and power = 0.8."
   ]
  },
  {
   "cell_type": "code",
   "execution_count": 12,
   "metadata": {
    "ExecuteTime": {
     "end_time": "2019-10-01T16:14:24.960283Z",
     "start_time": "2019-10-01T16:14:24.950259Z"
    }
   },
   "outputs": [
    {
     "name": "stdout",
     "output_type": "stream",
     "text": [
      "2747084836.3098016\n",
      "2987203974.588808\n"
     ]
    }
   ],
   "source": [
    "# Check whether the sample variances are the same\n",
    "print(np.var(masters))\n",
    "print(np.var(bachelors))"
   ]
  },
  {
   "cell_type": "markdown",
   "metadata": {},
   "source": [
    "Since variances are not the same, I'll use ANOVA. First I will transform the data into a DataFrame containing salaries and \"master's\" or \"bachelor's\" as categories in a single categorical variable."
   ]
  },
  {
   "cell_type": "code",
   "execution_count": 13,
   "metadata": {
    "ExecuteTime": {
     "end_time": "2019-10-01T16:14:24.982246Z",
     "start_time": "2019-10-01T16:14:24.970394Z"
    }
   },
   "outputs": [],
   "source": [
    "BA_v_MA = df_copy.loc[:,['FormalEducation', 'AdjustedCompensation']]\n",
    "BA_v_MA = BA_v_MA[(BA_v_MA.FormalEducation == 'Master\\'s degree') | (BA_v_MA.FormalEducation == 'Bachelor\\'s degree')]"
   ]
  },
  {
   "cell_type": "code",
   "execution_count": 14,
   "metadata": {
    "ExecuteTime": {
     "end_time": "2019-10-01T16:14:25.343560Z",
     "start_time": "2019-10-01T16:14:24.988488Z"
    }
   },
   "outputs": [
    {
     "data": {
      "text/html": [
       "<div>\n",
       "<style scoped>\n",
       "    .dataframe tbody tr th:only-of-type {\n",
       "        vertical-align: middle;\n",
       "    }\n",
       "\n",
       "    .dataframe tbody tr th {\n",
       "        vertical-align: top;\n",
       "    }\n",
       "\n",
       "    .dataframe thead th {\n",
       "        text-align: right;\n",
       "    }\n",
       "</style>\n",
       "<table border=\"1\" class=\"dataframe\">\n",
       "  <thead>\n",
       "    <tr style=\"text-align: right;\">\n",
       "      <th></th>\n",
       "      <th>sum_sq</th>\n",
       "      <th>df</th>\n",
       "      <th>F</th>\n",
       "      <th>PR(&gt;F)</th>\n",
       "    </tr>\n",
       "  </thead>\n",
       "  <tbody>\n",
       "    <tr>\n",
       "      <th>C(FormalEducation)</th>\n",
       "      <td>1.277772e+10</td>\n",
       "      <td>1.0</td>\n",
       "      <td>4.516788</td>\n",
       "      <td>0.03366</td>\n",
       "    </tr>\n",
       "    <tr>\n",
       "      <th>Residual</th>\n",
       "      <td>7.193991e+12</td>\n",
       "      <td>2543.0</td>\n",
       "      <td>NaN</td>\n",
       "      <td>NaN</td>\n",
       "    </tr>\n",
       "  </tbody>\n",
       "</table>\n",
       "</div>"
      ],
      "text/plain": [
       "                          sum_sq      df         F   PR(>F)\n",
       "C(FormalEducation)  1.277772e+10     1.0  4.516788  0.03366\n",
       "Residual            7.193991e+12  2543.0       NaN      NaN"
      ]
     },
     "execution_count": 14,
     "metadata": {},
     "output_type": "execute_result"
    }
   ],
   "source": [
    "# Run ANOVA\n",
    "import statsmodels.api as sm\n",
    "from statsmodels.formula.api import ols\n",
    "\n",
    "formula = 'AdjustedCompensation ~ C(FormalEducation)'\n",
    "lm = ols(formula, BA_v_MA).fit()\n",
    "table = sm.stats.anova_lm(lm, typ=2)\n",
    "table"
   ]
  },
  {
   "cell_type": "markdown",
   "metadata": {},
   "source": [
    "ANOVA yields a p-value of 0.03 for a two-tailed t-test, meaning that adjusted compensation for master's degree holders and bachelor's degree holders is statistically different. Let's check this with a Welch's t-test, too."
   ]
  },
  {
   "cell_type": "code",
   "execution_count": 15,
   "metadata": {
    "ExecuteTime": {
     "end_time": "2019-10-01T16:14:25.362302Z",
     "start_time": "2019-10-01T16:14:25.348072Z"
    },
    "scrolled": true
   },
   "outputs": [
    {
     "data": {
      "text/plain": [
       "0.036299953725268175"
      ]
     },
     "execution_count": 15,
     "metadata": {},
     "output_type": "execute_result"
    }
   ],
   "source": [
    "from flatiron_stats import *\n",
    "\n",
    "p_value_welch_ttest(masters, bachelors, two_sided=True)"
   ]
  },
  {
   "cell_type": "markdown",
   "metadata": {},
   "source": [
    "Although the p-value is slightly different, the result is the same: we reject the null hypothesis. The samples are  statistically different when it comes to adjusted compensation. Now let's check the actual effect size."
   ]
  },
  {
   "cell_type": "code",
   "execution_count": 16,
   "metadata": {
    "ExecuteTime": {
     "end_time": "2019-10-01T16:14:25.398362Z",
     "start_time": "2019-10-01T16:14:25.372782Z"
    }
   },
   "outputs": [
    {
     "name": "stdout",
     "output_type": "stream",
     "text": [
      "Cohen's d: 0.13645490918066677\n",
      "Difference in salary: $4759.34\n"
     ]
    }
   ],
   "source": [
    "cohens_d = power_analysis.solve_power(nobs1=len(bachelors), alpha=alpha, power=power,\n",
    "                          alternative='two-sided')\n",
    "print('Cohen\\'s d:', cohens_d)\n",
    "\n",
    "print('Difference in salary: $' + str(round(masters.mean() - bachelors.mean(), 2)))"
   ]
  },
  {
   "cell_type": "markdown",
   "metadata": {},
   "source": [
    "In terms of Cohen's _d_, that's a small effect size."
   ]
  },
  {
   "cell_type": "markdown",
   "metadata": {},
   "source": [
    "## Wages and Education II\n",
    "\n",
    "Now perform a similar statistical test comparing the AdjustedCompensation of those with Bachelor's degrees and those with Doctorates. If you haven't already, be sure to explore the distribution of the AdjustedCompensation feature for any anomalies. "
   ]
  },
  {
   "cell_type": "markdown",
   "metadata": {
    "ExecuteTime": {
     "end_time": "2019-10-01T16:09:12.489758Z",
     "start_time": "2019-10-01T16:09:12.484170Z"
    }
   },
   "source": [
    "*State the hypotheses*\n",
    "\n",
    "H0: There is no difference; mean of doctorates = mean of bachelors.\n",
    "\n",
    "Ha: They are statistically different; mean of doctorates =/= mean of bachelors."
   ]
  },
  {
   "cell_type": "code",
   "execution_count": 17,
   "metadata": {
    "ExecuteTime": {
     "end_time": "2019-10-01T16:14:25.452732Z",
     "start_time": "2019-10-01T16:14:25.414529Z"
    }
   },
   "outputs": [
    {
     "data": {
      "text/plain": [
       "count       887.000000\n",
       "mean      93442.199904\n",
       "std       63050.915028\n",
       "min       10153.000000\n",
       "25%       48000.000000\n",
       "50%       80231.000000\n",
       "75%      125000.000000\n",
       "max      400000.000000\n",
       "Name: AdjustedCompensation, dtype: float64"
      ]
     },
     "execution_count": 17,
     "metadata": {},
     "output_type": "execute_result"
    }
   ],
   "source": [
    "doctorates = df_copy[df_copy.FormalEducation == 'Doctoral degree']['AdjustedCompensation']\n",
    "doctorates.describe()"
   ]
  },
  {
   "cell_type": "code",
   "execution_count": 18,
   "metadata": {
    "ExecuteTime": {
     "end_time": "2019-10-01T16:14:25.482127Z",
     "start_time": "2019-10-01T16:14:25.463184Z"
    }
   },
   "outputs": [],
   "source": [
    "BA_v_PHD = df_copy.loc[:,['FormalEducation', 'AdjustedCompensation']]\n",
    "BA_v_PHD = BA_v_PHD[(BA_v_PHD.FormalEducation == 'Bachelor\\'s degree') | (BA_v_PHD.FormalEducation == 'Doctoral degree')]"
   ]
  },
  {
   "cell_type": "code",
   "execution_count": 19,
   "metadata": {
    "ExecuteTime": {
     "end_time": "2019-10-01T16:14:25.541812Z",
     "start_time": "2019-10-01T16:14:25.486063Z"
    }
   },
   "outputs": [
    {
     "data": {
      "text/html": [
       "<div>\n",
       "<style scoped>\n",
       "    .dataframe tbody tr th:only-of-type {\n",
       "        vertical-align: middle;\n",
       "    }\n",
       "\n",
       "    .dataframe tbody tr th {\n",
       "        vertical-align: top;\n",
       "    }\n",
       "\n",
       "    .dataframe thead th {\n",
       "        text-align: right;\n",
       "    }\n",
       "</style>\n",
       "<table border=\"1\" class=\"dataframe\">\n",
       "  <thead>\n",
       "    <tr style=\"text-align: right;\">\n",
       "      <th></th>\n",
       "      <th>sum_sq</th>\n",
       "      <th>df</th>\n",
       "      <th>F</th>\n",
       "      <th>PR(&gt;F)</th>\n",
       "    </tr>\n",
       "  </thead>\n",
       "  <tbody>\n",
       "    <tr>\n",
       "      <th>C(FormalEducation)</th>\n",
       "      <td>2.568552e+11</td>\n",
       "      <td>1.0</td>\n",
       "      <td>73.485308</td>\n",
       "      <td>2.211864e-17</td>\n",
       "    </tr>\n",
       "    <tr>\n",
       "      <th>Residual</th>\n",
       "      <td>6.043420e+12</td>\n",
       "      <td>1729.0</td>\n",
       "      <td>NaN</td>\n",
       "      <td>NaN</td>\n",
       "    </tr>\n",
       "  </tbody>\n",
       "</table>\n",
       "</div>"
      ],
      "text/plain": [
       "                          sum_sq      df          F        PR(>F)\n",
       "C(FormalEducation)  2.568552e+11     1.0  73.485308  2.211864e-17\n",
       "Residual            6.043420e+12  1729.0        NaN           NaN"
      ]
     },
     "execution_count": 19,
     "metadata": {},
     "output_type": "execute_result"
    }
   ],
   "source": [
    "# Run ANOVA\n",
    "import statsmodels.api as sm\n",
    "from statsmodels.formula.api import ols\n",
    "\n",
    "formula = 'AdjustedCompensation ~ C(FormalEducation)'\n",
    "lm = ols(formula, BA_v_PHD).fit()\n",
    "table = sm.stats.anova_lm(lm, typ=2)\n",
    "table"
   ]
  },
  {
   "cell_type": "markdown",
   "metadata": {},
   "source": [
    "That's a tiny p-value, meaning that there is a significant difference between salaries for people with bachelor's and doctoral degrees. Let's check the effect size."
   ]
  },
  {
   "cell_type": "code",
   "execution_count": 20,
   "metadata": {
    "ExecuteTime": {
     "end_time": "2019-10-01T16:14:25.575814Z",
     "start_time": "2019-10-01T16:14:25.548764Z"
    },
    "scrolled": true
   },
   "outputs": [
    {
     "name": "stdout",
     "output_type": "stream",
     "text": [
      "Cohen's d: 0.13645490918066677\n",
      "19610.887462537634\n"
     ]
    }
   ],
   "source": [
    "cohens_d = power_analysis.solve_power(nobs1=len(bachelors), alpha=alpha, power=power,\n",
    "                          alternative='two-sided')\n",
    "print('Cohen\\'s d:', cohens_d)\n",
    "\n",
    "print(doctorates.mean() - masters.mean())"
   ]
  },
  {
   "cell_type": "code",
   "execution_count": 21,
   "metadata": {
    "ExecuteTime": {
     "end_time": "2019-10-01T16:14:26.125020Z",
     "start_time": "2019-10-01T16:14:25.579563Z"
    }
   },
   "outputs": [
    {
     "data": {
      "image/png": "[encoded data removed]",
      "text/plain": [
       "<Figure size 432x288 with 1 Axes>"
      ]
     },
     "metadata": {
      "needs_background": "light"
     },
     "output_type": "display_data"
    }
   ],
   "source": [
    "plt.title('KDE plots of BA and MA salaries')\n",
    "sns.distplot(bachelors, label='BA')\n",
    "sns.distplot(masters, label='MA')\n",
    "plt.legend();\n"
   ]
  },
  {
   "cell_type": "code",
   "execution_count": 22,
   "metadata": {
    "ExecuteTime": {
     "end_time": "2019-10-01T16:14:26.576158Z",
     "start_time": "2019-10-01T16:14:26.127809Z"
    }
   },
   "outputs": [
    {
     "data": {
      "image/png": "[encoded data removed]",
      "text/plain": [
       "<Figure size 432x288 with 1 Axes>"
      ]
     },
     "metadata": {
      "needs_background": "light"
     },
     "output_type": "display_data"
    }
   ],
   "source": [
    "plt.title('KDE plots of BA and PHD salaries')\n",
    "sns.distplot(bachelors, label='BA')\n",
    "sns.distplot(doctorates, label='PHD')\n",
    "plt.legend();"
   ]
  },
  {
   "cell_type": "markdown",
   "metadata": {},
   "source": [
    "## Wages and Education III\n",
    "\n",
    "Remember the multiple comparisons problem; rather than continuing on like this, perform an ANOVA test between the various 'FormalEducation' categories and their relation to 'AdjustedCompensation'."
   ]
  },
  {
   "cell_type": "code",
   "execution_count": 23,
   "metadata": {
    "ExecuteTime": {
     "end_time": "2019-10-01T16:14:26.606968Z",
     "start_time": "2019-10-01T16:14:26.583663Z"
    },
    "scrolled": true
   },
   "outputs": [
    {
     "data": {
      "text/html": [
       "<div>\n",
       "<style scoped>\n",
       "    .dataframe tbody tr th:only-of-type {\n",
       "        vertical-align: middle;\n",
       "    }\n",
       "\n",
       "    .dataframe tbody tr th {\n",
       "        vertical-align: top;\n",
       "    }\n",
       "\n",
       "    .dataframe thead th {\n",
       "        text-align: right;\n",
       "    }\n",
       "</style>\n",
       "<table border=\"1\" class=\"dataframe\">\n",
       "  <thead>\n",
       "    <tr style=\"text-align: right;\">\n",
       "      <th></th>\n",
       "      <th>Bachelor's degree</th>\n",
       "      <th>Doctoral degree</th>\n",
       "      <th>I did not complete any formal education past high school</th>\n",
       "      <th>I prefer not to answer</th>\n",
       "      <th>Master's degree</th>\n",
       "      <th>Professional degree</th>\n",
       "      <th>Some college/university study without earning a bachelor's degree</th>\n",
       "    </tr>\n",
       "  </thead>\n",
       "  <tbody>\n",
       "    <tr>\n",
       "      <th>3</th>\n",
       "      <td>0</td>\n",
       "      <td>0</td>\n",
       "      <td>0</td>\n",
       "      <td>0</td>\n",
       "      <td>1</td>\n",
       "      <td>0</td>\n",
       "      <td>0</td>\n",
       "    </tr>\n",
       "    <tr>\n",
       "      <th>8</th>\n",
       "      <td>1</td>\n",
       "      <td>0</td>\n",
       "      <td>0</td>\n",
       "      <td>0</td>\n",
       "      <td>0</td>\n",
       "      <td>0</td>\n",
       "      <td>0</td>\n",
       "    </tr>\n",
       "    <tr>\n",
       "      <th>9</th>\n",
       "      <td>1</td>\n",
       "      <td>0</td>\n",
       "      <td>0</td>\n",
       "      <td>0</td>\n",
       "      <td>0</td>\n",
       "      <td>0</td>\n",
       "      <td>0</td>\n",
       "    </tr>\n",
       "    <tr>\n",
       "      <th>14</th>\n",
       "      <td>0</td>\n",
       "      <td>0</td>\n",
       "      <td>0</td>\n",
       "      <td>0</td>\n",
       "      <td>1</td>\n",
       "      <td>0</td>\n",
       "      <td>0</td>\n",
       "    </tr>\n",
       "    <tr>\n",
       "      <th>21</th>\n",
       "      <td>1</td>\n",
       "      <td>0</td>\n",
       "      <td>0</td>\n",
       "      <td>0</td>\n",
       "      <td>0</td>\n",
       "      <td>0</td>\n",
       "      <td>0</td>\n",
       "    </tr>\n",
       "  </tbody>\n",
       "</table>\n",
       "</div>"
      ],
      "text/plain": [
       "    Bachelor's degree  Doctoral degree  \\\n",
       "3                   0                0   \n",
       "8                   1                0   \n",
       "9                   1                0   \n",
       "14                  0                0   \n",
       "21                  1                0   \n",
       "\n",
       "    I did not complete any formal education past high school  \\\n",
       "3                                                   0          \n",
       "8                                                   0          \n",
       "9                                                   0          \n",
       "14                                                  0          \n",
       "21                                                  0          \n",
       "\n",
       "    I prefer not to answer  Master's degree  Professional degree  \\\n",
       "3                        0                1                    0   \n",
       "8                        0                0                    0   \n",
       "9                        0                0                    0   \n",
       "14                       0                1                    0   \n",
       "21                       0                0                    0   \n",
       "\n",
       "    Some college/university study without earning a bachelor's degree  \n",
       "3                                                   0                  \n",
       "8                                                   0                  \n",
       "9                                                   0                  \n",
       "14                                                  0                  \n",
       "21                                                  0                  "
      ]
     },
     "execution_count": 23,
     "metadata": {},
     "output_type": "execute_result"
    }
   ],
   "source": [
    "# Split the FormalEducation column into dummy variables\n",
    "dummies = pd.get_dummies(df_copy.FormalEducation)\n",
    "dummies.head()"
   ]
  },
  {
   "cell_type": "code",
   "execution_count": 24,
   "metadata": {
    "ExecuteTime": {
     "end_time": "2019-10-01T16:14:26.633449Z",
     "start_time": "2019-10-01T16:14:26.610924Z"
    },
    "scrolled": true
   },
   "outputs": [
    {
     "data": {
      "text/html": [
       "<div>\n",
       "<style scoped>\n",
       "    .dataframe tbody tr th:only-of-type {\n",
       "        vertical-align: middle;\n",
       "    }\n",
       "\n",
       "    .dataframe tbody tr th {\n",
       "        vertical-align: top;\n",
       "    }\n",
       "\n",
       "    .dataframe thead th {\n",
       "        text-align: right;\n",
       "    }\n",
       "</style>\n",
       "<table border=\"1\" class=\"dataframe\">\n",
       "  <thead>\n",
       "    <tr style=\"text-align: right;\">\n",
       "      <th></th>\n",
       "      <th>BA</th>\n",
       "      <th>PHD</th>\n",
       "      <th>None</th>\n",
       "      <th>Other</th>\n",
       "      <th>MA</th>\n",
       "      <th>P</th>\n",
       "      <th>Some</th>\n",
       "    </tr>\n",
       "  </thead>\n",
       "  <tbody>\n",
       "    <tr>\n",
       "      <th>3</th>\n",
       "      <td>0</td>\n",
       "      <td>0</td>\n",
       "      <td>0</td>\n",
       "      <td>0</td>\n",
       "      <td>1</td>\n",
       "      <td>0</td>\n",
       "      <td>0</td>\n",
       "    </tr>\n",
       "    <tr>\n",
       "      <th>8</th>\n",
       "      <td>1</td>\n",
       "      <td>0</td>\n",
       "      <td>0</td>\n",
       "      <td>0</td>\n",
       "      <td>0</td>\n",
       "      <td>0</td>\n",
       "      <td>0</td>\n",
       "    </tr>\n",
       "    <tr>\n",
       "      <th>9</th>\n",
       "      <td>1</td>\n",
       "      <td>0</td>\n",
       "      <td>0</td>\n",
       "      <td>0</td>\n",
       "      <td>0</td>\n",
       "      <td>0</td>\n",
       "      <td>0</td>\n",
       "    </tr>\n",
       "    <tr>\n",
       "      <th>14</th>\n",
       "      <td>0</td>\n",
       "      <td>0</td>\n",
       "      <td>0</td>\n",
       "      <td>0</td>\n",
       "      <td>1</td>\n",
       "      <td>0</td>\n",
       "      <td>0</td>\n",
       "    </tr>\n",
       "    <tr>\n",
       "      <th>21</th>\n",
       "      <td>1</td>\n",
       "      <td>0</td>\n",
       "      <td>0</td>\n",
       "      <td>0</td>\n",
       "      <td>0</td>\n",
       "      <td>0</td>\n",
       "      <td>0</td>\n",
       "    </tr>\n",
       "  </tbody>\n",
       "</table>\n",
       "</div>"
      ],
      "text/plain": [
       "    BA  PHD  None  Other  MA  P  Some\n",
       "3    0    0     0      0   1  0     0\n",
       "8    1    0     0      0   0  0     0\n",
       "9    1    0     0      0   0  0     0\n",
       "14   0    0     0      0   1  0     0\n",
       "21   1    0     0      0   0  0     0"
      ]
     },
     "execution_count": 24,
     "metadata": {},
     "output_type": "execute_result"
    }
   ],
   "source": [
    "# Rename the columns so they're easier to reference\n",
    "dummies.columns = ['BA', 'PHD', 'None', 'Other', 'MA', 'P', 'Some']\n",
    "dummies.head()"
   ]
  },
  {
   "cell_type": "code",
   "execution_count": 25,
   "metadata": {
    "ExecuteTime": {
     "end_time": "2019-10-01T16:14:26.712087Z",
     "start_time": "2019-10-01T16:14:26.639157Z"
    }
   },
   "outputs": [
    {
     "data": {
      "text/html": [
       "<div>\n",
       "<style scoped>\n",
       "    .dataframe tbody tr th:only-of-type {\n",
       "        vertical-align: middle;\n",
       "    }\n",
       "\n",
       "    .dataframe tbody tr th {\n",
       "        vertical-align: top;\n",
       "    }\n",
       "\n",
       "    .dataframe thead th {\n",
       "        text-align: right;\n",
       "    }\n",
       "</style>\n",
       "<table border=\"1\" class=\"dataframe\">\n",
       "  <thead>\n",
       "    <tr style=\"text-align: right;\">\n",
       "      <th></th>\n",
       "      <th>GenderSelect</th>\n",
       "      <th>Country</th>\n",
       "      <th>Age</th>\n",
       "      <th>EmploymentStatus</th>\n",
       "      <th>StudentStatus</th>\n",
       "      <th>LearningDataScience</th>\n",
       "      <th>CodeWriter</th>\n",
       "      <th>CareerSwitcher</th>\n",
       "      <th>CurrentJobTitleSelect</th>\n",
       "      <th>TitleFit</th>\n",
       "      <th>...</th>\n",
       "      <th>JobFactorPublishingOpportunity</th>\n",
       "      <th>exchangeRate</th>\n",
       "      <th>AdjustedCompensation</th>\n",
       "      <th>BA</th>\n",
       "      <th>PHD</th>\n",
       "      <th>None</th>\n",
       "      <th>Other</th>\n",
       "      <th>MA</th>\n",
       "      <th>P</th>\n",
       "      <th>Some</th>\n",
       "    </tr>\n",
       "  </thead>\n",
       "  <tbody>\n",
       "    <tr>\n",
       "      <th>3</th>\n",
       "      <td>Male</td>\n",
       "      <td>United States</td>\n",
       "      <td>56.0</td>\n",
       "      <td>Independent contractor, freelancer, or self-em...</td>\n",
       "      <td>NaN</td>\n",
       "      <td>NaN</td>\n",
       "      <td>Yes</td>\n",
       "      <td>NaN</td>\n",
       "      <td>Operations Research Practitioner</td>\n",
       "      <td>Poorly</td>\n",
       "      <td>...</td>\n",
       "      <td>NaN</td>\n",
       "      <td>1.000000</td>\n",
       "      <td>250000.0</td>\n",
       "      <td>0</td>\n",
       "      <td>0</td>\n",
       "      <td>0</td>\n",
       "      <td>0</td>\n",
       "      <td>1</td>\n",
       "      <td>0</td>\n",
       "      <td>0</td>\n",
       "    </tr>\n",
       "    <tr>\n",
       "      <th>8</th>\n",
       "      <td>Female</td>\n",
       "      <td>Australia</td>\n",
       "      <td>43.0</td>\n",
       "      <td>Employed full-time</td>\n",
       "      <td>NaN</td>\n",
       "      <td>NaN</td>\n",
       "      <td>Yes</td>\n",
       "      <td>NaN</td>\n",
       "      <td>Business Analyst</td>\n",
       "      <td>Fine</td>\n",
       "      <td>...</td>\n",
       "      <td>NaN</td>\n",
       "      <td>0.802310</td>\n",
       "      <td>64184.8</td>\n",
       "      <td>1</td>\n",
       "      <td>0</td>\n",
       "      <td>0</td>\n",
       "      <td>0</td>\n",
       "      <td>0</td>\n",
       "      <td>0</td>\n",
       "      <td>0</td>\n",
       "    </tr>\n",
       "    <tr>\n",
       "      <th>9</th>\n",
       "      <td>Male</td>\n",
       "      <td>Russia</td>\n",
       "      <td>33.0</td>\n",
       "      <td>Employed full-time</td>\n",
       "      <td>NaN</td>\n",
       "      <td>NaN</td>\n",
       "      <td>Yes</td>\n",
       "      <td>NaN</td>\n",
       "      <td>Software Developer/Software Engineer</td>\n",
       "      <td>Fine</td>\n",
       "      <td>...</td>\n",
       "      <td>NaN</td>\n",
       "      <td>0.017402</td>\n",
       "      <td>20882.4</td>\n",
       "      <td>1</td>\n",
       "      <td>0</td>\n",
       "      <td>0</td>\n",
       "      <td>0</td>\n",
       "      <td>0</td>\n",
       "      <td>0</td>\n",
       "      <td>0</td>\n",
       "    </tr>\n",
       "    <tr>\n",
       "      <th>14</th>\n",
       "      <td>Male</td>\n",
       "      <td>Taiwan</td>\n",
       "      <td>26.0</td>\n",
       "      <td>Employed full-time</td>\n",
       "      <td>NaN</td>\n",
       "      <td>NaN</td>\n",
       "      <td>Yes</td>\n",
       "      <td>NaN</td>\n",
       "      <td>Software Developer/Software Engineer</td>\n",
       "      <td>Fine</td>\n",
       "      <td>...</td>\n",
       "      <td>NaN</td>\n",
       "      <td>0.033304</td>\n",
       "      <td>36634.4</td>\n",
       "      <td>0</td>\n",
       "      <td>0</td>\n",
       "      <td>0</td>\n",
       "      <td>0</td>\n",
       "      <td>1</td>\n",
       "      <td>0</td>\n",
       "      <td>0</td>\n",
       "    </tr>\n",
       "    <tr>\n",
       "      <th>21</th>\n",
       "      <td>Male</td>\n",
       "      <td>United States</td>\n",
       "      <td>25.0</td>\n",
       "      <td>Employed part-time</td>\n",
       "      <td>NaN</td>\n",
       "      <td>NaN</td>\n",
       "      <td>Yes</td>\n",
       "      <td>NaN</td>\n",
       "      <td>Researcher</td>\n",
       "      <td>Fine</td>\n",
       "      <td>...</td>\n",
       "      <td>NaN</td>\n",
       "      <td>1.000000</td>\n",
       "      <td>20000.0</td>\n",
       "      <td>1</td>\n",
       "      <td>0</td>\n",
       "      <td>0</td>\n",
       "      <td>0</td>\n",
       "      <td>0</td>\n",
       "      <td>0</td>\n",
       "      <td>0</td>\n",
       "    </tr>\n",
       "  </tbody>\n",
       "</table>\n",
       "<p>5 rows × 237 columns</p>\n",
       "</div>"
      ],
      "text/plain": [
       "   GenderSelect        Country   Age  \\\n",
       "3          Male  United States  56.0   \n",
       "8        Female      Australia  43.0   \n",
       "9          Male         Russia  33.0   \n",
       "14         Male         Taiwan  26.0   \n",
       "21         Male  United States  25.0   \n",
       "\n",
       "                                     EmploymentStatus StudentStatus  \\\n",
       "3   Independent contractor, freelancer, or self-em...           NaN   \n",
       "8                                  Employed full-time           NaN   \n",
       "9                                  Employed full-time           NaN   \n",
       "14                                 Employed full-time           NaN   \n",
       "21                                 Employed part-time           NaN   \n",
       "\n",
       "   LearningDataScience CodeWriter CareerSwitcher  \\\n",
       "3                  NaN        Yes            NaN   \n",
       "8                  NaN        Yes            NaN   \n",
       "9                  NaN        Yes            NaN   \n",
       "14                 NaN        Yes            NaN   \n",
       "21                 NaN        Yes            NaN   \n",
       "\n",
       "                   CurrentJobTitleSelect TitleFit ...   \\\n",
       "3       Operations Research Practitioner   Poorly ...    \n",
       "8                       Business Analyst     Fine ...    \n",
       "9   Software Developer/Software Engineer     Fine ...    \n",
       "14  Software Developer/Software Engineer     Fine ...    \n",
       "21                            Researcher     Fine ...    \n",
       "\n",
       "   JobFactorPublishingOpportunity exchangeRate AdjustedCompensation BA PHD  \\\n",
       "3                             NaN     1.000000             250000.0  0   0   \n",
       "8                             NaN     0.802310              64184.8  1   0   \n",
       "9                             NaN     0.017402              20882.4  1   0   \n",
       "14                            NaN     0.033304              36634.4  0   0   \n",
       "21                            NaN     1.000000              20000.0  1   0   \n",
       "\n",
       "   None Other MA  P Some  \n",
       "3     0     0  1  0    0  \n",
       "8     0     0  0  0    0  \n",
       "9     0     0  0  0    0  \n",
       "14    0     0  1  0    0  \n",
       "21    0     0  0  0    0  \n",
       "\n",
       "[5 rows x 237 columns]"
      ]
     },
     "execution_count": 25,
     "metadata": {},
     "output_type": "execute_result"
    }
   ],
   "source": [
    "# Join the dummies onto the main dataset\n",
    "df_dummies = df_copy.join(dummies)\n",
    "df_dummies.head()"
   ]
  },
  {
   "cell_type": "code",
   "execution_count": 26,
   "metadata": {
    "ExecuteTime": {
     "end_time": "2019-10-01T16:14:26.815288Z",
     "start_time": "2019-10-01T16:14:26.721397Z"
    },
    "scrolled": true
   },
   "outputs": [
    {
     "data": {
      "text/html": [
       "<div>\n",
       "<style scoped>\n",
       "    .dataframe tbody tr th:only-of-type {\n",
       "        vertical-align: middle;\n",
       "    }\n",
       "\n",
       "    .dataframe tbody tr th {\n",
       "        vertical-align: top;\n",
       "    }\n",
       "\n",
       "    .dataframe thead th {\n",
       "        text-align: right;\n",
       "    }\n",
       "</style>\n",
       "<table border=\"1\" class=\"dataframe\">\n",
       "  <thead>\n",
       "    <tr style=\"text-align: right;\">\n",
       "      <th></th>\n",
       "      <th>sum_sq</th>\n",
       "      <th>df</th>\n",
       "      <th>F</th>\n",
       "      <th>PR(&gt;F)</th>\n",
       "    </tr>\n",
       "  </thead>\n",
       "  <tbody>\n",
       "    <tr>\n",
       "      <th>C(BA)</th>\n",
       "      <td>1.753223e+09</td>\n",
       "      <td>1.0</td>\n",
       "      <td>0.563616</td>\n",
       "      <td>4.528554e-01</td>\n",
       "    </tr>\n",
       "    <tr>\n",
       "      <th>C(MA)</th>\n",
       "      <td>5.200839e+08</td>\n",
       "      <td>1.0</td>\n",
       "      <td>0.167193</td>\n",
       "      <td>6.826422e-01</td>\n",
       "    </tr>\n",
       "    <tr>\n",
       "      <th>C(PHD)</th>\n",
       "      <td>8.088111e+10</td>\n",
       "      <td>1.0</td>\n",
       "      <td>26.001171</td>\n",
       "      <td>3.585407e-07</td>\n",
       "    </tr>\n",
       "    <tr>\n",
       "      <th>Residual</th>\n",
       "      <td>1.136328e+13</td>\n",
       "      <td>3653.0</td>\n",
       "      <td>NaN</td>\n",
       "      <td>NaN</td>\n",
       "    </tr>\n",
       "  </tbody>\n",
       "</table>\n",
       "</div>"
      ],
      "text/plain": [
       "                sum_sq      df          F        PR(>F)\n",
       "C(BA)     1.753223e+09     1.0   0.563616  4.528554e-01\n",
       "C(MA)     5.200839e+08     1.0   0.167193  6.826422e-01\n",
       "C(PHD)    8.088111e+10     1.0  26.001171  3.585407e-07\n",
       "Residual  1.136328e+13  3653.0        NaN           NaN"
      ]
     },
     "execution_count": 26,
     "metadata": {},
     "output_type": "execute_result"
    }
   ],
   "source": [
    "# Run ANOVA\n",
    "import statsmodels.api as sm\n",
    "from statsmodels.formula.api import ols\n",
    "\n",
    "formula = 'AdjustedCompensation ~ C(BA) + C(MA) + C(PHD)'\n",
    "lm = ols(formula, df_dummies).fit()\n",
    "table = sm.stats.anova_lm(lm, typ=2)\n",
    "table"
   ]
  },
  {
   "cell_type": "markdown",
   "metadata": {},
   "source": [
    "Of the three education levels considered, only doctoral degrees have a significant effect on salary."
   ]
  },
  {
   "cell_type": "markdown",
   "metadata": {},
   "source": [
    "## Additional Resources\n",
    "\n",
    "Here's the original source where the data was taken from:  \n",
    "    [Kaggle Machine Learning & Data Science Survey 2017](https://www.kaggle.com/kaggle/kaggle-survey-2017)"
   ]
  },
  {
   "cell_type": "markdown",
   "metadata": {},
   "source": [
    "## Summary\n",
    "\n",
    "In this lab, you practiced conducting actual hypothesis tests on actual data. From this, you saw how dependent results can be on the initial problem formulation, including preprocessing!"
   ]
  }
 ],
 "metadata": {
  "kernelspec": {
   "display_name": "learn-env",
   "language": "python",
   "name": "learn-env"
  },
  "language_info": {
   "codemirror_mode": {
    "name": "ipython",
    "version": 3
   },
   "file_extension": ".py",
   "mimetype": "text/x-python",
   "name": "python",
   "nbconvert_exporter": "python",
   "pygments_lexer": "ipython3",
   "version": "3.6.6"
  },
  "toc": {
   "base_numbering": 1,
   "nav_menu": {},
   "number_sections": true,
   "sideBar": true,
   "skip_h1_title": false,
   "title_cell": "Table of Contents",
   "title_sidebar": "Contents",
   "toc_cell": false,
   "toc_position": {},
   "toc_section_display": true,
   "toc_window_display": false
  }
 },
 "nbformat": 4,
 "nbformat_minor": 2
}
