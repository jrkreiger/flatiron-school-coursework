{
 "cells": [
  {
   "cell_type": "markdown",
   "metadata": {},
   "source": [
    "# Ridge and Lasso Regression - Lab"
   ]
  },
  {
   "cell_type": "markdown",
   "metadata": {},
   "source": [
    "## Introduction"
   ]
  },
  {
   "cell_type": "markdown",
   "metadata": {},
   "source": [
    "In this lab, you'll practice your knowledge of Ridge and Lasso regression!"
   ]
  },
  {
   "cell_type": "markdown",
   "metadata": {},
   "source": [
    "## Objectives"
   ]
  },
  {
   "cell_type": "markdown",
   "metadata": {},
   "source": [
    "You will be able to:"
   ]
  },
  {
   "cell_type": "markdown",
   "metadata": {},
   "source": [
    "* Use Lasso and ridge regression in Python\n",
    "* Compare Lasso and Ridge with standard regression"
   ]
  },
  {
   "cell_type": "markdown",
   "metadata": {},
   "source": [
    "## Housing Prices Data"
   ]
  },
  {
   "cell_type": "markdown",
   "metadata": {},
   "source": [
    "Let's look at yet another house pricing data set."
   ]
  },
  {
   "cell_type": "code",
   "execution_count": 1,
   "metadata": {
    "ExecuteTime": {
     "end_time": "2019-10-17T20:39:32.889308Z",
     "start_time": "2019-10-17T20:39:31.659232Z"
    }
   },
   "outputs": [],
   "source": [
    "import pandas as pd\n",
    "import numpy as np\n",
    "import matplotlib.pyplot as plt\n",
    "%matplotlib inline\n",
    "\n",
    "from sklearn.linear_model import Ridge, Lasso, LinearRegression\n",
    "from sklearn.model_selection import train_test_split\n",
    "\n",
    "import warnings\n",
    "warnings.filterwarnings('ignore')\n",
    "\n",
    "df = pd.read_csv('Housing_Prices/train.csv')"
   ]
  },
  {
   "cell_type": "markdown",
   "metadata": {},
   "source": [
    "### Look at df.info"
   ]
  },
  {
   "cell_type": "code",
   "execution_count": 2,
   "metadata": {
    "ExecuteTime": {
     "end_time": "2019-10-17T20:39:32.923574Z",
     "start_time": "2019-10-17T20:39:32.892963Z"
    }
   },
   "outputs": [
    {
     "name": "stdout",
     "output_type": "stream",
     "text": [
      "<class 'pandas.core.frame.DataFrame'>\n",
      "RangeIndex: 1460 entries, 0 to 1459\n",
      "Data columns (total 81 columns):\n",
      "Id               1460 non-null int64\n",
      "MSSubClass       1460 non-null int64\n",
      "MSZoning         1460 non-null object\n",
      "LotFrontage      1201 non-null float64\n",
      "LotArea          1460 non-null int64\n",
      "Street           1460 non-null object\n",
      "Alley            91 non-null object\n",
      "LotShape         1460 non-null object\n",
      "LandContour      1460 non-null object\n",
      "Utilities        1460 non-null object\n",
      "LotConfig        1460 non-null object\n",
      "LandSlope        1460 non-null object\n",
      "Neighborhood     1460 non-null object\n",
      "Condition1       1460 non-null object\n",
      "Condition2       1460 non-null object\n",
      "BldgType         1460 non-null object\n",
      "HouseStyle       1460 non-null object\n",
      "OverallQual      1460 non-null int64\n",
      "OverallCond      1460 non-null int64\n",
      "YearBuilt        1460 non-null int64\n",
      "YearRemodAdd     1460 non-null int64\n",
      "RoofStyle        1460 non-null object\n",
      "RoofMatl         1460 non-null object\n",
      "Exterior1st      1460 non-null object\n",
      "Exterior2nd      1460 non-null object\n",
      "MasVnrType       1452 non-null object\n",
      "MasVnrArea       1452 non-null float64\n",
      "ExterQual        1460 non-null object\n",
      "ExterCond        1460 non-null object\n",
      "Foundation       1460 non-null object\n",
      "BsmtQual         1423 non-null object\n",
      "BsmtCond         1423 non-null object\n",
      "BsmtExposure     1422 non-null object\n",
      "BsmtFinType1     1423 non-null object\n",
      "BsmtFinSF1       1460 non-null int64\n",
      "BsmtFinType2     1422 non-null object\n",
      "BsmtFinSF2       1460 non-null int64\n",
      "BsmtUnfSF        1460 non-null int64\n",
      "TotalBsmtSF      1460 non-null int64\n",
      "Heating          1460 non-null object\n",
      "HeatingQC        1460 non-null object\n",
      "CentralAir       1460 non-null object\n",
      "Electrical       1459 non-null object\n",
      "1stFlrSF         1460 non-null int64\n",
      "2ndFlrSF         1460 non-null int64\n",
      "LowQualFinSF     1460 non-null int64\n",
      "GrLivArea        1460 non-null int64\n",
      "BsmtFullBath     1460 non-null int64\n",
      "BsmtHalfBath     1460 non-null int64\n",
      "FullBath         1460 non-null int64\n",
      "HalfBath         1460 non-null int64\n",
      "BedroomAbvGr     1460 non-null int64\n",
      "KitchenAbvGr     1460 non-null int64\n",
      "KitchenQual      1460 non-null object\n",
      "TotRmsAbvGrd     1460 non-null int64\n",
      "Functional       1460 non-null object\n",
      "Fireplaces       1460 non-null int64\n",
      "FireplaceQu      770 non-null object\n",
      "GarageType       1379 non-null object\n",
      "GarageYrBlt      1379 non-null float64\n",
      "GarageFinish     1379 non-null object\n",
      "GarageCars       1460 non-null int64\n",
      "GarageArea       1460 non-null int64\n",
      "GarageQual       1379 non-null object\n",
      "GarageCond       1379 non-null object\n",
      "PavedDrive       1460 non-null object\n",
      "WoodDeckSF       1460 non-null int64\n",
      "OpenPorchSF      1460 non-null int64\n",
      "EnclosedPorch    1460 non-null int64\n",
      "3SsnPorch        1460 non-null int64\n",
      "ScreenPorch      1460 non-null int64\n",
      "PoolArea         1460 non-null int64\n",
      "PoolQC           7 non-null object\n",
      "Fence            281 non-null object\n",
      "MiscFeature      54 non-null object\n",
      "MiscVal          1460 non-null int64\n",
      "MoSold           1460 non-null int64\n",
      "YrSold           1460 non-null int64\n",
      "SaleType         1460 non-null object\n",
      "SaleCondition    1460 non-null object\n",
      "SalePrice        1460 non-null int64\n",
      "dtypes: float64(3), int64(35), object(43)\n",
      "memory usage: 924.0+ KB\n"
     ]
    }
   ],
   "source": [
    "# Your code here\n",
    "df.info()"
   ]
  },
  {
   "cell_type": "markdown",
   "metadata": {},
   "source": [
    "First, make a selection of the data by removing some of the data with `dtype = object`, this way our first model only contains **continuous features**\n",
    "\n",
    "Make sure to remove the SalesPrice column from the predictors (which you store in `X`), then replace missing inputs by the median per feature.\n",
    "\n",
    "Store the target in `y`."
   ]
  },
  {
   "cell_type": "code",
   "execution_count": 3,
   "metadata": {
    "ExecuteTime": {
     "end_time": "2019-10-17T20:39:32.976382Z",
     "start_time": "2019-10-17T20:39:32.927626Z"
    }
   },
   "outputs": [
    {
     "name": "stdout",
     "output_type": "stream",
     "text": [
      "<class 'pandas.core.frame.DataFrame'>\n",
      "RangeIndex: 1460 entries, 0 to 1459\n",
      "Data columns (total 38 columns):\n",
      "Id               1460 non-null int64\n",
      "MSSubClass       1460 non-null int64\n",
      "LotFrontage      1201 non-null float64\n",
      "LotArea          1460 non-null int64\n",
      "OverallQual      1460 non-null int64\n",
      "OverallCond      1460 non-null int64\n",
      "YearBuilt        1460 non-null int64\n",
      "YearRemodAdd     1460 non-null int64\n",
      "MasVnrArea       1452 non-null float64\n",
      "BsmtFinSF1       1460 non-null int64\n",
      "BsmtFinSF2       1460 non-null int64\n",
      "BsmtUnfSF        1460 non-null int64\n",
      "TotalBsmtSF      1460 non-null int64\n",
      "1stFlrSF         1460 non-null int64\n",
      "2ndFlrSF         1460 non-null int64\n",
      "LowQualFinSF     1460 non-null int64\n",
      "GrLivArea        1460 non-null int64\n",
      "BsmtFullBath     1460 non-null int64\n",
      "BsmtHalfBath     1460 non-null int64\n",
      "FullBath         1460 non-null int64\n",
      "HalfBath         1460 non-null int64\n",
      "BedroomAbvGr     1460 non-null int64\n",
      "KitchenAbvGr     1460 non-null int64\n",
      "TotRmsAbvGrd     1460 non-null int64\n",
      "Fireplaces       1460 non-null int64\n",
      "GarageYrBlt      1379 non-null float64\n",
      "GarageCars       1460 non-null int64\n",
      "GarageArea       1460 non-null int64\n",
      "WoodDeckSF       1460 non-null int64\n",
      "OpenPorchSF      1460 non-null int64\n",
      "EnclosedPorch    1460 non-null int64\n",
      "3SsnPorch        1460 non-null int64\n",
      "ScreenPorch      1460 non-null int64\n",
      "PoolArea         1460 non-null int64\n",
      "MiscVal          1460 non-null int64\n",
      "MoSold           1460 non-null int64\n",
      "YrSold           1460 non-null int64\n",
      "SalePrice        1460 non-null int64\n",
      "dtypes: float64(3), int64(35)\n",
      "memory usage: 433.6 KB\n"
     ]
    }
   ],
   "source": [
    "# remove \"object\"-type features and SalesPrice from `X`\n",
    "df2 = df.select_dtypes(exclude='object')\n",
    "df2.info()"
   ]
  },
  {
   "cell_type": "code",
   "execution_count": 4,
   "metadata": {
    "ExecuteTime": {
     "end_time": "2019-10-17T20:39:33.020288Z",
     "start_time": "2019-10-17T20:39:32.979659Z"
    }
   },
   "outputs": [
    {
     "name": "stdout",
     "output_type": "stream",
     "text": [
      "<class 'pandas.core.frame.DataFrame'>\n",
      "RangeIndex: 1460 entries, 0 to 1459\n",
      "Data columns (total 38 columns):\n",
      "Id               1460 non-null int64\n",
      "MSSubClass       1460 non-null int64\n",
      "LotFrontage      1460 non-null float64\n",
      "LotArea          1460 non-null int64\n",
      "OverallQual      1460 non-null int64\n",
      "OverallCond      1460 non-null int64\n",
      "YearBuilt        1460 non-null int64\n",
      "YearRemodAdd     1460 non-null int64\n",
      "MasVnrArea       1460 non-null float64\n",
      "BsmtFinSF1       1460 non-null int64\n",
      "BsmtFinSF2       1460 non-null int64\n",
      "BsmtUnfSF        1460 non-null int64\n",
      "TotalBsmtSF      1460 non-null int64\n",
      "1stFlrSF         1460 non-null int64\n",
      "2ndFlrSF         1460 non-null int64\n",
      "LowQualFinSF     1460 non-null int64\n",
      "GrLivArea        1460 non-null int64\n",
      "BsmtFullBath     1460 non-null int64\n",
      "BsmtHalfBath     1460 non-null int64\n",
      "FullBath         1460 non-null int64\n",
      "HalfBath         1460 non-null int64\n",
      "BedroomAbvGr     1460 non-null int64\n",
      "KitchenAbvGr     1460 non-null int64\n",
      "TotRmsAbvGrd     1460 non-null int64\n",
      "Fireplaces       1460 non-null int64\n",
      "GarageYrBlt      1460 non-null float64\n",
      "GarageCars       1460 non-null int64\n",
      "GarageArea       1460 non-null int64\n",
      "WoodDeckSF       1460 non-null int64\n",
      "OpenPorchSF      1460 non-null int64\n",
      "EnclosedPorch    1460 non-null int64\n",
      "3SsnPorch        1460 non-null int64\n",
      "ScreenPorch      1460 non-null int64\n",
      "PoolArea         1460 non-null int64\n",
      "MiscVal          1460 non-null int64\n",
      "MoSold           1460 non-null int64\n",
      "YrSold           1460 non-null int64\n",
      "SalePrice        1460 non-null int64\n",
      "dtypes: float64(3), int64(35)\n",
      "memory usage: 433.6 KB\n"
     ]
    }
   ],
   "source": [
    "# Impute null values\n",
    "for col in df2:\n",
    "    med = df2[col].median()\n",
    "    df2[col].fillna(med, inplace=True)\n",
    "df2.info()"
   ]
  },
  {
   "cell_type": "code",
   "execution_count": 5,
   "metadata": {
    "ExecuteTime": {
     "end_time": "2019-10-17T20:39:33.031036Z",
     "start_time": "2019-10-17T20:39:33.023969Z"
    }
   },
   "outputs": [],
   "source": [
    "# Create y\n",
    "X = df2.drop('SalePrice', axis=1)\n",
    "y = df2['SalePrice']"
   ]
  },
  {
   "cell_type": "markdown",
   "metadata": {},
   "source": [
    "Look at the information of `X` again"
   ]
  },
  {
   "cell_type": "code",
   "execution_count": 6,
   "metadata": {
    "ExecuteTime": {
     "end_time": "2019-10-17T20:39:33.051608Z",
     "start_time": "2019-10-17T20:39:33.034489Z"
    }
   },
   "outputs": [
    {
     "name": "stdout",
     "output_type": "stream",
     "text": [
      "<class 'pandas.core.frame.DataFrame'>\n",
      "RangeIndex: 1460 entries, 0 to 1459\n",
      "Data columns (total 37 columns):\n",
      "Id               1460 non-null int64\n",
      "MSSubClass       1460 non-null int64\n",
      "LotFrontage      1460 non-null float64\n",
      "LotArea          1460 non-null int64\n",
      "OverallQual      1460 non-null int64\n",
      "OverallCond      1460 non-null int64\n",
      "YearBuilt        1460 non-null int64\n",
      "YearRemodAdd     1460 non-null int64\n",
      "MasVnrArea       1460 non-null float64\n",
      "BsmtFinSF1       1460 non-null int64\n",
      "BsmtFinSF2       1460 non-null int64\n",
      "BsmtUnfSF        1460 non-null int64\n",
      "TotalBsmtSF      1460 non-null int64\n",
      "1stFlrSF         1460 non-null int64\n",
      "2ndFlrSF         1460 non-null int64\n",
      "LowQualFinSF     1460 non-null int64\n",
      "GrLivArea        1460 non-null int64\n",
      "BsmtFullBath     1460 non-null int64\n",
      "BsmtHalfBath     1460 non-null int64\n",
      "FullBath         1460 non-null int64\n",
      "HalfBath         1460 non-null int64\n",
      "BedroomAbvGr     1460 non-null int64\n",
      "KitchenAbvGr     1460 non-null int64\n",
      "TotRmsAbvGrd     1460 non-null int64\n",
      "Fireplaces       1460 non-null int64\n",
      "GarageYrBlt      1460 non-null float64\n",
      "GarageCars       1460 non-null int64\n",
      "GarageArea       1460 non-null int64\n",
      "WoodDeckSF       1460 non-null int64\n",
      "OpenPorchSF      1460 non-null int64\n",
      "EnclosedPorch    1460 non-null int64\n",
      "3SsnPorch        1460 non-null int64\n",
      "ScreenPorch      1460 non-null int64\n",
      "PoolArea         1460 non-null int64\n",
      "MiscVal          1460 non-null int64\n",
      "MoSold           1460 non-null int64\n",
      "YrSold           1460 non-null int64\n",
      "dtypes: float64(3), int64(34)\n",
      "memory usage: 422.2 KB\n"
     ]
    }
   ],
   "source": [
    "X.info()"
   ]
  },
  {
   "cell_type": "markdown",
   "metadata": {},
   "source": [
    "## Let's use this data to perform a first naive linear regression model"
   ]
  },
  {
   "cell_type": "markdown",
   "metadata": {},
   "source": [
    "Compute the R squared and the MSE for both train and test set."
   ]
  },
  {
   "cell_type": "code",
   "execution_count": 7,
   "metadata": {
    "ExecuteTime": {
     "end_time": "2019-10-17T20:39:33.072190Z",
     "start_time": "2019-10-17T20:39:33.056822Z"
    }
   },
   "outputs": [
    {
     "name": "stdout",
     "output_type": "stream",
     "text": [
      "(1095, 37)\n",
      "(1095,)\n",
      "(365, 37)\n",
      "(365,)\n"
     ]
    }
   ],
   "source": [
    "from sklearn.metrics import mean_squared_error, r2_score\n",
    "\n",
    "# Split in train and test\n",
    "x_train, x_test, y_train, y_test = train_test_split(X, y)\n",
    "\n",
    "print(x_train.shape)\n",
    "print(y_train.shape)\n",
    "print(x_test.shape)\n",
    "print(y_test.shape)"
   ]
  },
  {
   "cell_type": "code",
   "execution_count": 8,
   "metadata": {
    "ExecuteTime": {
     "end_time": "2019-10-17T20:39:33.114707Z",
     "start_time": "2019-10-17T20:39:33.077995Z"
    }
   },
   "outputs": [
    {
     "name": "stdout",
     "output_type": "stream",
     "text": [
      "Train MSE: 1241924531.6231084 Train R2: 0.801783453939509\n",
      "Test MSE:   769571749.6528112 Test R2:  0.8803274409796734\n"
     ]
    }
   ],
   "source": [
    "# Fit the model and print R2 and MSE for train and test\n",
    "linreg = LinearRegression().fit(x_train, y_train)\n",
    "y_hat_train = linreg.predict(x_train)\n",
    "\n",
    "train_mse = mean_squared_error(y_train, y_hat_train)\n",
    "train_r2 = linreg.score(x_train, y_train)\n",
    "\n",
    "linreg = LinearRegression().fit(x_test, y_test)\n",
    "y_hat_test = linreg.predict(x_test)\n",
    "\n",
    "test_mse = mean_squared_error(y_test, y_hat_test)\n",
    "test_r2 = linreg.score(x_test, y_test)\n",
    "\n",
    "print('Train MSE:', train_mse, 'Train R2:', train_r2)\n",
    "\n",
    "print('Test MSE:  ', test_mse, 'Test R2: ', test_r2)\n"
   ]
  },
  {
   "cell_type": "markdown",
   "metadata": {},
   "source": [
    "## Normalize your data"
   ]
  },
  {
   "cell_type": "markdown",
   "metadata": {},
   "source": [
    "We haven't normalized our data, let's create a new model that uses `preprocessing.scale` to scale our predictors!"
   ]
  },
  {
   "cell_type": "code",
   "execution_count": 9,
   "metadata": {
    "ExecuteTime": {
     "end_time": "2019-10-17T20:39:33.132620Z",
     "start_time": "2019-10-17T20:39:33.119652Z"
    }
   },
   "outputs": [],
   "source": [
    "from sklearn.preprocessing import MinMaxScaler\n",
    "from sklearn import preprocessing\n",
    "\n",
    "# Scale the data and perform train test split\n",
    "# scale = MinMaxScaler()\n",
    "# transformed = scale.fit_transform(X)\n",
    "# X = pd.DataFrame(transformed, columns = X.columns)\n",
    "# display(X.describe())\n",
    "\n",
    "X_scaled = preprocessing.scale(X)"
   ]
  },
  {
   "cell_type": "code",
   "execution_count": 10,
   "metadata": {
    "ExecuteTime": {
     "end_time": "2019-10-17T20:39:33.142748Z",
     "start_time": "2019-10-17T20:39:33.135913Z"
    }
   },
   "outputs": [],
   "source": [
    "# Train-test split\n",
    "x_train, x_test, y_train, y_test = train_test_split(X_scaled, y)"
   ]
  },
  {
   "cell_type": "markdown",
   "metadata": {},
   "source": [
    "Perform the same linear regression on this data and print out R-squared and MSE."
   ]
  },
  {
   "cell_type": "code",
   "execution_count": 11,
   "metadata": {
    "ExecuteTime": {
     "end_time": "2019-10-17T20:39:33.173180Z",
     "start_time": "2019-10-17T20:39:33.148211Z"
    }
   },
   "outputs": [
    {
     "name": "stdout",
     "output_type": "stream",
     "text": [
      "Train MSE: 1260698718.4140344 Train R2: 0.8038053293890659\n",
      "Test MSE: 684449863.5096565 Test R2:  0.8849598692177485\n"
     ]
    }
   ],
   "source": [
    "# Rerun previous linear regression\n",
    "# Fit the model and print R2 and MSE for train and test\n",
    "linreg = LinearRegression().fit(x_train, y_train)\n",
    "y_hat_train = linreg.predict(x_train)\n",
    "\n",
    "train_mse = mean_squared_error(y_train, y_hat_train)\n",
    "train_r2 = linreg.score(x_train, y_train)\n",
    "\n",
    "linreg = LinearRegression().fit(x_test, y_test)\n",
    "y_hat_test = linreg.predict(x_test)\n",
    "\n",
    "test_mse = mean_squared_error(y_test, y_hat_test)\n",
    "test_r2 = linreg.score(x_test, y_test)\n",
    "\n",
    "print('Train MSE:', train_mse, 'Train R2:', train_r2)\n",
    "\n",
    "print('Test MSE:', test_mse, 'Test R2: ', test_r2)"
   ]
  },
  {
   "cell_type": "markdown",
   "metadata": {},
   "source": [
    "## Include dummy variables"
   ]
  },
  {
   "cell_type": "markdown",
   "metadata": {},
   "source": [
    "Your model hasn't included dummy variables so far: let's use the \"object\" variables again and create dummies"
   ]
  },
  {
   "cell_type": "code",
   "execution_count": 12,
   "metadata": {
    "ExecuteTime": {
     "end_time": "2019-10-17T20:39:33.237847Z",
     "start_time": "2019-10-17T20:39:33.176968Z"
    }
   },
   "outputs": [
    {
     "name": "stdout",
     "output_type": "stream",
     "text": [
      "<class 'pandas.core.frame.DataFrame'>\n",
      "RangeIndex: 1460 entries, 0 to 1459\n",
      "Data columns (total 43 columns):\n",
      "MSZoning         1460 non-null object\n",
      "Street           1460 non-null object\n",
      "Alley            91 non-null object\n",
      "LotShape         1460 non-null object\n",
      "LandContour      1460 non-null object\n",
      "Utilities        1460 non-null object\n",
      "LotConfig        1460 non-null object\n",
      "LandSlope        1460 non-null object\n",
      "Neighborhood     1460 non-null object\n",
      "Condition1       1460 non-null object\n",
      "Condition2       1460 non-null object\n",
      "BldgType         1460 non-null object\n",
      "HouseStyle       1460 non-null object\n",
      "RoofStyle        1460 non-null object\n",
      "RoofMatl         1460 non-null object\n",
      "Exterior1st      1460 non-null object\n",
      "Exterior2nd      1460 non-null object\n",
      "MasVnrType       1452 non-null object\n",
      "ExterQual        1460 non-null object\n",
      "ExterCond        1460 non-null object\n",
      "Foundation       1460 non-null object\n",
      "BsmtQual         1423 non-null object\n",
      "BsmtCond         1423 non-null object\n",
      "BsmtExposure     1422 non-null object\n",
      "BsmtFinType1     1423 non-null object\n",
      "BsmtFinType2     1422 non-null object\n",
      "Heating          1460 non-null object\n",
      "HeatingQC        1460 non-null object\n",
      "CentralAir       1460 non-null object\n",
      "Electrical       1459 non-null object\n",
      "KitchenQual      1460 non-null object\n",
      "Functional       1460 non-null object\n",
      "FireplaceQu      770 non-null object\n",
      "GarageType       1379 non-null object\n",
      "GarageFinish     1379 non-null object\n",
      "GarageQual       1379 non-null object\n",
      "GarageCond       1379 non-null object\n",
      "PavedDrive       1460 non-null object\n",
      "PoolQC           7 non-null object\n",
      "Fence            281 non-null object\n",
      "MiscFeature      54 non-null object\n",
      "SaleType         1460 non-null object\n",
      "SaleCondition    1460 non-null object\n",
      "dtypes: object(43)\n",
      "memory usage: 490.6+ KB\n"
     ]
    }
   ],
   "source": [
    "# Create X_cat which contains only the categorical variables\n",
    "X_cat = df.select_dtypes(include='object')\n",
    "X_cat.info()"
   ]
  },
  {
   "cell_type": "code",
   "execution_count": 13,
   "metadata": {
    "ExecuteTime": {
     "end_time": "2019-10-17T20:39:33.372212Z",
     "start_time": "2019-10-17T20:39:33.241258Z"
    }
   },
   "outputs": [
    {
     "data": {
      "text/plain": [
       "(1460, 209)"
      ]
     },
     "execution_count": 13,
     "metadata": {},
     "output_type": "execute_result"
    }
   ],
   "source": [
    "# Make dummies\n",
    "X_cat = pd.get_dummies(X_cat, drop_first=True)\n",
    "X_cat.shape"
   ]
  },
  {
   "cell_type": "markdown",
   "metadata": {},
   "source": [
    "Merge `x_cat` together with our scaled `X` so you have one big predictor dataframe."
   ]
  },
  {
   "cell_type": "code",
   "execution_count": 14,
   "metadata": {
    "ExecuteTime": {
     "end_time": "2019-10-17T20:39:33.386675Z",
     "start_time": "2019-10-17T20:39:33.374759Z"
    }
   },
   "outputs": [
    {
     "data": {
      "text/plain": [
       "(1460, 246)"
      ]
     },
     "execution_count": 14,
     "metadata": {},
     "output_type": "execute_result"
    }
   ],
   "source": [
    "all_X = pd.concat([pd.DataFrame(X_scaled), X_cat], axis=1)\n",
    "all_X.shape"
   ]
  },
  {
   "cell_type": "markdown",
   "metadata": {},
   "source": [
    "Perform the same linear regression on this data and print out R-squared and MSE."
   ]
  },
  {
   "cell_type": "code",
   "execution_count": 15,
   "metadata": {
    "ExecuteTime": {
     "end_time": "2019-10-17T20:39:33.485697Z",
     "start_time": "2019-10-17T20:39:33.389943Z"
    }
   },
   "outputs": [
    {
     "name": "stdout",
     "output_type": "stream",
     "text": [
      "Train MSE: 324120061.99360454 Train R2: 0.9442706795152574\n",
      "Test MSE:  182165377.37260273 Test R2:  0.9765480346728791\n"
     ]
    }
   ],
   "source": [
    "# Train-test split\n",
    "x_train, x_test, y_train, y_test = train_test_split(all_X, y)\n",
    "\n",
    "# Rerun previous linear regression\n",
    "# Fit the model and print R2 and MSE for train and test\n",
    "linreg = LinearRegression().fit(x_train, y_train)\n",
    "y_hat_train = linreg.predict(x_train)\n",
    "\n",
    "train_mse = mean_squared_error(y_train, y_hat_train)\n",
    "train_r2 = linreg.score(x_train, y_train)\n",
    "\n",
    "linreg = LinearRegression().fit(x_test, y_test)\n",
    "y_hat_test = linreg.predict(x_test)\n",
    "\n",
    "test_mse = mean_squared_error(y_test, y_hat_test)\n",
    "test_r2 = linreg.score(x_test, y_test)\n",
    "\n",
    "print('Train MSE:', train_mse, 'Train R2:', train_r2)\n",
    "\n",
    "print('Test MSE: ', test_mse, 'Test R2: ', test_r2)"
   ]
  },
  {
   "cell_type": "markdown",
   "metadata": {},
   "source": [
    "Notice the severe overfitting above; our training R squared is quite high, but the testing R squared is negative! Our predictions are far off. Similarly, the scale of the Testing MSE is orders of magnitude higher than that of the training."
   ]
  },
  {
   "cell_type": "markdown",
   "metadata": {},
   "source": [
    "## Perform Ridge and Lasso regression"
   ]
  },
  {
   "cell_type": "markdown",
   "metadata": {},
   "source": [
    "Use all the data (normalized features and dummy categorical variables) and perform Lasso and Ridge regression for both! Each time, look at R-squared and MSE."
   ]
  },
  {
   "cell_type": "markdown",
   "metadata": {},
   "source": [
    "## Lasso"
   ]
  },
  {
   "cell_type": "markdown",
   "metadata": {},
   "source": [
    "With default parameter (alpha = 1)"
   ]
  },
  {
   "cell_type": "code",
   "execution_count": 24,
   "metadata": {
    "ExecuteTime": {
     "end_time": "2019-10-17T20:42:42.116674Z",
     "start_time": "2019-10-17T20:42:41.764111Z"
    }
   },
   "outputs": [
    {
     "name": "stdout",
     "output_type": "stream",
     "text": [
      "Train MSE: 409761434.06685066 Train R2: 0.9343319939724521\n",
      "Test MSE:  192874152.8192764 Test R2:  0.9701578652416988\n"
     ]
    }
   ],
   "source": [
    "# Lasso, alpha=1, train v. test\n",
    "# Train-test split\n",
    "x_train, x_test, y_train, y_test = train_test_split(all_X, y)\n",
    "\n",
    "# Rerun previous linear regression\n",
    "# Fit the model and print R2 and MSE for train and test\n",
    "lasso = Lasso(alpha=1).fit(x_train, y_train)\n",
    "y_hat_train = lasso.predict(x_train)\n",
    "\n",
    "train_mse = mean_squared_error(y_train, y_hat_train)\n",
    "train_r2 = lasso.score(x_train, y_train)\n",
    "\n",
    "lasso = Lasso(alpha=1).fit(x_test, y_test)\n",
    "y_hat_test = lasso.predict(x_test)\n",
    "\n",
    "test_mse = mean_squared_error(y_test, y_hat_test)\n",
    "test_r2 = lasso.score(x_test, y_test)\n",
    "\n",
    "print('Train MSE:', train_mse, 'Train R2:', train_r2)\n",
    "\n",
    "print('Test MSE: ', test_mse, 'Test R2: ', test_r2)"
   ]
  },
  {
   "cell_type": "markdown",
   "metadata": {},
   "source": [
    "With a higher regularization parameter (alpha = 10)"
   ]
  },
  {
   "cell_type": "code",
   "execution_count": 25,
   "metadata": {
    "ExecuteTime": {
     "end_time": "2019-10-17T20:43:03.098192Z",
     "start_time": "2019-10-17T20:43:02.764322Z"
    }
   },
   "outputs": [
    {
     "name": "stdout",
     "output_type": "stream",
     "text": [
      "Train MSE: 446828844.32356447 Train R2: 0.9350113588596531\n",
      "Test MSE:  163509651.7953301 Test R2:  0.9642433436370232\n"
     ]
    }
   ],
   "source": [
    "# Lasso, alpha=10, train v. test\n",
    "# Train-test split\n",
    "x_train, x_test, y_train, y_test = train_test_split(all_X, y)\n",
    "\n",
    "# Rerun previous linear regression\n",
    "# Fit the model and print R2 and MSE for train and test\n",
    "lasso = Lasso(alpha=10).fit(x_train, y_train)\n",
    "y_hat_train = lasso.predict(x_train)\n",
    "\n",
    "train_mse = mean_squared_error(y_train, y_hat_train)\n",
    "train_r2 = lasso.score(x_train, y_train)\n",
    "\n",
    "lasso = Lasso(alpha=10).fit(x_test, y_test)\n",
    "y_hat_test = lasso.predict(x_test)\n",
    "\n",
    "test_mse = mean_squared_error(y_test, y_hat_test)\n",
    "test_r2 = lasso.score(x_test, y_test)\n",
    "\n",
    "print('Train MSE:', train_mse, 'Train R2:', train_r2)\n",
    "\n",
    "print('Test MSE: ', test_mse, 'Test R2: ', test_r2)"
   ]
  },
  {
   "cell_type": "markdown",
   "metadata": {},
   "source": [
    "## Ridge"
   ]
  },
  {
   "cell_type": "markdown",
   "metadata": {},
   "source": [
    "With default parameter (alpha = 1)"
   ]
  },
  {
   "cell_type": "code",
   "execution_count": 26,
   "metadata": {
    "ExecuteTime": {
     "end_time": "2019-10-17T20:43:59.143423Z",
     "start_time": "2019-10-17T20:43:59.087216Z"
    }
   },
   "outputs": [
    {
     "name": "stdout",
     "output_type": "stream",
     "text": [
      "Train MSE: 395054521.8232814 Train R2: 0.9354799168902227\n",
      "Test MSE:  449745562.5164189 Test R2:  0.9344121989025642\n"
     ]
    }
   ],
   "source": [
    "# Ridge, alpha=1, train v. test\n",
    "# Train-test split\n",
    "x_train, x_test, y_train, y_test = train_test_split(all_X, y)\n",
    "\n",
    "# Rerun previous linear regression\n",
    "# Fit the model and print R2 and MSE for train and test\n",
    "ridge = Ridge(alpha=1).fit(x_train, y_train)\n",
    "y_hat_train = ridge.predict(x_train)\n",
    "\n",
    "train_mse = mean_squared_error(y_train, y_hat_train)\n",
    "train_r2 = ridge.score(x_train, y_train)\n",
    "\n",
    "ridge = Ridge(alpha=1).fit(x_test, y_test)\n",
    "y_hat_test = ridge.predict(x_test)\n",
    "\n",
    "test_mse = mean_squared_error(y_test, y_hat_test)\n",
    "test_r2 = ridge.score(x_test, y_test)\n",
    "\n",
    "print('Train MSE:', train_mse, 'Train R2:', train_r2)\n",
    "\n",
    "print('Test MSE: ', test_mse, 'Test R2: ', test_r2)"
   ]
  },
  {
   "cell_type": "markdown",
   "metadata": {},
   "source": [
    "With default parameter (alpha = 10)"
   ]
  },
  {
   "cell_type": "code",
   "execution_count": 27,
   "metadata": {
    "ExecuteTime": {
     "end_time": "2019-10-17T20:44:26.161414Z",
     "start_time": "2019-10-17T20:44:26.119443Z"
    }
   },
   "outputs": [
    {
     "name": "stdout",
     "output_type": "stream",
     "text": [
      "Train MSE: 673409556.2095096 Train R2: 0.8925135866914606\n",
      "Test MSE:  405923090.6788539 Test R2:  0.93680099373243\n"
     ]
    }
   ],
   "source": [
    "# Ridge, alpha=10, train v. test\n",
    "# Train-test split\n",
    "x_train, x_test, y_train, y_test = train_test_split(all_X, y)\n",
    "\n",
    "# Rerun previous linear regression\n",
    "# Fit the model and print R2 and MSE for train and test\n",
    "ridge = Ridge(alpha=10).fit(x_train, y_train)\n",
    "y_hat_train = ridge.predict(x_train)\n",
    "\n",
    "train_mse = mean_squared_error(y_train, y_hat_train)\n",
    "train_r2 = ridge.score(x_train, y_train)\n",
    "\n",
    "ridge = Ridge(alpha=10).fit(x_test, y_test)\n",
    "y_hat_test = ridge.predict(x_test)\n",
    "\n",
    "test_mse = mean_squared_error(y_test, y_hat_test)\n",
    "test_r2 = ridge.score(x_test, y_test)\n",
    "\n",
    "print('Train MSE:', train_mse, 'Train R2:', train_r2)\n",
    "\n",
    "print('Test MSE: ', test_mse, 'Test R2: ', test_r2)"
   ]
  },
  {
   "cell_type": "markdown",
   "metadata": {},
   "source": [
    "## Look at the metrics, what are your main conclusions?   \n",
    "\n",
    "Lasso with alpha=1 seems to have performed best overall. It must be eliminating features with low predicting power, thus reducing the penalties to the R2 score."
   ]
  },
  {
   "cell_type": "markdown",
   "metadata": {},
   "source": [
    "## Compare number of parameter estimates that are (very close to) 0 for Ridge and Lasso"
   ]
  },
  {
   "cell_type": "markdown",
   "metadata": {},
   "source": [
    "Compare with the total length of the parameter space and draw conclusions!"
   ]
  },
  {
   "cell_type": "code",
   "execution_count": 28,
   "metadata": {
    "ExecuteTime": {
     "end_time": "2019-10-17T20:48:42.785308Z",
     "start_time": "2019-10-17T20:48:42.775362Z"
    }
   },
   "outputs": [
    {
     "name": "stdout",
     "output_type": "stream",
     "text": [
      "246\n",
      "29\n"
     ]
    }
   ],
   "source": [
    "# number of Ridge params almost zero\n",
    "counter = 0\n",
    "\n",
    "for coef in ridge.coef_:\n",
    "    if abs(coef) < 1:\n",
    "        counter += 1\n",
    "print(len(ridge.coef_))\n",
    "print(counter)"
   ]
  },
  {
   "cell_type": "code",
   "execution_count": 29,
   "metadata": {
    "ExecuteTime": {
     "end_time": "2019-10-17T20:49:00.293342Z",
     "start_time": "2019-10-17T20:49:00.286899Z"
    }
   },
   "outputs": [
    {
     "name": "stdout",
     "output_type": "stream",
     "text": [
      "246\n",
      "57\n"
     ]
    }
   ],
   "source": [
    "# number of Lasso params almost zero\n",
    "counter = 0\n",
    "\n",
    "for coef in lasso.coef_:\n",
    "    if abs(coef) < 1:\n",
    "        counter += 1\n",
    "print(len(lasso.coef_))\n",
    "print(counter)"
   ]
  },
  {
   "cell_type": "markdown",
   "metadata": {},
   "source": [
    "Lasso was very effective to essentially perform variable selection and remove about 25% of the variables from your model!"
   ]
  },
  {
   "cell_type": "markdown",
   "metadata": {},
   "source": [
    "## Summary"
   ]
  },
  {
   "cell_type": "markdown",
   "metadata": {},
   "source": [
    "Great! You now know how to perform Lasso and Ridge regression."
   ]
  }
 ],
 "metadata": {
  "kernelspec": {
   "display_name": "learn-env",
   "language": "python",
   "name": "learn-env"
  },
  "language_info": {
   "codemirror_mode": {
    "name": "ipython",
    "version": 3
   },
   "file_extension": ".py",
   "mimetype": "text/x-python",
   "name": "python",
   "nbconvert_exporter": "python",
   "pygments_lexer": "ipython3",
   "version": "3.6.6"
  },
  "toc": {
   "base_numbering": 1,
   "nav_menu": {},
   "number_sections": true,
   "sideBar": true,
   "skip_h1_title": false,
   "title_cell": "Table of Contents",
   "title_sidebar": "Contents",
   "toc_cell": false,
   "toc_position": {},
   "toc_section_display": true,
   "toc_window_display": false
  }
 },
 "nbformat": 4,
 "nbformat_minor": 2
}
