{
 "cells": [
  {
   "cell_type": "markdown",
   "metadata": {},
   "source": [
    "# Extensions to Linear Models - Lab"
   ]
  },
  {
   "cell_type": "markdown",
   "metadata": {},
   "source": [
    "## Introduction\n",
    "\n",
    "In this lab, you'll practice many concepts learned in this section, from adding interactions and polynomials to your model to AIC and BIC!"
   ]
  },
  {
   "cell_type": "markdown",
   "metadata": {},
   "source": [
    "## Summary\n",
    "\n",
    "You will be able to:\n",
    "- Build a linear regression model with polynomial features/interactions\n",
    "- Perform regularization\n",
    "- Use AIC and BIC to select the best value for the regularization parameter\n"
   ]
  },
  {
   "cell_type": "markdown",
   "metadata": {},
   "source": [
    "## Let's get started!"
   ]
  },
  {
   "cell_type": "markdown",
   "metadata": {},
   "source": [
    "Import all the necessary packages."
   ]
  },
  {
   "cell_type": "code",
   "execution_count": 1,
   "metadata": {
    "ExecuteTime": {
     "end_time": "2019-10-17T23:40:24.984349Z",
     "start_time": "2019-10-17T23:40:23.694107Z"
    }
   },
   "outputs": [],
   "source": [
    "import pandas as pd\n",
    "import numpy as np\n",
    "import matplotlib.pyplot as plt\n",
    "import warnings\n",
    "warnings.filterwarnings('ignore')\n",
    "\n",
    "from sklearn.linear_model import LinearRegression\n",
    "from sklearn.preprocessing import PolynomialFeatures\n",
    "from sklearn.model_selection import cross_val_score\n",
    "from sklearn.model_selection import KFold\n",
    "from sklearn import preprocessing\n",
    "from sklearn.metrics import mean_squared_error, mean_squared_log_error\n",
    "from sklearn.model_selection import train_test_split\n",
    "from sklearn.linear_model import Lasso\n",
    "\n",
    "from itertools import combinations\n",
    "\n",
    "from sklearn.datasets import load_boston"
   ]
  },
  {
   "cell_type": "markdown",
   "metadata": {},
   "source": [
    "## Look at a Baseline Boston Housing Data Model"
   ]
  },
  {
   "cell_type": "markdown",
   "metadata": {},
   "source": [
    "Import the Boston housing data set, use all the predictors in their scaled version (using `preprocessing.scale`. Look at a baseline model using *scaled variables* as predictors. Use 5-fold cross-validation this time and use the $R^2$ score to evaluate the model."
   ]
  },
  {
   "cell_type": "code",
   "execution_count": 2,
   "metadata": {
    "ExecuteTime": {
     "end_time": "2019-10-17T23:40:25.128558Z",
     "start_time": "2019-10-17T23:40:24.987524Z"
    },
    "scrolled": true
   },
   "outputs": [
    {
     "data": {
      "text/html": [
       "<div>\n",
       "<style scoped>\n",
       "    .dataframe tbody tr th:only-of-type {\n",
       "        vertical-align: middle;\n",
       "    }\n",
       "\n",
       "    .dataframe tbody tr th {\n",
       "        vertical-align: top;\n",
       "    }\n",
       "\n",
       "    .dataframe thead th {\n",
       "        text-align: right;\n",
       "    }\n",
       "</style>\n",
       "<table border=\"1\" class=\"dataframe\">\n",
       "  <thead>\n",
       "    <tr style=\"text-align: right;\">\n",
       "      <th></th>\n",
       "      <th>CRIM</th>\n",
       "      <th>ZN</th>\n",
       "      <th>INDUS</th>\n",
       "      <th>CHAS</th>\n",
       "      <th>NOX</th>\n",
       "      <th>RM</th>\n",
       "      <th>AGE</th>\n",
       "      <th>DIS</th>\n",
       "      <th>RAD</th>\n",
       "      <th>TAX</th>\n",
       "      <th>PTRATIO</th>\n",
       "      <th>B</th>\n",
       "      <th>LSTAT</th>\n",
       "    </tr>\n",
       "  </thead>\n",
       "  <tbody>\n",
       "    <tr>\n",
       "      <td>count</td>\n",
       "      <td>506.000000</td>\n",
       "      <td>506.000000</td>\n",
       "      <td>506.000000</td>\n",
       "      <td>506.000000</td>\n",
       "      <td>506.000000</td>\n",
       "      <td>506.000000</td>\n",
       "      <td>506.000000</td>\n",
       "      <td>506.000000</td>\n",
       "      <td>506.000000</td>\n",
       "      <td>506.000000</td>\n",
       "      <td>506.000000</td>\n",
       "      <td>506.000000</td>\n",
       "      <td>506.000000</td>\n",
       "    </tr>\n",
       "    <tr>\n",
       "      <td>mean</td>\n",
       "      <td>3.613524</td>\n",
       "      <td>11.363636</td>\n",
       "      <td>11.136779</td>\n",
       "      <td>0.069170</td>\n",
       "      <td>0.554695</td>\n",
       "      <td>6.284634</td>\n",
       "      <td>68.574901</td>\n",
       "      <td>3.795043</td>\n",
       "      <td>9.549407</td>\n",
       "      <td>408.237154</td>\n",
       "      <td>18.455534</td>\n",
       "      <td>356.674032</td>\n",
       "      <td>12.653063</td>\n",
       "    </tr>\n",
       "    <tr>\n",
       "      <td>std</td>\n",
       "      <td>8.601545</td>\n",
       "      <td>23.322453</td>\n",
       "      <td>6.860353</td>\n",
       "      <td>0.253994</td>\n",
       "      <td>0.115878</td>\n",
       "      <td>0.702617</td>\n",
       "      <td>28.148861</td>\n",
       "      <td>2.105710</td>\n",
       "      <td>8.707259</td>\n",
       "      <td>168.537116</td>\n",
       "      <td>2.164946</td>\n",
       "      <td>91.294864</td>\n",
       "      <td>7.141062</td>\n",
       "    </tr>\n",
       "    <tr>\n",
       "      <td>min</td>\n",
       "      <td>0.006320</td>\n",
       "      <td>0.000000</td>\n",
       "      <td>0.460000</td>\n",
       "      <td>0.000000</td>\n",
       "      <td>0.385000</td>\n",
       "      <td>3.561000</td>\n",
       "      <td>2.900000</td>\n",
       "      <td>1.129600</td>\n",
       "      <td>1.000000</td>\n",
       "      <td>187.000000</td>\n",
       "      <td>12.600000</td>\n",
       "      <td>0.320000</td>\n",
       "      <td>1.730000</td>\n",
       "    </tr>\n",
       "    <tr>\n",
       "      <td>25%</td>\n",
       "      <td>0.082045</td>\n",
       "      <td>0.000000</td>\n",
       "      <td>5.190000</td>\n",
       "      <td>0.000000</td>\n",
       "      <td>0.449000</td>\n",
       "      <td>5.885500</td>\n",
       "      <td>45.025000</td>\n",
       "      <td>2.100175</td>\n",
       "      <td>4.000000</td>\n",
       "      <td>279.000000</td>\n",
       "      <td>17.400000</td>\n",
       "      <td>375.377500</td>\n",
       "      <td>6.950000</td>\n",
       "    </tr>\n",
       "    <tr>\n",
       "      <td>50%</td>\n",
       "      <td>0.256510</td>\n",
       "      <td>0.000000</td>\n",
       "      <td>9.690000</td>\n",
       "      <td>0.000000</td>\n",
       "      <td>0.538000</td>\n",
       "      <td>6.208500</td>\n",
       "      <td>77.500000</td>\n",
       "      <td>3.207450</td>\n",
       "      <td>5.000000</td>\n",
       "      <td>330.000000</td>\n",
       "      <td>19.050000</td>\n",
       "      <td>391.440000</td>\n",
       "      <td>11.360000</td>\n",
       "    </tr>\n",
       "    <tr>\n",
       "      <td>75%</td>\n",
       "      <td>3.677083</td>\n",
       "      <td>12.500000</td>\n",
       "      <td>18.100000</td>\n",
       "      <td>0.000000</td>\n",
       "      <td>0.624000</td>\n",
       "      <td>6.623500</td>\n",
       "      <td>94.075000</td>\n",
       "      <td>5.188425</td>\n",
       "      <td>24.000000</td>\n",
       "      <td>666.000000</td>\n",
       "      <td>20.200000</td>\n",
       "      <td>396.225000</td>\n",
       "      <td>16.955000</td>\n",
       "    </tr>\n",
       "    <tr>\n",
       "      <td>max</td>\n",
       "      <td>88.976200</td>\n",
       "      <td>100.000000</td>\n",
       "      <td>27.740000</td>\n",
       "      <td>1.000000</td>\n",
       "      <td>0.871000</td>\n",
       "      <td>8.780000</td>\n",
       "      <td>100.000000</td>\n",
       "      <td>12.126500</td>\n",
       "      <td>24.000000</td>\n",
       "      <td>711.000000</td>\n",
       "      <td>22.000000</td>\n",
       "      <td>396.900000</td>\n",
       "      <td>37.970000</td>\n",
       "    </tr>\n",
       "  </tbody>\n",
       "</table>\n",
       "</div>"
      ],
      "text/plain": [
       "             CRIM          ZN       INDUS        CHAS         NOX          RM  \\\n",
       "count  506.000000  506.000000  506.000000  506.000000  506.000000  506.000000   \n",
       "mean     3.613524   11.363636   11.136779    0.069170    0.554695    6.284634   \n",
       "std      8.601545   23.322453    6.860353    0.253994    0.115878    0.702617   \n",
       "min      0.006320    0.000000    0.460000    0.000000    0.385000    3.561000   \n",
       "25%      0.082045    0.000000    5.190000    0.000000    0.449000    5.885500   \n",
       "50%      0.256510    0.000000    9.690000    0.000000    0.538000    6.208500   \n",
       "75%      3.677083   12.500000   18.100000    0.000000    0.624000    6.623500   \n",
       "max     88.976200  100.000000   27.740000    1.000000    0.871000    8.780000   \n",
       "\n",
       "              AGE         DIS         RAD         TAX     PTRATIO           B  \\\n",
       "count  506.000000  506.000000  506.000000  506.000000  506.000000  506.000000   \n",
       "mean    68.574901    3.795043    9.549407  408.237154   18.455534  356.674032   \n",
       "std     28.148861    2.105710    8.707259  168.537116    2.164946   91.294864   \n",
       "min      2.900000    1.129600    1.000000  187.000000   12.600000    0.320000   \n",
       "25%     45.025000    2.100175    4.000000  279.000000   17.400000  375.377500   \n",
       "50%     77.500000    3.207450    5.000000  330.000000   19.050000  391.440000   \n",
       "75%     94.075000    5.188425   24.000000  666.000000   20.200000  396.225000   \n",
       "max    100.000000   12.126500   24.000000  711.000000   22.000000  396.900000   \n",
       "\n",
       "            LSTAT  \n",
       "count  506.000000  \n",
       "mean    12.653063  \n",
       "std      7.141062  \n",
       "min      1.730000  \n",
       "25%      6.950000  \n",
       "50%     11.360000  \n",
       "75%     16.955000  \n",
       "max     37.970000  "
      ]
     },
     "execution_count": 2,
     "metadata": {},
     "output_type": "execute_result"
    }
   ],
   "source": [
    "# Load the features and target\n",
    "data = load_boston()\n",
    "y = data.target\n",
    "X = pd.DataFrame(data.data)\n",
    "X.columns = data.feature_names\n",
    "X.describe()"
   ]
  },
  {
   "cell_type": "code",
   "execution_count": 3,
   "metadata": {
    "ExecuteTime": {
     "end_time": "2019-10-17T23:40:25.233860Z",
     "start_time": "2019-10-17T23:40:25.134731Z"
    },
    "scrolled": true
   },
   "outputs": [
    {
     "data": {
      "text/html": [
       "<div>\n",
       "<style scoped>\n",
       "    .dataframe tbody tr th:only-of-type {\n",
       "        vertical-align: middle;\n",
       "    }\n",
       "\n",
       "    .dataframe tbody tr th {\n",
       "        vertical-align: top;\n",
       "    }\n",
       "\n",
       "    .dataframe thead th {\n",
       "        text-align: right;\n",
       "    }\n",
       "</style>\n",
       "<table border=\"1\" class=\"dataframe\">\n",
       "  <thead>\n",
       "    <tr style=\"text-align: right;\">\n",
       "      <th></th>\n",
       "      <th>CRIM</th>\n",
       "      <th>ZN</th>\n",
       "      <th>INDUS</th>\n",
       "      <th>CHAS</th>\n",
       "      <th>NOX</th>\n",
       "      <th>RM</th>\n",
       "      <th>AGE</th>\n",
       "      <th>DIS</th>\n",
       "      <th>RAD</th>\n",
       "      <th>TAX</th>\n",
       "      <th>PTRATIO</th>\n",
       "      <th>B</th>\n",
       "      <th>LSTAT</th>\n",
       "    </tr>\n",
       "  </thead>\n",
       "  <tbody>\n",
       "    <tr>\n",
       "      <td>count</td>\n",
       "      <td>5.060000e+02</td>\n",
       "      <td>5.060000e+02</td>\n",
       "      <td>5.060000e+02</td>\n",
       "      <td>5.060000e+02</td>\n",
       "      <td>5.060000e+02</td>\n",
       "      <td>5.060000e+02</td>\n",
       "      <td>5.060000e+02</td>\n",
       "      <td>5.060000e+02</td>\n",
       "      <td>5.060000e+02</td>\n",
       "      <td>5.060000e+02</td>\n",
       "      <td>5.060000e+02</td>\n",
       "      <td>5.060000e+02</td>\n",
       "      <td>5.060000e+02</td>\n",
       "    </tr>\n",
       "    <tr>\n",
       "      <td>mean</td>\n",
       "      <td>-5.616939e-17</td>\n",
       "      <td>6.319056e-17</td>\n",
       "      <td>-3.145486e-15</td>\n",
       "      <td>-2.106352e-17</td>\n",
       "      <td>2.752300e-15</td>\n",
       "      <td>-1.150770e-14</td>\n",
       "      <td>-1.137430e-15</td>\n",
       "      <td>7.582867e-16</td>\n",
       "      <td>5.616939e-17</td>\n",
       "      <td>5.616939e-17</td>\n",
       "      <td>-1.022283e-14</td>\n",
       "      <td>8.593916e-15</td>\n",
       "      <td>-5.897786e-16</td>\n",
       "    </tr>\n",
       "    <tr>\n",
       "      <td>std</td>\n",
       "      <td>1.000990e+00</td>\n",
       "      <td>1.000990e+00</td>\n",
       "      <td>1.000990e+00</td>\n",
       "      <td>1.000990e+00</td>\n",
       "      <td>1.000990e+00</td>\n",
       "      <td>1.000990e+00</td>\n",
       "      <td>1.000990e+00</td>\n",
       "      <td>1.000990e+00</td>\n",
       "      <td>1.000990e+00</td>\n",
       "      <td>1.000990e+00</td>\n",
       "      <td>1.000990e+00</td>\n",
       "      <td>1.000990e+00</td>\n",
       "      <td>1.000990e+00</td>\n",
       "    </tr>\n",
       "    <tr>\n",
       "      <td>min</td>\n",
       "      <td>-4.197819e-01</td>\n",
       "      <td>-4.877224e-01</td>\n",
       "      <td>-1.557842e+00</td>\n",
       "      <td>-2.725986e-01</td>\n",
       "      <td>-1.465882e+00</td>\n",
       "      <td>-3.880249e+00</td>\n",
       "      <td>-2.335437e+00</td>\n",
       "      <td>-1.267069e+00</td>\n",
       "      <td>-9.828429e-01</td>\n",
       "      <td>-1.313990e+00</td>\n",
       "      <td>-2.707379e+00</td>\n",
       "      <td>-3.907193e+00</td>\n",
       "      <td>-1.531127e+00</td>\n",
       "    </tr>\n",
       "    <tr>\n",
       "      <td>25%</td>\n",
       "      <td>-4.109696e-01</td>\n",
       "      <td>-4.877224e-01</td>\n",
       "      <td>-8.676906e-01</td>\n",
       "      <td>-2.725986e-01</td>\n",
       "      <td>-9.130288e-01</td>\n",
       "      <td>-5.686303e-01</td>\n",
       "      <td>-8.374480e-01</td>\n",
       "      <td>-8.056878e-01</td>\n",
       "      <td>-6.379618e-01</td>\n",
       "      <td>-7.675760e-01</td>\n",
       "      <td>-4.880391e-01</td>\n",
       "      <td>2.050715e-01</td>\n",
       "      <td>-7.994200e-01</td>\n",
       "    </tr>\n",
       "    <tr>\n",
       "      <td>50%</td>\n",
       "      <td>-3.906665e-01</td>\n",
       "      <td>-4.877224e-01</td>\n",
       "      <td>-2.110985e-01</td>\n",
       "      <td>-2.725986e-01</td>\n",
       "      <td>-1.442174e-01</td>\n",
       "      <td>-1.084655e-01</td>\n",
       "      <td>3.173816e-01</td>\n",
       "      <td>-2.793234e-01</td>\n",
       "      <td>-5.230014e-01</td>\n",
       "      <td>-4.646726e-01</td>\n",
       "      <td>2.748590e-01</td>\n",
       "      <td>3.811865e-01</td>\n",
       "      <td>-1.812536e-01</td>\n",
       "    </tr>\n",
       "    <tr>\n",
       "      <td>75%</td>\n",
       "      <td>7.396560e-03</td>\n",
       "      <td>4.877224e-02</td>\n",
       "      <td>1.015999e+00</td>\n",
       "      <td>-2.725986e-01</td>\n",
       "      <td>5.986790e-01</td>\n",
       "      <td>4.827678e-01</td>\n",
       "      <td>9.067981e-01</td>\n",
       "      <td>6.623709e-01</td>\n",
       "      <td>1.661245e+00</td>\n",
       "      <td>1.530926e+00</td>\n",
       "      <td>8.065758e-01</td>\n",
       "      <td>4.336510e-01</td>\n",
       "      <td>6.030188e-01</td>\n",
       "    </tr>\n",
       "    <tr>\n",
       "      <td>max</td>\n",
       "      <td>9.933931e+00</td>\n",
       "      <td>3.804234e+00</td>\n",
       "      <td>2.422565e+00</td>\n",
       "      <td>3.668398e+00</td>\n",
       "      <td>2.732346e+00</td>\n",
       "      <td>3.555044e+00</td>\n",
       "      <td>1.117494e+00</td>\n",
       "      <td>3.960518e+00</td>\n",
       "      <td>1.661245e+00</td>\n",
       "      <td>1.798194e+00</td>\n",
       "      <td>1.638828e+00</td>\n",
       "      <td>4.410519e-01</td>\n",
       "      <td>3.548771e+00</td>\n",
       "    </tr>\n",
       "  </tbody>\n",
       "</table>\n",
       "</div>"
      ],
      "text/plain": [
       "               CRIM            ZN         INDUS          CHAS           NOX  \\\n",
       "count  5.060000e+02  5.060000e+02  5.060000e+02  5.060000e+02  5.060000e+02   \n",
       "mean  -5.616939e-17  6.319056e-17 -3.145486e-15 -2.106352e-17  2.752300e-15   \n",
       "std    1.000990e+00  1.000990e+00  1.000990e+00  1.000990e+00  1.000990e+00   \n",
       "min   -4.197819e-01 -4.877224e-01 -1.557842e+00 -2.725986e-01 -1.465882e+00   \n",
       "25%   -4.109696e-01 -4.877224e-01 -8.676906e-01 -2.725986e-01 -9.130288e-01   \n",
       "50%   -3.906665e-01 -4.877224e-01 -2.110985e-01 -2.725986e-01 -1.442174e-01   \n",
       "75%    7.396560e-03  4.877224e-02  1.015999e+00 -2.725986e-01  5.986790e-01   \n",
       "max    9.933931e+00  3.804234e+00  2.422565e+00  3.668398e+00  2.732346e+00   \n",
       "\n",
       "                 RM           AGE           DIS           RAD           TAX  \\\n",
       "count  5.060000e+02  5.060000e+02  5.060000e+02  5.060000e+02  5.060000e+02   \n",
       "mean  -1.150770e-14 -1.137430e-15  7.582867e-16  5.616939e-17  5.616939e-17   \n",
       "std    1.000990e+00  1.000990e+00  1.000990e+00  1.000990e+00  1.000990e+00   \n",
       "min   -3.880249e+00 -2.335437e+00 -1.267069e+00 -9.828429e-01 -1.313990e+00   \n",
       "25%   -5.686303e-01 -8.374480e-01 -8.056878e-01 -6.379618e-01 -7.675760e-01   \n",
       "50%   -1.084655e-01  3.173816e-01 -2.793234e-01 -5.230014e-01 -4.646726e-01   \n",
       "75%    4.827678e-01  9.067981e-01  6.623709e-01  1.661245e+00  1.530926e+00   \n",
       "max    3.555044e+00  1.117494e+00  3.960518e+00  1.661245e+00  1.798194e+00   \n",
       "\n",
       "            PTRATIO             B         LSTAT  \n",
       "count  5.060000e+02  5.060000e+02  5.060000e+02  \n",
       "mean  -1.022283e-14  8.593916e-15 -5.897786e-16  \n",
       "std    1.000990e+00  1.000990e+00  1.000990e+00  \n",
       "min   -2.707379e+00 -3.907193e+00 -1.531127e+00  \n",
       "25%   -4.880391e-01  2.050715e-01 -7.994200e-01  \n",
       "50%    2.748590e-01  3.811865e-01 -1.812536e-01  \n",
       "75%    8.065758e-01  4.336510e-01  6.030188e-01  \n",
       "max    1.638828e+00  4.410519e-01  3.548771e+00  "
      ]
     },
     "execution_count": 3,
     "metadata": {},
     "output_type": "execute_result"
    }
   ],
   "source": [
    "# Scale the features\n",
    "X_scaled = preprocessing.scale(X)\n",
    "X_scaled = pd.DataFrame(X_scaled)\n",
    "X_scaled.columns = data.feature_names\n",
    "X_scaled.describe()"
   ]
  },
  {
   "cell_type": "code",
   "execution_count": 4,
   "metadata": {
    "ExecuteTime": {
     "end_time": "2019-10-17T23:40:25.244520Z",
     "start_time": "2019-10-17T23:40:25.238555Z"
    }
   },
   "outputs": [],
   "source": [
    "# Define a function to fit a linear regression and return R2\n",
    "def run_linreg_r2(X, y):\n",
    "    linreg = LinearRegression().fit(X,y)\n",
    "    crossvalidation = KFold(n_splits=5, shuffle=True, random_state=1)\n",
    "    r2 = np.mean(cross_val_score(linreg, X, y, scoring=\"r2\", \n",
    "                                 cv=crossvalidation))\n",
    "    return r2"
   ]
  },
  {
   "cell_type": "code",
   "execution_count": 5,
   "metadata": {
    "ExecuteTime": {
     "end_time": "2019-10-17T23:40:25.293865Z",
     "start_time": "2019-10-17T23:40:25.248573Z"
    }
   },
   "outputs": [
    {
     "name": "stdout",
     "output_type": "stream",
     "text": [
      "Baseline R2: 0.7176778617934925\n"
     ]
    }
   ],
   "source": [
    "# View the R2 value of the baseline model\n",
    "print('Baseline R2:', run_linreg_r2(X_scaled,y))"
   ]
  },
  {
   "cell_type": "markdown",
   "metadata": {},
   "source": [
    "## Include interactions\n",
    "\n",
    "Look at all the possible combinations of variables for interactions by adding interactions one by one to the baseline model. Next, evaluate that model using 5-fold classification and store the $R^2$ to compare it with the baseline model.\n",
    "\n",
    "You've created code for this before in the interactions lab, yet this time, you have scaled the variables so the outcomes may look different. \n",
    "\n",
    "Print the 7 most important interactions."
   ]
  },
  {
   "cell_type": "code",
   "execution_count": 6,
   "metadata": {
    "ExecuteTime": {
     "end_time": "2019-10-17T23:40:27.088774Z",
     "start_time": "2019-10-17T23:40:25.297854Z"
    }
   },
   "outputs": [
    {
     "data": {
      "text/plain": [
       "[(0.7832011303731378, ('RM', 'LSTAT')),\n",
       " (0.7752682934529791, ('RM', 'TAX')),\n",
       " (0.7701183903906149, ('RM', 'RAD')),\n",
       " (0.7635941716268362, ('RM', 'PTRATIO')),\n",
       " (0.7566278048616749, ('INDUS', 'RM')),\n",
       " (0.7461114895799354, ('NOX', 'RM')),\n",
       " (0.7421409891793225, ('RM', 'AGE'))]"
      ]
     },
     "execution_count": 6,
     "metadata": {},
     "output_type": "execute_result"
    }
   ],
   "source": [
    "# Get the top 7 interactions\n",
    "combinations = combinations(X_scaled.columns, 2)\n",
    "\n",
    "results = {}\n",
    "for combo in combinations:\n",
    "    X_copy = X_scaled.copy()\n",
    "    X_copy['combo'] = X_copy[combo[0]] * X_copy[combo[1]]\n",
    "    crossvalidation = KFold(n_splits=5, shuffle=True, random_state=1)\n",
    "\n",
    "    baseline = run_linreg_r2(X_copy,y)\n",
    "    results[combo] = baseline\n",
    "    \n",
    "top_7_combos = sorted(((value, key) for (key,value) in results.items()), reverse=True)[:7]\n",
    "top_7_combos"
   ]
  },
  {
   "cell_type": "markdown",
   "metadata": {},
   "source": [
    "Write code to include the 7 most important interactions in your data set by adding 7 columns. Name the columns \"var1_var2\" with var1 and var2 the two variables in the interaction."
   ]
  },
  {
   "cell_type": "code",
   "execution_count": 7,
   "metadata": {
    "ExecuteTime": {
     "end_time": "2019-10-17T23:40:27.112976Z",
     "start_time": "2019-10-17T23:40:27.091995Z"
    },
    "scrolled": true
   },
   "outputs": [
    {
     "data": {
      "text/plain": [
       "Index(['CRIM', 'ZN', 'INDUS', 'CHAS', 'NOX', 'RM', 'AGE', 'DIS', 'RAD', 'TAX',\n",
       "       'PTRATIO', 'B', 'LSTAT', 'RM_LSTAT', 'RM_TAX', 'RM_RAD', 'RM_PTRATIO',\n",
       "       'INDUS_RM', 'NOX_RM', 'RM_AGE'],\n",
       "      dtype='object')"
      ]
     },
     "execution_count": 7,
     "metadata": {},
     "output_type": "execute_result"
    }
   ],
   "source": [
    "# Add columns for each of the top 7 interactions\n",
    "def add_interaction(var1, var2, df):\n",
    "    colname = var1 + '_' + var2\n",
    "    df[colname] = df[var1] * df[var2]\n",
    "    return df\n",
    "\n",
    "X_int = X_scaled.copy()\n",
    "\n",
    "for combo in top_7_combos:\n",
    "    var1 = combo[1][0]\n",
    "    var2 = combo[1][1]\n",
    "    add_interaction(var1, var2, X_int)\n",
    "X_int.columns"
   ]
  },
  {
   "cell_type": "code",
   "execution_count": 8,
   "metadata": {
    "ExecuteTime": {
     "end_time": "2019-10-17T23:40:27.184809Z",
     "start_time": "2019-10-17T23:40:27.120273Z"
    }
   },
   "outputs": [
    {
     "name": "stdout",
     "output_type": "stream",
     "text": [
      "R2 with 7 interactions: 0.7897850685984782\n"
     ]
    }
   ],
   "source": [
    "# View R2 for feature set with interactions\n",
    "print('R2 with 7 interactions:', run_linreg_r2(X_int,y))"
   ]
  },
  {
   "cell_type": "markdown",
   "metadata": {
    "heading_collapsed": true
   },
   "source": [
    "## Include Polynomials"
   ]
  },
  {
   "cell_type": "markdown",
   "metadata": {
    "hidden": true
   },
   "source": [
    "Try polynomials of 2, 3 and 4 for each variable, in a similar way you did for interactions (by looking at your baseline model and seeing how $R^2$ increases). Do understand that when going for a polynomial of 4, the particular column is raised to the power of 2 and 3 as well in other terms. We only want to include \"pure\" polynomials, so make sure no interactions are included. We want the result to return a list that contain tuples of the form:\n",
    "\n",
    "`(var_name, degree, R2)`, so eg. `('DIS', 3, 0.732)`"
   ]
  },
  {
   "cell_type": "code",
   "execution_count": 9,
   "metadata": {
    "ExecuteTime": {
     "end_time": "2019-10-17T23:40:27.329055Z",
     "start_time": "2019-10-17T23:40:27.191819Z"
    },
    "hidden": true,
    "scrolled": true
   },
   "outputs": [
    {
     "data": {
      "text/plain": [
       "array([[ 1.        , -0.41978194,  0.28482986, -1.2879095 , -0.27259857,\n",
       "        -0.14421743,  0.41367189, -0.12001342,  0.1402136 , -0.98284286,\n",
       "        -0.66660821, -1.45900038,  0.44105193, -1.0755623 ,  0.17621688,\n",
       "        -0.11956643,  0.54064115,  0.11443195,  0.06053987, -0.17365199,\n",
       "         0.05037946, -0.05885914,  0.41257968,  0.27983009,  0.61246201,\n",
       "        -0.18514564,  0.45150163,  0.08112805, -0.36683508, -0.07764421,\n",
       "        -0.04107743,  0.11782611, -0.0341834 ,  0.03993702, -0.27994299,\n",
       "        -0.18986992, -0.41556688,  0.12562476, -0.30635226,  1.65871088,\n",
       "         0.35108228,  0.185739  , -0.53277196,  0.15456642, -0.18058243,\n",
       "         1.26581265,  0.85853104,  1.87906045, -0.56803497,  1.38522691,\n",
       "         0.07430998,  0.03931347, -0.11276636,  0.03271549, -0.03822203,\n",
       "         0.26792155,  0.18171644,  0.39772141, -0.12023012,  0.29319674,\n",
       "         0.02079867, -0.0596587 ,  0.01730803, -0.02022125,  0.14174307,\n",
       "         0.09613652,  0.21041329, -0.06360738,  0.15511483,  0.17112443,\n",
       "        -0.04964618,  0.05800243, -0.40657446, -0.27575708, -0.60354744,\n",
       "         0.18245079, -0.44492989,  0.01440322, -0.01682751,  0.11795433,\n",
       "         0.08000193,  0.17509962, -0.05293215,  0.12908191,  0.01965985,\n",
       "        -0.13780794, -0.09346754, -0.2045717 ,  0.06184148, -0.15080847,\n",
       "         0.96598008,  0.65517112,  1.4339681 , -0.43348474,  1.05710873,\n",
       "         0.4443665 ,  0.97258163, -0.29400884,  0.71697866,  2.12868211,\n",
       "        -0.64349494,  1.56924581,  0.19452681, -0.47437883,  1.15683427],\n",
       "       [ 1.        , -0.41733926, -0.48772236, -0.59338101, -0.27259857,\n",
       "        -0.74026221,  0.19427445,  0.36716642,  0.55715988, -0.8678825 ,\n",
       "        -0.98732948, -0.30309415,  0.44105193, -0.49243937,  0.17417206,\n",
       "         0.20354569,  0.2476412 ,  0.11376609,  0.30894048, -0.08107836,\n",
       "        -0.15323296, -0.23252469,  0.36220145,  0.41205136,  0.12649309,\n",
       "        -0.18406829,  0.20551428,  0.2378731 ,  0.28940519,  0.13295242,\n",
       "         0.36104243, -0.094752  , -0.17907527, -0.27173933,  0.42328571,\n",
       "         0.48154267,  0.14782579, -0.21511089,  0.24017369,  0.35210103,\n",
       "         0.16175481,  0.43925754, -0.11527877, -0.21786958, -0.33060809,\n",
       "         0.514985  ,  0.58586257,  0.17985031, -0.26171184,  0.29220417,\n",
       "         0.07430998,  0.20179442, -0.05295894, -0.10008904, -0.15188098,\n",
       "         0.23658353,  0.2691446 ,  0.08262303, -0.12023012,  0.13423827,\n",
       "         0.54798813, -0.14381404, -0.27179942, -0.4124444 ,  0.64246062,\n",
       "         0.7308827 ,  0.22436914, -0.32649408,  0.36453425,  0.03774256,\n",
       "         0.07133106,  0.10824193, -0.1686074 , -0.1918129 , -0.05888345,\n",
       "         0.08568512, -0.09566839,  0.13481118,  0.2045704 , -0.31865731,\n",
       "        -0.36251423, -0.11128599,  0.16193946, -0.1808072 ,  0.31042713,\n",
       "        -0.48354931, -0.55010037, -0.1688719 ,  0.24573644, -0.27436746,\n",
       "         0.75322004,  0.85688599,  0.26305011, -0.38278126,  0.42737951,\n",
       "         0.97481951,  0.29925379, -0.43546358,  0.48619991,  0.09186606,\n",
       "        -0.13368026,  0.14925549,  0.19452681, -0.21719133,  0.24249653],\n",
       "       [ 1.        , -0.41734159, -0.48772236, -0.59338101, -0.27259857,\n",
       "        -0.74026221,  1.28271368, -0.26581176,  0.55715988, -0.8678825 ,\n",
       "        -0.98732948, -0.30309415,  0.39642699, -1.2087274 ,  0.174174  ,\n",
       "         0.20354683,  0.24764258,  0.11376672,  0.30894221, -0.53532977,\n",
       "         0.1109343 , -0.23252599,  0.36220347,  0.41205366,  0.12649379,\n",
       "        -0.16544547,  0.50445222,  0.2378731 ,  0.28940519,  0.13295242,\n",
       "         0.36104243, -0.62560815,  0.12964234, -0.27173933,  0.42328571,\n",
       "         0.48154267,  0.14782579, -0.19334631,  0.58952339,  0.35210103,\n",
       "         0.16175481,  0.43925754, -0.76113794,  0.15772765, -0.33060809,\n",
       "         0.514985  ,  0.58586257,  0.17985031, -0.23523225,  0.71723589,\n",
       "         0.07430998,  0.20179442, -0.34966591,  0.07245991, -0.15188098,\n",
       "         0.23658353,  0.2691446 ,  0.08262303, -0.10806543,  0.32949736,\n",
       "         0.54798813, -0.94954446,  0.1967704 , -0.4124444 ,  0.64246062,\n",
       "         0.7308827 ,  0.22436914, -0.29345992,  0.89477521,  1.64535439,\n",
       "        -0.34096038,  0.71467659, -1.11324476, -1.26646104, -0.38878301,\n",
       "         0.50850233, -1.55045117,  0.07065589, -0.14809965,  0.23069338,\n",
       "         0.26244379,  0.08056599, -0.10537496,  0.32129396,  0.31042713,\n",
       "        -0.48354931, -0.55010037, -0.1688719 ,  0.22087321, -0.67345441,\n",
       "         0.75322004,  0.85688599,  0.26305011, -0.34405205,  1.04903336,\n",
       "         0.97481951,  0.29925379, -0.39140406,  1.1934122 ,  0.09186606,\n",
       "        -0.1201547 ,  0.3663582 ,  0.15715436, -0.47917217,  1.46102192],\n",
       "       [ 1.        , -0.41675042, -0.48772236, -1.30687771, -0.27259857,\n",
       "        -0.83528384,  1.01630251, -0.80988851,  1.07773662, -0.75292215,\n",
       "        -1.10611514,  0.1130321 ,  0.41616284, -1.36151682,  0.17368091,\n",
       "         0.2032585 ,  0.54464183,  0.11360557,  0.34810489, -0.42354449,\n",
       "         0.33752137, -0.44914718,  0.31378062,  0.46097395, -0.04710617,\n",
       "        -0.17343604,  0.5674127 ,  0.2378731 ,  0.63739349,  0.13295242,\n",
       "         0.40738661, -0.49567346,  0.39500074, -0.52563625,  0.36721697,\n",
       "         0.53947709, -0.05512828, -0.20297192,  0.6640422 ,  1.70792936,\n",
       "         0.35625299,  1.09161383, -1.3281831 ,  1.05842525, -1.40846997,\n",
       "         0.98397718,  1.44555723, -0.14771913, -0.54387394,  1.77933599,\n",
       "         0.07430998,  0.22769718, -0.27704261,  0.22077445, -0.29378946,\n",
       "         0.2052455 ,  0.3015254 , -0.03081239, -0.11344539,  0.37114753,\n",
       "         0.69769909, -0.84890106,  0.67648678, -0.90021598,  0.6289037 ,\n",
       "         0.9239201 , -0.09441388, -0.34761409,  1.137253  ,  1.03287079,\n",
       "        -0.82309173,  1.09530643, -0.76519667, -1.1241476 ,  0.1148748 ,\n",
       "         0.42294734, -1.38371296,  0.6559194 , -0.87284651,  0.609783  ,\n",
       "         0.89582995, -0.0915434 , -0.3370455 ,  1.10267683,  1.16151622,\n",
       "        -0.81145177, -1.19210079,  0.12181883,  0.44851393, -1.46735654,\n",
       "         0.56689177,  0.83281859, -0.08510437, -0.31333822,  1.02511618,\n",
       "         1.22349071, -0.12502651, -0.46032402,  1.50599437,  0.01277625,\n",
       "         0.04703976, -0.1538951 ,  0.17319151, -0.56661271,  1.85372806],\n",
       "       [ 1.        , -0.41248185, -0.48772236, -1.30687771, -0.27259857,\n",
       "        -0.83528384,  1.22857665, -0.51117971,  1.07773662, -0.75292215,\n",
       "        -1.10611514,  0.1130321 ,  0.44105193, -1.02650148,  0.17014127,\n",
       "         0.20117662,  0.53906333,  0.11244196,  0.34453942, -0.50676557,\n",
       "         0.21085235, -0.44454679,  0.31056672,  0.45625242, -0.04662369,\n",
       "        -0.18192592,  0.42341323,  0.2378731 ,  0.63739349,  0.13295242,\n",
       "         0.40738661, -0.59920431,  0.24931378, -0.52563625,  0.36721697,\n",
       "         0.53947709, -0.05512828, -0.21511089,  0.50064773,  1.70792936,\n",
       "         0.35625299,  1.09161383, -1.60559945,  0.66804937, -1.40846997,\n",
       "         0.98397718,  1.44555723, -0.14771913, -0.57640094,  1.34151191,\n",
       "         0.07430998,  0.22769718, -0.33490823,  0.13934686, -0.29378946,\n",
       "         0.2052455 ,  0.3015254 , -0.03081239, -0.12023012,  0.27982283,\n",
       "         0.69769909, -1.02621022,  0.42698015, -0.90021598,  0.6289037 ,\n",
       "         0.9239201 , -0.09441388, -0.36840355,  0.8574201 ,  1.50940059,\n",
       "        -0.62802345,  1.32408205, -0.92502258, -1.35894724,  0.13886859,\n",
       "         0.54186611, -1.26113575,  0.26130469, -0.55091709,  0.38487852,\n",
       "         0.56542361, -0.05777971, -0.2254568 ,  0.52472673,  1.16151622,\n",
       "        -0.81145177, -1.19210079,  0.12181883,  0.47533782, -1.10629823,\n",
       "         0.56689177,  0.83281859, -0.08510437, -0.33207777,  0.7728757 ,\n",
       "         1.22349071, -0.12502651, -0.48785422,  1.13542883,  0.01277625,\n",
       "         0.04985302, -0.11602761,  0.19452681, -0.45274046,  1.05370529]])"
      ]
     },
     "metadata": {},
     "output_type": "display_data"
    },
    {
     "data": {
      "text/plain": [
       "array([[ 1.        , -0.41978194,  0.28482986, ..., -0.2092257 ,\n",
       "         0.51022399, -1.24424733],\n",
       "       [ 1.        , -0.41733926, -0.48772236, ..., -0.09579266,\n",
       "         0.10695356, -0.11941484],\n",
       "       [ 1.        , -0.41734159, -0.48772236, ..., -0.18995678,\n",
       "         0.57918853, -1.76597723],\n",
       "       [ 1.        , -0.41675042, -0.48772236, ..., -0.23580315,\n",
       "         0.77145273, -2.52388194],\n",
       "       [ 1.        , -0.41248185, -0.48772236, ..., -0.19968206,\n",
       "         0.46473875, -1.08163004]])"
      ]
     },
     "metadata": {},
     "output_type": "display_data"
    },
    {
     "data": {
      "text/plain": [
       "array([[ 1.        , -0.41978194,  0.28482986, ...,  0.22503528,\n",
       "        -0.54877769,  1.33826553],\n",
       "       [ 1.        , -0.41733926, -0.48772236, ...,  0.04717208,\n",
       "        -0.05266814,  0.05880457],\n",
       "       [ 1.        , -0.41734159, -0.48772236, ...,  0.22960597,\n",
       "        -0.70008105,  2.13458506],\n",
       "       [ 1.        , -0.41675042, -0.48772236, ...,  0.32104996,\n",
       "        -1.05034587,  3.43630771],\n",
       "       [ 1.        , -0.41248185, -0.48772236, ...,  0.20497393,\n",
       "        -0.47705502,  1.11029484]])"
      ]
     },
     "metadata": {},
     "output_type": "display_data"
    }
   ],
   "source": [
    "# Transform the data to second, third, fourth degrees\n",
    "# Be sure to use X_scaled so that interaction-features are not included\n",
    "poly2 = PolynomialFeatures(2)\n",
    "x2 = poly2.fit_transform(X_scaled)\n",
    "display(x2[:5])\n",
    "\n",
    "poly3 = PolynomialFeatures(3)\n",
    "x3 = poly3.fit_transform(X_scaled)\n",
    "display(x3[:5])\n",
    "\n",
    "poly4 = PolynomialFeatures(4)\n",
    "x4 = poly4.fit_transform(X_scaled)\n",
    "display(x4[:5])"
   ]
  },
  {
   "cell_type": "code",
   "execution_count": 10,
   "metadata": {
    "ExecuteTime": {
     "end_time": "2019-10-17T23:40:29.086200Z",
     "start_time": "2019-10-17T23:40:27.335154Z"
    },
    "hidden": true
   },
   "outputs": [
    {
     "name": "stdout",
     "output_type": "stream",
     "text": [
      "2nd order: 0.8359307907259531\n",
      "3rd order: -291.3355112180658\n",
      "4th order: -301.5328445905629\n"
     ]
    }
   ],
   "source": [
    "print('2nd order:', run_linreg_r2(x2,y))\n",
    "print('3rd order:', run_linreg_r2(x3,y))\n",
    "print('4th order:', run_linreg_r2(x4,y))"
   ]
  },
  {
   "cell_type": "code",
   "execution_count": 11,
   "metadata": {
    "ExecuteTime": {
     "end_time": "2019-10-17T23:40:30.041119Z",
     "start_time": "2019-10-17T23:40:29.089500Z"
    },
    "hidden": true
   },
   "outputs": [
    {
     "name": "stdout",
     "output_type": "stream",
     "text": [
      "Top 10 polynomial combos: [('RM', 4, 0.8), ('RM', 2, 0.782), ('LSTAT', 4, 0.782), ('RM', 3, 0.781), ('LSTAT', 3, 0.774), ('LSTAT', 2, 0.772), ('DIS', 3, 0.737), ('DIS', 2, 0.732), ('DIS', 4, 0.731), ('TAX', 4, 0.724)]\n"
     ]
    }
   ],
   "source": [
    "degrees = [2,3,4]\n",
    "poly_trials = []\n",
    "for col in X_scaled.columns:\n",
    "    for degree in degrees:\n",
    "        X_copy = X_scaled.copy()\n",
    "        poly = PolynomialFeatures(degree, include_bias=False)\n",
    "        X = poly.fit_transform(X_scaled[[col]])\n",
    "        data = pd.concat([X_copy.drop(col, axis=1), pd.DataFrame(X)], axis=1)\n",
    "        score = round(run_linreg_r2(data,y), 3)\n",
    "        if score > baseline: \n",
    "            poly_trials.append((col, degree, score))\n",
    "print('Top 10 polynomial combos: {}'.format(sorted(poly_trials, key=lambda poly:poly[2], reverse=True)[:10]) )"
   ]
  },
  {
   "cell_type": "markdown",
   "metadata": {
    "hidden": true
   },
   "source": [
    "For each variable, print out the maximum R2 possible when including Polynomials."
   ]
  },
  {
   "cell_type": "code",
   "execution_count": 12,
   "metadata": {
    "ExecuteTime": {
     "end_time": "2019-10-17T23:40:30.058515Z",
     "start_time": "2019-10-17T23:40:30.044515Z"
    },
    "hidden": true
   },
   "outputs": [
    {
     "data": {
      "text/plain": [
       "0\n",
       "ZN         0.723\n",
       "INDUS      0.723\n",
       "CHAS       0.718\n",
       "NOX        0.721\n",
       "RM         0.800\n",
       "AGE        0.722\n",
       "DIS        0.737\n",
       "RAD        0.720\n",
       "TAX        0.724\n",
       "PTRATIO    0.721\n",
       "B          0.720\n",
       "LSTAT      0.782\n",
       "Name: 2, dtype: float64"
      ]
     },
     "execution_count": 12,
     "metadata": {},
     "output_type": "execute_result"
    }
   ],
   "source": [
    "poly_df = pd.DataFrame(poly_trials)\n",
    "poly_df.groupby([0], sort=False)[2].max()"
   ]
  },
  {
   "cell_type": "markdown",
   "metadata": {
    "hidden": true
   },
   "source": [
    "Which two variables seem to benefit most from adding Polynomial terms?\n",
    "\n",
    "**Answer: RM with 4 terms, LSTAT with 4 terms.**"
   ]
  },
  {
   "cell_type": "markdown",
   "metadata": {
    "hidden": true
   },
   "source": [
    "Add Polynomials for the two features that seem to benefit the most, as in have the best R squared compared to the baseline model. For each of the two features, raise to the Polynomial that generates the best result. Make sure to start from the data set `df_inter` so the final data set has both interactions and polynomials in the model."
   ]
  },
  {
   "cell_type": "code",
   "execution_count": 13,
   "metadata": {
    "ExecuteTime": {
     "end_time": "2019-10-17T23:40:30.088441Z",
     "start_time": "2019-10-17T23:40:30.062655Z"
    },
    "hidden": true
   },
   "outputs": [],
   "source": [
    "# Add polynomial terms for selected features\n",
    "# Be sure to use X_int so the final feature set includes interactions\n",
    "to_poly = ['RM', 'LSTAT']\n",
    "X_final = X_int\n",
    "for col in to_poly:\n",
    "    poly = PolynomialFeatures(4, include_bias=False)\n",
    "    X = poly.fit_transform(X_int[[col]])\n",
    "    X_final = pd.concat([X_final.drop(col, axis=1), pd.DataFrame(X, columns=[col+'0', col+'1', col+'2', col+'3'])], axis=1)"
   ]
  },
  {
   "cell_type": "markdown",
   "metadata": {
    "hidden": true
   },
   "source": [
    "check out your final data set and make sure that your interaction terms as well as your polynomial terms are included."
   ]
  },
  {
   "cell_type": "code",
   "execution_count": 14,
   "metadata": {
    "ExecuteTime": {
     "end_time": "2019-10-17T23:40:30.113776Z",
     "start_time": "2019-10-17T23:40:30.091089Z"
    },
    "hidden": true
   },
   "outputs": [
    {
     "name": "stdout",
     "output_type": "stream",
     "text": [
      "<class 'pandas.core.frame.DataFrame'>\n",
      "RangeIndex: 506 entries, 0 to 505\n",
      "Data columns (total 26 columns):\n",
      "CRIM          506 non-null float64\n",
      "ZN            506 non-null float64\n",
      "INDUS         506 non-null float64\n",
      "CHAS          506 non-null float64\n",
      "NOX           506 non-null float64\n",
      "AGE           506 non-null float64\n",
      "DIS           506 non-null float64\n",
      "RAD           506 non-null float64\n",
      "TAX           506 non-null float64\n",
      "PTRATIO       506 non-null float64\n",
      "B             506 non-null float64\n",
      "RM_LSTAT      506 non-null float64\n",
      "RM_TAX        506 non-null float64\n",
      "RM_RAD        506 non-null float64\n",
      "RM_PTRATIO    506 non-null float64\n",
      "INDUS_RM      506 non-null float64\n",
      "NOX_RM        506 non-null float64\n",
      "RM_AGE        506 non-null float64\n",
      "RM0           506 non-null float64\n",
      "RM1           506 non-null float64\n",
      "RM2           506 non-null float64\n",
      "RM3           506 non-null float64\n",
      "LSTAT0        506 non-null float64\n",
      "LSTAT1        506 non-null float64\n",
      "LSTAT2        506 non-null float64\n",
      "LSTAT3        506 non-null float64\n",
      "dtypes: float64(26)\n",
      "memory usage: 102.9 KB\n"
     ]
    }
   ],
   "source": [
    "# View the final feature set\n",
    "X_final.info()"
   ]
  },
  {
   "cell_type": "markdown",
   "metadata": {
    "heading_collapsed": true
   },
   "source": [
    "## Full model R-squared"
   ]
  },
  {
   "cell_type": "markdown",
   "metadata": {
    "hidden": true
   },
   "source": [
    "Check out the R-squared of the full model."
   ]
  },
  {
   "cell_type": "code",
   "execution_count": 15,
   "metadata": {
    "ExecuteTime": {
     "end_time": "2019-10-17T23:40:30.164123Z",
     "start_time": "2019-10-17T23:40:30.118608Z"
    },
    "hidden": true
   },
   "outputs": [
    {
     "name": "stdout",
     "output_type": "stream",
     "text": [
      "Full feature set R2: 0.8061549447223173\n"
     ]
    }
   ],
   "source": [
    "print('Full feature set R2:', run_linreg_r2(X_final,y))"
   ]
  },
  {
   "cell_type": "markdown",
   "metadata": {
    "heading_collapsed": true
   },
   "source": [
    "## Finding the best Lasso regularization parameter"
   ]
  },
  {
   "cell_type": "markdown",
   "metadata": {
    "hidden": true
   },
   "source": [
    "You've learned that, when using Lasso regularization, your coefficients shrink to 0 when using a higher regularization parameter. Now the question is which value we should choose for the regularization parameter. \n",
    "\n",
    "This is where the AIC and BIC come in handy! We'll use both criteria in what follows and perform cross-validation to select an optimal value of the regularization parameter alpha of the Lasso estimator.\n",
    "\n",
    "Read the page here: https://scikit-learn.org/stable/auto_examples/linear_model/plot_lasso_model_selection.html and create a similar plot as the first one listed on the page. "
   ]
  },
  {
   "cell_type": "code",
   "execution_count": 16,
   "metadata": {
    "ExecuteTime": {
     "end_time": "2019-10-17T23:40:30.522009Z",
     "start_time": "2019-10-17T23:40:30.168675Z"
    },
    "hidden": true
   },
   "outputs": [
    {
     "data": {
      "image/png": "[encoded data removed]",
      "text/plain": [
       "<Figure size 432x288 with 1 Axes>"
      ]
     },
     "metadata": {
      "needs_background": "light"
     },
     "output_type": "display_data"
    }
   ],
   "source": [
    "import time\n",
    "\n",
    "import numpy as np\n",
    "import matplotlib.pyplot as plt\n",
    "\n",
    "from sklearn.linear_model import LassoCV, LassoLarsCV, LassoLarsIC\n",
    "from sklearn import datasets\n",
    "\n",
    "# This is to avoid division by zero while doing np.log10\n",
    "EPSILON = 1e-4\n",
    "\n",
    "model_bic = LassoLarsIC(criterion='bic')\n",
    "model_bic.fit(X_final, y)\n",
    "alpha_bic_ = model_bic.alpha_\n",
    "\n",
    "model_aic = LassoLarsIC(criterion='aic')\n",
    "model_aic.fit(X_final, y)\n",
    "alpha_aic_ = model_aic.alpha_\n",
    "\n",
    "\n",
    "def plot_ic_criterion(model, name, color):\n",
    "    alpha_ = model.alpha_ + EPSILON\n",
    "    alphas_ = model.alphas_ + EPSILON\n",
    "    criterion_ = model.criterion_\n",
    "    plt.plot(-np.log10(alphas_), criterion_, '--', color=color,\n",
    "             linewidth=3, label='%s criterion' % name)\n",
    "    plt.axvline(-np.log10(alpha_), color=color, linewidth=3,\n",
    "                label='alpha: %s estimate' % name)\n",
    "    plt.xlabel('-log(alpha)')\n",
    "    plt.ylabel('criterion')\n",
    "\n",
    "plt.figure()\n",
    "plot_ic_criterion(model_aic, 'AIC', 'g')\n",
    "plot_ic_criterion(model_bic, 'BIC', 'b')\n",
    "plt.legend()\n",
    "plt.title('Information-criterion for model selection');"
   ]
  },
  {
   "cell_type": "code",
   "execution_count": 17,
   "metadata": {
    "ExecuteTime": {
     "end_time": "2019-10-17T23:40:30.530386Z",
     "start_time": "2019-10-17T23:40:30.525303Z"
    },
    "hidden": true
   },
   "outputs": [
    {
     "name": "stdout",
     "output_type": "stream",
     "text": [
      "Alpha (AIC): 0.0033914594891420015\n",
      "Alpha (BIC): 0.04360488110715264\n"
     ]
    }
   ],
   "source": [
    "print('Alpha (AIC):', alpha_aic_)\n",
    "print('Alpha (BIC):', alpha_bic_)"
   ]
  },
  {
   "cell_type": "markdown",
   "metadata": {},
   "source": [
    "## Analyze the final result\n",
    "\n",
    "Finally, use the best value for the regularization parameter according to AIC and BIC and compare the R squared parameters and MSE using train-test-split. Compare with the baseline model."
   ]
  },
  {
   "cell_type": "code",
   "execution_count": 18,
   "metadata": {
    "ExecuteTime": {
     "end_time": "2019-10-17T23:40:30.559304Z",
     "start_time": "2019-10-17T23:40:30.534132Z"
    }
   },
   "outputs": [
    {
     "name": "stdout",
     "output_type": "stream",
     "text": [
      "Train R2: 0.7297323157713587\n",
      "Test R2: 0.7570678274983231\n",
      "Train MSE: 21.196866411410014\n",
      "Test MSE: 24.83180852531404\n"
     ]
    }
   ],
   "source": [
    "# Code for baseline model\n",
    "x_train, x_test, y_train, y_test = train_test_split(X_scaled,y)\n",
    "\n",
    "linreg_final = LinearRegression().fit(x_train, y_train)\n",
    "\n",
    "print('Train R2:', linreg_final.score(x_train, y_train))\n",
    "print('Test R2:', linreg_final.score(x_test, y_test))\n",
    "print('Train MSE:', mean_squared_error(y_train, linreg_final.predict(x_train)))\n",
    "print('Test MSE:', mean_squared_error(y_test, linreg_final.predict(x_test)))"
   ]
  },
  {
   "cell_type": "code",
   "execution_count": 19,
   "metadata": {
    "ExecuteTime": {
     "end_time": "2019-10-17T23:40:30.599629Z",
     "start_time": "2019-10-17T23:40:30.563300Z"
    }
   },
   "outputs": [
    {
     "name": "stdout",
     "output_type": "stream",
     "text": [
      "Train R2: 0.8594236290955259\n",
      "Test R2: 0.7851667171811197\n",
      "Train MSE: 11.838379597464778\n",
      "Test MSE: 18.031776721131234\n"
     ]
    }
   ],
   "source": [
    "# code for lasso with alpha from AIC\n",
    "x_train, x_test, y_train, y_test = train_test_split(X_final,y)\n",
    "\n",
    "lasso = Lasso(alpha=alpha_aic_).fit(x_train, y_train)\n",
    "\n",
    "print('Train R2:', lasso.score(x_train, y_train))\n",
    "print('Test R2:', lasso.score(x_test, y_test))\n",
    "print('Train MSE:', mean_squared_error(y_train, lasso.predict(x_train)))\n",
    "print('Test MSE:', mean_squared_error(y_test, lasso.predict(x_test)))"
   ]
  },
  {
   "cell_type": "code",
   "execution_count": 20,
   "metadata": {
    "ExecuteTime": {
     "end_time": "2019-10-17T23:40:30.647179Z",
     "start_time": "2019-10-17T23:40:30.605096Z"
    }
   },
   "outputs": [
    {
     "name": "stdout",
     "output_type": "stream",
     "text": [
      "Train R2: 0.8663699204885441\n",
      "Test R2: 0.7389119260222483\n",
      "Train MSE: 11.300148056473073\n",
      "Test MSE: 21.67420031846192\n"
     ]
    }
   ],
   "source": [
    "# code for lasso with alpha from BIC\n",
    "x_train, x_test, y_train, y_test = train_test_split(X_final,y)\n",
    "\n",
    "lasso = Lasso(alpha=alpha_bic_).fit(x_train, y_train)\n",
    "\n",
    "print('Train R2:', lasso.score(x_train, y_train))\n",
    "print('Test R2:', lasso.score(x_test, y_test))\n",
    "print('Train MSE:', mean_squared_error(y_train, lasso.predict(x_train)))\n",
    "print('Test MSE:', mean_squared_error(y_test, lasso.predict(x_test)))"
   ]
  },
  {
   "cell_type": "markdown",
   "metadata": {},
   "source": [
    "## Level Up - Optional"
   ]
  },
  {
   "cell_type": "markdown",
   "metadata": {
    "heading_collapsed": true
   },
   "source": [
    "### Create a Lasso Path\n",
    "\n",
    "From this section, you know that when using lasso, more parameters shrink to zero as your regularization parameter goes up. In Scikit-Learn there is a function lasso_path which visualizes the shrinkage of the coefficients while alpha changes. Try this out yourself!\n",
    "\n",
    "https://scikit-learn.org/stable/auto_examples/linear_model/plot_lasso_coordinate_descent_path.html#sphx-glr-auto-examples-linear-model-plot-lasso-coordinate-descent-path-py"
   ]
  },
  {
   "cell_type": "code",
   "execution_count": 21,
   "metadata": {
    "ExecuteTime": {
     "end_time": "2019-10-17T23:40:31.785167Z",
     "start_time": "2019-10-17T23:40:30.653338Z"
    },
    "hidden": true
   },
   "outputs": [
    {
     "name": "stdout",
     "output_type": "stream",
     "text": [
      "Computing regularization path using the lasso...\n",
      "Computing regularization path using the positive lasso...\n",
      "Computing regularization path using the elastic net...\n",
      "Computing regularization path using the positive elastic net...\n"
     ]
    },
    {
     "data": {
      "image/png": "[encoded data removed]",
      "text/plain": [
       "<Figure size 432x288 with 1 Axes>"
      ]
     },
     "metadata": {
      "needs_background": "light"
     },
     "output_type": "display_data"
    },
    {
     "data": {
      "image/png": "[encoded data removed]",
      "text/plain": [
       "<Figure size 432x288 with 1 Axes>"
      ]
     },
     "metadata": {
      "needs_background": "light"
     },
     "output_type": "display_data"
    },
    {
     "data": {
      "image/png": "[encoded data removed]",
      "text/plain": [
       "<Figure size 432x288 with 1 Axes>"
      ]
     },
     "metadata": {
      "needs_background": "light"
     },
     "output_type": "display_data"
    }
   ],
   "source": [
    "from itertools import cycle\n",
    "import numpy as np\n",
    "import matplotlib.pyplot as plt\n",
    "\n",
    "from sklearn.linear_model import lasso_path, enet_path\n",
    "\n",
    "X = X_final\n",
    "y = y\n",
    "\n",
    "# Compute paths\n",
    "\n",
    "eps = 5e-3  # the smaller it is the longer is the path\n",
    "\n",
    "print(\"Computing regularization path using the lasso...\")\n",
    "alphas_lasso, coefs_lasso, _ = lasso_path(X, y, eps, fit_intercept=False)\n",
    "\n",
    "print(\"Computing regularization path using the positive lasso...\")\n",
    "alphas_positive_lasso, coefs_positive_lasso, _ = lasso_path(\n",
    "    X, y, eps, positive=True, fit_intercept=False)\n",
    "print(\"Computing regularization path using the elastic net...\")\n",
    "alphas_enet, coefs_enet, _ = enet_path(\n",
    "    X, y, eps=eps, l1_ratio=0.8, fit_intercept=False)\n",
    "\n",
    "print(\"Computing regularization path using the positive elastic net...\")\n",
    "alphas_positive_enet, coefs_positive_enet, _ = enet_path(\n",
    "    X, y, eps=eps, l1_ratio=0.8, positive=True, fit_intercept=False)\n",
    "\n",
    "# Display results\n",
    "\n",
    "plt.figure(1)\n",
    "colors = cycle(['b', 'r', 'g', 'c', 'k'])\n",
    "neg_log_alphas_lasso = -np.log10(alphas_lasso)\n",
    "neg_log_alphas_enet = -np.log10(alphas_enet)\n",
    "for coef_l, coef_e, c in zip(coefs_lasso, coefs_enet, colors):\n",
    "    l1 = plt.plot(neg_log_alphas_lasso, coef_l, c=c)\n",
    "    l2 = plt.plot(neg_log_alphas_enet, coef_e, linestyle='--', c=c)\n",
    "\n",
    "plt.xlabel('-Log(alpha)')\n",
    "plt.ylabel('coefficients')\n",
    "plt.title('Lasso and Elastic-Net Paths')\n",
    "plt.legend((l1[-1], l2[-1]), ('Lasso', 'Elastic-Net'), loc='lower left')\n",
    "plt.axis('tight')\n",
    "\n",
    "\n",
    "plt.figure(2)\n",
    "neg_log_alphas_positive_lasso = -np.log10(alphas_positive_lasso)\n",
    "for coef_l, coef_pl, c in zip(coefs_lasso, coefs_positive_lasso, colors):\n",
    "    l1 = plt.plot(neg_log_alphas_lasso, coef_l, c=c)\n",
    "    l2 = plt.plot(neg_log_alphas_positive_lasso, coef_pl, linestyle='--', c=c)\n",
    "\n",
    "plt.xlabel('-Log(alpha)')\n",
    "plt.ylabel('coefficients')\n",
    "plt.title('Lasso and positive Lasso')\n",
    "plt.legend((l1[-1], l2[-1]), ('Lasso', 'positive Lasso'), loc='lower left')\n",
    "plt.axis('tight')\n",
    "\n",
    "\n",
    "plt.figure(3)\n",
    "neg_log_alphas_positive_enet = -np.log10(alphas_positive_enet)\n",
    "for (coef_e, coef_pe, c) in zip(coefs_enet, coefs_positive_enet, colors):\n",
    "    l1 = plt.plot(neg_log_alphas_enet, coef_e, c=c)\n",
    "    l2 = plt.plot(neg_log_alphas_positive_enet, coef_pe, linestyle='--', c=c)\n",
    "\n",
    "plt.xlabel('-Log(alpha)')\n",
    "plt.ylabel('coefficients')\n",
    "plt.title('Elastic-Net and positive Elastic-Net')\n",
    "plt.legend((l1[-1], l2[-1]), ('Elastic-Net', 'positive Elastic-Net'),\n",
    "           loc='lower left')\n",
    "plt.axis('tight')\n",
    "plt.show()"
   ]
  },
  {
   "cell_type": "markdown",
   "metadata": {
    "heading_collapsed": true
   },
   "source": [
    "### AIC and BIC for subset selection\n",
    "This notebook shows how you can use AIC and BIC purely for feature selection. Try this code out on our Boston Housing data!"
   ]
  },
  {
   "cell_type": "markdown",
   "metadata": {
    "hidden": true
   },
   "source": [
    "https://xavierbourretsicotte.github.io/subset_selection.html"
   ]
  },
  {
   "cell_type": "code",
   "execution_count": 22,
   "metadata": {
    "ExecuteTime": {
     "end_time": "2019-10-17T23:40:32.737173Z",
     "start_time": "2019-10-17T23:40:31.789070Z"
    },
    "hidden": true
   },
   "outputs": [],
   "source": [
    "import itertools\n",
    "import time\n",
    "import numpy as np\n",
    "import pandas as pd\n",
    "import seaborn as sns\n",
    "import statsmodels.api as sm\n",
    "import matplotlib.pyplot as plt\n",
    "from sklearn import linear_model\n",
    "from sklearn.metrics import mean_squared_error\n",
    "\n",
    "%matplotlib inline\n",
    "plt.style.use('ggplot')"
   ]
  },
  {
   "cell_type": "code",
   "execution_count": 23,
   "metadata": {
    "ExecuteTime": {
     "end_time": "2019-10-17T23:40:32.747741Z",
     "start_time": "2019-10-17T23:40:32.743310Z"
    },
    "hidden": true
   },
   "outputs": [],
   "source": [
    "def fit_linear_reg(X,Y):\n",
    "    #Fit linear regression model and return RSS and R squared values\n",
    "    model_k = linear_model.LinearRegression(fit_intercept = True)\n",
    "    model_k.fit(X,Y)\n",
    "    RSS = mean_squared_error(Y,model_k.predict(X)) * len(Y)\n",
    "    R_squared = model_k.score(X,Y)\n",
    "    return RSS, R_squared"
   ]
  },
  {
   "cell_type": "code",
   "execution_count": 24,
   "metadata": {
    "ExecuteTime": {
     "end_time": "2019-10-17T23:40:32.774442Z",
     "start_time": "2019-10-17T23:40:32.751961Z"
    },
    "hidden": true
   },
   "outputs": [],
   "source": [
    "#Importing tqdm for the progress bar\n",
    "from tqdm import tnrange, tqdm_notebook"
   ]
  },
  {
   "cell_type": "code",
   "execution_count": 29,
   "metadata": {
    "ExecuteTime": {
     "end_time": "2019-10-17T23:44:02.656986Z",
     "start_time": "2019-10-17T23:44:02.640098Z"
    },
    "hidden": true
   },
   "outputs": [],
   "source": [
    "#Initialization variables\n",
    "Y = y\n",
    "X = X_final\n",
    "k = len(X_final.columns)\n",
    "RSS_list, R_squared_list, feature_list = [],[], []\n",
    "numb_features = []"
   ]
  },
  {
   "cell_type": "code",
   "execution_count": 30,
   "metadata": {
    "ExecuteTime": {
     "end_time": "2019-10-17T23:44:53.443999Z",
     "start_time": "2019-10-17T23:44:09.080718Z"
    },
    "hidden": true,
    "scrolled": true
   },
   "outputs": [
    {
     "ename": "KeyboardInterrupt",
     "evalue": "",
     "output_type": "error",
     "traceback": [
      "\u001b[0;31m---------------------------------------------------------------------------\u001b[0m",
      "\u001b[0;31mKeyboardInterrupt\u001b[0m                         Traceback (most recent call last)",
      "\u001b[0;32m~/anaconda3/envs/learn-env/lib/python3.6/abc.py\u001b[0m in \u001b[0;36m__instancecheck__\u001b[0;34m(cls, instance)\u001b[0m\n\u001b[1;32m    182\u001b[0m         \u001b[0;31m# Inline the cache checking\u001b[0m\u001b[0;34m\u001b[0m\u001b[0;34m\u001b[0m\u001b[0m\n\u001b[1;32m    183\u001b[0m         \u001b[0msubclass\u001b[0m \u001b[0;34m=\u001b[0m \u001b[0minstance\u001b[0m\u001b[0;34m.\u001b[0m\u001b[0m__class__\u001b[0m\u001b[0;34m\u001b[0m\u001b[0m\n\u001b[0;32m--> 184\u001b[0;31m         \u001b[0;32mif\u001b[0m \u001b[0msubclass\u001b[0m \u001b[0;32min\u001b[0m \u001b[0mcls\u001b[0m\u001b[0;34m.\u001b[0m\u001b[0m_abc_cache\u001b[0m\u001b[0;34m:\u001b[0m\u001b[0;34m\u001b[0m\u001b[0m\n\u001b[0m\u001b[1;32m    185\u001b[0m             \u001b[0;32mreturn\u001b[0m \u001b[0;32mTrue\u001b[0m\u001b[0;34m\u001b[0m\u001b[0m\n\u001b[1;32m    186\u001b[0m         \u001b[0msubtype\u001b[0m \u001b[0;34m=\u001b[0m \u001b[0mtype\u001b[0m\u001b[0;34m(\u001b[0m\u001b[0minstance\u001b[0m\u001b[0;34m)\u001b[0m\u001b[0;34m\u001b[0m\u001b[0m\n",
      "\u001b[0;32m~/anaconda3/envs/learn-env/lib/python3.6/_weakrefset.py\u001b[0m in \u001b[0;36m__contains__\u001b[0;34m(self, item)\u001b[0m\n\u001b[1;32m     73\u001b[0m         \u001b[0;32mexcept\u001b[0m \u001b[0mTypeError\u001b[0m\u001b[0;34m:\u001b[0m\u001b[0;34m\u001b[0m\u001b[0m\n\u001b[1;32m     74\u001b[0m             \u001b[0;32mreturn\u001b[0m \u001b[0;32mFalse\u001b[0m\u001b[0;34m\u001b[0m\u001b[0m\n\u001b[0;32m---> 75\u001b[0;31m         \u001b[0;32mreturn\u001b[0m \u001b[0mwr\u001b[0m \u001b[0;32min\u001b[0m \u001b[0mself\u001b[0m\u001b[0;34m.\u001b[0m\u001b[0mdata\u001b[0m\u001b[0;34m\u001b[0m\u001b[0m\n\u001b[0m\u001b[1;32m     76\u001b[0m \u001b[0;34m\u001b[0m\u001b[0m\n\u001b[1;32m     77\u001b[0m     \u001b[0;32mdef\u001b[0m \u001b[0m__reduce__\u001b[0m\u001b[0;34m(\u001b[0m\u001b[0mself\u001b[0m\u001b[0;34m)\u001b[0m\u001b[0;34m:\u001b[0m\u001b[0;34m\u001b[0m\u001b[0m\n",
      "\u001b[0;31mKeyboardInterrupt\u001b[0m: "
     ]
    },
    {
     "name": "stderr",
     "output_type": "stream",
     "text": [
      "Exception ignored in: 'pandas._libs.lib.c_is_list_like'\n",
      "Traceback (most recent call last):\n",
      "  File \"/Users/jennykreiger/anaconda3/envs/learn-env/lib/python3.6/abc.py\", line 184, in __instancecheck__\n",
      "    if subclass in cls._abc_cache:\n",
      "  File \"/Users/jennykreiger/anaconda3/envs/learn-env/lib/python3.6/_weakrefset.py\", line 75, in __contains__\n",
      "    return wr in self.data\n",
      "KeyboardInterrupt\n"
     ]
    },
    {
     "ename": "KeyboardInterrupt",
     "evalue": "",
     "output_type": "error",
     "traceback": [
      "\u001b[0;31m---------------------------------------------------------------------------\u001b[0m",
      "\u001b[0;31mKeyboardInterrupt\u001b[0m                         Traceback (most recent call last)",
      "\u001b[0;32m<ipython-input-30-f2e3e54d3c15>\u001b[0m in \u001b[0;36m<module>\u001b[0;34m()\u001b[0m\n\u001b[1;32m      4\u001b[0m     \u001b[0;31m#Looping over all possible combinations: from 11 choose k\u001b[0m\u001b[0;34m\u001b[0m\u001b[0;34m\u001b[0m\u001b[0m\n\u001b[1;32m      5\u001b[0m     \u001b[0;32mfor\u001b[0m \u001b[0mcombo\u001b[0m \u001b[0;32min\u001b[0m \u001b[0mitertools\u001b[0m\u001b[0;34m.\u001b[0m\u001b[0mcombinations\u001b[0m\u001b[0;34m(\u001b[0m\u001b[0mX\u001b[0m\u001b[0;34m.\u001b[0m\u001b[0mcolumns\u001b[0m\u001b[0;34m,\u001b[0m\u001b[0mk\u001b[0m\u001b[0;34m)\u001b[0m\u001b[0;34m:\u001b[0m\u001b[0;34m\u001b[0m\u001b[0m\n\u001b[0;32m----> 6\u001b[0;31m         \u001b[0mtmp_result\u001b[0m \u001b[0;34m=\u001b[0m \u001b[0mfit_linear_reg\u001b[0m\u001b[0;34m(\u001b[0m\u001b[0mX\u001b[0m\u001b[0;34m[\u001b[0m\u001b[0mlist\u001b[0m\u001b[0;34m(\u001b[0m\u001b[0mcombo\u001b[0m\u001b[0;34m)\u001b[0m\u001b[0;34m]\u001b[0m\u001b[0;34m,\u001b[0m\u001b[0mY\u001b[0m\u001b[0;34m)\u001b[0m   \u001b[0;31m#Store temp result\u001b[0m\u001b[0;34m\u001b[0m\u001b[0m\n\u001b[0m\u001b[1;32m      7\u001b[0m         \u001b[0mRSS_list\u001b[0m\u001b[0;34m.\u001b[0m\u001b[0mappend\u001b[0m\u001b[0;34m(\u001b[0m\u001b[0mtmp_result\u001b[0m\u001b[0;34m[\u001b[0m\u001b[0;36m0\u001b[0m\u001b[0;34m]\u001b[0m\u001b[0;34m)\u001b[0m                  \u001b[0;31m#Append lists\u001b[0m\u001b[0;34m\u001b[0m\u001b[0m\n\u001b[1;32m      8\u001b[0m         \u001b[0mR_squared_list\u001b[0m\u001b[0;34m.\u001b[0m\u001b[0mappend\u001b[0m\u001b[0;34m(\u001b[0m\u001b[0mtmp_result\u001b[0m\u001b[0;34m[\u001b[0m\u001b[0;36m1\u001b[0m\u001b[0;34m]\u001b[0m\u001b[0;34m)\u001b[0m\u001b[0;34m\u001b[0m\u001b[0m\n",
      "\u001b[0;32m~/anaconda3/envs/learn-env/lib/python3.6/site-packages/pandas/core/frame.py\u001b[0m in \u001b[0;36m__getitem__\u001b[0;34m(self, key)\u001b[0m\n\u001b[1;32m   2984\u001b[0m             \u001b[0;32mif\u001b[0m \u001b[0mis_iterator\u001b[0m\u001b[0;34m(\u001b[0m\u001b[0mkey\u001b[0m\u001b[0;34m)\u001b[0m\u001b[0;34m:\u001b[0m\u001b[0;34m\u001b[0m\u001b[0m\n\u001b[1;32m   2985\u001b[0m                 \u001b[0mkey\u001b[0m \u001b[0;34m=\u001b[0m \u001b[0mlist\u001b[0m\u001b[0;34m(\u001b[0m\u001b[0mkey\u001b[0m\u001b[0;34m)\u001b[0m\u001b[0;34m\u001b[0m\u001b[0m\n\u001b[0;32m-> 2986\u001b[0;31m             \u001b[0mindexer\u001b[0m \u001b[0;34m=\u001b[0m \u001b[0mself\u001b[0m\u001b[0;34m.\u001b[0m\u001b[0mloc\u001b[0m\u001b[0;34m.\u001b[0m\u001b[0m_convert_to_indexer\u001b[0m\u001b[0;34m(\u001b[0m\u001b[0mkey\u001b[0m\u001b[0;34m,\u001b[0m \u001b[0maxis\u001b[0m\u001b[0;34m=\u001b[0m\u001b[0;36m1\u001b[0m\u001b[0;34m,\u001b[0m \u001b[0mraise_missing\u001b[0m\u001b[0;34m=\u001b[0m\u001b[0;32mTrue\u001b[0m\u001b[0;34m)\u001b[0m\u001b[0;34m\u001b[0m\u001b[0m\n\u001b[0m\u001b[1;32m   2987\u001b[0m \u001b[0;34m\u001b[0m\u001b[0m\n\u001b[1;32m   2988\u001b[0m         \u001b[0;31m# take() does not accept boolean indexers\u001b[0m\u001b[0;34m\u001b[0m\u001b[0;34m\u001b[0m\u001b[0m\n",
      "\u001b[0;32m~/anaconda3/envs/learn-env/lib/python3.6/site-packages/pandas/core/indexing.py\u001b[0m in \u001b[0;36m_convert_to_indexer\u001b[0;34m(self, obj, axis, is_setter, raise_missing)\u001b[0m\n\u001b[1;32m   1240\u001b[0m         \u001b[0;31m# if we are a label return me\u001b[0m\u001b[0;34m\u001b[0m\u001b[0;34m\u001b[0m\u001b[0m\n\u001b[1;32m   1241\u001b[0m         \u001b[0;32mtry\u001b[0m\u001b[0;34m:\u001b[0m\u001b[0;34m\u001b[0m\u001b[0m\n\u001b[0;32m-> 1242\u001b[0;31m             \u001b[0;32mreturn\u001b[0m \u001b[0mlabels\u001b[0m\u001b[0;34m.\u001b[0m\u001b[0mget_loc\u001b[0m\u001b[0;34m(\u001b[0m\u001b[0mobj\u001b[0m\u001b[0;34m)\u001b[0m\u001b[0;34m\u001b[0m\u001b[0m\n\u001b[0m\u001b[1;32m   1243\u001b[0m         \u001b[0;32mexcept\u001b[0m \u001b[0mLookupError\u001b[0m\u001b[0;34m:\u001b[0m\u001b[0;34m\u001b[0m\u001b[0m\n\u001b[1;32m   1244\u001b[0m             \u001b[0;32mif\u001b[0m \u001b[0misinstance\u001b[0m\u001b[0;34m(\u001b[0m\u001b[0mobj\u001b[0m\u001b[0;34m,\u001b[0m \u001b[0mtuple\u001b[0m\u001b[0;34m)\u001b[0m \u001b[0;32mand\u001b[0m \u001b[0misinstance\u001b[0m\u001b[0;34m(\u001b[0m\u001b[0mlabels\u001b[0m\u001b[0;34m,\u001b[0m \u001b[0mMultiIndex\u001b[0m\u001b[0;34m)\u001b[0m\u001b[0;34m:\u001b[0m\u001b[0;34m\u001b[0m\u001b[0m\n",
      "\u001b[0;32m~/anaconda3/envs/learn-env/lib/python3.6/site-packages/pandas/core/indexes/base.py\u001b[0m in \u001b[0;36mget_loc\u001b[0;34m(self, key, method, tolerance)\u001b[0m\n\u001b[1;32m   2895\u001b[0m                 )\n\u001b[1;32m   2896\u001b[0m             \u001b[0;32mtry\u001b[0m\u001b[0;34m:\u001b[0m\u001b[0;34m\u001b[0m\u001b[0m\n\u001b[0;32m-> 2897\u001b[0;31m                 \u001b[0;32mreturn\u001b[0m \u001b[0mself\u001b[0m\u001b[0;34m.\u001b[0m\u001b[0m_engine\u001b[0m\u001b[0;34m.\u001b[0m\u001b[0mget_loc\u001b[0m\u001b[0;34m(\u001b[0m\u001b[0mkey\u001b[0m\u001b[0;34m)\u001b[0m\u001b[0;34m\u001b[0m\u001b[0m\n\u001b[0m\u001b[1;32m   2898\u001b[0m             \u001b[0;32mexcept\u001b[0m \u001b[0mKeyError\u001b[0m\u001b[0;34m:\u001b[0m\u001b[0;34m\u001b[0m\u001b[0m\n\u001b[1;32m   2899\u001b[0m                 \u001b[0;32mreturn\u001b[0m \u001b[0mself\u001b[0m\u001b[0;34m.\u001b[0m\u001b[0m_engine\u001b[0m\u001b[0;34m.\u001b[0m\u001b[0mget_loc\u001b[0m\u001b[0;34m(\u001b[0m\u001b[0mself\u001b[0m\u001b[0;34m.\u001b[0m\u001b[0m_maybe_cast_indexer\u001b[0m\u001b[0;34m(\u001b[0m\u001b[0mkey\u001b[0m\u001b[0;34m)\u001b[0m\u001b[0;34m)\u001b[0m\u001b[0;34m\u001b[0m\u001b[0m\n",
      "\u001b[0;32mpandas/_libs/index.pyx\u001b[0m in \u001b[0;36mpandas._libs.index.IndexEngine.get_loc\u001b[0;34m()\u001b[0m\n",
      "\u001b[0;32mpandas/_libs/index.pyx\u001b[0m in \u001b[0;36mpandas._libs.index.IndexEngine.get_loc\u001b[0;34m()\u001b[0m\n",
      "\u001b[0;31mKeyboardInterrupt\u001b[0m: "
     ]
    }
   ],
   "source": [
    "#Looping over k = 1 to k = 11 features in X\n",
    "for k in range(1,len(X.columns) + 1):\n",
    "\n",
    "    #Looping over all possible combinations: from 11 choose k\n",
    "    for combo in itertools.combinations(X.columns,k):\n",
    "        tmp_result = fit_linear_reg(X[list(combo)],Y)   #Store temp result \n",
    "        RSS_list.append(tmp_result[0])                  #Append lists\n",
    "        R_squared_list.append(tmp_result[1])\n",
    "        feature_list.append(combo)\n",
    "        numb_features.append(len(combo))   "
   ]
  },
  {
   "cell_type": "code",
   "execution_count": null,
   "metadata": {
    "ExecuteTime": {
     "end_time": "2019-10-17T23:44:53.452350Z",
     "start_time": "2019-10-17T23:44:30.337Z"
    },
    "hidden": true
   },
   "outputs": [],
   "source": [
    "#Store in DataFrame\n",
    "df = pd.DataFrame({'numb_features': numb_features,'RSS': RSS_list, 'R_squared':R_squared_list,'features':feature_list})\n",
    "\n",
    "df_min = df[df.groupby('numb_features')['RSS'].transform(min) == df['RSS']]\n",
    "df_max = df[df.groupby('numb_features')['R_squared'].transform(max) == df['R_squared']]\n",
    "display(df_min.head(3))\n",
    "display(df_max.head(3))\n",
    "\n",
    "df['min_RSS'] = df.groupby('numb_features')['RSS'].transform(min)\n",
    "df['max_R_squared'] = df.groupby('numb_features')['R_squared'].transform(max)\n",
    "df.head()"
   ]
  },
  {
   "cell_type": "code",
   "execution_count": null,
   "metadata": {
    "ExecuteTime": {
     "end_time": "2019-10-17T23:44:53.454667Z",
     "start_time": "2019-10-17T23:44:31.119Z"
    },
    "hidden": true
   },
   "outputs": [],
   "source": [
    "fig = plt.figure(figsize = (16,6))\n",
    "ax = fig.add_subplot(1, 2, 1)\n",
    "\n",
    "ax.scatter(df.numb_features,df.RSS, alpha = .2, color = 'darkblue' )\n",
    "ax.set_xlabel('# Features')\n",
    "ax.set_ylabel('RSS')\n",
    "ax.set_title('RSS - Best subset selection')\n",
    "ax.plot(df.numb_features,df.min_RSS,color = 'r', label = 'Best subset')\n",
    "ax.legend()\n",
    "\n",
    "ax = fig.add_subplot(1, 2, 2)\n",
    "ax.scatter(df.numb_features,df.R_squared, alpha = .2, color = 'darkblue' )\n",
    "ax.plot(df.numb_features,df.max_R_squared,color = 'r', label = 'Best subset')\n",
    "ax.set_xlabel('# Features')\n",
    "ax.set_ylabel('R squared')\n",
    "ax.set_title('R_squared - Best subset selection')\n",
    "ax.legend()\n",
    "\n",
    "plt.show()"
   ]
  },
  {
   "cell_type": "code",
   "execution_count": null,
   "metadata": {
    "ExecuteTime": {
     "end_time": "2019-10-17T23:44:53.457561Z",
     "start_time": "2019-10-17T23:44:31.911Z"
    },
    "hidden": true
   },
   "outputs": [],
   "source": [
    "#Initialization variables\n",
    "k = 11\n",
    "\n",
    "remaining_features = list(X.columns.values)\n",
    "features = []\n",
    "RSS_list, R_squared_list = [np.inf], [np.inf] #Due to 1 indexing of the loop...\n",
    "features_list = dict()\n",
    "\n",
    "for i in range(1,k+1):\n",
    "    best_RSS = np.inf\n",
    "    \n",
    "    for combo in itertools.combinations(remaining_features,1):\n",
    "\n",
    "            RSS = fit_linear_reg(X[list(combo) + features],Y)   #Store temp result \n",
    "\n",
    "            if RSS[0] < best_RSS:\n",
    "                best_RSS = RSS[0]\n",
    "                best_R_squared = RSS[1] \n",
    "                best_feature = combo[0]\n",
    "\n",
    "    #Updating variables for next loop\n",
    "    features.append(best_feature)\n",
    "    remaining_features.remove(best_feature)\n",
    "    \n",
    "    #Saving values for plotting\n",
    "    RSS_list.append(best_RSS)\n",
    "    R_squared_list.append(best_R_squared)\n",
    "    features_list[i] = features.copy()\n",
    "    \n",
    "print('Forward stepwise subset selection')\n",
    "print('Number of features |', 'Features |', 'RSS')\n",
    "display([(i,features_list[i], round(RSS_list[i])) for i in range(1,5)])"
   ]
  },
  {
   "cell_type": "code",
   "execution_count": null,
   "metadata": {
    "ExecuteTime": {
     "end_time": "2019-10-17T23:44:53.460184Z",
     "start_time": "2019-10-17T23:44:32.591Z"
    },
    "hidden": true
   },
   "outputs": [],
   "source": [
    "df1 = pd.concat([pd.DataFrame({'features':features_list}),pd.DataFrame({'RSS':RSS_list, 'R_squared': R_squared_list})], axis=1, join='inner')\n",
    "df1['numb_features'] = df1.index"
   ]
  },
  {
   "cell_type": "code",
   "execution_count": null,
   "metadata": {
    "ExecuteTime": {
     "end_time": "2019-10-17T23:44:53.466414Z",
     "start_time": "2019-10-17T23:44:33.239Z"
    },
    "hidden": true
   },
   "outputs": [],
   "source": [
    "#Initializing useful variables\n",
    "m = len(Y)\n",
    "p = 11\n",
    "hat_sigma_squared = (1/(m - p -1)) * min(df1['RSS'])\n",
    "\n",
    "#Computing\n",
    "df1['C_p'] = (1/m) * (df1['RSS'] + 2 * df1['numb_features'] * hat_sigma_squared )\n",
    "df1['AIC'] = (1/(m*hat_sigma_squared)) * (df1['RSS'] + 2 * df1['numb_features'] * hat_sigma_squared )\n",
    "df1['BIC'] = (1/(m*hat_sigma_squared)) * (df1['RSS'] +  np.log(m) * df1['numb_features'] * hat_sigma_squared )\n",
    "df1['R_squared_adj'] = 1 - ( (1 - df1['R_squared'])*(m-1)/(m-df1['numb_features'] -1))\n",
    "df1"
   ]
  },
  {
   "cell_type": "code",
   "execution_count": null,
   "metadata": {
    "ExecuteTime": {
     "end_time": "2019-10-17T23:40:33.145174Z",
     "start_time": "2019-10-17T23:40:23.833Z"
    },
    "hidden": true
   },
   "outputs": [],
   "source": [
    "df1['R_squared_adj'].idxmax()\n",
    "df1['R_squared_adj'].max()"
   ]
  },
  {
   "cell_type": "code",
   "execution_count": null,
   "metadata": {
    "ExecuteTime": {
     "end_time": "2019-10-17T23:40:33.147530Z",
     "start_time": "2019-10-17T23:40:23.837Z"
    },
    "hidden": true
   },
   "outputs": [],
   "source": [
    "variables = ['C_p', 'AIC','BIC','R_squared_adj']\n",
    "fig = plt.figure(figsize = (18,6))\n",
    "\n",
    "for i,v in enumerate(variables):\n",
    "    ax = fig.add_subplot(1, 4, i+1)\n",
    "    ax.plot(df1['numb_features'],df1[v], color = 'lightblue')\n",
    "    ax.scatter(df1['numb_features'],df1[v], color = 'darkblue')\n",
    "    if v == 'R_squared_adj':\n",
    "        ax.plot(df1[v].idxmax(),df1[v].max(), marker = 'x', markersize = 20)\n",
    "    else:\n",
    "        ax.plot(df1[v].idxmin(),df1[v].min(), marker = 'x', markersize = 20)\n",
    "    ax.set_xlabel('Number of predictors')\n",
    "    ax.set_ylabel(v)\n",
    "\n",
    "fig.suptitle('Subset selection using C_p, AIC, BIC, Adjusted R2', fontsize = 16)\n",
    "plt.show()"
   ]
  },
  {
   "cell_type": "markdown",
   "metadata": {},
   "source": [
    "## Summary"
   ]
  },
  {
   "cell_type": "markdown",
   "metadata": {},
   "source": [
    "Congratulations! You now know how to create better linear models and how to use AIC and BIC for both feature selection and to optimize your regularization parameter when performing Ridge and Lasso. "
   ]
  }
 ],
 "metadata": {
  "kernelspec": {
   "display_name": "Python 3",
   "language": "python",
   "name": "python3"
  },
  "language_info": {
   "codemirror_mode": {
    "name": "ipython",
    "version": 3
   },
   "file_extension": ".py",
   "mimetype": "text/x-python",
   "name": "python",
   "nbconvert_exporter": "python",
   "pygments_lexer": "ipython3",
   "version": "3.6.6"
  },
  "toc": {
   "base_numbering": 1,
   "nav_menu": {},
   "number_sections": true,
   "sideBar": true,
   "skip_h1_title": false,
   "title_cell": "Table of Contents",
   "title_sidebar": "Contents",
   "toc_cell": false,
   "toc_position": {},
   "toc_section_display": true,
   "toc_window_display": false
  }
 },
 "nbformat": 4,
 "nbformat_minor": 2
}
