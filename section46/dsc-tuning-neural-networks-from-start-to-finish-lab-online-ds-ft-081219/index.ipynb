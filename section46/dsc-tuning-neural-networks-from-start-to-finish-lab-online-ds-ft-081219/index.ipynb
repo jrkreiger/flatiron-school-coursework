{
 "cells": [
  {
   "cell_type": "markdown",
   "metadata": {},
   "source": [
    "# Tuning and Optimizing Neural Networks - Lab\n",
    "\n",
    "## Introduction\n",
    "\n",
    "Now that you've seen some regularization, initialization and optimization techniques, its time to synthesize those concepts into a cohesive modeling pipeline.  \n",
    "\n",
    "With this pipeline, you will not only fit an initial model but will also attempt to set various hyperparameters for regularization techniques. Your final model selection will pertain to the test metrics across these models. This will more naturally simulate a problem you might be faced with in practice, and the various modeling decisions you are apt to encounter along the way.  \n",
    "\n",
    "Recall that our end objective is to achieve a balance between overfitting and underfitting. You've seen the bias variance trade-off, and the role of regularization in order to reduce overfitting on training data and improving generalization to new cases. Common frameworks for such a procedure include train/validate/test methodology when data is plentiful, and K-folds cross-validation for smaller, more limited datasets. In this lab, you'll perform the latter, as the dataset in question is fairly limited. \n",
    "\n",
    "## Objectives\n",
    "\n",
    "You will be able to:\n",
    "\n",
    "* Implement a K-folds cross validation modeling pipeline\n",
    "* Apply normalization as a preprocessing technique\n",
    "* Apply regularization techniques to improve your model's generalization\n",
    "* Choose an appropriate optimization strategy "
   ]
  },
  {
   "cell_type": "markdown",
   "metadata": {},
   "source": [
    "## Loading the Data\n",
    "\n",
    "Load and preview the dataset below."
   ]
  },
  {
   "cell_type": "code",
   "execution_count": 1,
   "metadata": {
    "ExecuteTime": {
     "end_time": "2019-12-05T20:06:10.999004Z",
     "start_time": "2019-12-05T20:06:04.430388Z"
    }
   },
   "outputs": [
    {
     "name": "stderr",
     "output_type": "stream",
     "text": [
      "Using TensorFlow backend.\n"
     ]
    }
   ],
   "source": [
    "# Your code here; load and preview the dataset\n",
    "import numpy as np\n",
    "import pandas as pd\n",
    "import seaborn as sns\n",
    "import matplotlib.pyplot as plt\n",
    "%matplotlib inline\n",
    "\n",
    "from sklearn.model_selection import train_test_split, KFold\n",
    "from sklearn.impute import SimpleImputer\n",
    "from sklearn.preprocessing import StandardScaler, OneHotEncoder\n",
    "import keras\n",
    "from keras.layers import Dense\n",
    "from keras.models import Sequential"
   ]
  },
  {
   "cell_type": "code",
   "execution_count": 2,
   "metadata": {
    "ExecuteTime": {
     "end_time": "2019-12-05T20:06:13.325880Z",
     "start_time": "2019-12-05T20:06:13.139260Z"
    },
    "scrolled": true
   },
   "outputs": [
    {
     "name": "stdout",
     "output_type": "stream",
     "text": [
      "<class 'pandas.core.frame.DataFrame'>\n",
      "Int64Index: 42535 entries, 0 to 42537\n",
      "Data columns (total 16 columns):\n",
      "loan_amnt              42535 non-null float64\n",
      "funded_amnt_inv        42535 non-null float64\n",
      "term                   42535 non-null object\n",
      "int_rate               42535 non-null object\n",
      "installment            42535 non-null float64\n",
      "grade                  42535 non-null object\n",
      "emp_length             41423 non-null object\n",
      "home_ownership         42535 non-null object\n",
      "annual_inc             42531 non-null float64\n",
      "verification_status    42535 non-null object\n",
      "loan_status            42535 non-null object\n",
      "purpose                42535 non-null object\n",
      "addr_state             42535 non-null object\n",
      "total_acc              42506 non-null float64\n",
      "total_pymnt            42535 non-null float64\n",
      "application_type       42535 non-null object\n",
      "dtypes: float64(6), object(10)\n",
      "memory usage: 5.5+ MB\n"
     ]
    }
   ],
   "source": [
    "data = pd.read_csv('loan_final.csv', header=0)\n",
    "data.dropna(subset=['total_pymnt'], inplace=True)\n",
    "data.info()"
   ]
  },
  {
   "cell_type": "markdown",
   "metadata": {},
   "source": [
    "## Defining the Problem\n",
    "\n",
    "Set up the problem by defining X and y. \n",
    "\n",
    "For this problem use the following variables for X:\n",
    "* loan_amnt\n",
    "* home_ownership\n",
    "* funded_amnt_inv\n",
    "* verification_status\n",
    "* emp_length\n",
    "* installment\n",
    "* annual_inc\n",
    "\n",
    "Our target variable y will be ```total_pymnt```"
   ]
  },
  {
   "cell_type": "code",
   "execution_count": 3,
   "metadata": {
    "ExecuteTime": {
     "end_time": "2019-12-05T20:06:16.172758Z",
     "start_time": "2019-12-05T20:06:16.138291Z"
    },
    "scrolled": true
   },
   "outputs": [
    {
     "data": {
      "text/html": [
       "<div>\n",
       "<style scoped>\n",
       "    .dataframe tbody tr th:only-of-type {\n",
       "        vertical-align: middle;\n",
       "    }\n",
       "\n",
       "    .dataframe tbody tr th {\n",
       "        vertical-align: top;\n",
       "    }\n",
       "\n",
       "    .dataframe thead th {\n",
       "        text-align: right;\n",
       "    }\n",
       "</style>\n",
       "<table border=\"1\" class=\"dataframe\">\n",
       "  <thead>\n",
       "    <tr style=\"text-align: right;\">\n",
       "      <th></th>\n",
       "      <th>loan_amnt</th>\n",
       "      <th>funded_amnt_inv</th>\n",
       "      <th>installment</th>\n",
       "      <th>annual_inc</th>\n",
       "      <th>verification_status</th>\n",
       "      <th>emp_length</th>\n",
       "      <th>home_ownership</th>\n",
       "    </tr>\n",
       "  </thead>\n",
       "  <tbody>\n",
       "    <tr>\n",
       "      <td>0</td>\n",
       "      <td>5000.0</td>\n",
       "      <td>4975.0</td>\n",
       "      <td>162.87</td>\n",
       "      <td>24000.0</td>\n",
       "      <td>Verified</td>\n",
       "      <td>10+ years</td>\n",
       "      <td>RENT</td>\n",
       "    </tr>\n",
       "    <tr>\n",
       "      <td>1</td>\n",
       "      <td>2500.0</td>\n",
       "      <td>2500.0</td>\n",
       "      <td>59.83</td>\n",
       "      <td>30000.0</td>\n",
       "      <td>Source Verified</td>\n",
       "      <td>&lt; 1 year</td>\n",
       "      <td>RENT</td>\n",
       "    </tr>\n",
       "    <tr>\n",
       "      <td>2</td>\n",
       "      <td>2400.0</td>\n",
       "      <td>2400.0</td>\n",
       "      <td>84.33</td>\n",
       "      <td>12252.0</td>\n",
       "      <td>Not Verified</td>\n",
       "      <td>10+ years</td>\n",
       "      <td>RENT</td>\n",
       "    </tr>\n",
       "    <tr>\n",
       "      <td>3</td>\n",
       "      <td>10000.0</td>\n",
       "      <td>10000.0</td>\n",
       "      <td>339.31</td>\n",
       "      <td>49200.0</td>\n",
       "      <td>Source Verified</td>\n",
       "      <td>10+ years</td>\n",
       "      <td>RENT</td>\n",
       "    </tr>\n",
       "    <tr>\n",
       "      <td>4</td>\n",
       "      <td>3000.0</td>\n",
       "      <td>3000.0</td>\n",
       "      <td>67.79</td>\n",
       "      <td>80000.0</td>\n",
       "      <td>Source Verified</td>\n",
       "      <td>1 year</td>\n",
       "      <td>RENT</td>\n",
       "    </tr>\n",
       "  </tbody>\n",
       "</table>\n",
       "</div>"
      ],
      "text/plain": [
       "   loan_amnt  funded_amnt_inv  installment  annual_inc verification_status  \\\n",
       "0     5000.0           4975.0       162.87     24000.0            Verified   \n",
       "1     2500.0           2500.0        59.83     30000.0     Source Verified   \n",
       "2     2400.0           2400.0        84.33     12252.0        Not Verified   \n",
       "3    10000.0          10000.0       339.31     49200.0     Source Verified   \n",
       "4     3000.0           3000.0        67.79     80000.0     Source Verified   \n",
       "\n",
       "  emp_length home_ownership  \n",
       "0  10+ years           RENT  \n",
       "1   < 1 year           RENT  \n",
       "2  10+ years           RENT  \n",
       "3  10+ years           RENT  \n",
       "4     1 year           RENT  "
      ]
     },
     "execution_count": 3,
     "metadata": {},
     "output_type": "execute_result"
    }
   ],
   "source": [
    "# Your code here; appropriately define X and y and apply a train-test split\n",
    "y = data.loc[:,'total_pymnt']\n",
    "\n",
    "X = data.loc[:,['loan_amnt', 'funded_amnt_inv', 'installment', 'annual_inc',\n",
    "           'verification_status', 'emp_length', 'home_ownership']]\n",
    "\n",
    "X[:5]"
   ]
  },
  {
   "cell_type": "markdown",
   "metadata": {},
   "source": [
    "## Generating a Hold Out Test Set\n",
    "\n",
    "While we will be using K-fold cross validation to select an optimal model, we still want a final hold out test set that is completely independent of any modeling decisions. As such, pull out a sample of 10% of the total available data. For consistency of results, use random seed 123. "
   ]
  },
  {
   "cell_type": "code",
   "execution_count": 4,
   "metadata": {
    "ExecuteTime": {
     "end_time": "2019-12-05T20:06:19.568029Z",
     "start_time": "2019-12-05T20:06:19.537468Z"
    }
   },
   "outputs": [
    {
     "name": "stdout",
     "output_type": "stream",
     "text": [
      "<class 'pandas.core.frame.DataFrame'>\n",
      "Int64Index: 31901 entries, 41522 to 15725\n",
      "Data columns (total 7 columns):\n",
      "loan_amnt              31901 non-null float64\n",
      "funded_amnt_inv        31901 non-null float64\n",
      "installment            31901 non-null float64\n",
      "annual_inc             31897 non-null float64\n",
      "verification_status    31901 non-null object\n",
      "emp_length             31108 non-null object\n",
      "home_ownership         31901 non-null object\n",
      "dtypes: float64(4), object(3)\n",
      "memory usage: 1.9+ MB\n"
     ]
    }
   ],
   "source": [
    "# Your code here; generate a hold out test set for final model evaluation. Use random seed 123.\n",
    "X_train, X_test, y_train, y_test = train_test_split(X, y, random_state=123)\n",
    "\n",
    "X_train.info()"
   ]
  },
  {
   "cell_type": "markdown",
   "metadata": {},
   "source": [
    "### Preprocessing Steps\n",
    "* Fill in missing values with SimpleImputer\n",
    "* Standardize continuous features with StandardScaler()\n",
    "* One hot encode categorical features with OneHotEncoder()"
   ]
  },
  {
   "cell_type": "code",
   "execution_count": 5,
   "metadata": {
    "ExecuteTime": {
     "end_time": "2019-12-05T20:06:25.064514Z",
     "start_time": "2019-12-05T20:06:24.949309Z"
    }
   },
   "outputs": [
    {
     "name": "stdout",
     "output_type": "stream",
     "text": [
      "<class 'pandas.core.frame.DataFrame'>\n",
      "RangeIndex: 31901 entries, 0 to 31900\n",
      "Data columns (total 24 columns):\n",
      "loan_amnt                              31901 non-null float64\n",
      "funded_amnt_inv                        31901 non-null float64\n",
      "installment                            31901 non-null float64\n",
      "annual_inc                             31901 non-null float64\n",
      "verification_status_Not Verified       31901 non-null float64\n",
      "verification_status_Source Verified    31901 non-null float64\n",
      "verification_status_Verified           31901 non-null float64\n",
      "emp_length_1 year                      31901 non-null float64\n",
      "emp_length_10+ years                   31901 non-null float64\n",
      "emp_length_2 years                     31901 non-null float64\n",
      "emp_length_3 years                     31901 non-null float64\n",
      "emp_length_4 years                     31901 non-null float64\n",
      "emp_length_5 years                     31901 non-null float64\n",
      "emp_length_6 years                     31901 non-null float64\n",
      "emp_length_7 years                     31901 non-null float64\n",
      "emp_length_8 years                     31901 non-null float64\n",
      "emp_length_9 years                     31901 non-null float64\n",
      "emp_length_< 1 year                    31901 non-null float64\n",
      "emp_length_missing                     31901 non-null float64\n",
      "home_ownership_MORTGAGE                31901 non-null float64\n",
      "home_ownership_NONE                    31901 non-null float64\n",
      "home_ownership_OTHER                   31901 non-null float64\n",
      "home_ownership_OWN                     31901 non-null float64\n",
      "home_ownership_RENT                    31901 non-null float64\n",
      "dtypes: float64(24)\n",
      "memory usage: 5.8 MB\n"
     ]
    }
   ],
   "source": [
    "# Split data into numeric and categorical variables\n",
    "nums = ['loan_amnt', 'funded_amnt_inv', 'installment', 'annual_inc']\n",
    "cats = ['verification_status', 'emp_length', 'home_ownership']\n",
    "\n",
    "X_train_num = X_train.loc[:,nums]\n",
    "X_train_cat = X_train.loc[:,cats]\n",
    "\n",
    "# Impute missing numeric values\n",
    "imputer = SimpleImputer(strategy='mean')\n",
    "imputer.fit(X_train_num)\n",
    "X_nums_imputed = imputer.transform(X_train_num)\n",
    "\n",
    "# Impute missing categorical values\n",
    "imputer2 = SimpleImputer(strategy='constant', fill_value='missing')\n",
    "imputer2.fit(X_train_cat)\n",
    "X_cats_imputed = imputer2.transform(X_train_cat)\n",
    "\n",
    "# Scale the numeric values\n",
    "scaler = StandardScaler()\n",
    "scaler.fit(X_nums_imputed)\n",
    "X_nums_scaled = scaler.transform(X_nums_imputed)\n",
    "X_nums_scaled = pd.DataFrame(X_nums_scaled, columns=nums)\n",
    "\n",
    "# Create dummy variables for categorical features\n",
    "encoder = OneHotEncoder(handle_unknown='ignore')\n",
    "encoder.fit(X_cats_imputed)\n",
    "X_cats_ohe = encoder.transform(X_cats_imputed)\n",
    "X_cats_ohe = pd.DataFrame(X_cats_ohe.todense(), \n",
    "                          columns=encoder.get_feature_names(input_features=cats))\n",
    "\n",
    "# Join up the preprocessed dataset\n",
    "X_train_ready = pd.concat([X_nums_scaled, X_cats_ohe], axis=1)\n",
    "X_train_ready.info()"
   ]
  },
  {
   "cell_type": "markdown",
   "metadata": {},
   "source": [
    "### Preprocess Your Holdout Set\n",
    "\n",
    "Make sure to use your StandardScalar and OneHotEncoder that you already fit on the training set to transform your test set"
   ]
  },
  {
   "cell_type": "code",
   "execution_count": 6,
   "metadata": {
    "ExecuteTime": {
     "end_time": "2019-12-05T20:06:26.686459Z",
     "start_time": "2019-12-05T20:06:26.634217Z"
    }
   },
   "outputs": [
    {
     "name": "stdout",
     "output_type": "stream",
     "text": [
      "<class 'pandas.core.frame.DataFrame'>\n",
      "RangeIndex: 10634 entries, 0 to 10633\n",
      "Data columns (total 24 columns):\n",
      "loan_amnt                              10634 non-null float64\n",
      "funded_amnt_inv                        10634 non-null float64\n",
      "installment                            10634 non-null float64\n",
      "annual_inc                             10634 non-null float64\n",
      "verification_status_Not Verified       10634 non-null float64\n",
      "verification_status_Source Verified    10634 non-null float64\n",
      "verification_status_Verified           10634 non-null float64\n",
      "emp_length_1 year                      10634 non-null float64\n",
      "emp_length_10+ years                   10634 non-null float64\n",
      "emp_length_2 years                     10634 non-null float64\n",
      "emp_length_3 years                     10634 non-null float64\n",
      "emp_length_4 years                     10634 non-null float64\n",
      "emp_length_5 years                     10634 non-null float64\n",
      "emp_length_6 years                     10634 non-null float64\n",
      "emp_length_7 years                     10634 non-null float64\n",
      "emp_length_8 years                     10634 non-null float64\n",
      "emp_length_9 years                     10634 non-null float64\n",
      "emp_length_< 1 year                    10634 non-null float64\n",
      "emp_length_missing                     10634 non-null float64\n",
      "home_ownership_MORTGAGE                10634 non-null float64\n",
      "home_ownership_NONE                    10634 non-null float64\n",
      "home_ownership_OTHER                   10634 non-null float64\n",
      "home_ownership_OWN                     10634 non-null float64\n",
      "home_ownership_RENT                    10634 non-null float64\n",
      "dtypes: float64(24)\n",
      "memory usage: 1.9 MB\n"
     ]
    }
   ],
   "source": [
    "# Separate the numeric and categorical features\n",
    "X_test_num = X_test.loc[:,nums]\n",
    "X_test_cat = X_test.loc[:,cats]\n",
    "\n",
    "# Impute missing numeric values\n",
    "X_test_nums_imputed = imputer.transform(X_test_num)\n",
    "\n",
    "# Impute missing categorical values\n",
    "X_test_cats_imputed = imputer2.transform(X_test_cat)\n",
    "\n",
    "# Scale the numeric features\n",
    "X_test_nums_scaled = scaler.transform(X_test_nums_imputed)\n",
    "X_test_nums_scaled = pd.DataFrame(X_test_nums_scaled, columns=nums)\n",
    "\n",
    "# Create dummy variables for categorical features\n",
    "X_test_cats_ohe = encoder.transform(X_test_cats_imputed)\n",
    "X_test_cats_ohe = pd.DataFrame(X_test_cats_ohe.todense(), \n",
    "                          columns=encoder.get_feature_names(input_features=cats))\n",
    "\n",
    "# Join up the preprocessed dataset\n",
    "X_test_ready = pd.concat([X_test_nums_scaled, X_test_cats_ohe], axis=1)\n",
    "X_test_ready.info()"
   ]
  },
  {
   "cell_type": "markdown",
   "metadata": {},
   "source": [
    "## Defining a K-fold Cross Validation Methodology\n",
    "\n",
    "Now that you have a complete holdout test set, write a function that takes in the remaining data and performs k-folds cross validation given a model object. \n",
    "\n",
    "> Note: Think about how you will analyze the output of your models in order to select an optimal model. This may involve graphs, although alternative approaches are certainly feasible."
   ]
  },
  {
   "cell_type": "code",
   "execution_count": 7,
   "metadata": {
    "ExecuteTime": {
     "end_time": "2019-12-05T20:06:28.695388Z",
     "start_time": "2019-12-05T20:06:28.682085Z"
    }
   },
   "outputs": [],
   "source": [
    "# Your code here; define a function to evaluate a model object using K folds cross validation.\n",
    "\n",
    "def k_folds(features_train, labels_train, model_obj, k=3, n_epochs=100):\n",
    "    colors = sns.color_palette('husl', 10)\n",
    "    val_scores = []\n",
    "    \n",
    "    folds = KFold(n_splits=k, shuffle=True)\n",
    "    \n",
    "    fig, axes = plt.subplots(1, 3, figsize=(16,8))\n",
    "    for i, (train_index, test_index) in enumerate(folds.split(features_train)):\n",
    "        \n",
    "           \n",
    "        X_train, X_val = features_train.iloc[train_index], features_train.iloc[test_index]\n",
    "        y_train, y_val = labels_train.iloc[train_index], labels_train.iloc[test_index]\n",
    "               \n",
    "        model = model_obj\n",
    "        history = model.fit(X_train, y_train, batch_size=32, epochs=n_epochs,\n",
    "                            verbose=0, validation_data=(X_val, y_val))\n",
    "        \n",
    "        val_score = model.evaluate(X_val, y_val)\n",
    "        val_scores.append(val_score)\n",
    "        \n",
    "        ax = axes[i]\n",
    "        ax.plot(history.history['val_loss'], label='val_loss', color=colors[7])\n",
    "        ax.plot(history.history['loss'], label='loss', color=colors[9])\n",
    "        ax.set_title('Fold {}'.format(i+1))\n",
    "    \n",
    "    plt.legend()\n",
    "    \n",
    "    mean_val_score = np.average(val_scores)\n",
    "    print('Mean validation score:', mean_val_score)\n",
    "    print('STD of validation scores:', np.std(val_scores))\n",
    "    return mean_val_score"
   ]
  },
  {
   "cell_type": "markdown",
   "metadata": {},
   "source": [
    "## Building a Baseline Model\n",
    "\n",
    "Here, it is also important to define your evaluation metric that you will look to optimize while tuning the model. Additionally, model training to optimize this metric may consist of using a validation and test set if data is plentiful, or k-folds cross-validation if data is limited. Since this dataset is not overly large, it will be most appropriate to set up a k-folds cross-validation  "
   ]
  },
  {
   "cell_type": "code",
   "execution_count": 8,
   "metadata": {
    "ExecuteTime": {
     "end_time": "2019-12-05T20:06:30.070498Z",
     "start_time": "2019-12-05T20:06:29.963773Z"
    }
   },
   "outputs": [],
   "source": [
    "# Your code here; define and compile an initial model as described\n",
    "input_dims = X_train_ready.shape[1]\n",
    "\n",
    "np.random.seed(123)\n",
    "model = Sequential()\n",
    "model.add(Dense(7, activation='relu', kernel_initializer='normal', \n",
    "                input_dim=input_dims))\n",
    "model.add(Dense(10, activation='relu'))\n",
    "model.add(Dense(1, activation='linear', kernel_initializer='normal'))\n",
    "\n",
    "model.compile(optimizer='sgd', loss='mse', metrics=['mse'])"
   ]
  },
  {
   "cell_type": "markdown",
   "metadata": {},
   "source": [
    "## Evaluating the Baseline Model with K-Folds Cross Validation\n",
    "\n",
    "Use your k-folds function to evaluate the baseline model.  \n",
    "\n",
    "Note: This code block is likely to take 10-20 minutes to run depending on the specs on your computer.\n",
    "Because of time dependencies, it can be interesting to begin timing these operations for future reference.\n",
    "\n",
    "Here's a simple little recipe to achieve this:\n",
    "```\n",
    "import time\n",
    "import datetime\n",
    "\n",
    "now = datetime.datetime.now()\n",
    "later = datetime.datetime.now()\n",
    "elapsed = later - now\n",
    "print('Time Elapsed:', elapsed)\n",
    "```"
   ]
  },
  {
   "cell_type": "code",
   "execution_count": 9,
   "metadata": {
    "ExecuteTime": {
     "end_time": "2019-12-05T20:12:25.495870Z",
     "start_time": "2019-12-05T20:06:38.227497Z"
    }
   },
   "outputs": [
    {
     "name": "stdout",
     "output_type": "stream",
     "text": [
      "10634/10634 [==============================] - 0s 26us/step\n",
      "10634/10634 [==============================] - 0s 41us/step\n",
      "10633/10633 [==============================] - 0s 28us/step\n",
      "Mean validation score: nan\n",
      "STD of validation scores: nan\n"
     ]
    },
    {
     "data": {
      "text/plain": [
       "nan"
      ]
     },
     "execution_count": 9,
     "metadata": {},
     "output_type": "execute_result"
    },
    {
     "data": {
      "image/png": "[encoded data removed]",
      "text/plain": [
       "<Figure size 1152x576 with 3 Axes>"
      ]
     },
     "metadata": {
      "needs_background": "light"
     },
     "output_type": "display_data"
    }
   ],
   "source": [
    "# Your code here; use your k-folds function to evaluate the baseline model.\n",
    "# ⏰ This cell may take several mintes to run\n",
    "k_folds(X_train_ready, y_train, model)"
   ]
  },
  {
   "cell_type": "markdown",
   "metadata": {},
   "source": [
    "## Intentionally Overfitting a Model\n",
    "\n",
    "Now that you've developed a baseline model, its time to intentionally overfit a model. To overfit a model, you can:\n",
    "* Add layers\n",
    "* Make the layers bigger\n",
    "* Increase the number of training epochs\n",
    "\n",
    "Again, be careful here. Think about the limitations of your resources, both in terms of your computer's specs and how much time and patience you have to let the process run. Also keep in mind that you will then be regularizing these overfit models, meaning another round of experiments and more time and resources."
   ]
  },
  {
   "cell_type": "code",
   "execution_count": 39,
   "metadata": {
    "ExecuteTime": {
     "end_time": "2019-12-05T17:00:59.569789Z",
     "start_time": "2019-12-05T16:53:58.229724Z"
    }
   },
   "outputs": [
    {
     "name": "stdout",
     "output_type": "stream",
     "text": [
      "12762/12762 [==============================] - 0s 27us/step\n",
      "12761/12761 [==============================] - 0s 23us/step\n",
      "12761/12761 [==============================] - 0s 23us/step\n",
      "Mean validation score: nan\n",
      "STD of validation scores: nan\n"
     ]
    },
    {
     "data": {
      "text/plain": [
       "nan"
      ]
     },
     "execution_count": 39,
     "metadata": {},
     "output_type": "execute_result"
    },
    {
     "data": {
      "image/png": "[encoded data removed]",
      "text/plain": [
       "<Figure size 1152x864 with 3 Axes>"
      ]
     },
     "metadata": {
      "needs_background": "light"
     },
     "output_type": "display_data"
    }
   ],
   "source": [
    "# Add a second 10-node layer\n",
    "# ⏰ This cell may take several mintes to run\n",
    "model2 = Sequential()\n",
    "model2.add(Dense(7, activation='relu', kernel_initializer='normal', \n",
    "                input_dim=input_dims))\n",
    "model2.add(Dense(10, activation='relu'))\n",
    "model2.add(Dense(10, activation='relu'))\n",
    "model2.add(Dense(1, activation='linear', kernel_initializer='normal'))\n",
    "\n",
    "model2.compile(optimizer='sgd', loss='mse', metrics=['mse'])\n",
    "\n",
    "k_folds(X_train_ready, y_train, model2)"
   ]
  },
  {
   "cell_type": "code",
   "execution_count": 40,
   "metadata": {
    "ExecuteTime": {
     "end_time": "2019-12-05T17:08:24.552313Z",
     "start_time": "2019-12-05T17:01:30.571883Z"
    }
   },
   "outputs": [
    {
     "name": "stdout",
     "output_type": "stream",
     "text": [
      "12762/12762 [==============================] - 0s 27us/step\n",
      "12761/12761 [==============================] - 0s 23us/step\n",
      "12761/12761 [==============================] - 0s 23us/step\n",
      "Mean validation score: nan\n",
      "STD of validation scores: nan\n"
     ]
    },
    {
     "data": {
      "text/plain": [
       "nan"
      ]
     },
     "execution_count": 40,
     "metadata": {},
     "output_type": "execute_result"
    },
    {
     "data": {
      "image/png": "[encoded data removed]",
      "text/plain": [
       "<Figure size 1152x864 with 3 Axes>"
      ]
     },
     "metadata": {
      "needs_background": "light"
     },
     "output_type": "display_data"
    }
   ],
   "source": [
    "# Use 2 20-node layers\n",
    "# ⏰ This cell may take several mintes to run\n",
    "model3 = Sequential()\n",
    "model3.add(Dense(7, activation='relu', kernel_initializer='normal', \n",
    "                input_dim=input_dims))\n",
    "model3.add(Dense(20, activation='relu'))\n",
    "model3.add(Dense(20, activation='relu'))\n",
    "model3.add(Dense(1, activation='linear', kernel_initializer='normal'))\n",
    "\n",
    "model3.compile(optimizer='sgd', loss='mse', metrics=['mse'])\n",
    "\n",
    "k_folds(X_train_ready, y_train, model3)"
   ]
  },
  {
   "cell_type": "markdown",
   "metadata": {},
   "source": [
    "## Regularizing the Model to Achieve Balance  \n",
    "\n",
    "Now that you have a powerful model (albeit an overfit one), we can now increase the generalization of the model by using some of the regularization techniques we discussed. Some options you have to try include:  \n",
    "* Adding dropout\n",
    "* Adding L1/L2 regularization\n",
    "* Altering the layer architecture (add or remove layers similar to above)  \n",
    "\n",
    "This process will be constrained by time and resources. Be sure to test at least 2 different methodologies, such as dropout and L2 regularization. If you have the time, feel free to continue experimenting.\n",
    "\n",
    "Notes: "
   ]
  },
  {
   "cell_type": "code",
   "execution_count": null,
   "metadata": {},
   "outputs": [],
   "source": [
    "# Dropout\n",
    "# ⏰ This cell may take several minutes to run\n",
    "model = Sequential()\n",
    "model.add(layers.Dropout(0.3, input_dim=input_dims))\n",
    "model.add(Dense(7, activation='relu', kernel_initializer='normal', \n",
    "                input_dim=input_dims))\n",
    "model.add(layers.Dropout(0.3))\n",
    "model.add(Dense(25, activation='relu'))\n",
    "model.add(layers.Dropout(0.3))\n",
    "model.add(Dense(1, activation='linear', kernel_initializer='normal'))\n",
    "\n",
    "model.compile(optimizer='sgd', loss='mse', metrics=['mse'])\n",
    "\n",
    "k_folds(X_train_ready, y_train, model)"
   ]
  },
  {
   "cell_type": "code",
   "execution_count": null,
   "metadata": {},
   "outputs": [],
   "source": [
    "# Your code here; try some regularization or other methods to tune your network\n",
    "# ⏰ This cell may take several minutes to run\n",
    "model = Sequential()\n",
    "model.add(Dense(7, activation='relu', kernel_initializer='normal',\n",
    "                kernel_regularizer=regularizers.l2(0.005),\n",
    "                input_dim=input_dims))\n",
    "model.add(Dense(25, activation='relu', \n",
    "                kernel_regularizer=regularizers.l2(0.005)))\n",
    "model.add(Dense(1, activation='linear', kernel_initializer='normal'))\n",
    "\n",
    "model.compile(optimizer='sgd', loss='mse', metrics=['mse'])\n",
    "\n",
    "k_folds(X_train_ready, y_train, model)"
   ]
  },
  {
   "cell_type": "markdown",
   "metadata": {},
   "source": [
    "## Final Evaluation\n",
    "\n",
    "Now that you have selected a network architecture, tested various regularization procedures and tuned hyperparameters via a validation methodology, it is time to evaluate your finalized model once and for all. Fit the model using all of the training and validation data using the architecture and hyperparameters that were most effective in your experiments above. Afterwards, measure the overall performance on the hold-out test data which has been left untouched (and hasn't leaked any data into the modeling process)!"
   ]
  },
  {
   "cell_type": "code",
   "execution_count": null,
   "metadata": {},
   "outputs": [],
   "source": [
    "# Your code here; final model training on entire training set followed by evaluation on hold-out data\n",
    "# ⏰ This cell may take several mintes to run"
   ]
  },
  {
   "cell_type": "markdown",
   "metadata": {},
   "source": [
    "## Summary\n",
    "\n",
    "In this lab, you investigated some data from *The Lending Club* in a complete data science pipeline regarding neural networks. You began with reserving a hold-out set for testing which never was touched during the modeling phase. From there, you implemented a k-fold cross validation methodology in order to assess an initial baseline model and various regularization methods. From here, you'll begin to investigate other neural network architectures such as CNNs."
   ]
  }
 ],
 "metadata": {
  "kernelspec": {
   "display_name": "learn-env",
   "language": "python",
   "name": "learn-env"
  },
  "language_info": {
   "codemirror_mode": {
    "name": "ipython",
    "version": 3
   },
   "file_extension": ".py",
   "mimetype": "text/x-python",
   "name": "python",
   "nbconvert_exporter": "python",
   "pygments_lexer": "ipython3",
   "version": "3.6.6"
  },
  "toc": {
   "base_numbering": 1,
   "nav_menu": {},
   "number_sections": true,
   "sideBar": true,
   "skip_h1_title": false,
   "title_cell": "Table of Contents",
   "title_sidebar": "Contents",
   "toc_cell": false,
   "toc_position": {},
   "toc_section_display": true,
   "toc_window_display": false
  }
 },
 "nbformat": 4,
 "nbformat_minor": 2
}
