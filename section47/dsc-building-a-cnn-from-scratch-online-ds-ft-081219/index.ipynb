{
 "cells": [
  {
   "cell_type": "markdown",
   "metadata": {},
   "source": [
    "# Building a CNN from Scratch - Lab\n",
    "\n",
    "## Introduction\n",
    "\n",
    "Now that you have background knowledge regarding how CNNs work and how to implement them via Keras, its time to practice those skills a little more independently in order to build a CNN on your own to solve a image recognition problem. In this lab, you'll practice building an image classifier from start to finish using a CNN.  \n",
    "\n",
    "## Objectives\n",
    "\n",
    "You will be able to:\n",
    "* Transform images into tensors\n",
    "* Build a CNN model for image recognition"
   ]
  },
  {
   "cell_type": "markdown",
   "metadata": {},
   "source": [
    "## Loading the Images\n",
    "\n",
    "The data for this lab concerns classifying lung xray images for pneumonia. The original dataset is from kaggle. We have downsampled this dataset in order to reduce training time for you when you design and fit your model to the data. ⏰ It is anticipated that this process will take approximately 1 hour to run on a standard machine, although times will vary depending on your particular computer and set up. At the end of this lab, you are welcome to try training on the complete dataset and observe the impact on the model's overall accuracy. \n",
    "\n",
    "You can find the initial downsampled dataset in a subdirectory, **chest_xray**, of this repository."
   ]
  },
  {
   "cell_type": "code",
   "execution_count": 1,
   "metadata": {
    "ExecuteTime": {
     "end_time": "2019-12-09T17:17:52.775018Z",
     "start_time": "2019-12-09T17:17:47.521449Z"
    }
   },
   "outputs": [
    {
     "name": "stderr",
     "output_type": "stream",
     "text": [
      "Using TensorFlow backend.\n"
     ]
    }
   ],
   "source": [
    "#Your code here; load the images; be sure to also preprocess these into tensors.\n",
    "from keras.preprocessing.image import ImageDataGenerator\n",
    "import numpy as np"
   ]
  },
  {
   "cell_type": "code",
   "execution_count": 2,
   "metadata": {
    "ExecuteTime": {
     "end_time": "2019-12-09T17:18:59.405362Z",
     "start_time": "2019-12-09T17:18:59.398793Z"
    }
   },
   "outputs": [],
   "source": [
    "# Set directory paths\n",
    "train_dir = 'chest_xray_downsampled/train'\n",
    "val_dir = 'chest_xray_downsampled/val'\n",
    "test_dir = 'chest_xray_downsampled/test'"
   ]
  },
  {
   "cell_type": "code",
   "execution_count": 3,
   "metadata": {
    "ExecuteTime": {
     "end_time": "2019-12-09T17:21:18.746325Z",
     "start_time": "2019-12-09T17:21:18.419385Z"
    }
   },
   "outputs": [
    {
     "name": "stdout",
     "output_type": "stream",
     "text": [
      "Found 1738 images belonging to 2 classes.\n",
      "Found 4 images belonging to 2 classes.\n"
     ]
    }
   ],
   "source": [
    "# Rescale\n",
    "train_datagen = ImageDataGenerator(rescale=1./255)\n",
    "test_datagen = ImageDataGenerator(rescale=1./255)\n",
    "\n",
    "train_generator = train_datagen.flow_from_directory(train_dir,\n",
    "                                                    target_size=(150,150),\n",
    "                                                    batch_size=20,\n",
    "                                                    class_mode='binary')\n",
    "val_generator = test_datagen.flow_from_directory(val_dir,\n",
    "                                                 target_size=(150,150),\n",
    "                                                 batch_size=20,\n",
    "                                                 class_mode='binary')"
   ]
  },
  {
   "cell_type": "markdown",
   "metadata": {},
   "source": [
    "## Designing the Model\n",
    "\n",
    "Now it's time to design your CNN! Remember a few things when doing this: \n",
    "* You should alternate convolutional and pooling layers\n",
    "* You should have later layers have a larger number of parameters in order to detect more abstract patterns\n",
    "* Add some final dense layers to add a classifier to the convolutional base"
   ]
  },
  {
   "cell_type": "code",
   "execution_count": 6,
   "metadata": {
    "ExecuteTime": {
     "end_time": "2019-12-09T17:27:36.312951Z",
     "start_time": "2019-12-09T17:27:36.158447Z"
    }
   },
   "outputs": [],
   "source": [
    "#Your code here; design and compile the model\n",
    "from keras.models import Sequential\n",
    "from keras.layers import Dense, Conv2D, MaxPooling2D, Flatten\n",
    "\n",
    "model = Sequential()\n",
    "model.add(Conv2D(32, (3,3), activation='relu', input_shape=(150,150,3)))\n",
    "model.add(MaxPooling2D(2,2))\n",
    "model.add(Conv2D(32, (3,3), activation='relu'))\n",
    "model.add(MaxPooling2D(2,2))\n",
    "model.add(Flatten())\n",
    "model.add(Dense(32, activation='relu'))\n",
    "model.add(Dense(1, activation='sigmoid'))\n",
    "\n",
    "from keras import optimizers\n",
    "model.compile(optimizer=optimizers.RMSprop(lr=1e-4), \n",
    "              loss='binary_crossentropy',\n",
    "              metrics=['acc'])"
   ]
  },
  {
   "cell_type": "markdown",
   "metadata": {},
   "source": [
    "## Training and Evaluating the Model\n",
    "\n",
    "Remember that training deep networks is resource intensive: depending on the size of the data, even a CNN with 3-4 successive convolutional and pooling layers is apt to take a hours to train on a high end laptop. Using 30 epochs and 8 layers (alternating between convolutional and pooling), our model took about 40 minutes to run on a year old macbook pro.\n",
    "\n",
    "\n",
    "If you are concerned with runtime, you may want to set your model to run the training epochs overnight.  \n",
    "\n",
    "**If you are going to run this process overnight, be sure to also script code for the following questions concerning data augmentation. Check your code twice (or more) and then set the notebook to run all, or something equivalent to have them train overnight.**"
   ]
  },
  {
   "cell_type": "code",
   "execution_count": 7,
   "metadata": {
    "ExecuteTime": {
     "end_time": "2019-12-09T17:52:20.021317Z",
     "start_time": "2019-12-09T17:28:30.520597Z"
    }
   },
   "outputs": [
    {
     "name": "stdout",
     "output_type": "stream",
     "text": [
      "Epoch 1/20\n",
      "100/100 [==============================] - 73s 731ms/step - loss: 0.4818 - acc: 0.7758 - val_loss: 0.6989 - val_acc: 0.7500\n",
      "Epoch 2/20\n",
      "100/100 [==============================] - 80s 804ms/step - loss: 0.3194 - acc: 0.8613 - val_loss: 0.8668 - val_acc: 0.7500\n",
      "Epoch 3/20\n",
      "100/100 [==============================] - 66s 664ms/step - loss: 0.2168 - acc: 0.9180 - val_loss: 0.8993 - val_acc: 0.7500\n",
      "Epoch 4/20\n",
      "100/100 [==============================] - 68s 676ms/step - loss: 0.1740 - acc: 0.9339 - val_loss: 0.7326 - val_acc: 0.7500\n",
      "Epoch 5/20\n",
      "100/100 [==============================] - 74s 745ms/step - loss: 0.1366 - acc: 0.9449 - val_loss: 0.9462 - val_acc: 0.7500\n",
      "Epoch 6/20\n",
      "100/100 [==============================] - 68s 681ms/step - loss: 0.1264 - acc: 0.9480 - val_loss: 0.7539 - val_acc: 0.7500\n",
      "Epoch 7/20\n",
      "100/100 [==============================] - 71s 707ms/step - loss: 0.1023 - acc: 0.9624 - val_loss: 0.5066 - val_acc: 0.7500\n",
      "Epoch 8/20\n",
      "100/100 [==============================] - 66s 664ms/step - loss: 0.0978 - acc: 0.9664 - val_loss: 1.2930 - val_acc: 0.5000\n",
      "Epoch 9/20\n",
      "100/100 [==============================] - 71s 706ms/step - loss: 0.0922 - acc: 0.9640 - val_loss: 1.0080 - val_acc: 0.7500\n",
      "Epoch 10/20\n",
      "100/100 [==============================] - 70s 699ms/step - loss: 0.0803 - acc: 0.9734 - val_loss: 1.1949 - val_acc: 0.7500\n",
      "Epoch 11/20\n",
      "100/100 [==============================] - 67s 672ms/step - loss: 0.0782 - acc: 0.9690 - val_loss: 0.7894 - val_acc: 0.7500\n",
      "Epoch 12/20\n",
      "100/100 [==============================] - 79s 791ms/step - loss: 0.0781 - acc: 0.9705 - val_loss: 0.8638 - val_acc: 0.7500\n",
      "Epoch 13/20\n",
      "100/100 [==============================] - 71s 710ms/step - loss: 0.0710 - acc: 0.9725 - val_loss: 0.8662 - val_acc: 0.7500\n",
      "Epoch 14/20\n",
      "100/100 [==============================] - 72s 723ms/step - loss: 0.0649 - acc: 0.9770 - val_loss: 0.7951 - val_acc: 0.7500\n",
      "Epoch 15/20\n",
      "100/100 [==============================] - 68s 684ms/step - loss: 0.0566 - acc: 0.9780 - val_loss: 1.1711 - val_acc: 0.7500\n",
      "Epoch 16/20\n",
      "100/100 [==============================] - 80s 796ms/step - loss: 0.0623 - acc: 0.9780 - val_loss: 0.6921 - val_acc: 0.7500\n",
      "Epoch 17/20\n",
      "100/100 [==============================] - 80s 798ms/step - loss: 0.0494 - acc: 0.9824 - val_loss: 0.9777 - val_acc: 0.7500\n",
      "Epoch 18/20\n",
      "100/100 [==============================] - 66s 661ms/step - loss: 0.0495 - acc: 0.9795 - val_loss: 0.8406 - val_acc: 0.7500\n",
      "Epoch 19/20\n",
      "100/100 [==============================] - 69s 686ms/step - loss: 0.0465 - acc: 0.9875 - val_loss: 1.9998 - val_acc: 0.5000\n",
      "Epoch 20/20\n",
      "100/100 [==============================] - 69s 690ms/step - loss: 0.0445 - acc: 0.9840 - val_loss: 0.7065 - val_acc: 0.7500\n"
     ]
    }
   ],
   "source": [
    "#Set the model to train; see warnings above\n",
    "history = model.fit_generator(train_generator, steps_per_epoch=100,\n",
    "                              epochs=20, validation_data=val_generator,\n",
    "                              validation_steps=50)"
   ]
  },
  {
   "cell_type": "code",
   "execution_count": 12,
   "metadata": {
    "ExecuteTime": {
     "end_time": "2019-12-09T17:53:21.111700Z",
     "start_time": "2019-12-09T17:53:20.596777Z"
    }
   },
   "outputs": [
    {
     "data": {
      "image/png": "[encoded data removed]",
      "text/plain": [
       "<Figure size 1152x432 with 1 Axes>"
      ]
     },
     "metadata": {
      "needs_background": "light"
     },
     "output_type": "display_data"
    },
    {
     "data": {
      "image/png": "[encoded data removed]",
      "text/plain": [
       "<Figure size 1152x432 with 1 Axes>"
      ]
     },
     "metadata": {
      "needs_background": "light"
     },
     "output_type": "display_data"
    }
   ],
   "source": [
    "# Plot history\n",
    "import matplotlib.pyplot as plt\n",
    "%matplotlib inline\n",
    "def visualize_training_results(results):\n",
    "    history = results.history\n",
    "    plt.figure(figsize=(16,6))\n",
    "    plt.plot(history['val_loss'])\n",
    "    plt.plot(history['loss'])\n",
    "    plt.legend(['val_loss', 'loss'])\n",
    "    plt.title('Loss')\n",
    "    plt.xlabel('Epochs')\n",
    "    plt.ylabel('Loss')\n",
    "    plt.show()\n",
    "    \n",
    "    plt.figure(figsize=(16,6))\n",
    "    plt.plot(history['val_acc'])\n",
    "    plt.plot(history['acc'])\n",
    "    plt.legend(['val_acc', 'acc'])\n",
    "    plt.title('Accuracy')\n",
    "    plt.xlabel('Epochs')\n",
    "    plt.ylabel('Accuracy')\n",
    "    plt.show()\n",
    "    \n",
    "visualize_training_results(history)"
   ]
  },
  {
   "cell_type": "markdown",
   "metadata": {},
   "source": [
    "## Save the Model"
   ]
  },
  {
   "cell_type": "code",
   "execution_count": null,
   "metadata": {},
   "outputs": [],
   "source": [
    "#Your code here; save the model for future reference.\n",
    "model.save('chest_xray_downsampled_data.h5')"
   ]
  },
  {
   "cell_type": "markdown",
   "metadata": {},
   "source": [
    "## Data Augmentation\n",
    "\n",
    "Recall that data augmentation is typically always a necessary step when using a small dataset as this one which you have been provided. As such, if you haven't already, implement a data augmentation setup.\n",
    "\n",
    "**Warning: ⏰ This process took nearly 4 hours to run on a relatively new macbook pro. As such, it is recommended that you simply code the setup and compare to the solution branch, or set the process to run overnight if you do choose to actually run the code.**"
   ]
  },
  {
   "cell_type": "code",
   "execution_count": null,
   "metadata": {},
   "outputs": [],
   "source": [
    "#Add data augmentation to the model setup and set the model to train; \n",
    "#See warnings above if you intend to run this block of code\n",
    "\n",
    "# train_datagen = ImageDataGenerator(rotation_range=40,\n",
    "#                                    width_shift_range=0.2,\n",
    "#                                    height_shift_range=0.2,\n",
    "#                                    shear_range=0.2,\n",
    "#                                    zoom_range=0.2,\n",
    "#                                    horizontal_flip=True,\n",
    "#                                    fill_mode='nearest')\n",
    "# test_datagen = ImageDataGenerator(rescale=1./255)\n",
    "\n",
    "# train_generator = train_datagen.flow_from_directory(train_dir,\n",
    "#                                                     target_size=(150,150),\n",
    "#                                                     batch_size=32,\n",
    "#                                                     class_mode='binary')\n",
    "# val_generator = test_datagen.flow_from_directory(val_dir,\n",
    "#                                                  target_size=(150,150),\n",
    "#                                                  batch_size=32,\n",
    "#                                                  class_mode='binary')\n",
    "# model2 = Sequential()\n",
    "# model2.add(Conv2D(32, (3,3), activation='relu', input_shape=(150,150,3)))\n",
    "# model2.add(MaxPooling2D(2,2))\n",
    "# model2.add(Conv2D(32, (3,3), activation='relu'))\n",
    "# model2.add(MaxPooling2D(2,2))\n",
    "# model2.add(Flatten())\n",
    "# model2.add(Dense(32, activation='relu'))\n",
    "# model2.add(Dense(1, activation='sigmoid'))\n",
    "\n",
    "\n",
    "# model2.compile(optimizer=optimizers.RMSprop(lr=1e-4), \n",
    "#               loss='binary_crossentropy',\n",
    "#               metrics=['acc'])\n",
    "# history2 = model2.fit_generator(train_generator,\n",
    "#                                steps_per_epoch=100,\n",
    "#                                epochs=20,\n",
    "#                                validation_data=val_generator,\n",
    "#                                validation_steps=50)"
   ]
  },
  {
   "cell_type": "code",
   "execution_count": null,
   "metadata": {},
   "outputs": [],
   "source": [
    "# visualize_training_results(history2)"
   ]
  },
  {
   "cell_type": "markdown",
   "metadata": {},
   "source": [
    "## Final Evaluation\n",
    "\n",
    "Now use the test set to perform a final evaluation on your model of choice."
   ]
  },
  {
   "cell_type": "code",
   "execution_count": 13,
   "metadata": {
    "ExecuteTime": {
     "end_time": "2019-12-09T17:53:55.050130Z",
     "start_time": "2019-12-09T17:53:36.644622Z"
    }
   },
   "outputs": [
    {
     "name": "stdout",
     "output_type": "stream",
     "text": [
      "Found 208 images belonging to 2 classes.\n",
      "Test accuracy: 0.786764707384991\n"
     ]
    }
   ],
   "source": [
    "# Your code here; perform a final evaluation using the test set..\n",
    "test_generator = test_datagen.flow_from_directory(test_dir,\n",
    "                                                  target_size=(150,150),\n",
    "                                                  batch_size=20,\n",
    "                                                  class_mode='binary')\n",
    "test_loss, test_acc = model.evaluate_generator(test_generator, steps=50)\n",
    "print('Test accuracy:', test_acc)"
   ]
  },
  {
   "cell_type": "markdown",
   "metadata": {},
   "source": [
    "## Extension: Adding Data to the Model\n",
    "\n",
    "As discussed, the current dataset we worked with is a subset of a dataset hosted on Kaggle. Increasing the data that we use to train the model will result in additional performance gains but will also result in longer training times and be more resource intensive.   \n",
    "\n",
    "⏰ It is estimated that training on the full dataset will take approximately 4 hours (and potentially significantly longer) depending on your computer's specifications.\n",
    "\n",
    "In order to test the impact of training on the full dataset, start by downloading the data from kaggle here: https://www.kaggle.com/paultimothymooney/chest-xray-pneumonia.   "
   ]
  },
  {
   "cell_type": "code",
   "execution_count": null,
   "metadata": {},
   "outputs": [],
   "source": [
    "#Optional extension; Your code here"
   ]
  },
  {
   "cell_type": "markdown",
   "metadata": {},
   "source": [
    "## Summary\n",
    "\n",
    "Well done! In this lab, you practice building your own CNN for image recognition which drastically outperformed our previous attempts using a standard deep learning model alone. In the upcoming sections, we'll continue to investigate further techniques associated with CNNs including visualizing the representations they learn and techniques to further bolster their performance when we have limited training data such as here."
   ]
  }
 ],
 "metadata": {
  "kernelspec": {
   "display_name": "Python 3",
   "language": "python",
   "name": "python3"
  },
  "language_info": {
   "codemirror_mode": {
    "name": "ipython",
    "version": 3
   },
   "file_extension": ".py",
   "mimetype": "text/x-python",
   "name": "python",
   "nbconvert_exporter": "python",
   "pygments_lexer": "ipython3",
   "version": "3.6.6"
  },
  "toc": {
   "base_numbering": 1,
   "nav_menu": {},
   "number_sections": true,
   "sideBar": true,
   "skip_h1_title": false,
   "title_cell": "Table of Contents",
   "title_sidebar": "Contents",
   "toc_cell": false,
   "toc_position": {},
   "toc_section_display": true,
   "toc_window_display": false
  }
 },
 "nbformat": 4,
 "nbformat_minor": 2
}
