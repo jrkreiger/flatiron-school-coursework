{
 "cells": [
  {
   "cell_type": "markdown",
   "metadata": {},
   "source": [
    "# Hyperparameter Tuning and Pruning in Decision Trees - Lab\n",
    "\n",
    "## Introduction\n",
    "\n",
    "In this lab we will use the titanic dataset to see the impact of tree pruning and hyper parameter tuning on the predictive performance of decision tree classifier. Pruning reduces the size of decision trees by removing nodes of the tree that do not provide power to classify instances. Decision trees are the most susceptible out of all the machine learning algorithms to overfitting and effective pruning can reduce this likelihood. In this lab, we shall work with the Titanic dataset and see how we can tweak different hyper parameters for optimal pruning of the trees. \n",
    "\n",
    "## Objectives\n",
    "You will be able to:\n",
    "- Demonstrate how pruning is performed for decision trees \n",
    "- Understand and explain the role of different Decision tree hyperparameters\n",
    "- Select the best values for chosen hyperparameters and monitor the improvement in performance"
   ]
  },
  {
   "cell_type": "markdown",
   "metadata": {},
   "source": [
    "## Import necessary libraries\n",
    "\n",
    "Let's first import the libraries you would need for this lab. "
   ]
  },
  {
   "cell_type": "code",
   "execution_count": 1,
   "metadata": {
    "ExecuteTime": {
     "end_time": "2019-11-05T21:33:30.507388Z",
     "start_time": "2019-11-05T21:33:29.183798Z"
    }
   },
   "outputs": [],
   "source": [
    "import numpy as np\n",
    "import pandas as pd\n",
    "import matplotlib as mpl\n",
    "import matplotlib.pyplot as plt\n",
    "%matplotlib inline\n",
    "from sklearn.model_selection import train_test_split\n",
    "from sklearn.tree import DecisionTreeClassifier\n",
    "from sklearn.metrics import roc_curve, auc\n",
    "plt.style.use('seaborn')"
   ]
  },
  {
   "cell_type": "markdown",
   "metadata": {},
   "source": [
    "## Read the Titanic Dataset\n",
    "\n",
    "In the repo, we have made titanic dataset , all cleaned up and pre-processed for you, so that you can focus on pruning and optimization. The features set is available as `featues.csv` and target variable as `target.csv`. \n",
    "- Load these files into separate dataframes below.\n",
    "- Check the shape for consistency and the view the head "
   ]
  },
  {
   "cell_type": "code",
   "execution_count": 2,
   "metadata": {
    "ExecuteTime": {
     "end_time": "2019-11-05T21:33:30.540271Z",
     "start_time": "2019-11-05T21:33:30.510903Z"
    }
   },
   "outputs": [
    {
     "name": "stdout",
     "output_type": "stream",
     "text": [
      "(891, 13)\n",
      "(891, 1)\n",
      "   PassengerId   Age  SibSp  Parch     Fare  Pclass_1  Pclass_2  Pclass_3  \\\n",
      "0            1  22.0      1      0   7.2500         0         0         1   \n",
      "1            2  38.0      1      0  71.2833         1         0         0   \n",
      "2            3  26.0      0      0   7.9250         0         0         1   \n",
      "3            4  35.0      1      0  53.1000         1         0         0   \n",
      "4            5  35.0      0      0   8.0500         0         0         1   \n",
      "\n",
      "   Sex_female  Sex_male  Embarked_C  Embarked_Q  Embarked_S  \n",
      "0           0         1           0           0           1  \n",
      "1           1         0           1           0           0  \n",
      "2           1         0           0           0           1  \n",
      "3           1         0           0           0           1  \n",
      "4           0         1           0           0           1  \n",
      "   Survived\n",
      "0         0\n",
      "1         1\n",
      "2         1\n",
      "3         1\n",
      "4         0\n"
     ]
    }
   ],
   "source": [
    "# Load features and target variables\n",
    "features = pd.read_csv('features.csv')\n",
    "target = pd.read_csv('target.csv')\n",
    "\n",
    "print(features.shape)\n",
    "print(target.shape)\n",
    "print(features.head())\n",
    "print(target.head())"
   ]
  },
  {
   "cell_type": "markdown",
   "metadata": {},
   "source": [
    "This is great. Now that we have our x (feat) and y(target), we can go ahead and make a split necessary for supervised learning."
   ]
  },
  {
   "cell_type": "markdown",
   "metadata": {},
   "source": [
    "## Create a 70/30 Train/Test split\n",
    "- Using features and target variables above , create a 70/30 split using "
   ]
  },
  {
   "cell_type": "code",
   "execution_count": 3,
   "metadata": {
    "ExecuteTime": {
     "end_time": "2019-11-05T21:33:30.554006Z",
     "start_time": "2019-11-05T21:33:30.544032Z"
    }
   },
   "outputs": [],
   "source": [
    "# Create a 70/30 split for given X and y \n",
    "X_train, X_test, y_train, y_test = train_test_split(features, target,\n",
    "                                                    test_size=0.3)"
   ]
  },
  {
   "cell_type": "markdown",
   "metadata": {},
   "source": [
    "So now we have our data ready for training, lets first train a DT classifier with this data\n",
    "## Train a Vanilla Classifier\n",
    "\n",
    "__Note:__ The term \"vanilla\" is used for a machine learning algorithm with its default settings (no tweaking/tuning).\n",
    "\n",
    "- Create a decision tree instance\n",
    "- Fit a DT classifier with training dataset using all default settings for hyperparameters i.e. we don't change any parameter.\n",
    "- Set the impurity criteria to \"entropy\"."
   ]
  },
  {
   "cell_type": "code",
   "execution_count": 4,
   "metadata": {
    "ExecuteTime": {
     "end_time": "2019-11-05T21:33:30.574856Z",
     "start_time": "2019-11-05T21:33:30.558253Z"
    }
   },
   "outputs": [
    {
     "data": {
      "text/plain": [
       "DecisionTreeClassifier(class_weight=None, criterion='entropy', max_depth=None,\n",
       "            max_features=None, max_leaf_nodes=None,\n",
       "            min_impurity_decrease=0.0, min_impurity_split=None,\n",
       "            min_samples_leaf=1, min_samples_split=2,\n",
       "            min_weight_fraction_leaf=0.0, presort=False, random_state=None,\n",
       "            splitter='best')"
      ]
     },
     "execution_count": 4,
     "metadata": {},
     "output_type": "execute_result"
    }
   ],
   "source": [
    "# Train the classifier using training data \n",
    "tree = DecisionTreeClassifier(criterion='entropy')\n",
    "tree.fit(X_train, y_train)\n"
   ]
  },
  {
   "cell_type": "markdown",
   "metadata": {},
   "source": [
    "## Make predictions \n",
    "- Create a set of predictions using the test set \n",
    "- Using `y_test` and `y_pred`, calculate the AUC (Area under curve) to check the predictive performance"
   ]
  },
  {
   "cell_type": "code",
   "execution_count": 5,
   "metadata": {
    "ExecuteTime": {
     "end_time": "2019-11-05T21:33:30.595004Z",
     "start_time": "2019-11-05T21:33:30.579452Z"
    },
    "scrolled": true
   },
   "outputs": [
    {
     "data": {
      "text/plain": [
       "0.710248592870544"
      ]
     },
     "execution_count": 5,
     "metadata": {},
     "output_type": "execute_result"
    }
   ],
   "source": [
    "# Make predictions using test set \n",
    "y_pred = tree.predict(X_test) \n",
    "\n",
    "# Check the AUC of predictions\n",
    "fpr, tpr, thresh = roc_curve(y_test, y_pred)\n",
    "auc_val = auc(fpr, tpr)\n",
    "auc_val"
   ]
  },
  {
   "cell_type": "markdown",
   "metadata": {},
   "source": [
    "## Maximum Tree Depth\n",
    "\n",
    "Let's first check for the best depth parameter for our decision tree. \n",
    "- Create an array for for depth values ranging from 1 - 32. \n",
    "- In a loop, train the classifier for each depth value (32 runs) \n",
    "- Calculate the training and test AUC for each run \n",
    "- Plot a graph to show under/over fitting and optimal value \n",
    "- Interpret the results"
   ]
  },
  {
   "cell_type": "code",
   "execution_count": 6,
   "metadata": {
    "ExecuteTime": {
     "end_time": "2019-11-05T21:33:31.069374Z",
     "start_time": "2019-11-05T21:33:30.599120Z"
    }
   },
   "outputs": [
    {
     "data": {
      "image/png": "[encoded data removed]",
      "text/plain": [
       "<Figure size 720x432 with 1 Axes>"
      ]
     },
     "metadata": {
      "needs_background": "light"
     },
     "output_type": "display_data"
    }
   ],
   "source": [
    "# Identify the optimal tree depth for given data\n",
    "depths = list(range(1,33))\n",
    "train_aucs = []\n",
    "test_aucs = []\n",
    "\n",
    "for depth in depths:\n",
    "    # Instantiate and fit model\n",
    "    tree = DecisionTreeClassifier(criterion='entropy', max_depth=depth)\n",
    "    tree.fit(X_train, y_train)\n",
    "    \n",
    "    # Make predictions using test set \n",
    "    train_pred = tree.predict(X_train)\n",
    "    test_pred = tree.predict(X_test) \n",
    "\n",
    "    # Check the AUC of predictions\n",
    "    fpr_train, tpr_train, thresh = roc_curve(y_train, train_pred)\n",
    "    train_aucs.append(auc(fpr_train, tpr_train))\n",
    "    fpr_test, tpr_test, thresh = roc_curve(y_test, test_pred)\n",
    "    test_aucs.append(auc(fpr_test, tpr_test))\n",
    "\n",
    "plt.figure(figsize=(10,6))\n",
    "plt.plot(depths, train_aucs, label='Train AUC')\n",
    "plt.plot(depths, test_aucs, label='Test AUC')\n",
    "plt.legend();"
   ]
  },
  {
   "cell_type": "markdown",
   "metadata": {
    "ExecuteTime": {
     "end_time": "2019-11-05T21:07:30.107219Z",
     "start_time": "2019-11-05T21:07:30.102502Z"
    }
   },
   "source": [
    "It looks like `max_depth = 4` yields the best result for test AUC.\n"
   ]
  },
  {
   "cell_type": "markdown",
   "metadata": {},
   "source": [
    "## Minimum Sample Split\n",
    "\n",
    "Now check for the best `min_samples_splits` parameter for our decision tree. \n",
    "- Create an array for for `min_sample_splits` values ranging from 0.1 - 1 with an increment of 0.1 \n",
    "- In a loop, train the classifier for each `min_samples_splits` value (10 runs) \n",
    "- Calculate the training and test AUC for each run \n",
    "- Plot a graph to show under/over fitting and optimal value \n",
    "- Interpret the results"
   ]
  },
  {
   "cell_type": "code",
   "execution_count": 7,
   "metadata": {
    "ExecuteTime": {
     "end_time": "2019-11-05T21:33:31.349118Z",
     "start_time": "2019-11-05T21:33:31.072628Z"
    }
   },
   "outputs": [
    {
     "data": {
      "image/png": "[encoded data removed]",
      "text/plain": [
       "<Figure size 720x432 with 1 Axes>"
      ]
     },
     "metadata": {
      "needs_background": "light"
     },
     "output_type": "display_data"
    }
   ],
   "source": [
    "# Identify the optimal min-samples-split for given data\n",
    "splits = np.linspace(0.1, 1, 10)\n",
    "\n",
    "train_aucs = []\n",
    "test_aucs = []\n",
    "\n",
    "for split in splits:\n",
    "    # Instantiate and fit model\n",
    "    tree = DecisionTreeClassifier(criterion='entropy', min_samples_split=split)\n",
    "    tree.fit(X_train, y_train)\n",
    "    \n",
    "    # Make predictions using test set \n",
    "    train_pred = tree.predict(X_train)\n",
    "    test_pred = tree.predict(X_test) \n",
    "\n",
    "    # Check the AUC of predictions\n",
    "    fpr_train, tpr_train, thresh = roc_curve(y_train, train_pred)\n",
    "    train_aucs.append(auc(fpr_train, tpr_train))\n",
    "    fpr_test, tpr_test, thresh = roc_curve(y_test, test_pred)\n",
    "    test_aucs.append(auc(fpr_test, tpr_test))\n",
    "\n",
    "plt.figure(figsize=(10,6))\n",
    "plt.plot(splits, train_aucs, label='Train AUC')\n",
    "plt.plot(splits, test_aucs, label='Test AUC')\n",
    "plt.legend();"
   ]
  },
  {
   "cell_type": "markdown",
   "metadata": {
    "ExecuteTime": {
     "end_time": "2019-11-05T21:07:30.129946Z",
     "start_time": "2019-11-05T21:07:30.124792Z"
    }
   },
   "source": [
    "I would choose `min_samples_split = 0.5` because AUC levels off at 0.4, and it's better not to choose the boundary value.\n"
   ]
  },
  {
   "cell_type": "markdown",
   "metadata": {},
   "source": [
    "## Minimum Sample Leafs\n",
    "\n",
    "Now check for the best `min_samples_leafs` parameter value for our decision tree. \n",
    "- Create an array for for `min_samples_leafs` values ranging from 0.1 - 0.5 with an increment of 0.1 \n",
    "- In a loop, train the classifier for each `min_samples_leafs` value (5 runs) \n",
    "- Calculate the training and test AUC for each run \n",
    "- Plot a graph to show under/over fitting and optimal value \n",
    "- Interpret the results"
   ]
  },
  {
   "cell_type": "code",
   "execution_count": 8,
   "metadata": {
    "ExecuteTime": {
     "end_time": "2019-11-05T21:33:31.630562Z",
     "start_time": "2019-11-05T21:33:31.353318Z"
    }
   },
   "outputs": [
    {
     "data": {
      "image/png": "[encoded data removed]",
      "text/plain": [
       "<Figure size 720x432 with 1 Axes>"
      ]
     },
     "metadata": {
      "needs_background": "light"
     },
     "output_type": "display_data"
    }
   ],
   "source": [
    "# Calculate the optimal value for minimum sample leafs\n",
    "leaves = np.linspace(0.1, 0.5, 5)\n",
    "train_aucs = []\n",
    "test_aucs = []\n",
    "\n",
    "for leaf in leaves:\n",
    "    # Instantiate and fit model\n",
    "    tree = DecisionTreeClassifier(criterion='entropy', min_samples_leaf=leaf)\n",
    "    tree.fit(X_train, y_train)\n",
    "    \n",
    "    # Make predictions using test set \n",
    "    train_pred = tree.predict(X_train)\n",
    "    test_pred = tree.predict(X_test) \n",
    "\n",
    "    # Check the AUC of predictions\n",
    "    fpr_train, tpr_train, thresh = roc_curve(y_train, train_pred)\n",
    "    train_aucs.append(auc(fpr_train, tpr_train))\n",
    "    fpr_test, tpr_test, thresh = roc_curve(y_test, test_pred)\n",
    "    test_aucs.append(auc(fpr_test, tpr_test))\n",
    "\n",
    "plt.figure(figsize=(10,6))\n",
    "plt.plot(leaves, train_aucs, label='Train AUC')\n",
    "plt.plot(leaves, test_aucs, label='Test AUC')\n",
    "plt.legend();"
   ]
  },
  {
   "cell_type": "markdown",
   "metadata": {
    "ExecuteTime": {
     "end_time": "2019-11-05T21:07:30.147317Z",
     "start_time": "2019-11-05T21:07:30.143201Z"
    }
   },
   "source": [
    "A value of `max_samples_leaf` between 0.2 and 0.3 would be best."
   ]
  },
  {
   "cell_type": "markdown",
   "metadata": {},
   "source": [
    "## Maximum Features\n",
    "\n",
    "Now check for the best `max_features` parameter value for our decision tree. \n",
    "- Create an array for for `max_features` values ranging from 1 - 12 (1 features vs all)\n",
    "- In a loop, train the classifier for each `max_features` value (12 runs) \n",
    "- Calculate the training and test AUC for each run \n",
    "- Plot a graph to show under/over fitting and optimal value \n",
    "- Interpret the results"
   ]
  },
  {
   "cell_type": "code",
   "execution_count": 9,
   "metadata": {
    "ExecuteTime": {
     "end_time": "2019-11-05T21:33:31.924781Z",
     "start_time": "2019-11-05T21:33:31.634186Z"
    }
   },
   "outputs": [
    {
     "data": {
      "image/png": "[encoded data removed]",
      "text/plain": [
       "<Figure size 720x432 with 1 Axes>"
      ]
     },
     "metadata": {
      "needs_background": "light"
     },
     "output_type": "display_data"
    }
   ],
   "source": [
    "# Find the best value for optimal maximum feature size\n",
    "feats = list(range(1,12))\n",
    "\n",
    "train_aucs = []\n",
    "test_aucs = []\n",
    "\n",
    "for feat in feats:\n",
    "    # Instantiate and fit model\n",
    "    tree = DecisionTreeClassifier(criterion='entropy', max_features=feat)\n",
    "    tree.fit(X_train, y_train)\n",
    "    \n",
    "    # Make predictions using test set \n",
    "    train_pred = tree.predict(X_train)\n",
    "    test_pred = tree.predict(X_test) \n",
    "\n",
    "    # Check the AUC of predictions\n",
    "    fpr_train, tpr_train, thresh = roc_curve(y_train, train_pred)\n",
    "    train_aucs.append(auc(fpr_train, tpr_train))\n",
    "    fpr_test, tpr_test, thresh = roc_curve(y_test, test_pred)\n",
    "    test_aucs.append(auc(fpr_test, tpr_test))\n",
    "\n",
    "plt.figure(figsize=(10,6))\n",
    "plt.plot(feats, train_aucs, label='Train AUC')\n",
    "plt.plot(feats, test_aucs, label='Test AUC')\n",
    "plt.legend();"
   ]
  },
  {
   "cell_type": "markdown",
   "metadata": {
    "ExecuteTime": {
     "end_time": "2019-11-05T21:07:30.163989Z",
     "start_time": "2019-11-05T21:07:30.158909Z"
    }
   },
   "source": [
    "Test AUC peaks at 7 features."
   ]
  },
  {
   "cell_type": "markdown",
   "metadata": {},
   "source": [
    "## Re-train the classifier with chosen values\n",
    "\n",
    "So now we shall use the best values from each training phase above and feed it back to our classifier and see if have any improvement in predictive performance. \n",
    "\n",
    "- Train the classifier with optimal values identified \n",
    "- compare the AUC with vanilla DT AUC \n",
    "- Interpret the results of comparison"
   ]
  },
  {
   "cell_type": "code",
   "execution_count": 12,
   "metadata": {
    "ExecuteTime": {
     "end_time": "2019-11-05T21:34:31.239379Z",
     "start_time": "2019-11-05T21:34:31.225049Z"
    }
   },
   "outputs": [
    {
     "name": "stdout",
     "output_type": "stream",
     "text": [
      "0.8018292682926829\n"
     ]
    }
   ],
   "source": [
    "# train a classifier with optimal values identified above\n",
    "tree = DecisionTreeClassifier(criterion='entropy', max_depth=4, max_features=7,\n",
    "                             min_samples_split=0.5, min_samples_leaf=0.25)\n",
    "tree.fit(X_train, y_train)\n",
    "\n",
    "# Make predictions using test set \n",
    "y_pred = tree.predict(X_test) \n",
    "\n",
    "# Check the AUC of predictions\n",
    "fpr, tpr, thresh = roc_curve(y_test, y_pred)\n",
    "print(auc(fpr, tpr))"
   ]
  },
  {
   "cell_type": "markdown",
   "metadata": {
    "ExecuteTime": {
     "end_time": "2019-11-05T21:31:41.562558Z",
     "start_time": "2019-11-05T21:31:41.556214Z"
    }
   },
   "source": [
    "Model performance has definitely improved in this round, but due to randomness in the train-test split, results vary when I rerun the whole notebook."
   ]
  },
  {
   "cell_type": "markdown",
   "metadata": {},
   "source": [
    "In the next section, we shall talk about hyper-parameter tuning using a technique called \"grid-search\" to make this process even more granular and decisive. \n"
   ]
  },
  {
   "cell_type": "markdown",
   "metadata": {},
   "source": [
    "## Summary \n",
    "\n",
    "In this lesson, we looked at tuning a decision tree classifier in order to avoid over fitting and increasing the generalization capabilities of the classifier. For the Titanic dataset, we see that identifying optimal parameter values can result in some improvements towards predictions. This idea will be exploited further in upcoming lessons and labs. "
   ]
  }
 ],
 "metadata": {
  "kernelspec": {
   "display_name": "learn-env",
   "language": "python",
   "name": "learn-env"
  },
  "language_info": {
   "codemirror_mode": {
    "name": "ipython",
    "version": 3
   },
   "file_extension": ".py",
   "mimetype": "text/x-python",
   "name": "python",
   "nbconvert_exporter": "python",
   "pygments_lexer": "ipython3",
   "version": "3.6.6"
  },
  "toc": {
   "base_numbering": 1,
   "nav_menu": {},
   "number_sections": true,
   "sideBar": true,
   "skip_h1_title": false,
   "title_cell": "Table of Contents",
   "title_sidebar": "Contents",
   "toc_cell": false,
   "toc_position": {},
   "toc_section_display": true,
   "toc_window_display": false
  }
 },
 "nbformat": 4,
 "nbformat_minor": 2
}
