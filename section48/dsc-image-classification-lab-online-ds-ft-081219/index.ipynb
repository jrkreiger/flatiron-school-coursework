{
 "cells": [
  {
   "cell_type": "markdown",
   "metadata": {},
   "source": [
    "# Image Classification - Lab\n",
    "\n",
    "## Introduction\n",
    "\n",
    "Now that you have a working knowledge of CNNs and have practiced implementing associated techniques in Keras, its time to put all of those skills together. In this lab, you'll work to complete a Kaggle competition on classifying dog breeds.\n",
    "\n",
    "https://www.kaggle.com/c/dog-breed-identification\n",
    "\n",
    "## Objectives\n",
    "\n",
    "You will be able to:\n",
    "* Independently design and build a CNN for image classifcation tasks\n",
    "* Compare and apply multiple techniques for tuning a model including data augmentation and adapting pretrained models"
   ]
  },
  {
   "cell_type": "markdown",
   "metadata": {},
   "source": [
    "## Download and Load the Data\n",
    "\n",
    "Start by downloading the data locally and loading it into a Pandas DataFrame. Be forewarned that this dataset is fairly large and it is advisable to close other memory intensive applications.\n",
    "\n",
    "The data can be found here:\n",
    "\n",
    "https://www.kaggle.com/c/dog-breed-identification/data\n",
    "\n",
    "It's easiest if you download the data into this directory on your local computer. From there, be sure to uncompress the folder and subfolders. If you download the data elsewhere, be sure to modify the file path when importing the file below."
   ]
  },
  {
   "cell_type": "code",
   "execution_count": 1,
   "metadata": {},
   "outputs": [],
   "source": [
    "# No code persay, but download and decompress the data."
   ]
  },
  {
   "cell_type": "markdown",
   "metadata": {},
   "source": [
    "## Preprocessing\n",
    "\n",
    "Now that you've downloaded the data, its time to prepare it for some model building! You'll notice that the current structure provided is not the same as our lovely preprocessed folders that you've been given to date. Instead, you have one large training folder with images and a csv file with labels associated with each of these file types. \n",
    "\n",
    "Use this to create a directory substructure for a train-validation-test split as we have done previously. Also recall that you'll also want to use one-hot encoding as you are now presented with a multi-class problem as opposed to simple binary classification."
   ]
  },
  {
   "cell_type": "code",
   "execution_count": 2,
   "metadata": {
    "ExecuteTime": {
     "end_time": "2019-12-09T22:55:46.768274Z",
     "start_time": "2019-12-09T22:55:46.761820Z"
    }
   },
   "outputs": [],
   "source": [
    "# Your code here; open the labels.csv file stored in the zip file\n",
    "train_dir = 'data_org_subset/train'\n",
    "val_dir = 'data_org_subset/val'\n",
    "test_dir = 'data_org_subset/test'"
   ]
  },
  {
   "cell_type": "code",
   "execution_count": 4,
   "metadata": {
    "ExecuteTime": {
     "end_time": "2019-12-09T22:56:04.054450Z",
     "start_time": "2019-12-09T22:56:03.915187Z"
    }
   },
   "outputs": [
    {
     "name": "stdout",
     "output_type": "stream",
     "text": [
      "000bec180eb18c7604dcecc8fe0dba07.jpg\r\n",
      "010d65bd29d246aea53d9849da142ccf.jpg\r\n",
      "0755a940eac9a9b8cf0328b4be062096.jpg\r\n",
      "07d7cfbdbd3682cae50902b53c798028.jpg\r\n",
      "0b3d3120a62c2bc280f589d473041d06.jpg\r\n"
     ]
    }
   ],
   "source": [
    "ls data_org_subset/train/boston_bull/ | head -5"
   ]
  },
  {
   "cell_type": "markdown",
   "metadata": {},
   "source": [
    "\n",
    "In order to input the data into our standard pipeline, you'll need to organize the image files into a nested folder structure. At the top level will be a folder for the training data, a folder for the validation data, and a folder for the testing data. Within these top directory folders, you'll then need to create a folder for each of the categorical classes (in this case, dog breeds). Finally, within these category folders you'll then place each of the associated image files. To save time, do this for just 3 of the dog breeds such as 'boston_bull', 'toy_poodle', and 'scottish_deerhound'.\n",
    "\n",
    "You're nested file structure should look like this:\n",
    "* train\n",
    "    * category1\n",
    "    * category2\n",
    "    * category3\n",
    "    ...\n",
    "* val\n",
    "    * category1\n",
    "    * category2\n",
    "    * category3\n",
    "    ...\n",
    "* test \n",
    "    * category1\n",
    "    * category2\n",
    "    * category3\n",
    "    ...  \n",
    "\n",
    "> **Hint**: To do this, you can use the `os` module which will you to use execute many common bash commands straight from your python interpreter. For example, here's how you could make a new folder:\n",
    "```python\n",
    "import os\n",
    "os.mkdir('New_Folder_Name')\n",
    "```\n",
    "Start by creating top level folders for the train, validation and test sets. Then, use your pandas dataframe to split the example images for each breed of dog into a 80% train set, and 10% validation and test sets. Use `os.path.join()` with the information from the dataframe to construct the relevant file path. With this, place the relevant images using the `shutil.copy()` into the appropriate directory. \n",
    "\n",
    ">> **Note**: It is worthwhile to try this exercise on your own, but you can also use the images stored under the `'data_org_subset/'` folder of this repository, in which the Kaggle dataset has already been subset and preprocessed."
   ]
  },
  {
   "cell_type": "code",
   "execution_count": 10,
   "metadata": {
    "ExecuteTime": {
     "end_time": "2019-12-09T23:07:49.724290Z",
     "start_time": "2019-12-09T23:07:49.504180Z"
    }
   },
   "outputs": [
    {
     "name": "stdout",
     "output_type": "stream",
     "text": [
      "Found 233 images belonging to 3 classes.\n",
      "Found 30 images belonging to 3 classes.\n"
     ]
    }
   ],
   "source": [
    "# Your code here; transform the image files and then load them into Keras as tensors \n",
    "# (be sure to perform a train-val-test split)\n",
    "from keras.preprocessing.image import ImageDataGenerator\n",
    "\n",
    "train_gen = ImageDataGenerator(rescale=1./255)\n",
    "test_gen = ImageDataGenerator(rescale=1./255)\n",
    "\n",
    "train_generator = train_gen.flow_from_directory(train_dir,\n",
    "                                                target_size=(150,150),\n",
    "                                                batch_size=20,\n",
    "                                                class_mode='categorical')\n",
    "val_generator = test_gen.flow_from_directory(val_dir,\n",
    "                                             target_size=(150,150),\n",
    "                                             batch_size=20,\n",
    "                                             class_mode='categorical')"
   ]
  },
  {
   "cell_type": "code",
   "execution_count": 11,
   "metadata": {
    "ExecuteTime": {
     "end_time": "2019-12-09T23:07:50.864963Z",
     "start_time": "2019-12-09T23:07:50.855848Z"
    }
   },
   "outputs": [
    {
     "data": {
      "text/plain": [
       "{'boston_bull': 0, 'scottish_deerhound': 1, 'toy_poodle': 2}"
      ]
     },
     "execution_count": 11,
     "metadata": {},
     "output_type": "execute_result"
    }
   ],
   "source": [
    "train_generator.class_indices"
   ]
  },
  {
   "cell_type": "markdown",
   "metadata": {},
   "source": [
    "## Optional: Build a Baseline CNN\n",
    "\n",
    "This is an optional step. Adapting a pretrained model will produce better results, but it may be interesting to create a CNN from scratch as a baseline. If you wish to, do so here."
   ]
  },
  {
   "cell_type": "code",
   "execution_count": 12,
   "metadata": {
    "ExecuteTime": {
     "end_time": "2019-12-09T23:21:43.303453Z",
     "start_time": "2019-12-09T23:07:51.975447Z"
    },
    "scrolled": false
   },
   "outputs": [
    {
     "name": "stdout",
     "output_type": "stream",
     "text": [
      "Epoch 1/10\n",
      "100/100 [==============================] - 82s 816ms/step - loss: 0.8973 - acc: 0.5924 - val_loss: 0.8065 - val_acc: 0.6000\n",
      "Epoch 2/10\n",
      "100/100 [==============================] - 80s 800ms/step - loss: 0.4790 - acc: 0.8622 - val_loss: 0.7772 - val_acc: 0.6333\n",
      "Epoch 3/10\n",
      "100/100 [==============================] - 80s 805ms/step - loss: 0.2340 - acc: 0.9495 - val_loss: 0.8945 - val_acc: 0.5333\n",
      "Epoch 4/10\n",
      "100/100 [==============================] - 81s 808ms/step - loss: 0.1014 - acc: 0.9865 - val_loss: 0.9004 - val_acc: 0.6000\n",
      "Epoch 5/10\n",
      "100/100 [==============================] - 88s 882ms/step - loss: 0.0517 - acc: 0.9905 - val_loss: 1.0461 - val_acc: 0.5333\n",
      "Epoch 6/10\n",
      "100/100 [==============================] - 86s 864ms/step - loss: 0.0267 - acc: 0.9932 - val_loss: 1.1575 - val_acc: 0.5667\n",
      "Epoch 7/10\n",
      "100/100 [==============================] - 82s 822ms/step - loss: 0.0154 - acc: 0.9955 - val_loss: 3.0481 - val_acc: 0.3667\n",
      "Epoch 8/10\n",
      "100/100 [==============================] - 84s 842ms/step - loss: 0.0156 - acc: 0.9955 - val_loss: 1.3219 - val_acc: 0.5333\n",
      "Epoch 9/10\n",
      "100/100 [==============================] - 83s 832ms/step - loss: 0.0082 - acc: 0.9965 - val_loss: 1.4516 - val_acc: 0.5333\n",
      "Epoch 10/10\n",
      "100/100 [==============================] - 84s 837ms/step - loss: 0.0102 - acc: 0.9970 - val_loss: 1.6123 - val_acc: 0.5667\n"
     ]
    }
   ],
   "source": [
    "# Create a baseline CNN model\n",
    "from keras import models, layers, optimizers\n",
    "\n",
    "model_base = models.Sequential()\n",
    "model_base.add(layers.Conv2D(32, (3,3), activation='relu', \n",
    "                             input_shape=(150,150,3)))\n",
    "model_base.add(layers.MaxPooling2D((2,2)))\n",
    "model_base.add(layers.Conv2D(64, (3,3), activation='relu'))\n",
    "model_base.add(layers.MaxPooling2D((2,2)))\n",
    "model_base.add(layers.Flatten())\n",
    "model_base.add(layers.Dense(64, activation='relu'))\n",
    "model_base.add(layers.Dense(128, activation='relu'))\n",
    "model_base.add(layers.Dense(3, activation='softmax'))\n",
    "\n",
    "model_base.compile(optimizer=optimizers.RMSprop(lr=1e-4),\n",
    "                   loss='categorical_crossentropy',\n",
    "                   metrics=['acc'])\n",
    "\n",
    "history = model_base.fit_generator(train_generator,\n",
    "                                   steps_per_epoch=100,\n",
    "                                   epochs=10,\n",
    "                                   validation_data=val_generator,\n",
    "                                   validation_steps=50)"
   ]
  },
  {
   "cell_type": "code",
   "execution_count": 14,
   "metadata": {
    "ExecuteTime": {
     "end_time": "2019-12-09T23:22:07.449503Z",
     "start_time": "2019-12-09T23:22:06.716693Z"
    }
   },
   "outputs": [
    {
     "data": {
      "image/png": "[encoded data removed]",
      "text/plain": [
       "<Figure size 432x288 with 1 Axes>"
      ]
     },
     "metadata": {
      "needs_background": "light"
     },
     "output_type": "display_data"
    },
    {
     "data": {
      "image/png": "[encoded data removed]",
      "text/plain": [
       "<Figure size 432x288 with 1 Axes>"
      ]
     },
     "metadata": {
      "needs_background": "light"
     },
     "output_type": "display_data"
    }
   ],
   "source": [
    "import matplotlib.pyplot as plt\n",
    "%matplotlib inline\n",
    "\n",
    "def visualize_training_results(results):\n",
    "    history = results.history\n",
    "    plt.figure()\n",
    "    plt.plot(history['val_loss'])\n",
    "    plt.plot(history['loss'])\n",
    "    plt.legend(['val_loss', 'loss'])\n",
    "    plt.title('Loss')\n",
    "    plt.xlabel('Epochs')\n",
    "    plt.ylabel('Loss')\n",
    "    plt.show()\n",
    "    \n",
    "    plt.figure()\n",
    "    plt.plot(history['val_acc'])\n",
    "    plt.plot(history['acc'])\n",
    "    plt.legend(['val_acc', 'acc'])\n",
    "    plt.title('Accuracy')\n",
    "    plt.xlabel('Epochs')\n",
    "    plt.ylabel('Accuracy')\n",
    "    plt.show()\n",
    "    \n",
    "visualize_training_results(history)"
   ]
  },
  {
   "cell_type": "code",
   "execution_count": 15,
   "metadata": {
    "ExecuteTime": {
     "end_time": "2019-12-09T23:22:36.242131Z",
     "start_time": "2019-12-09T23:22:13.490138Z"
    }
   },
   "outputs": [
    {
     "name": "stdout",
     "output_type": "stream",
     "text": [
      "Found 30 images belonging to 3 classes.\n",
      "810 predictions\n",
      "Test accuracy: 0.6999999972773187\n"
     ]
    }
   ],
   "source": [
    "test_generator = test_gen.flow_from_directory(test_dir,\n",
    "                                              target_size=(150,150),\n",
    "                                              batch_size=20,\n",
    "                                              class_mode='categorical')\n",
    "test_loss, test_acc = model_base.evaluate_generator(test_generator, steps=54)\n",
    "y_hat_test = model_base.predict_generator(test_generator, steps=54)\n",
    "print('{} predictions'.format(len(y_hat_test)))\n",
    "print('Test accuracy:', test_acc)"
   ]
  },
  {
   "cell_type": "markdown",
   "metadata": {},
   "source": [
    "## Loading a Pretrained CNN"
   ]
  },
  {
   "cell_type": "markdown",
   "metadata": {},
   "source": [
    "## Feature Engineering with the Pre-trained Model\n",
    "\n",
    "As you may well have guessed, adapting a pre-trained model will undoubtedly produce better results than a fresh CNN due to the limited size of training data. Import a pre-trained model such as VGG19 to use a convolutional base. Use this to transform the dataset into a rich feature space and add a few fully connected layers on top of the pre-trained layers to build a classification model. (Be sure to leave the pre-trained model frozen!)"
   ]
  },
  {
   "cell_type": "code",
   "execution_count": 19,
   "metadata": {
    "ExecuteTime": {
     "end_time": "2019-12-09T23:27:49.503187Z",
     "start_time": "2019-12-09T23:27:48.478536Z"
    }
   },
   "outputs": [],
   "source": [
    "# Your code here; add fully connected layers on top of the convolutional base\n",
    "from keras.applications import VGG19\n",
    "\n",
    "cnn_base = VGG19(weights='imagenet', include_top=False, \n",
    "                 input_shape=(240, 240, 3))\n",
    "\n",
    "model_pre = models.Sequential()\n",
    "model_pre.add(cnn_base)\n",
    "model_pre.add(layers.Flatten())\n",
    "model_pre.add(layers.Dense(64, activation='relu'))\n",
    "model_pre.add(layers.Dense(128, activation='relu'))\n",
    "model_pre.add(layers.Dense(3, activation='softmax'))\n",
    "\n",
    "cnn_base.trainable = False"
   ]
  },
  {
   "cell_type": "code",
   "execution_count": 20,
   "metadata": {
    "ExecuteTime": {
     "end_time": "2019-12-09T23:27:52.630299Z",
     "start_time": "2019-12-09T23:27:52.614171Z"
    }
   },
   "outputs": [
    {
     "name": "stdout",
     "output_type": "stream",
     "text": [
      "vgg19 False\n",
      "flatten_5 True\n",
      "dense_13 True\n",
      "dense_14 True\n",
      "dense_15 True\n",
      "6\n",
      "_________________________________________________________________\n",
      "Layer (type)                 Output Shape              Param #   \n",
      "=================================================================\n",
      "vgg19 (Model)                (None, 7, 7, 512)         20024384  \n",
      "_________________________________________________________________\n",
      "flatten_5 (Flatten)          (None, 25088)             0         \n",
      "_________________________________________________________________\n",
      "dense_13 (Dense)             (None, 64)                1605696   \n",
      "_________________________________________________________________\n",
      "dense_14 (Dense)             (None, 128)               8320      \n",
      "_________________________________________________________________\n",
      "dense_15 (Dense)             (None, 3)                 387       \n",
      "=================================================================\n",
      "Total params: 21,638,787\n",
      "Trainable params: 1,614,403\n",
      "Non-trainable params: 20,024,384\n",
      "_________________________________________________________________\n",
      "None\n"
     ]
    }
   ],
   "source": [
    "for layer in model_pre.layers:\n",
    "    print(layer.name, layer.trainable)\n",
    "print(len(model_pre.trainable_weights))\n",
    "print(model_pre.summary())"
   ]
  },
  {
   "cell_type": "code",
   "execution_count": 22,
   "metadata": {
    "ExecuteTime": {
     "end_time": "2019-12-09T23:32:28.339093Z",
     "start_time": "2019-12-09T23:32:27.815309Z"
    }
   },
   "outputs": [
    {
     "name": "stdout",
     "output_type": "stream",
     "text": [
      "Found 233 images belonging to 3 classes.\n",
      "Found 30 images belonging to 3 classes.\n",
      "Found 30 images belonging to 3 classes.\n"
     ]
    }
   ],
   "source": [
    "# Create new image generators\n",
    "datagen = ImageDataGenerator(rescale=1./255)\n",
    "batch_size = 10\n",
    "\n",
    "train_gen = ImageDataGenerator(rescale=1./255,\n",
    "                               rotation_range=40,\n",
    "                               width_shift_range=0.2,\n",
    "                               height_shift_range=0.2,\n",
    "                               shear_range=0.2,\n",
    "                               zoom_range=0.2,\n",
    "                               horizontal_flip=True,\n",
    "                               fill_mode='nearest')\n",
    "\n",
    "test_gen = ImageDataGenerator(rescale=1./255,\n",
    "                              rotation_range=40,\n",
    "                              width_shift_range=0.2,\n",
    "                              height_shift_range=0.2,\n",
    "                              shear_range=0.2,\n",
    "                              zoom_range=0.2,\n",
    "                              horizontal_flip=True,\n",
    "                              fill_mode='nearest')\n",
    "\n",
    "train_generator = train_gen.flow_from_directory(train_dir,\n",
    "                                                target_size=(240,240),\n",
    "                                                batch_size=20,\n",
    "                                                class_mode='categorical')\n",
    "\n",
    "val_generator = ImageDataGenerator(rescale=1./255).flow_from_directory(\n",
    "        val_dir, \n",
    "        target_size=(240, 240), \n",
    "        batch_size = 20,\n",
    "        class_mode= 'categorical')\n",
    "\n",
    "test_generator = ImageDataGenerator(rescale=1./255).flow_from_directory(\n",
    "        test_dir, \n",
    "        target_size=(240, 240), \n",
    "        batch_size = 180,\n",
    "        class_mode= 'categorical',\n",
    "        shuffle=False)\n",
    "\n",
    "test_images, test_labels = next(test_generator)"
   ]
  },
  {
   "cell_type": "code",
   "execution_count": 23,
   "metadata": {
    "ExecuteTime": {
     "end_time": "2019-12-09T23:32:49.101031Z",
     "start_time": "2019-12-09T23:32:49.046863Z"
    }
   },
   "outputs": [],
   "source": [
    "model_pre.compile(optimizer=optimizers.RMSprop(lr=1e-4),\n",
    "                  loss='categorical_crossentropy',\n",
    "                  metrics=['acc'])"
   ]
  },
  {
   "cell_type": "code",
   "execution_count": 24,
   "metadata": {
    "ExecuteTime": {
     "end_time": "2019-12-09T23:50:12.836009Z",
     "start_time": "2019-12-09T23:33:48.672838Z"
    }
   },
   "outputs": [
    {
     "name": "stdout",
     "output_type": "stream",
     "text": [
      "Epoch 1/4\n",
      "8/8 [==============================] - 256s 32s/step - loss: 1.0640 - acc: 0.4421 - val_loss: 1.3138 - val_acc: 0.2667\n",
      "Epoch 2/4\n",
      "8/8 [==============================] - 247s 31s/step - loss: 1.0026 - acc: 0.4765 - val_loss: 0.8861 - val_acc: 0.6333\n",
      "Epoch 3/4\n",
      "8/8 [==============================] - 250s 31s/step - loss: 0.8807 - acc: 0.6313 - val_loss: 0.8443 - val_acc: 0.5000\n",
      "Epoch 4/4\n",
      "8/8 [==============================] - 230s 29s/step - loss: 0.8463 - acc: 0.6111 - val_loss: 0.7210 - val_acc: 0.6667\n"
     ]
    }
   ],
   "source": [
    "history_pre = model_pre.fit_generator(train_generator,\n",
    "                                      steps_per_epoch=8,\n",
    "                                      epochs=4,\n",
    "                                      validation_data=val_generator,\n",
    "                                      validation_steps=10)"
   ]
  },
  {
   "cell_type": "markdown",
   "metadata": {},
   "source": [
    "## Visualize History\n",
    "\n",
    "Now fit the model and visualize the training and validation accuracy/loss functions over successive epochs."
   ]
  },
  {
   "cell_type": "code",
   "execution_count": 25,
   "metadata": {
    "ExecuteTime": {
     "end_time": "2019-12-09T23:50:17.126531Z",
     "start_time": "2019-12-09T23:50:16.671510Z"
    }
   },
   "outputs": [
    {
     "data": {
      "image/png": "[encoded data removed]",
      "text/plain": [
       "<Figure size 432x288 with 1 Axes>"
      ]
     },
     "metadata": {
      "needs_background": "light"
     },
     "output_type": "display_data"
    },
    {
     "data": {
      "image/png": "[encoded data removed]",
      "text/plain": [
       "<Figure size 432x288 with 1 Axes>"
      ]
     },
     "metadata": {
      "needs_background": "light"
     },
     "output_type": "display_data"
    }
   ],
   "source": [
    "# Your code here; visualize the training / validation history associated with fitting the model.\n",
    "visualize_training_results(history_pre)"
   ]
  },
  {
   "cell_type": "markdown",
   "metadata": {},
   "source": [
    "## Final Model Evaluation\n",
    "\n",
    "Now that you've trained and validated the model, perform a final evaluation of the model on the test set."
   ]
  },
  {
   "cell_type": "code",
   "execution_count": 27,
   "metadata": {
    "ExecuteTime": {
     "end_time": "2019-12-10T00:03:03.070009Z",
     "start_time": "2019-12-10T00:00:51.780130Z"
    }
   },
   "outputs": [
    {
     "name": "stdout",
     "output_type": "stream",
     "text": [
      "Test accuracy: 0.5666666626930237\n"
     ]
    }
   ],
   "source": [
    "test_loss, test_acc = model_pre.evaluate_generator(test_generator, steps=5)\n",
    "print('Test accuracy:', test_acc)"
   ]
  },
  {
   "cell_type": "markdown",
   "metadata": {},
   "source": [
    "## Summary\n",
    "\n",
    "Congratulations! In this lab, you brought all of your prior deep learning skills together from preprocessing including one-hot encoding, to adapting a pretrained model. There are always ongoing advancements in CNN architectures and best practices, but you have a solid foundation and understanding at this point."
   ]
  }
 ],
 "metadata": {
  "kernelspec": {
   "display_name": "Python 3",
   "language": "python",
   "name": "python3"
  },
  "language_info": {
   "codemirror_mode": {
    "name": "ipython",
    "version": 3
   },
   "file_extension": ".py",
   "mimetype": "text/x-python",
   "name": "python",
   "nbconvert_exporter": "python",
   "pygments_lexer": "ipython3",
   "version": "3.6.6"
  },
  "toc": {
   "base_numbering": 1,
   "nav_menu": {},
   "number_sections": true,
   "sideBar": true,
   "skip_h1_title": false,
   "title_cell": "Table of Contents",
   "title_sidebar": "Contents",
   "toc_cell": false,
   "toc_position": {},
   "toc_section_display": true,
   "toc_window_display": false
  }
 },
 "nbformat": 4,
 "nbformat_minor": 2
}
