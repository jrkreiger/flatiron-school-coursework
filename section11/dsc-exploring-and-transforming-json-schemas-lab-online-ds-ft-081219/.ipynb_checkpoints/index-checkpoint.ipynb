{
 "cells": [
  {
   "cell_type": "markdown",
   "metadata": {},
   "source": [
    "# Exploring and Transforming JSON Schemas"
   ]
  },
  {
   "cell_type": "markdown",
   "metadata": {},
   "source": [
    "# Introduction\n",
    "\n",
    "In this lesson, you'll formalize how to explore a JSON file whose structure and schema is unknown to you. This often happens in practice when you are handed a file or stumble upon one with little documentation."
   ]
  },
  {
   "cell_type": "markdown",
   "metadata": {},
   "source": [
    "## Objectives\n",
    "You will be able to:\n",
    "* Explore unknown JSON schemas\n",
    "* Access and manipulate data inside a JSON file\n",
    "* Convert JSON to alternative data formats"
   ]
  },
  {
   "cell_type": "markdown",
   "metadata": {},
   "source": [
    "## Loading the JSON file\n",
    "\n",
    "Load the data from the file disease_data.json."
   ]
  },
  {
   "cell_type": "code",
   "execution_count": 1,
   "metadata": {
    "ExecuteTime": {
     "end_time": "2019-09-09T14:00:50.505758Z",
     "start_time": "2019-09-09T14:00:49.989885Z"
    }
   },
   "outputs": [],
   "source": [
    "import json\n",
    "\n",
    "f = open('disease_data.json')\n",
    "data = json.load(f)"
   ]
  },
  {
   "cell_type": "markdown",
   "metadata": {},
   "source": [
    "## Explore the first and second levels of the schema hierarchy"
   ]
  },
  {
   "cell_type": "code",
   "execution_count": 2,
   "metadata": {
    "ExecuteTime": {
     "end_time": "2019-09-09T14:00:50.523930Z",
     "start_time": "2019-09-09T14:00:50.509672Z"
    }
   },
   "outputs": [
    {
     "data": {
      "text/plain": [
       "dict"
      ]
     },
     "execution_count": 2,
     "metadata": {},
     "output_type": "execute_result"
    }
   ],
   "source": [
    "type(data)"
   ]
  },
  {
   "cell_type": "code",
   "execution_count": 3,
   "metadata": {
    "ExecuteTime": {
     "end_time": "2019-09-09T14:00:50.537313Z",
     "start_time": "2019-09-09T14:00:50.528275Z"
    }
   },
   "outputs": [
    {
     "data": {
      "text/plain": [
       "dict_keys(['meta', 'data'])"
      ]
     },
     "execution_count": 3,
     "metadata": {},
     "output_type": "execute_result"
    }
   ],
   "source": [
    "data.keys()"
   ]
  },
  {
   "cell_type": "code",
   "execution_count": 4,
   "metadata": {
    "ExecuteTime": {
     "end_time": "2019-09-09T14:00:50.546775Z",
     "start_time": "2019-09-09T14:00:50.541141Z"
    }
   },
   "outputs": [
    {
     "name": "stdout",
     "output_type": "stream",
     "text": [
      "meta <class 'dict'>\n",
      "data <class 'list'>\n"
     ]
    }
   ],
   "source": [
    "for key in data.keys():\n",
    "    print(key, type(data[key]))"
   ]
  },
  {
   "cell_type": "code",
   "execution_count": 5,
   "metadata": {
    "ExecuteTime": {
     "end_time": "2019-09-09T14:00:50.555261Z",
     "start_time": "2019-09-09T14:00:50.550386Z"
    }
   },
   "outputs": [
    {
     "name": "stdout",
     "output_type": "stream",
     "text": [
      "view <class 'dict'>\n"
     ]
    }
   ],
   "source": [
    "for key in data['meta'].keys():\n",
    "    print(key, type(data['meta'][key]))"
   ]
  },
  {
   "cell_type": "code",
   "execution_count": 6,
   "metadata": {
    "ExecuteTime": {
     "end_time": "2019-09-09T14:00:50.577250Z",
     "start_time": "2019-09-09T14:00:50.559533Z"
    }
   },
   "outputs": [
    {
     "name": "stdout",
     "output_type": "stream",
     "text": [
      "id <class 'str'>\n",
      "name <class 'str'>\n",
      "attribution <class 'str'>\n",
      "attributionLink <class 'str'>\n",
      "averageRating <class 'int'>\n",
      "category <class 'str'>\n",
      "createdAt <class 'int'>\n",
      "description <class 'str'>\n",
      "displayType <class 'str'>\n",
      "downloadCount <class 'int'>\n",
      "hideFromCatalog <class 'bool'>\n",
      "hideFromDataJson <class 'bool'>\n",
      "indexUpdatedAt <class 'int'>\n",
      "licenseId <class 'str'>\n",
      "newBackend <class 'bool'>\n",
      "numberOfComments <class 'int'>\n",
      "oid <class 'int'>\n",
      "provenance <class 'str'>\n",
      "publicationAppendEnabled <class 'bool'>\n",
      "publicationDate <class 'int'>\n",
      "publicationGroup <class 'int'>\n",
      "publicationStage <class 'str'>\n",
      "rowClass <class 'str'>\n",
      "rowsUpdatedAt <class 'int'>\n",
      "rowsUpdatedBy <class 'str'>\n",
      "tableId <class 'int'>\n",
      "totalTimesRated <class 'int'>\n",
      "viewCount <class 'int'>\n",
      "viewLastModified <class 'int'>\n",
      "viewType <class 'str'>\n",
      "columns <class 'list'>\n",
      "grants <class 'list'>\n",
      "license <class 'dict'>\n",
      "metadata <class 'dict'>\n",
      "owner <class 'dict'>\n",
      "query <class 'dict'>\n",
      "rights <class 'list'>\n",
      "tableAuthor <class 'dict'>\n",
      "tags <class 'list'>\n",
      "flags <class 'list'>\n"
     ]
    }
   ],
   "source": [
    "for key in data['meta']['view'].keys():\n",
    "    print(key, type(data['meta']['view'][key]))"
   ]
  },
  {
   "cell_type": "code",
   "execution_count": 7,
   "metadata": {
    "ExecuteTime": {
     "end_time": "2019-09-09T14:00:50.597891Z",
     "start_time": "2019-09-09T14:00:50.590142Z"
    }
   },
   "outputs": [
    {
     "data": {
      "text/plain": [
       "['sid',\n",
       " 'id',\n",
       " 'position',\n",
       " 'created_at',\n",
       " 'created_meta',\n",
       " 'updated_at',\n",
       " 'updated_meta',\n",
       " 'meta',\n",
       " 'YearStart',\n",
       " 'YearEnd',\n",
       " 'LocationAbbr',\n",
       " 'LocationDesc',\n",
       " 'DataSource',\n",
       " 'Topic',\n",
       " 'Question',\n",
       " 'Response',\n",
       " 'DataValueUnit',\n",
       " 'DataValueType',\n",
       " 'DataValue',\n",
       " 'DataValueAlt',\n",
       " 'DataValueFootnoteSymbol',\n",
       " 'DatavalueFootnote',\n",
       " 'LowConfidenceLimit',\n",
       " 'HighConfidenceLimit',\n",
       " 'StratificationCategory1',\n",
       " 'Stratification1',\n",
       " 'StratificationCategory2',\n",
       " 'Stratification2',\n",
       " 'StratificationCategory3',\n",
       " 'Stratification3',\n",
       " 'GeoLocation',\n",
       " 'ResponseID',\n",
       " 'LocationID',\n",
       " 'TopicID',\n",
       " 'QuestionID',\n",
       " 'DataValueTypeID',\n",
       " 'StratificationCategoryID1',\n",
       " 'StratificationID1',\n",
       " 'StratificationCategoryID2',\n",
       " 'StratificationID2',\n",
       " 'StratificationCategoryID3',\n",
       " 'StratificationID3']"
      ]
     },
     "execution_count": 7,
     "metadata": {},
     "output_type": "execute_result"
    }
   ],
   "source": [
    "colnames = []\n",
    "for dictionary in data['meta']['view']['columns']:\n",
    "    colnames.append(dictionary['name'])\n",
    "\n",
    "colnames\n"
   ]
  },
  {
   "cell_type": "code",
   "execution_count": 8,
   "metadata": {
    "ExecuteTime": {
     "end_time": "2019-09-09T14:00:50.626106Z",
     "start_time": "2019-09-09T14:00:50.611932Z"
    },
    "scrolled": true
   },
   "outputs": [
    {
     "data": {
      "text/plain": [
       "[1,\n",
       " 'FF49C41F-CE8D-46C4-9164-653B1227CF6F',\n",
       " 1,\n",
       " 1527194521,\n",
       " '959778',\n",
       " 1527194521,\n",
       " '959778',\n",
       " None,\n",
       " '2016',\n",
       " '2016',\n",
       " 'US',\n",
       " 'United States',\n",
       " 'BRFSS',\n",
       " 'Alcohol',\n",
       " 'Binge drinking prevalence among adults aged >= 18 years',\n",
       " None,\n",
       " '%',\n",
       " 'Crude Prevalence',\n",
       " '16.9',\n",
       " '16.9',\n",
       " '*',\n",
       " '50 States + DC: US Median',\n",
       " '16',\n",
       " '18',\n",
       " 'Overall',\n",
       " 'Overall',\n",
       " None,\n",
       " None,\n",
       " None,\n",
       " None,\n",
       " [None, None, None, None, None],\n",
       " None,\n",
       " '59',\n",
       " 'ALC',\n",
       " 'ALC2_2',\n",
       " 'CRDPREV',\n",
       " 'OVERALL',\n",
       " 'OVR',\n",
       " None,\n",
       " None,\n",
       " None,\n",
       " None]"
      ]
     },
     "execution_count": 8,
     "metadata": {},
     "output_type": "execute_result"
    }
   ],
   "source": [
    "data['data'][0]"
   ]
  },
  {
   "cell_type": "code",
   "execution_count": 9,
   "metadata": {
    "ExecuteTime": {
     "end_time": "2019-09-09T14:00:50.641519Z",
     "start_time": "2019-09-09T14:00:50.631730Z"
    }
   },
   "outputs": [
    {
     "data": {
      "text/plain": [
       "60266"
      ]
     },
     "execution_count": 9,
     "metadata": {},
     "output_type": "execute_result"
    }
   ],
   "source": [
    "len(data['data'])"
   ]
  },
  {
   "cell_type": "markdown",
   "metadata": {},
   "source": [
    "## Convert to a DataFrame\n",
    "\n",
    "Create a DataFrame from the JSON file. Be sure to retrive the column names for the dataframe. (Search within the 'meta' key of the master dictionary.) The DataFrame should include all 42 columns."
   ]
  },
  {
   "cell_type": "code",
   "execution_count": 10,
   "metadata": {
    "ExecuteTime": {
     "end_time": "2019-09-09T14:00:51.895464Z",
     "start_time": "2019-09-09T14:00:50.646549Z"
    }
   },
   "outputs": [],
   "source": [
    "import pandas as pd"
   ]
  },
  {
   "cell_type": "code",
   "execution_count": 11,
   "metadata": {
    "ExecuteTime": {
     "end_time": "2019-09-09T14:00:52.394128Z",
     "start_time": "2019-09-09T14:00:51.901416Z"
    }
   },
   "outputs": [
    {
     "data": {
      "text/html": [
       "<div>\n",
       "<style scoped>\n",
       "    .dataframe tbody tr th:only-of-type {\n",
       "        vertical-align: middle;\n",
       "    }\n",
       "\n",
       "    .dataframe tbody tr th {\n",
       "        vertical-align: top;\n",
       "    }\n",
       "\n",
       "    .dataframe thead th {\n",
       "        text-align: right;\n",
       "    }\n",
       "</style>\n",
       "<table border=\"1\" class=\"dataframe\">\n",
       "  <thead>\n",
       "    <tr style=\"text-align: right;\">\n",
       "      <th></th>\n",
       "      <th>sid</th>\n",
       "      <th>id</th>\n",
       "      <th>position</th>\n",
       "      <th>created_at</th>\n",
       "      <th>created_meta</th>\n",
       "      <th>updated_at</th>\n",
       "      <th>updated_meta</th>\n",
       "      <th>meta</th>\n",
       "      <th>YearStart</th>\n",
       "      <th>YearEnd</th>\n",
       "      <th>...</th>\n",
       "      <th>LocationID</th>\n",
       "      <th>TopicID</th>\n",
       "      <th>QuestionID</th>\n",
       "      <th>DataValueTypeID</th>\n",
       "      <th>StratificationCategoryID1</th>\n",
       "      <th>StratificationID1</th>\n",
       "      <th>StratificationCategoryID2</th>\n",
       "      <th>StratificationID2</th>\n",
       "      <th>StratificationCategoryID3</th>\n",
       "      <th>StratificationID3</th>\n",
       "    </tr>\n",
       "  </thead>\n",
       "  <tbody>\n",
       "    <tr>\n",
       "      <th>0</th>\n",
       "      <td>1</td>\n",
       "      <td>FF49C41F-CE8D-46C4-9164-653B1227CF6F</td>\n",
       "      <td>1</td>\n",
       "      <td>1527194521</td>\n",
       "      <td>959778</td>\n",
       "      <td>1527194521</td>\n",
       "      <td>959778</td>\n",
       "      <td>None</td>\n",
       "      <td>2016</td>\n",
       "      <td>2016</td>\n",
       "      <td>...</td>\n",
       "      <td>59</td>\n",
       "      <td>ALC</td>\n",
       "      <td>ALC2_2</td>\n",
       "      <td>CRDPREV</td>\n",
       "      <td>OVERALL</td>\n",
       "      <td>OVR</td>\n",
       "      <td>None</td>\n",
       "      <td>None</td>\n",
       "      <td>None</td>\n",
       "      <td>None</td>\n",
       "    </tr>\n",
       "    <tr>\n",
       "      <th>1</th>\n",
       "      <td>2</td>\n",
       "      <td>F4468C3D-340A-4CD2-84A3-DF554DFF065E</td>\n",
       "      <td>2</td>\n",
       "      <td>1527194521</td>\n",
       "      <td>959778</td>\n",
       "      <td>1527194521</td>\n",
       "      <td>959778</td>\n",
       "      <td>None</td>\n",
       "      <td>2016</td>\n",
       "      <td>2016</td>\n",
       "      <td>...</td>\n",
       "      <td>01</td>\n",
       "      <td>ALC</td>\n",
       "      <td>ALC2_2</td>\n",
       "      <td>CRDPREV</td>\n",
       "      <td>OVERALL</td>\n",
       "      <td>OVR</td>\n",
       "      <td>None</td>\n",
       "      <td>None</td>\n",
       "      <td>None</td>\n",
       "      <td>None</td>\n",
       "    </tr>\n",
       "    <tr>\n",
       "      <th>2</th>\n",
       "      <td>3</td>\n",
       "      <td>65609156-A343-4869-B03F-2BA62E96AC19</td>\n",
       "      <td>3</td>\n",
       "      <td>1527194521</td>\n",
       "      <td>959778</td>\n",
       "      <td>1527194521</td>\n",
       "      <td>959778</td>\n",
       "      <td>None</td>\n",
       "      <td>2016</td>\n",
       "      <td>2016</td>\n",
       "      <td>...</td>\n",
       "      <td>02</td>\n",
       "      <td>ALC</td>\n",
       "      <td>ALC2_2</td>\n",
       "      <td>CRDPREV</td>\n",
       "      <td>OVERALL</td>\n",
       "      <td>OVR</td>\n",
       "      <td>None</td>\n",
       "      <td>None</td>\n",
       "      <td>None</td>\n",
       "      <td>None</td>\n",
       "    </tr>\n",
       "    <tr>\n",
       "      <th>3</th>\n",
       "      <td>4</td>\n",
       "      <td>0DB09B00-EFEB-4AC0-9467-A7CBD2B57BF3</td>\n",
       "      <td>4</td>\n",
       "      <td>1527194521</td>\n",
       "      <td>959778</td>\n",
       "      <td>1527194521</td>\n",
       "      <td>959778</td>\n",
       "      <td>None</td>\n",
       "      <td>2016</td>\n",
       "      <td>2016</td>\n",
       "      <td>...</td>\n",
       "      <td>04</td>\n",
       "      <td>ALC</td>\n",
       "      <td>ALC2_2</td>\n",
       "      <td>CRDPREV</td>\n",
       "      <td>OVERALL</td>\n",
       "      <td>OVR</td>\n",
       "      <td>None</td>\n",
       "      <td>None</td>\n",
       "      <td>None</td>\n",
       "      <td>None</td>\n",
       "    </tr>\n",
       "    <tr>\n",
       "      <th>4</th>\n",
       "      <td>5</td>\n",
       "      <td>D98DA5BA-6FD6-40F5-A9B1-ABD45E44967B</td>\n",
       "      <td>5</td>\n",
       "      <td>1527194521</td>\n",
       "      <td>959778</td>\n",
       "      <td>1527194521</td>\n",
       "      <td>959778</td>\n",
       "      <td>None</td>\n",
       "      <td>2016</td>\n",
       "      <td>2016</td>\n",
       "      <td>...</td>\n",
       "      <td>05</td>\n",
       "      <td>ALC</td>\n",
       "      <td>ALC2_2</td>\n",
       "      <td>CRDPREV</td>\n",
       "      <td>OVERALL</td>\n",
       "      <td>OVR</td>\n",
       "      <td>None</td>\n",
       "      <td>None</td>\n",
       "      <td>None</td>\n",
       "      <td>None</td>\n",
       "    </tr>\n",
       "  </tbody>\n",
       "</table>\n",
       "<p>5 rows × 42 columns</p>\n",
       "</div>"
      ],
      "text/plain": [
       "   sid                                    id  position  created_at  \\\n",
       "0    1  FF49C41F-CE8D-46C4-9164-653B1227CF6F         1  1527194521   \n",
       "1    2  F4468C3D-340A-4CD2-84A3-DF554DFF065E         2  1527194521   \n",
       "2    3  65609156-A343-4869-B03F-2BA62E96AC19         3  1527194521   \n",
       "3    4  0DB09B00-EFEB-4AC0-9467-A7CBD2B57BF3         4  1527194521   \n",
       "4    5  D98DA5BA-6FD6-40F5-A9B1-ABD45E44967B         5  1527194521   \n",
       "\n",
       "  created_meta  updated_at updated_meta  meta YearStart YearEnd  \\\n",
       "0       959778  1527194521       959778  None      2016    2016   \n",
       "1       959778  1527194521       959778  None      2016    2016   \n",
       "2       959778  1527194521       959778  None      2016    2016   \n",
       "3       959778  1527194521       959778  None      2016    2016   \n",
       "4       959778  1527194521       959778  None      2016    2016   \n",
       "\n",
       "         ...        LocationID TopicID QuestionID DataValueTypeID  \\\n",
       "0        ...                59     ALC     ALC2_2         CRDPREV   \n",
       "1        ...                01     ALC     ALC2_2         CRDPREV   \n",
       "2        ...                02     ALC     ALC2_2         CRDPREV   \n",
       "3        ...                04     ALC     ALC2_2         CRDPREV   \n",
       "4        ...                05     ALC     ALC2_2         CRDPREV   \n",
       "\n",
       "  StratificationCategoryID1 StratificationID1 StratificationCategoryID2  \\\n",
       "0                   OVERALL               OVR                      None   \n",
       "1                   OVERALL               OVR                      None   \n",
       "2                   OVERALL               OVR                      None   \n",
       "3                   OVERALL               OVR                      None   \n",
       "4                   OVERALL               OVR                      None   \n",
       "\n",
       "  StratificationID2 StratificationCategoryID3 StratificationID3  \n",
       "0              None                      None              None  \n",
       "1              None                      None              None  \n",
       "2              None                      None              None  \n",
       "3              None                      None              None  \n",
       "4              None                      None              None  \n",
       "\n",
       "[5 rows x 42 columns]"
      ]
     },
     "execution_count": 11,
     "metadata": {},
     "output_type": "execute_result"
    }
   ],
   "source": [
    "df = pd.DataFrame(data['data'], columns=colnames)\n",
    "df.head()"
   ]
  },
  {
   "cell_type": "markdown",
   "metadata": {},
   "source": [
    "## Level-Up\n",
    "## Create a bar graph of states with the highest asthma rates for adults age 18+"
   ]
  },
  {
   "cell_type": "code",
   "execution_count": 12,
   "metadata": {
    "ExecuteTime": {
     "end_time": "2019-09-09T14:00:52.413139Z",
     "start_time": "2019-09-09T14:00:52.396813Z"
    },
    "scrolled": true
   },
   "outputs": [
    {
     "data": {
      "text/plain": [
       "array(['Alcohol', 'Arthritis', 'Asthma', 'Cancer', 'Diabetes',\n",
       "       'Mental Health', 'Chronic Obstructive Pulmonary Disease',\n",
       "       'Oral Health', 'Cardiovascular Disease', 'Immunization',\n",
       "       'Chronic Kidney Disease',\n",
       "       'Nutrition, Physical Activity, and Weight Status', 'Older Adults',\n",
       "       'Tobacco', 'Overarching Conditions', 'Reproductive Health',\n",
       "       'Disability'], dtype=object)"
      ]
     },
     "execution_count": 12,
     "metadata": {},
     "output_type": "execute_result"
    }
   ],
   "source": [
    "df['Topic'].unique()"
   ]
  },
  {
   "cell_type": "code",
   "execution_count": 13,
   "metadata": {
    "ExecuteTime": {
     "end_time": "2019-09-09T14:00:52.565779Z",
     "start_time": "2019-09-09T14:00:52.416305Z"
    },
    "scrolled": true
   },
   "outputs": [
    {
     "name": "stderr",
     "output_type": "stream",
     "text": [
      "/Users/jennykreiger/anaconda3/envs/learn-env/lib/python3.6/site-packages/pandas/core/frame.py:3697: SettingWithCopyWarning: \n",
      "A value is trying to be set on a copy of a slice from a DataFrame\n",
      "\n",
      "See the caveats in the documentation: http://pandas.pydata.org/pandas-docs/stable/indexing.html#indexing-view-versus-copy\n",
      "  errors=errors)\n"
     ]
    },
    {
     "data": {
      "text/html": [
       "<div>\n",
       "<style scoped>\n",
       "    .dataframe tbody tr th:only-of-type {\n",
       "        vertical-align: middle;\n",
       "    }\n",
       "\n",
       "    .dataframe tbody tr th {\n",
       "        vertical-align: top;\n",
       "    }\n",
       "\n",
       "    .dataframe thead th {\n",
       "        text-align: right;\n",
       "    }\n",
       "</style>\n",
       "<table border=\"1\" class=\"dataframe\">\n",
       "  <thead>\n",
       "    <tr style=\"text-align: right;\">\n",
       "      <th></th>\n",
       "      <th>updated_meta</th>\n",
       "      <th>meta</th>\n",
       "      <th>YearStart</th>\n",
       "      <th>YearEnd</th>\n",
       "      <th>LocationAbbr</th>\n",
       "      <th>LocationDesc</th>\n",
       "      <th>DataSource</th>\n",
       "      <th>Topic</th>\n",
       "      <th>Question</th>\n",
       "      <th>Response</th>\n",
       "      <th>...</th>\n",
       "      <th>LocationID</th>\n",
       "      <th>TopicID</th>\n",
       "      <th>QuestionID</th>\n",
       "      <th>DataValueTypeID</th>\n",
       "      <th>StratificationCategoryID1</th>\n",
       "      <th>StratificationID1</th>\n",
       "      <th>StratificationCategoryID2</th>\n",
       "      <th>StratificationID2</th>\n",
       "      <th>StratificationCategoryID3</th>\n",
       "      <th>StratificationID3</th>\n",
       "    </tr>\n",
       "  </thead>\n",
       "  <tbody>\n",
       "    <tr>\n",
       "      <th>4725</th>\n",
       "      <td>959778</td>\n",
       "      <td>None</td>\n",
       "      <td>2016</td>\n",
       "      <td>2016</td>\n",
       "      <td>IL</td>\n",
       "      <td>Illinois</td>\n",
       "      <td>BRFSS</td>\n",
       "      <td>Asthma</td>\n",
       "      <td>Current asthma prevalence among adults aged &gt;=...</td>\n",
       "      <td>None</td>\n",
       "      <td>...</td>\n",
       "      <td>17</td>\n",
       "      <td>AST</td>\n",
       "      <td>AST1_1</td>\n",
       "      <td>CRDPREV</td>\n",
       "      <td>GENDER</td>\n",
       "      <td>GENM</td>\n",
       "      <td>None</td>\n",
       "      <td>None</td>\n",
       "      <td>None</td>\n",
       "      <td>None</td>\n",
       "    </tr>\n",
       "    <tr>\n",
       "      <th>5529</th>\n",
       "      <td>959778</td>\n",
       "      <td>None</td>\n",
       "      <td>2016</td>\n",
       "      <td>2016</td>\n",
       "      <td>IN</td>\n",
       "      <td>Indiana</td>\n",
       "      <td>BRFSS</td>\n",
       "      <td>Asthma</td>\n",
       "      <td>Current asthma prevalence among adults aged &gt;=...</td>\n",
       "      <td>None</td>\n",
       "      <td>...</td>\n",
       "      <td>18</td>\n",
       "      <td>AST</td>\n",
       "      <td>AST1_1</td>\n",
       "      <td>CRDPREV</td>\n",
       "      <td>GENDER</td>\n",
       "      <td>GENM</td>\n",
       "      <td>None</td>\n",
       "      <td>None</td>\n",
       "      <td>None</td>\n",
       "      <td>None</td>\n",
       "    </tr>\n",
       "    <tr>\n",
       "      <th>5632</th>\n",
       "      <td>959778</td>\n",
       "      <td>None</td>\n",
       "      <td>2016</td>\n",
       "      <td>2016</td>\n",
       "      <td>IA</td>\n",
       "      <td>Iowa</td>\n",
       "      <td>BRFSS</td>\n",
       "      <td>Asthma</td>\n",
       "      <td>Current asthma prevalence among adults aged &gt;=...</td>\n",
       "      <td>None</td>\n",
       "      <td>...</td>\n",
       "      <td>19</td>\n",
       "      <td>AST</td>\n",
       "      <td>AST1_1</td>\n",
       "      <td>CRDPREV</td>\n",
       "      <td>GENDER</td>\n",
       "      <td>GENM</td>\n",
       "      <td>None</td>\n",
       "      <td>None</td>\n",
       "      <td>None</td>\n",
       "      <td>None</td>\n",
       "    </tr>\n",
       "    <tr>\n",
       "      <th>6777</th>\n",
       "      <td>959778</td>\n",
       "      <td>None</td>\n",
       "      <td>2016</td>\n",
       "      <td>2016</td>\n",
       "      <td>KS</td>\n",
       "      <td>Kansas</td>\n",
       "      <td>BRFSS</td>\n",
       "      <td>Asthma</td>\n",
       "      <td>Current asthma prevalence among adults aged &gt;=...</td>\n",
       "      <td>None</td>\n",
       "      <td>...</td>\n",
       "      <td>20</td>\n",
       "      <td>AST</td>\n",
       "      <td>AST1_1</td>\n",
       "      <td>CRDPREV</td>\n",
       "      <td>GENDER</td>\n",
       "      <td>GENM</td>\n",
       "      <td>None</td>\n",
       "      <td>None</td>\n",
       "      <td>None</td>\n",
       "      <td>None</td>\n",
       "    </tr>\n",
       "    <tr>\n",
       "      <th>7034</th>\n",
       "      <td>959778</td>\n",
       "      <td>None</td>\n",
       "      <td>2016</td>\n",
       "      <td>2016</td>\n",
       "      <td>KY</td>\n",
       "      <td>Kentucky</td>\n",
       "      <td>BRFSS</td>\n",
       "      <td>Asthma</td>\n",
       "      <td>Current asthma prevalence among adults aged &gt;=...</td>\n",
       "      <td>None</td>\n",
       "      <td>...</td>\n",
       "      <td>21</td>\n",
       "      <td>AST</td>\n",
       "      <td>AST1_1</td>\n",
       "      <td>CRDPREV</td>\n",
       "      <td>GENDER</td>\n",
       "      <td>GENM</td>\n",
       "      <td>None</td>\n",
       "      <td>None</td>\n",
       "      <td>None</td>\n",
       "      <td>None</td>\n",
       "    </tr>\n",
       "  </tbody>\n",
       "</table>\n",
       "<p>5 rows × 36 columns</p>\n",
       "</div>"
      ],
      "text/plain": [
       "     updated_meta  meta YearStart YearEnd LocationAbbr LocationDesc  \\\n",
       "4725       959778  None      2016    2016           IL     Illinois   \n",
       "5529       959778  None      2016    2016           IN      Indiana   \n",
       "5632       959778  None      2016    2016           IA         Iowa   \n",
       "6777       959778  None      2016    2016           KS       Kansas   \n",
       "7034       959778  None      2016    2016           KY     Kentucky   \n",
       "\n",
       "     DataSource   Topic                                           Question  \\\n",
       "4725      BRFSS  Asthma  Current asthma prevalence among adults aged >=...   \n",
       "5529      BRFSS  Asthma  Current asthma prevalence among adults aged >=...   \n",
       "5632      BRFSS  Asthma  Current asthma prevalence among adults aged >=...   \n",
       "6777      BRFSS  Asthma  Current asthma prevalence among adults aged >=...   \n",
       "7034      BRFSS  Asthma  Current asthma prevalence among adults aged >=...   \n",
       "\n",
       "     Response        ...        LocationID TopicID QuestionID DataValueTypeID  \\\n",
       "4725     None        ...                17     AST     AST1_1         CRDPREV   \n",
       "5529     None        ...                18     AST     AST1_1         CRDPREV   \n",
       "5632     None        ...                19     AST     AST1_1         CRDPREV   \n",
       "6777     None        ...                20     AST     AST1_1         CRDPREV   \n",
       "7034     None        ...                21     AST     AST1_1         CRDPREV   \n",
       "\n",
       "     StratificationCategoryID1 StratificationID1 StratificationCategoryID2  \\\n",
       "4725                    GENDER              GENM                      None   \n",
       "5529                    GENDER              GENM                      None   \n",
       "5632                    GENDER              GENM                      None   \n",
       "6777                    GENDER              GENM                      None   \n",
       "7034                    GENDER              GENM                      None   \n",
       "\n",
       "     StratificationID2 StratificationCategoryID3 StratificationID3  \n",
       "4725              None                      None              None  \n",
       "5529              None                      None              None  \n",
       "5632              None                      None              None  \n",
       "6777              None                      None              None  \n",
       "7034              None                      None              None  \n",
       "\n",
       "[5 rows x 36 columns]"
      ]
     },
     "execution_count": 13,
     "metadata": {},
     "output_type": "execute_result"
    }
   ],
   "source": [
    "asthma = df[df['Topic'] == 'Asthma']\n",
    "asthma.drop(['sid', 'id', 'position', 'created_at', 'created_meta', 'updated_at'], axis=1, inplace=True)\n",
    "asthma.head()"
   ]
  },
  {
   "cell_type": "code",
   "execution_count": 14,
   "metadata": {
    "ExecuteTime": {
     "end_time": "2019-09-09T14:00:52.577507Z",
     "start_time": "2019-09-09T14:00:52.569362Z"
    }
   },
   "outputs": [
    {
     "data": {
      "text/plain": [
       "array(['Current asthma prevalence among adults aged >= 18 years',\n",
       "       'Asthma prevalence among women aged 18-44 years',\n",
       "       'Influenza vaccination among noninstitutionalized adults aged 18-64 years with asthma',\n",
       "       'Influenza vaccination among noninstitutionalized adults aged >= 65 years with asthma',\n",
       "       'Pneumococcal vaccination among noninstitutionalized adults aged 18-64 years with asthma',\n",
       "       'Pneumococcal vaccination among noninstitutionalized adults aged >= 65 years with asthma'],\n",
       "      dtype=object)"
      ]
     },
     "execution_count": 14,
     "metadata": {},
     "output_type": "execute_result"
    }
   ],
   "source": [
    "asthma.Question.unique()"
   ]
  },
  {
   "cell_type": "code",
   "execution_count": 15,
   "metadata": {
    "ExecuteTime": {
     "end_time": "2019-09-09T14:00:52.587226Z",
     "start_time": "2019-09-09T14:00:52.580761Z"
    }
   },
   "outputs": [],
   "source": [
    "asthma = asthma[asthma['Question'] == 'Current asthma prevalence among adults aged >= 18 years']\n"
   ]
  },
  {
   "cell_type": "code",
   "execution_count": 16,
   "metadata": {
    "ExecuteTime": {
     "end_time": "2019-09-09T14:00:52.597440Z",
     "start_time": "2019-09-09T14:00:52.590879Z"
    }
   },
   "outputs": [],
   "source": [
    "asthma = asthma[asthma['StratificationCategoryID1'] == 'OVERALL']\n",
    "asthma = asthma[asthma['DataValueTypeID'] == 'CRDPREV']"
   ]
  },
  {
   "cell_type": "code",
   "execution_count": 19,
   "metadata": {
    "ExecuteTime": {
     "end_time": "2019-09-09T14:01:24.085319Z",
     "start_time": "2019-09-09T14:01:23.988314Z"
    },
    "scrolled": true
   },
   "outputs": [],
   "source": [
    "asthma[asthma['LocationAbbr'] == 'US']\n",
    "# asthma.drop(index=9425, inplace=True)\n",
    "asthma.drop(index=9370, inplace=True)"
   ]
  },
  {
   "cell_type": "code",
   "execution_count": 20,
   "metadata": {
    "ExecuteTime": {
     "end_time": "2019-09-09T14:01:26.145673Z",
     "start_time": "2019-09-09T14:01:25.538315Z"
    }
   },
   "outputs": [],
   "source": [
    "import matplotlib.pyplot as plt\n",
    "import seaborn as sns\n",
    "%matplotlib inline"
   ]
  },
  {
   "cell_type": "code",
   "execution_count": 21,
   "metadata": {
    "ExecuteTime": {
     "end_time": "2019-09-09T14:01:26.697422Z",
     "start_time": "2019-09-09T14:01:26.691011Z"
    }
   },
   "outputs": [],
   "source": [
    "asthma['DataValue'] = [float(x) for x in asthma['DataValue']]"
   ]
  },
  {
   "cell_type": "code",
   "execution_count": 22,
   "metadata": {
    "ExecuteTime": {
     "end_time": "2019-09-09T14:01:27.403501Z",
     "start_time": "2019-09-09T14:01:27.394211Z"
    }
   },
   "outputs": [],
   "source": [
    "asthma = asthma.sort_values(by=['DataValue'], ascending=False)\n",
    "top_10_asthma = asthma.iloc[:10, :]"
   ]
  },
  {
   "cell_type": "code",
   "execution_count": 23,
   "metadata": {
    "ExecuteTime": {
     "end_time": "2019-09-09T14:01:28.538000Z",
     "start_time": "2019-09-09T14:01:28.492714Z"
    }
   },
   "outputs": [
    {
     "data": {
      "text/html": [
       "<div>\n",
       "<style scoped>\n",
       "    .dataframe tbody tr th:only-of-type {\n",
       "        vertical-align: middle;\n",
       "    }\n",
       "\n",
       "    .dataframe tbody tr th {\n",
       "        vertical-align: top;\n",
       "    }\n",
       "\n",
       "    .dataframe thead th {\n",
       "        text-align: right;\n",
       "    }\n",
       "</style>\n",
       "<table border=\"1\" class=\"dataframe\">\n",
       "  <thead>\n",
       "    <tr style=\"text-align: right;\">\n",
       "      <th></th>\n",
       "      <th>updated_meta</th>\n",
       "      <th>meta</th>\n",
       "      <th>YearStart</th>\n",
       "      <th>YearEnd</th>\n",
       "      <th>LocationAbbr</th>\n",
       "      <th>LocationDesc</th>\n",
       "      <th>DataSource</th>\n",
       "      <th>Topic</th>\n",
       "      <th>Question</th>\n",
       "      <th>Response</th>\n",
       "      <th>...</th>\n",
       "      <th>LocationID</th>\n",
       "      <th>TopicID</th>\n",
       "      <th>QuestionID</th>\n",
       "      <th>DataValueTypeID</th>\n",
       "      <th>StratificationCategoryID1</th>\n",
       "      <th>StratificationID1</th>\n",
       "      <th>StratificationCategoryID2</th>\n",
       "      <th>StratificationID2</th>\n",
       "      <th>StratificationCategoryID3</th>\n",
       "      <th>StratificationID3</th>\n",
       "    </tr>\n",
       "  </thead>\n",
       "  <tbody>\n",
       "    <tr>\n",
       "      <th>9390</th>\n",
       "      <td>959778</td>\n",
       "      <td>None</td>\n",
       "      <td>2016</td>\n",
       "      <td>2016</td>\n",
       "      <td>ME</td>\n",
       "      <td>Maine</td>\n",
       "      <td>BRFSS</td>\n",
       "      <td>Asthma</td>\n",
       "      <td>Current asthma prevalence among adults aged &gt;=...</td>\n",
       "      <td>None</td>\n",
       "      <td>...</td>\n",
       "      <td>23</td>\n",
       "      <td>AST</td>\n",
       "      <td>AST1_1</td>\n",
       "      <td>CRDPREV</td>\n",
       "      <td>OVERALL</td>\n",
       "      <td>OVR</td>\n",
       "      <td>None</td>\n",
       "      <td>None</td>\n",
       "      <td>None</td>\n",
       "      <td>None</td>\n",
       "    </tr>\n",
       "    <tr>\n",
       "      <th>9402</th>\n",
       "      <td>959778</td>\n",
       "      <td>None</td>\n",
       "      <td>2016</td>\n",
       "      <td>2016</td>\n",
       "      <td>NM</td>\n",
       "      <td>New Mexico</td>\n",
       "      <td>BRFSS</td>\n",
       "      <td>Asthma</td>\n",
       "      <td>Current asthma prevalence among adults aged &gt;=...</td>\n",
       "      <td>None</td>\n",
       "      <td>...</td>\n",
       "      <td>35</td>\n",
       "      <td>AST</td>\n",
       "      <td>AST1_1</td>\n",
       "      <td>CRDPREV</td>\n",
       "      <td>OVERALL</td>\n",
       "      <td>OVR</td>\n",
       "      <td>None</td>\n",
       "      <td>None</td>\n",
       "      <td>None</td>\n",
       "      <td>None</td>\n",
       "    </tr>\n",
       "    <tr>\n",
       "      <th>9419</th>\n",
       "      <td>959778</td>\n",
       "      <td>None</td>\n",
       "      <td>2016</td>\n",
       "      <td>2016</td>\n",
       "      <td>WV</td>\n",
       "      <td>West Virginia</td>\n",
       "      <td>BRFSS</td>\n",
       "      <td>Asthma</td>\n",
       "      <td>Current asthma prevalence among adults aged &gt;=...</td>\n",
       "      <td>None</td>\n",
       "      <td>...</td>\n",
       "      <td>54</td>\n",
       "      <td>AST</td>\n",
       "      <td>AST1_1</td>\n",
       "      <td>CRDPREV</td>\n",
       "      <td>OVERALL</td>\n",
       "      <td>OVR</td>\n",
       "      <td>None</td>\n",
       "      <td>None</td>\n",
       "      <td>None</td>\n",
       "      <td>None</td>\n",
       "    </tr>\n",
       "    <tr>\n",
       "      <th>9388</th>\n",
       "      <td>959778</td>\n",
       "      <td>None</td>\n",
       "      <td>2016</td>\n",
       "      <td>2016</td>\n",
       "      <td>KY</td>\n",
       "      <td>Kentucky</td>\n",
       "      <td>BRFSS</td>\n",
       "      <td>Asthma</td>\n",
       "      <td>Current asthma prevalence among adults aged &gt;=...</td>\n",
       "      <td>None</td>\n",
       "      <td>...</td>\n",
       "      <td>21</td>\n",
       "      <td>AST</td>\n",
       "      <td>AST1_1</td>\n",
       "      <td>CRDPREV</td>\n",
       "      <td>OVERALL</td>\n",
       "      <td>OVR</td>\n",
       "      <td>None</td>\n",
       "      <td>None</td>\n",
       "      <td>None</td>\n",
       "      <td>None</td>\n",
       "    </tr>\n",
       "    <tr>\n",
       "      <th>9400</th>\n",
       "      <td>959778</td>\n",
       "      <td>None</td>\n",
       "      <td>2016</td>\n",
       "      <td>2016</td>\n",
       "      <td>NH</td>\n",
       "      <td>New Hampshire</td>\n",
       "      <td>BRFSS</td>\n",
       "      <td>Asthma</td>\n",
       "      <td>Current asthma prevalence among adults aged &gt;=...</td>\n",
       "      <td>None</td>\n",
       "      <td>...</td>\n",
       "      <td>33</td>\n",
       "      <td>AST</td>\n",
       "      <td>AST1_1</td>\n",
       "      <td>CRDPREV</td>\n",
       "      <td>OVERALL</td>\n",
       "      <td>OVR</td>\n",
       "      <td>None</td>\n",
       "      <td>None</td>\n",
       "      <td>None</td>\n",
       "      <td>None</td>\n",
       "    </tr>\n",
       "    <tr>\n",
       "      <th>9413</th>\n",
       "      <td>959778</td>\n",
       "      <td>None</td>\n",
       "      <td>2016</td>\n",
       "      <td>2016</td>\n",
       "      <td>TN</td>\n",
       "      <td>Tennessee</td>\n",
       "      <td>BRFSS</td>\n",
       "      <td>Asthma</td>\n",
       "      <td>Current asthma prevalence among adults aged &gt;=...</td>\n",
       "      <td>None</td>\n",
       "      <td>...</td>\n",
       "      <td>47</td>\n",
       "      <td>AST</td>\n",
       "      <td>AST1_1</td>\n",
       "      <td>CRDPREV</td>\n",
       "      <td>OVERALL</td>\n",
       "      <td>OVR</td>\n",
       "      <td>None</td>\n",
       "      <td>None</td>\n",
       "      <td>None</td>\n",
       "      <td>None</td>\n",
       "    </tr>\n",
       "    <tr>\n",
       "      <th>9393</th>\n",
       "      <td>959778</td>\n",
       "      <td>None</td>\n",
       "      <td>2016</td>\n",
       "      <td>2016</td>\n",
       "      <td>MI</td>\n",
       "      <td>Michigan</td>\n",
       "      <td>BRFSS</td>\n",
       "      <td>Asthma</td>\n",
       "      <td>Current asthma prevalence among adults aged &gt;=...</td>\n",
       "      <td>None</td>\n",
       "      <td>...</td>\n",
       "      <td>26</td>\n",
       "      <td>AST</td>\n",
       "      <td>AST1_1</td>\n",
       "      <td>CRDPREV</td>\n",
       "      <td>OVERALL</td>\n",
       "      <td>OVR</td>\n",
       "      <td>None</td>\n",
       "      <td>None</td>\n",
       "      <td>None</td>\n",
       "      <td>None</td>\n",
       "    </tr>\n",
       "    <tr>\n",
       "      <th>9382</th>\n",
       "      <td>959778</td>\n",
       "      <td>None</td>\n",
       "      <td>2016</td>\n",
       "      <td>2016</td>\n",
       "      <td>HI</td>\n",
       "      <td>Hawaii</td>\n",
       "      <td>BRFSS</td>\n",
       "      <td>Asthma</td>\n",
       "      <td>Current asthma prevalence among adults aged &gt;=...</td>\n",
       "      <td>None</td>\n",
       "      <td>...</td>\n",
       "      <td>15</td>\n",
       "      <td>AST</td>\n",
       "      <td>AST1_1</td>\n",
       "      <td>CRDPREV</td>\n",
       "      <td>OVERALL</td>\n",
       "      <td>OVR</td>\n",
       "      <td>None</td>\n",
       "      <td>None</td>\n",
       "      <td>None</td>\n",
       "      <td>None</td>\n",
       "    </tr>\n",
       "    <tr>\n",
       "      <th>9423</th>\n",
       "      <td>959778</td>\n",
       "      <td>None</td>\n",
       "      <td>2016</td>\n",
       "      <td>2016</td>\n",
       "      <td>PR</td>\n",
       "      <td>Puerto Rico</td>\n",
       "      <td>BRFSS</td>\n",
       "      <td>Asthma</td>\n",
       "      <td>Current asthma prevalence among adults aged &gt;=...</td>\n",
       "      <td>None</td>\n",
       "      <td>...</td>\n",
       "      <td>72</td>\n",
       "      <td>AST</td>\n",
       "      <td>AST1_1</td>\n",
       "      <td>CRDPREV</td>\n",
       "      <td>OVERALL</td>\n",
       "      <td>OVR</td>\n",
       "      <td>None</td>\n",
       "      <td>None</td>\n",
       "      <td>None</td>\n",
       "      <td>None</td>\n",
       "    </tr>\n",
       "    <tr>\n",
       "      <th>9410</th>\n",
       "      <td>959778</td>\n",
       "      <td>None</td>\n",
       "      <td>2016</td>\n",
       "      <td>2016</td>\n",
       "      <td>RI</td>\n",
       "      <td>Rhode Island</td>\n",
       "      <td>BRFSS</td>\n",
       "      <td>Asthma</td>\n",
       "      <td>Current asthma prevalence among adults aged &gt;=...</td>\n",
       "      <td>None</td>\n",
       "      <td>...</td>\n",
       "      <td>44</td>\n",
       "      <td>AST</td>\n",
       "      <td>AST1_1</td>\n",
       "      <td>CRDPREV</td>\n",
       "      <td>OVERALL</td>\n",
       "      <td>OVR</td>\n",
       "      <td>None</td>\n",
       "      <td>None</td>\n",
       "      <td>None</td>\n",
       "      <td>None</td>\n",
       "    </tr>\n",
       "  </tbody>\n",
       "</table>\n",
       "<p>10 rows × 36 columns</p>\n",
       "</div>"
      ],
      "text/plain": [
       "     updated_meta  meta YearStart YearEnd LocationAbbr   LocationDesc  \\\n",
       "9390       959778  None      2016    2016           ME          Maine   \n",
       "9402       959778  None      2016    2016           NM     New Mexico   \n",
       "9419       959778  None      2016    2016           WV  West Virginia   \n",
       "9388       959778  None      2016    2016           KY       Kentucky   \n",
       "9400       959778  None      2016    2016           NH  New Hampshire   \n",
       "9413       959778  None      2016    2016           TN      Tennessee   \n",
       "9393       959778  None      2016    2016           MI       Michigan   \n",
       "9382       959778  None      2016    2016           HI         Hawaii   \n",
       "9423       959778  None      2016    2016           PR    Puerto Rico   \n",
       "9410       959778  None      2016    2016           RI   Rhode Island   \n",
       "\n",
       "     DataSource   Topic                                           Question  \\\n",
       "9390      BRFSS  Asthma  Current asthma prevalence among adults aged >=...   \n",
       "9402      BRFSS  Asthma  Current asthma prevalence among adults aged >=...   \n",
       "9419      BRFSS  Asthma  Current asthma prevalence among adults aged >=...   \n",
       "9388      BRFSS  Asthma  Current asthma prevalence among adults aged >=...   \n",
       "9400      BRFSS  Asthma  Current asthma prevalence among adults aged >=...   \n",
       "9413      BRFSS  Asthma  Current asthma prevalence among adults aged >=...   \n",
       "9393      BRFSS  Asthma  Current asthma prevalence among adults aged >=...   \n",
       "9382      BRFSS  Asthma  Current asthma prevalence among adults aged >=...   \n",
       "9423      BRFSS  Asthma  Current asthma prevalence among adults aged >=...   \n",
       "9410      BRFSS  Asthma  Current asthma prevalence among adults aged >=...   \n",
       "\n",
       "     Response        ...        LocationID TopicID  QuestionID  \\\n",
       "9390     None        ...                23     AST      AST1_1   \n",
       "9402     None        ...                35     AST      AST1_1   \n",
       "9419     None        ...                54     AST      AST1_1   \n",
       "9388     None        ...                21     AST      AST1_1   \n",
       "9400     None        ...                33     AST      AST1_1   \n",
       "9413     None        ...                47     AST      AST1_1   \n",
       "9393     None        ...                26     AST      AST1_1   \n",
       "9382     None        ...                15     AST      AST1_1   \n",
       "9423     None        ...                72     AST      AST1_1   \n",
       "9410     None        ...                44     AST      AST1_1   \n",
       "\n",
       "     DataValueTypeID StratificationCategoryID1 StratificationID1  \\\n",
       "9390         CRDPREV                   OVERALL               OVR   \n",
       "9402         CRDPREV                   OVERALL               OVR   \n",
       "9419         CRDPREV                   OVERALL               OVR   \n",
       "9388         CRDPREV                   OVERALL               OVR   \n",
       "9400         CRDPREV                   OVERALL               OVR   \n",
       "9413         CRDPREV                   OVERALL               OVR   \n",
       "9393         CRDPREV                   OVERALL               OVR   \n",
       "9382         CRDPREV                   OVERALL               OVR   \n",
       "9423         CRDPREV                   OVERALL               OVR   \n",
       "9410         CRDPREV                   OVERALL               OVR   \n",
       "\n",
       "     StratificationCategoryID2 StratificationID2 StratificationCategoryID3  \\\n",
       "9390                      None              None                      None   \n",
       "9402                      None              None                      None   \n",
       "9419                      None              None                      None   \n",
       "9388                      None              None                      None   \n",
       "9400                      None              None                      None   \n",
       "9413                      None              None                      None   \n",
       "9393                      None              None                      None   \n",
       "9382                      None              None                      None   \n",
       "9423                      None              None                      None   \n",
       "9410                      None              None                      None   \n",
       "\n",
       "     StratificationID3  \n",
       "9390              None  \n",
       "9402              None  \n",
       "9419              None  \n",
       "9388              None  \n",
       "9400              None  \n",
       "9413              None  \n",
       "9393              None  \n",
       "9382              None  \n",
       "9423              None  \n",
       "9410              None  \n",
       "\n",
       "[10 rows x 36 columns]"
      ]
     },
     "execution_count": 23,
     "metadata": {},
     "output_type": "execute_result"
    }
   ],
   "source": [
    "top_10_asthma"
   ]
  },
  {
   "cell_type": "code",
   "execution_count": 24,
   "metadata": {
    "ExecuteTime": {
     "end_time": "2019-09-09T14:01:32.322774Z",
     "start_time": "2019-09-09T14:01:32.074488Z"
    }
   },
   "outputs": [
    {
     "data": {
      "image/png": "[encoded data removed]",
      "text/plain": [
       "<Figure size 864x432 with 1 Axes>"
      ]
     },
     "metadata": {
      "needs_background": "light"
     },
     "output_type": "display_data"
    }
   ],
   "source": [
    "plt.figure(figsize=(12,6))\n",
    "sns.barplot(x='DataValue', y='LocationAbbr', \n",
    "            data=top_10_asthma, orient='h', color='skyblue')\n",
    "plt.xlabel('Percent of adults (18+) with asthma')\n",
    "plt.ylabel('State')\n",
    "plt.title('Top Ten Adult Asthma Rates by State')\n",
    "plt.show();"
   ]
  },
  {
   "cell_type": "markdown",
   "metadata": {},
   "source": [
    "## Level-Up!\n",
    "## Create a function (or class) that returns an outline of the schema structure like this: \n",
    "<img src=\"images/outline.jpg\" width=\"350\">\n",
    "\n",
    "Rules:\n",
    "* Your outline should follow the numbering outline above (I, A, 1, a, i).\n",
    "* Your outline should be properly indented! (Four spaces or one tab per indentation level.)\n",
    "* Your function goes to at least a depth of 5 (Level-up: create a parameter so that the user can specify this)\n",
    "* If an entry is a dictionary, list its keys as the subheadings\n",
    "* After listing a key name (where applicable) include a space, a dash and the data type of the entry\n",
    "* If an entry is a dict or list put in parentheses how many items are in the entry\n",
    "* lists will not have key names for their entries (they're just indexed)\n",
    "* For subheadings of a list, state their datatypes. \n",
    "* If a dictionary or list is more then 5 items long, only show the first 5 (we want to limit our previews); make an arbitrary order choice for dictionaries. (Level-up: Parallel to above; allow user to specify number of items to preview for large subheading collections.)"
   ]
  },
  {
   "cell_type": "code",
   "execution_count": null,
   "metadata": {
    "ExecuteTime": {
     "end_time": "2019-09-09T14:00:52.986183Z",
     "start_time": "2019-09-09T14:00:50.061Z"
    }
   },
   "outputs": [],
   "source": [
    "# Your code here; you will probably want to define subfunctions.\n",
    "def print_obj_outline(json_obj):\n",
    "    return outline"
   ]
  },
  {
   "cell_type": "code",
   "execution_count": null,
   "metadata": {
    "ExecuteTime": {
     "end_time": "2019-09-09T14:00:52.988843Z",
     "start_time": "2019-09-09T14:00:50.063Z"
    }
   },
   "outputs": [],
   "source": [
    "outline = print_obj_outline(data)"
   ]
  },
  {
   "cell_type": "code",
   "execution_count": null,
   "metadata": {
    "ExecuteTime": {
     "end_time": "2019-09-09T14:00:52.991480Z",
     "start_time": "2019-09-09T14:00:50.066Z"
    }
   },
   "outputs": [],
   "source": [
    "print(outline) #Your function should produce the following output for this json object (and work for all json files!)"
   ]
  },
  {
   "cell_type": "markdown",
   "metadata": {},
   "source": [
    "## Summary\n",
    "\n",
    "Well done! In this lab you got some extended practice exploring the structure of JSON files and writing a recursive generalized function for outlining a JSON file's schema! "
   ]
  }
 ],
 "metadata": {
  "kernelspec": {
   "display_name": "learn-env",
   "language": "python",
   "name": "learn-env"
  },
  "language_info": {
   "codemirror_mode": {
    "name": "ipython",
    "version": 3
   },
   "file_extension": ".py",
   "mimetype": "text/x-python",
   "name": "python",
   "nbconvert_exporter": "python",
   "pygments_lexer": "ipython3",
   "version": "3.6.6"
  },
  "toc": {
   "base_numbering": 1,
   "nav_menu": {},
   "number_sections": true,
   "sideBar": true,
   "skip_h1_title": false,
   "title_cell": "Table of Contents",
   "title_sidebar": "Contents",
   "toc_cell": false,
   "toc_position": {},
   "toc_section_display": true,
   "toc_window_display": false
  }
 },
 "nbformat": 4,
 "nbformat_minor": 2
}
