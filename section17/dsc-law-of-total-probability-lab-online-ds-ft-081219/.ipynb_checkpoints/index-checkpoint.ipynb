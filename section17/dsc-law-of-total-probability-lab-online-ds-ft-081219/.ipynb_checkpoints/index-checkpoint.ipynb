{
 "cells": [
  {
   "cell_type": "markdown",
   "metadata": {},
   "source": [
    "# Partitioning and Law of Total Probability - Lab\n",
    "\n",
    "## Introduction \n",
    "In this lab, you'll practice your knowledge of the law of total probability. In probability theory, the law (or formula) of total probability is a fundamental rule relating **marginal probabilities** to **conditional probabilities**.\n",
    "\n",
    "## Objectives\n",
    "\n",
    "You will be able to:\n",
    "* Understand and explain the concept of event space and partitioning \n",
    "* State the law of total probabilities based on a partitioned event space\n",
    "* Understand and be able to perform partitioning based on known and unknown probabilities to solve a problem"
   ]
  },
  {
   "cell_type": "markdown",
   "metadata": {},
   "source": [
    "## Exercise 1\n",
    "Imagine you have two hats: one has 4 red balls and 6 green balls, the other has 6 red and 4 green. We toss a fair coin, if heads, you will pick a random ball from the first hat, if tails you will pick one from the second hat. \n",
    "\n",
    "What is the probability of getting a red ball?"
   ]
  },
  {
   "cell_type": "code",
   "execution_count": 1,
   "metadata": {
    "ExecuteTime": {
     "end_time": "2019-09-23T17:33:25.498198Z",
     "start_time": "2019-09-23T17:33:25.483264Z"
    }
   },
   "outputs": [
    {
     "data": {
      "text/plain": [
       "0.5"
      ]
     },
     "execution_count": 1,
     "metadata": {},
     "output_type": "execute_result"
    }
   ],
   "source": [
    "prob_heads = 0.5\n",
    "prob_tails = 0.5\n",
    "prob_hat1_red = 0.4\n",
    "prob_hat2_red = 0.6\n",
    "\n",
    "prob_red = prob_heads*prob_hat1_red + prob_tails*prob_hat2_red\n",
    "prob_red"
   ]
  },
  {
   "cell_type": "markdown",
   "metadata": {},
   "source": [
    "## Exercise 2\n",
    "A soccer team wins 60% of its games when it scores the first goal, and 10% of its games when the opposing team \n",
    "scores first. \n",
    "\n",
    "If the team scores the first goal about 30% of the time, what fraction of the games does it win?"
   ]
  },
  {
   "cell_type": "code",
   "execution_count": 2,
   "metadata": {
    "ExecuteTime": {
     "end_time": "2019-09-23T17:38:44.874305Z",
     "start_time": "2019-09-23T17:38:44.856920Z"
    }
   },
   "outputs": [
    {
     "data": {
      "text/plain": [
       "0.25"
      ]
     },
     "execution_count": 2,
     "metadata": {},
     "output_type": "execute_result"
    }
   ],
   "source": [
    "prob_score_first = 0.3\n",
    "prob_score_second = 0.7\n",
    "prob_win_score_first = 0.6\n",
    "prob_win_score_second = 0.1\n",
    "\n",
    "prob_win = prob_score_first*prob_win_score_first + prob_score_second*prob_win_score_second\n",
    "prob_win"
   ]
  },
  {
   "cell_type": "markdown",
   "metadata": {},
   "source": [
    "## Exercise 3"
   ]
  },
  {
   "cell_type": "markdown",
   "metadata": {},
   "source": [
    "In Europe, except for regular gas, cars regularly run on Diesel as well. At a gas station in Paris; \n",
    "\n",
    "\n",
    "* 40% of the customers fills up with Diesel (event G1) \n",
    "* 35% with gas \"Super 95\" (event G2)\n",
    "* 25% with gas \"Super 98\" (event G3). \n",
    "\n",
    "\n",
    "* 30% of the customers who buy Diesel fill their tank completely (event F). \n",
    "* For \"Super 95\" and \"Super 98\", these numbers are  60% and 50% respectively.\n",
    "\n",
    "\n",
    "- Compute the probability that the next customer completely fills their tank and buys Super 95. \n",
    "- Compute the probability that the next customer completely fills their tank\n",
    "- Given that the next customer fills their tank completely, compute the probability that they bought Diesel. \n",
    "\n",
    "Hint: Consult the theorems for conditional probability, check for dependence or independence of events"
   ]
  },
  {
   "cell_type": "code",
   "execution_count": 8,
   "metadata": {
    "ExecuteTime": {
     "end_time": "2019-09-23T18:30:48.850878Z",
     "start_time": "2019-09-23T18:30:48.839892Z"
    }
   },
   "outputs": [
    {
     "name": "stdout",
     "output_type": "stream",
     "text": [
      "Prob of filling tank with Super 95:  0.21\n",
      "Prob of next customer filling up:  0.45499999999999996\n",
      "Prob that a fillup is diesel:  0.26373626373626374\n"
     ]
    }
   ],
   "source": [
    "p_g1 = 0.4\n",
    "p_g2 = 0.35\n",
    "p_g3 = 0.25\n",
    "\n",
    "p_f_g1 = 0.3\n",
    "p_f_g2 = 0.6\n",
    "p_f_g3 = 0.5\n",
    "\n",
    "p_full_95 = p_g2*p_f_g2\n",
    "print('Prob of filling tank with Super 95: ', p_full_95)\n",
    "\n",
    "p_full = p_g1*p_f_g1 + p_g2*p_f_g2 + p_g3*p_f_g3\n",
    "print('Prob of next customer filling up: ', p_full)\n",
    "\n",
    "p_full_diesel = p_g1*p_f_g1 / p_full\n",
    "print('Prob that a fillup is diesel: ', p_full_diesel)"
   ]
  },
  {
   "cell_type": "markdown",
   "metadata": {},
   "source": [
    "## Exercise 4"
   ]
  },
  {
   "cell_type": "markdown",
   "metadata": {},
   "source": [
    "United airlines operates flights from JFK to Amsterdam, to Brussels and to Copenhagen. As you may know, flights are overbooked fairly often. Let's denote the probability of the flight to Amsterdam being overbooked equal to 40%, the probability of the flight to Brussels being overbooked equal to 25%, and the probability of the flight to Copenhagen to be overbooked being equal to 35%. You can assume that these events of overbooking are independent events."
   ]
  },
  {
   "cell_type": "markdown",
   "metadata": {},
   "source": [
    "- Compute the probability that all the flights are overbooked.\n",
    "- Compute the probability of having at least one flight which is not overbooked.\n",
    "- Compute the probability that exactly one flight is overbooked."
   ]
  },
  {
   "cell_type": "code",
   "execution_count": 6,
   "metadata": {
    "ExecuteTime": {
     "end_time": "2019-09-23T18:28:52.661008Z",
     "start_time": "2019-09-23T18:28:52.644633Z"
    }
   },
   "outputs": [
    {
     "name": "stdout",
     "output_type": "stream",
     "text": [
      "Prob of all overbooked:  0.034999999999999996\n",
      "Prob of at least 1 not overbooked:  0.965\n",
      "Prob of exactly 1 overbooked:  0.45\n"
     ]
    }
   ],
   "source": [
    "prob_o_a = 0.4\n",
    "prob_o_b = 0.25\n",
    "prob_o_c = 0.35\n",
    "\n",
    "prob_all_o = prob_o_a*prob_o_b*prob_o_c\n",
    "print('Prob of all overbooked: ', prob_all_o)\n",
    "\n",
    "prob_min_1_not_o = 1 - prob_all_o\n",
    "print('Prob of at least 1 not overbooked: ', prob_min_1_not_o)\n",
    "\n",
    "prob_just_a_o = prob_o_a * (1-prob_o_b) * (1-prob_o_c)\n",
    "prob_just_b_o = (1-prob_o_a) * prob_o_b * (1-prob_o_c)\n",
    "prob_just_c_o = (1-prob_o_a) * (1-prob_o_b) * prob_o_c\n",
    "\n",
    "prob_1_o = prob_just_a_o + prob_just_b_o + prob_just_c_o\n",
    "print('Prob of exactly 1 overbooked: ', prob_1_o)"
   ]
  },
  {
   "cell_type": "markdown",
   "metadata": {},
   "source": [
    "## Exercise 5\n",
    "You have three bags that each contain 100 marbles:\n",
    "\n",
    "- Bag 1 has 75 red and 25 blue marbles;\n",
    "- Bag 2 has 60 red and 40 blue marbles;\n",
    "- Bag 3 has 45 red and 55 blue marbles.\n",
    "\n",
    "You choose one of the bags at random and then pick a marble from the chosen bag, also at random. \n",
    "\n",
    "What is the probability that the chosen marble is red?\n"
   ]
  },
  {
   "cell_type": "code",
   "execution_count": 9,
   "metadata": {
    "ExecuteTime": {
     "end_time": "2019-09-23T18:32:08.373237Z",
     "start_time": "2019-09-23T18:32:08.363843Z"
    }
   },
   "outputs": [
    {
     "data": {
      "text/plain": [
       "0.6"
      ]
     },
     "execution_count": 9,
     "metadata": {},
     "output_type": "execute_result"
    }
   ],
   "source": [
    "prob_1_red = 0.75\n",
    "prob_2_red = 0.6\n",
    "prob_3_red = 0.45\n",
    "\n",
    "prob_random_red = 1/3*prob_1_red + 1/3*prob_2_red + 1/3*prob_3_red\n",
    "prob_random_red"
   ]
  },
  {
   "cell_type": "markdown",
   "metadata": {},
   "source": [
    "## Summary \n",
    "\n",
    "In this lab you practiced conditional probability and its theorem with some simple problems. The key takeaway from this lab is to to be able to identify random events as dependent or independent and calculating the probability of their occurrence using appropriate methods. Next, you'll take this knowledge a step further and run simulations with conditional and total probability. "
   ]
  }
 ],
 "metadata": {
  "kernelspec": {
   "display_name": "learn-env",
   "language": "python",
   "name": "learn-env"
  },
  "language_info": {
   "codemirror_mode": {
    "name": "ipython",
    "version": 3
   },
   "file_extension": ".py",
   "mimetype": "text/x-python",
   "name": "python",
   "nbconvert_exporter": "python",
   "pygments_lexer": "ipython3",
   "version": "3.6.6"
  },
  "toc": {
   "base_numbering": 1,
   "nav_menu": {},
   "number_sections": true,
   "sideBar": true,
   "skip_h1_title": false,
   "title_cell": "Table of Contents",
   "title_sidebar": "Contents",
   "toc_cell": false,
   "toc_position": {},
   "toc_section_display": true,
   "toc_window_display": false
  }
 },
 "nbformat": 4,
 "nbformat_minor": 2
}
