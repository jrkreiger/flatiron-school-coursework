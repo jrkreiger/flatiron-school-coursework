{
 "cells": [
  {
   "cell_type": "markdown",
   "metadata": {},
   "source": [
    "# Module 2 Summative Lab\n",
    "\n",
    "## Introduction\n",
    "\n",
    "For today's section, we're going to work on a single big lab to apply everything we've learned in Module 2!\n",
    "\n",
    "## About This Lab\n",
    "\n",
    "A quick note before getting started--this lab isn't like other labs you seen so far. This lab is meant to take ~8 hours to complete, so it's much longer and more challenging that the average labs you've seen so far. If you feel like this lab is challenging or that you might be struggling a bit, don't fret--that's by design! With everything we've learned about Web Scraping, APIs, and Databases, the best way to test our knowledge of it is to build something substantial! \n",
    "\n",
    "## The Project\n",
    "\n",
    "In this lab, we're going to make use of everything we've learned about APIs, databases, and Object-Oriented Programming to **_Extract, Transform, and Load_** (or **_ETL_**, for short) some data from a SQL database into a MongoDB Database. \n",
    "\n",
    "You'll find a database containing information about soccer teams and the matches they've played in the file `database.sqlite`. For this project, our goal is to get the data we think is important from this SQL database, do some calculations and data transformation, and then store everything in a MongoDB database. \n",
    "\n",
    "Let's get into the specifics of this project.\n",
    "\n",
    "### The Goal\n",
    "\n",
    "Start by examining the data dictionary for the SQL database we'll be working with, which comes from this [kaggle page](https://www.kaggle.com/laudanum/footballdelphi).  Familiarize yourself with the tables it contains, and what each column means. We'll be using this database to get data on each soccer team, calculate some summary statistics, and then store each in a MongoDB database. \n",
    "\n",
    "Upon completion of this lab, each unique team in this dataset should have a record in the MongoDB instance containing the following information:\n",
    "\n",
    "* The name of the team\n",
    "* The total number of goals scored by the team during the 2011 season\n",
    "* The total number of wins the team earned during the 2011 season\n",
    "* A histogram visualization of the team's wins and losses for the 2011 season (store the visualization directly by assigning it to a variable)\n",
    "* The team's win percentage on days where it was raining during games in the 2011 season. \n",
    "\n",
    "#### Getting the Weather Data\n",
    "\n",
    "Note that for this last calculation, you'll need to figure out if it was raining or not during the game. The database itself does not contain this information, but it does contain the date on which the game was played. For this, you'll need to use the [DarkSky API](https://darksky.net/dev) to get the historical weather data for that day. Note that each game is played in a different location, and this information is not contained in our SQL database. However, the teams in this database are largely german, so go ahead and just use the weather in Berlin, Germany as a proxy for this information. If it was raining in Berlin on the day the game was played, count that as rain game--**_you do not need to try and figure out the actual weather at each game's location, because we don't have that information!_**\n",
    "\n",
    "#### NOTE: The DarkSky API is limited to 1000 free API calls a day, so be sure to test your model on very small samples. Otherwise, you'll hit the rate limit!\n",
    "\n",
    "## Project Architecture\n",
    "\n",
    "Unlike previous labs, this lab is more open-ended, and will require you to make design decisions and plan out your strategy for building a system with this many working parts. However, **_using Object-Oriented Programming is a requirement for this project--you must create at least 2 separate, well structured classes in your solution!_** Although it may seem easier to \"just start coding\", this is a classic beginner's mistake. Instead, think about separating out the different functionalities you'll need to reach your goal, and then build classes to handle each. For instance, at minimum, you'll need to:\n",
    "\n",
    "* Query the SQL database\n",
    "* Calculate summary statistics\n",
    "* Get the weather data from the DarkSky API\n",
    "* Load the data into MongoDB\n",
    "\n",
    "We **_strongly recommend_** you consider creating separate classes for handling at least some of these of these tasks.  Be sure to plan the inputs, outputs, and methods for each class before you begin coding! \n",
    "\n",
    "**_NOTE:_** We have provided some empty classes below. You are welcome to delete them and use a different architecture for this project if you so choose.  You do not have to use each of them, they are just there to give you an idea of what you could sorts of classes you may want to consider using.\n",
    "\n",
    "### Rapid Prototyping and Refactoring\n",
    "\n",
    "It's totally okay to try to get a task working without using OOP. For instance, when experimenting with the DarkSky API for getting historical weather data, it makes sense to just write the code in the cells and rapidly iterate until you get it all working. However, once you get it working, you're not done--you should then **_Refactor_** your code into functions or classes to make your code more modular, reusable, understandable, and maintainable! \n",
    "\n",
    "In short--do what you need to do to get each separate piece of functionality working, and then refactor it into a class after you've figured it out!\n",
    "\n",
    "### Some Final Advice\n",
    "\n",
    "You haven't built anything this big or complex thus far, so you may not yet fully realize how much trial and error goes into it. If your code keeps breaking, resist the urge to get frustrated, and just keep working. Software development is an iterative process!  No one writes perfect code that works the first time for something this involved. You're going to run into _a lot_ of small errors in this project, right up until the point where it just works, and then you're done! However, you can reduce these errors by planning out your code, and thinking about how all of the pieces fit together before you begin coding. Once you have some basic understanding of how it all will work, then you'll know what you need to build, and then all that is left is to build it!\n",
    "\n",
    "In short:\n",
    "\n",
    "* Plan ahead--you'll thank yourself later!\n",
    "* Errors and broken code aren't bad, they're normal. \n",
    "* Keep working, and stay confident--you can do this!\n",
    "\n",
    "Good luck--we look forward to seeing your completed project!"
   ]
  },
  {
   "cell_type": "markdown",
   "metadata": {},
   "source": [
    "# Imports"
   ]
  },
  {
   "cell_type": "code",
   "execution_count": 1,
   "metadata": {
    "ExecuteTime": {
     "end_time": "2019-09-17T22:34:30.760484Z",
     "start_time": "2019-09-17T22:34:29.819584Z"
    }
   },
   "outputs": [],
   "source": [
    "import pandas as pd\n",
    "import numpy as np\n",
    "import matplotlib.pyplot as plt\n",
    "import sqlite3\n",
    "import time\n",
    "import json\n",
    "import requests\n",
    "import pymongo\n",
    "import matplotlib.pyplot as plt\n",
    "%matplotlib inline"
   ]
  },
  {
   "cell_type": "markdown",
   "metadata": {},
   "source": [
    "# Data extraction and cleaning"
   ]
  },
  {
   "cell_type": "markdown",
   "metadata": {},
   "source": [
    "## Extract data from sqlite database"
   ]
  },
  {
   "cell_type": "code",
   "execution_count": 2,
   "metadata": {
    "ExecuteTime": {
     "end_time": "2019-09-17T22:34:32.608633Z",
     "start_time": "2019-09-17T22:34:32.602042Z"
    }
   },
   "outputs": [],
   "source": [
    "# Create connection and cursor\n",
    "conn = sqlite3.connect('database.sqlite')\n",
    "cur = conn.cursor()"
   ]
  },
  {
   "cell_type": "code",
   "execution_count": 3,
   "metadata": {
    "ExecuteTime": {
     "end_time": "2019-09-17T22:34:33.392357Z",
     "start_time": "2019-09-17T22:34:33.378828Z"
    }
   },
   "outputs": [
    {
     "data": {
      "text/plain": [
       "[('sqlite_sequence',),\n",
       " ('Matches',),\n",
       " ('Teams_in_Matches',),\n",
       " ('Teams',),\n",
       " ('Unique_Teams',)]"
      ]
     },
     "execution_count": 3,
     "metadata": {},
     "output_type": "execute_result"
    }
   ],
   "source": [
    "# View tables\n",
    "cur.execute(\"\"\"\n",
    "SELECT name\n",
    "FROM sqlite_master\n",
    "WHERE type = 'table';\"\"\").fetchall()"
   ]
  },
  {
   "cell_type": "code",
   "execution_count": 4,
   "metadata": {
    "ExecuteTime": {
     "end_time": "2019-09-17T22:34:34.134893Z",
     "start_time": "2019-09-17T22:34:34.076707Z"
    },
    "scrolled": true
   },
   "outputs": [
    {
     "data": {
      "text/html": [
       "<div>\n",
       "<style scoped>\n",
       "    .dataframe tbody tr th:only-of-type {\n",
       "        vertical-align: middle;\n",
       "    }\n",
       "\n",
       "    .dataframe tbody tr th {\n",
       "        vertical-align: top;\n",
       "    }\n",
       "\n",
       "    .dataframe thead th {\n",
       "        text-align: right;\n",
       "    }\n",
       "</style>\n",
       "<table border=\"1\" class=\"dataframe\">\n",
       "  <thead>\n",
       "    <tr style=\"text-align: right;\">\n",
       "      <th></th>\n",
       "      <th>Match_ID</th>\n",
       "      <th>Div</th>\n",
       "      <th>Season</th>\n",
       "      <th>Date</th>\n",
       "      <th>HomeTeam</th>\n",
       "      <th>AwayTeam</th>\n",
       "      <th>FTHG</th>\n",
       "      <th>FTAG</th>\n",
       "      <th>FTR</th>\n",
       "    </tr>\n",
       "  </thead>\n",
       "  <tbody>\n",
       "    <tr>\n",
       "      <th>0</th>\n",
       "      <td>1092</td>\n",
       "      <td>D1</td>\n",
       "      <td>2011</td>\n",
       "      <td>2012-03-31</td>\n",
       "      <td>Nurnberg</td>\n",
       "      <td>Bayern Munich</td>\n",
       "      <td>0</td>\n",
       "      <td>1</td>\n",
       "      <td>A</td>\n",
       "    </tr>\n",
       "    <tr>\n",
       "      <th>1</th>\n",
       "      <td>1093</td>\n",
       "      <td>D1</td>\n",
       "      <td>2011</td>\n",
       "      <td>2011-12-11</td>\n",
       "      <td>Stuttgart</td>\n",
       "      <td>Bayern Munich</td>\n",
       "      <td>1</td>\n",
       "      <td>2</td>\n",
       "      <td>A</td>\n",
       "    </tr>\n",
       "    <tr>\n",
       "      <th>2</th>\n",
       "      <td>1094</td>\n",
       "      <td>D1</td>\n",
       "      <td>2011</td>\n",
       "      <td>2011-08-13</td>\n",
       "      <td>Wolfsburg</td>\n",
       "      <td>Bayern Munich</td>\n",
       "      <td>0</td>\n",
       "      <td>1</td>\n",
       "      <td>A</td>\n",
       "    </tr>\n",
       "    <tr>\n",
       "      <th>3</th>\n",
       "      <td>1095</td>\n",
       "      <td>D1</td>\n",
       "      <td>2011</td>\n",
       "      <td>2011-11-27</td>\n",
       "      <td>Mainz</td>\n",
       "      <td>Bayern Munich</td>\n",
       "      <td>3</td>\n",
       "      <td>2</td>\n",
       "      <td>H</td>\n",
       "    </tr>\n",
       "    <tr>\n",
       "      <th>4</th>\n",
       "      <td>1096</td>\n",
       "      <td>D1</td>\n",
       "      <td>2011</td>\n",
       "      <td>2012-02-18</td>\n",
       "      <td>Freiburg</td>\n",
       "      <td>Bayern Munich</td>\n",
       "      <td>0</td>\n",
       "      <td>0</td>\n",
       "      <td>D</td>\n",
       "    </tr>\n",
       "    <tr>\n",
       "      <th>5</th>\n",
       "      <td>1097</td>\n",
       "      <td>D1</td>\n",
       "      <td>2011</td>\n",
       "      <td>2012-01-20</td>\n",
       "      <td>M'gladbach</td>\n",
       "      <td>Bayern Munich</td>\n",
       "      <td>3</td>\n",
       "      <td>1</td>\n",
       "      <td>H</td>\n",
       "    </tr>\n",
       "    <tr>\n",
       "      <th>6</th>\n",
       "      <td>1098</td>\n",
       "      <td>D1</td>\n",
       "      <td>2011</td>\n",
       "      <td>2012-02-04</td>\n",
       "      <td>Hamburg</td>\n",
       "      <td>Bayern Munich</td>\n",
       "      <td>1</td>\n",
       "      <td>1</td>\n",
       "      <td>D</td>\n",
       "    </tr>\n",
       "    <tr>\n",
       "      <th>7</th>\n",
       "      <td>1099</td>\n",
       "      <td>D1</td>\n",
       "      <td>2011</td>\n",
       "      <td>2012-04-21</td>\n",
       "      <td>Werder Bremen</td>\n",
       "      <td>Bayern Munich</td>\n",
       "      <td>1</td>\n",
       "      <td>2</td>\n",
       "      <td>A</td>\n",
       "    </tr>\n",
       "    <tr>\n",
       "      <th>8</th>\n",
       "      <td>1100</td>\n",
       "      <td>D1</td>\n",
       "      <td>2011</td>\n",
       "      <td>2011-09-18</td>\n",
       "      <td>Schalke 04</td>\n",
       "      <td>Bayern Munich</td>\n",
       "      <td>0</td>\n",
       "      <td>2</td>\n",
       "      <td>A</td>\n",
       "    </tr>\n",
       "    <tr>\n",
       "      <th>9</th>\n",
       "      <td>1101</td>\n",
       "      <td>D1</td>\n",
       "      <td>2011</td>\n",
       "      <td>2011-10-23</td>\n",
       "      <td>Hannover</td>\n",
       "      <td>Bayern Munich</td>\n",
       "      <td>2</td>\n",
       "      <td>1</td>\n",
       "      <td>H</td>\n",
       "    </tr>\n",
       "    <tr>\n",
       "      <th>10</th>\n",
       "      <td>1102</td>\n",
       "      <td>D1</td>\n",
       "      <td>2011</td>\n",
       "      <td>2011-10-01</td>\n",
       "      <td>Hoffenheim</td>\n",
       "      <td>Bayern Munich</td>\n",
       "      <td>0</td>\n",
       "      <td>0</td>\n",
       "      <td>D</td>\n",
       "    </tr>\n",
       "    <tr>\n",
       "      <th>11</th>\n",
       "      <td>1103</td>\n",
       "      <td>D1</td>\n",
       "      <td>2011</td>\n",
       "      <td>2012-03-03</td>\n",
       "      <td>Leverkusen</td>\n",
       "      <td>Bayern Munich</td>\n",
       "      <td>2</td>\n",
       "      <td>0</td>\n",
       "      <td>H</td>\n",
       "    </tr>\n",
       "    <tr>\n",
       "      <th>12</th>\n",
       "      <td>1104</td>\n",
       "      <td>D1</td>\n",
       "      <td>2011</td>\n",
       "      <td>2011-08-27</td>\n",
       "      <td>Kaiserslautern</td>\n",
       "      <td>Bayern Munich</td>\n",
       "      <td>0</td>\n",
       "      <td>3</td>\n",
       "      <td>A</td>\n",
       "    </tr>\n",
       "    <tr>\n",
       "      <th>13</th>\n",
       "      <td>1105</td>\n",
       "      <td>D1</td>\n",
       "      <td>2011</td>\n",
       "      <td>2012-03-17</td>\n",
       "      <td>Hertha</td>\n",
       "      <td>Bayern Munich</td>\n",
       "      <td>0</td>\n",
       "      <td>6</td>\n",
       "      <td>A</td>\n",
       "    </tr>\n",
       "    <tr>\n",
       "      <th>14</th>\n",
       "      <td>1106</td>\n",
       "      <td>D1</td>\n",
       "      <td>2011</td>\n",
       "      <td>2011-11-06</td>\n",
       "      <td>Augsburg</td>\n",
       "      <td>Bayern Munich</td>\n",
       "      <td>1</td>\n",
       "      <td>2</td>\n",
       "      <td>A</td>\n",
       "    </tr>\n",
       "    <tr>\n",
       "      <th>15</th>\n",
       "      <td>1107</td>\n",
       "      <td>D1</td>\n",
       "      <td>2011</td>\n",
       "      <td>2012-05-05</td>\n",
       "      <td>FC Koln</td>\n",
       "      <td>Bayern Munich</td>\n",
       "      <td>1</td>\n",
       "      <td>4</td>\n",
       "      <td>A</td>\n",
       "    </tr>\n",
       "    <tr>\n",
       "      <th>16</th>\n",
       "      <td>1108</td>\n",
       "      <td>D1</td>\n",
       "      <td>2011</td>\n",
       "      <td>2012-04-11</td>\n",
       "      <td>Dortmund</td>\n",
       "      <td>Bayern Munich</td>\n",
       "      <td>1</td>\n",
       "      <td>0</td>\n",
       "      <td>H</td>\n",
       "    </tr>\n",
       "    <tr>\n",
       "      <th>17</th>\n",
       "      <td>1109</td>\n",
       "      <td>D1</td>\n",
       "      <td>2011</td>\n",
       "      <td>2011-08-27</td>\n",
       "      <td>Leverkusen</td>\n",
       "      <td>Dortmund</td>\n",
       "      <td>0</td>\n",
       "      <td>0</td>\n",
       "      <td>D</td>\n",
       "    </tr>\n",
       "    <tr>\n",
       "      <th>18</th>\n",
       "      <td>1110</td>\n",
       "      <td>D1</td>\n",
       "      <td>2011</td>\n",
       "      <td>2011-12-17</td>\n",
       "      <td>Freiburg</td>\n",
       "      <td>Dortmund</td>\n",
       "      <td>1</td>\n",
       "      <td>4</td>\n",
       "      <td>A</td>\n",
       "    </tr>\n",
       "    <tr>\n",
       "      <th>19</th>\n",
       "      <td>1111</td>\n",
       "      <td>D1</td>\n",
       "      <td>2011</td>\n",
       "      <td>2012-02-18</td>\n",
       "      <td>Hertha</td>\n",
       "      <td>Dortmund</td>\n",
       "      <td>0</td>\n",
       "      <td>1</td>\n",
       "      <td>A</td>\n",
       "    </tr>\n",
       "  </tbody>\n",
       "</table>\n",
       "</div>"
      ],
      "text/plain": [
       "    Match_ID Div  Season        Date        HomeTeam       AwayTeam  FTHG  \\\n",
       "0       1092  D1    2011  2012-03-31        Nurnberg  Bayern Munich     0   \n",
       "1       1093  D1    2011  2011-12-11       Stuttgart  Bayern Munich     1   \n",
       "2       1094  D1    2011  2011-08-13       Wolfsburg  Bayern Munich     0   \n",
       "3       1095  D1    2011  2011-11-27           Mainz  Bayern Munich     3   \n",
       "4       1096  D1    2011  2012-02-18        Freiburg  Bayern Munich     0   \n",
       "5       1097  D1    2011  2012-01-20      M'gladbach  Bayern Munich     3   \n",
       "6       1098  D1    2011  2012-02-04         Hamburg  Bayern Munich     1   \n",
       "7       1099  D1    2011  2012-04-21   Werder Bremen  Bayern Munich     1   \n",
       "8       1100  D1    2011  2011-09-18      Schalke 04  Bayern Munich     0   \n",
       "9       1101  D1    2011  2011-10-23        Hannover  Bayern Munich     2   \n",
       "10      1102  D1    2011  2011-10-01      Hoffenheim  Bayern Munich     0   \n",
       "11      1103  D1    2011  2012-03-03      Leverkusen  Bayern Munich     2   \n",
       "12      1104  D1    2011  2011-08-27  Kaiserslautern  Bayern Munich     0   \n",
       "13      1105  D1    2011  2012-03-17          Hertha  Bayern Munich     0   \n",
       "14      1106  D1    2011  2011-11-06        Augsburg  Bayern Munich     1   \n",
       "15      1107  D1    2011  2012-05-05         FC Koln  Bayern Munich     1   \n",
       "16      1108  D1    2011  2012-04-11        Dortmund  Bayern Munich     1   \n",
       "17      1109  D1    2011  2011-08-27      Leverkusen       Dortmund     0   \n",
       "18      1110  D1    2011  2011-12-17        Freiburg       Dortmund     1   \n",
       "19      1111  D1    2011  2012-02-18          Hertha       Dortmund     0   \n",
       "\n",
       "    FTAG FTR  \n",
       "0      1   A  \n",
       "1      2   A  \n",
       "2      1   A  \n",
       "3      2   H  \n",
       "4      0   D  \n",
       "5      1   H  \n",
       "6      1   D  \n",
       "7      2   A  \n",
       "8      2   A  \n",
       "9      1   H  \n",
       "10     0   D  \n",
       "11     0   H  \n",
       "12     3   A  \n",
       "13     6   A  \n",
       "14     2   A  \n",
       "15     4   A  \n",
       "16     0   H  \n",
       "17     0   D  \n",
       "18     4   A  \n",
       "19     1   A  "
      ]
     },
     "execution_count": 4,
     "metadata": {},
     "output_type": "execute_result"
    }
   ],
   "source": [
    "# Get data for 2011\n",
    "cur.execute(\"\"\"\n",
    "SELECT *\n",
    "FROM Matches\n",
    "WHERE Season = 2011;\"\"\")\n",
    "matches_2011 = pd.DataFrame(cur.fetchall())\n",
    "matches_2011.columns = [x[0] for x in cur.description]\n",
    "matches_2011.head(20)"
   ]
  },
  {
   "cell_type": "markdown",
   "metadata": {},
   "source": [
    "## Get dates for use with API"
   ]
  },
  {
   "cell_type": "code",
   "execution_count": 5,
   "metadata": {
    "ExecuteTime": {
     "end_time": "2019-09-17T22:34:35.685179Z",
     "start_time": "2019-09-17T22:34:35.675189Z"
    },
    "scrolled": true
   },
   "outputs": [
    {
     "name": "stdout",
     "output_type": "stream",
     "text": [
      "165\n",
      "Sample dates for class development: ['2012-03-31' '2011-12-11' '2011-08-13' '2011-11-27' '2012-02-18']\n"
     ]
    }
   ],
   "source": [
    "# Select only unique dates\n",
    "dates_unique = matches_2011['Date'].unique()\n",
    "print(len(dates_unique))\n",
    "\n",
    "# Select 5 dates for testing API calls\n",
    "five_unique_dates = dates_unique[:5]\n",
    "print(f'Sample dates for class development: {five_unique_dates}')"
   ]
  },
  {
   "cell_type": "markdown",
   "metadata": {},
   "source": [
    "# Create and test classes"
   ]
  },
  {
   "cell_type": "markdown",
   "metadata": {},
   "source": [
    "## GetBerlinWeather()"
   ]
  },
  {
   "cell_type": "code",
   "execution_count": 6,
   "metadata": {
    "ExecuteTime": {
     "end_time": "2019-09-17T22:34:38.809772Z",
     "start_time": "2019-09-17T22:34:38.795778Z"
    }
   },
   "outputs": [],
   "source": [
    "# Create a class to generate a dictionary of game dates with boolean values \n",
    "# to indicate whether it rained in Berlin that day at noon\n",
    "class GetBerlinWeather():\n",
    "    \"\"\"Create a dictionary of boolean values for rain in Berlin on select dates\n",
    "       Dependencies: json, requests, time\"\"\"\n",
    "    \n",
    "    # Instantiate with default elements for request URLs\n",
    "    def __init__(self):\n",
    "        self.lat = '52.5065133'\n",
    "        self.long = '13.1445545'\n",
    "        self.url_stem = 'https://api.darksky.net/forecast/'\n",
    "        self.api_key_path = '/Users/jennykreiger/.secret/darksky_api.json'\n",
    "\n",
    "    # Find API key on local machine\n",
    "    def locate_api_key(self):\n",
    "        with open(self.api_key_path) as f:\n",
    "            return json.load(f)\n",
    "    \n",
    "    # Import API key without displaying it\n",
    "    def extract_api_key(self):\n",
    "        keys = self.locate_api_key()\n",
    "        self.key = keys['api_key']\n",
    "        return self.key\n",
    "    \n",
    "    # Create an empty dictionary to contain weather data\n",
    "    def initialize_weather_dict(self, unique_dates_list):\n",
    "        weather_dict = {}\n",
    "        for date in unique_dates_list:\n",
    "            weather_dict[date] = False\n",
    "        return weather_dict\n",
    "    \n",
    "    # Concatenate request URLs for selected dates\n",
    "    def concat_request_urls(self, unique_dates_list):\n",
    "        key = str(self.extract_api_key())\n",
    "        datetime = [x+'T12:00:00' for x in unique_dates_list]\n",
    "        urls_list = []\n",
    "        for date in datetime:\n",
    "            request_url = self.url_stem + key + '/' + self.lat + ',' + self.long + ',' + date\n",
    "            urls_list.append(request_url)\n",
    "        return urls_list\n",
    "\n",
    "    # Populate a weather_dict for selected dates\n",
    "    def fill_weather_dict(self, unique_dates_list):\n",
    "        urls = self.concat_request_urls(unique_dates_list)\n",
    "        weather_dict = self.initialize_weather_dict(unique_dates_list)\n",
    "        for date, url in list(zip(unique_dates_list, urls)):\n",
    "            response = requests.get(url)\n",
    "            if response.status_code != requests.codes.ok:\n",
    "                print(f'The request for {url} has failed.')\n",
    "            data = response.json()\n",
    "            icon = data['daily']['data'][0]['icon']\n",
    "            if icon == 'rain':\n",
    "                weather_dict[date] = True\n",
    "            time.sleep(0.2)\n",
    "        return weather_dict\n",
    "            "
   ]
  },
  {
   "cell_type": "code",
   "execution_count": 7,
   "metadata": {
    "ExecuteTime": {
     "end_time": "2019-09-17T22:34:39.680588Z",
     "start_time": "2019-09-17T22:34:39.675379Z"
    }
   },
   "outputs": [],
   "source": [
    "# Create a test instance\n",
    "gbw = GetBerlinWeather()"
   ]
  },
  {
   "cell_type": "code",
   "execution_count": 8,
   "metadata": {
    "ExecuteTime": {
     "end_time": "2019-09-17T22:34:43.780744Z",
     "start_time": "2019-09-17T22:34:40.490755Z"
    },
    "scrolled": true
   },
   "outputs": [
    {
     "data": {
      "text/plain": [
       "{'2012-03-31': True,\n",
       " '2011-12-11': False,\n",
       " '2011-08-13': False,\n",
       " '2011-11-27': False,\n",
       " '2012-02-18': False}"
      ]
     },
     "execution_count": 8,
     "metadata": {},
     "output_type": "execute_result"
    }
   ],
   "source": [
    "# View dictionary generated by test instance\n",
    "gbw.fill_weather_dict(five_unique_dates)"
   ]
  },
  {
   "cell_type": "markdown",
   "metadata": {},
   "source": [
    "## MongoHandler()"
   ]
  },
  {
   "cell_type": "code",
   "execution_count": 9,
   "metadata": {
    "ExecuteTime": {
     "end_time": "2019-09-17T22:34:45.773834Z",
     "start_time": "2019-09-17T22:34:45.763222Z"
    }
   },
   "outputs": [],
   "source": [
    "class MongoHandler():\n",
    "    \"\"\"Creates a MongoDB instance with methods to prep and insert records.\n",
    "       Be sure to open a connection to MongoDB before instantiating an object\n",
    "       of this class.\"\"\"\n",
    "    \n",
    "    # Instantiate the database\n",
    "    def __init__(self):\n",
    "        self.client = pymongo.MongoClient('mongodb://127.0.0.1:27017/')\n",
    "        self.db = self.client['section16_lab_db']\n",
    "        self.collection = self.db['section16_lab_collection']\n",
    "    \n",
    "    # Structure input data for insertion into the database\n",
    "    def prep_record(self, name, goals, wins, histogram, rain_win_rate):\n",
    "        data = {'team_name': name,\n",
    "               'total_goals': goals,\n",
    "               'total_wins': wins,\n",
    "               'win_loss_histogram': histogram,\n",
    "               'rain_game_win_rate': rain_win_rate}\n",
    "        return data\n",
    "    \n",
    "    # Insert a prepped record into the database\n",
    "    def insert_record(self, record):\n",
    "        return self.collection.insert_one(record)"
   ]
  },
  {
   "cell_type": "markdown",
   "metadata": {},
   "source": [
    "# Prep histogram function"
   ]
  },
  {
   "cell_type": "code",
   "execution_count": 10,
   "metadata": {
    "ExecuteTime": {
     "end_time": "2019-09-17T22:34:47.400746Z",
     "start_time": "2019-09-17T22:34:47.394315Z"
    }
   },
   "outputs": [],
   "source": [
    "# Define a function to create histogram representing wins and losses\n",
    "def hist_it(team, show=False):\n",
    "    \n",
    "    # Convert win/loss counts into a list of 'Win' and 'Loss/Draw'\n",
    "    data_for_hist = []\n",
    "\n",
    "    for n in range(team['wins']):\n",
    "        data_for_hist.append('Win')\n",
    "    for n in range(team['losses']):\n",
    "        data_for_hist.append('Loss/Draw')\n",
    "    histogram = plt.hist(data_for_hist)\n",
    "    \n",
    "    # For testing purposes, set show=True\n",
    "    if show:     \n",
    "        print(team['wins'], ' wins')\n",
    "        print(team['losses'], ' losses/draws')\n",
    "        plt.show()\n",
    "    \n",
    "    return histogram\n",
    "    "
   ]
  },
  {
   "cell_type": "code",
   "execution_count": 11,
   "metadata": {
    "ExecuteTime": {
     "end_time": "2019-09-17T22:34:48.718273Z",
     "start_time": "2019-09-17T22:34:48.307236Z"
    }
   },
   "outputs": [
    {
     "ename": "NameError",
     "evalue": "name 'team_dicts' is not defined",
     "output_type": "error",
     "traceback": [
      "\u001b[0;31m---------------------------------------------------------------------------\u001b[0m",
      "\u001b[0;31mNameError\u001b[0m                                 Traceback (most recent call last)",
      "\u001b[0;32m<ipython-input-11-208a7e9b6d77>\u001b[0m in \u001b[0;36m<module>\u001b[0;34m()\u001b[0m\n\u001b[1;32m      1\u001b[0m \u001b[0;31m# Test the function on a single team\u001b[0m\u001b[0;34m\u001b[0m\u001b[0;34m\u001b[0m\u001b[0m\n\u001b[0;32m----> 2\u001b[0;31m \u001b[0mhist_it\u001b[0m\u001b[0;34m(\u001b[0m\u001b[0mteam_dicts\u001b[0m\u001b[0;34m[\u001b[0m\u001b[0;34m'Bayern Munich'\u001b[0m\u001b[0;34m]\u001b[0m\u001b[0;34m,\u001b[0m \u001b[0mshow\u001b[0m\u001b[0;34m=\u001b[0m\u001b[0;32mTrue\u001b[0m\u001b[0;34m)\u001b[0m\u001b[0;34m\u001b[0m\u001b[0m\n\u001b[0m",
      "\u001b[0;31mNameError\u001b[0m: name 'team_dicts' is not defined"
     ]
    }
   ],
   "source": [
    "# Test the function on a single team\n",
    "hist_it(team_dicts['Bayern Munich'], show=True)"
   ]
  },
  {
   "cell_type": "markdown",
   "metadata": {},
   "source": [
    "# Make the joined-up dataset "
   ]
  },
  {
   "cell_type": "markdown",
   "metadata": {},
   "source": [
    "Add a column to the main dataset to convey (True/False) whether it was raining in Berlin on the match date"
   ]
  },
  {
   "cell_type": "code",
   "execution_count": 12,
   "metadata": {
    "ExecuteTime": {
     "end_time": "2019-09-17T22:35:14.153815Z",
     "start_time": "2019-09-17T22:35:14.147776Z"
    }
   },
   "outputs": [],
   "source": [
    "# Instantiate a GetBerlinWeather() object\n",
    "weather_data = GetBerlinWeather()"
   ]
  },
  {
   "cell_type": "code",
   "execution_count": 13,
   "metadata": {
    "ExecuteTime": {
     "end_time": "2019-09-17T22:37:07.090050Z",
     "start_time": "2019-09-17T22:35:15.221358Z"
    }
   },
   "outputs": [
    {
     "data": {
      "text/plain": [
       "{'2012-03-31': True,\n",
       " '2011-12-11': False,\n",
       " '2011-08-13': False,\n",
       " '2011-11-27': False,\n",
       " '2012-02-18': False,\n",
       " '2012-01-20': True,\n",
       " '2012-02-04': False,\n",
       " '2012-04-21': False,\n",
       " '2011-09-18': True,\n",
       " '2011-10-23': True,\n",
       " '2011-10-01': False,\n",
       " '2012-03-03': False,\n",
       " '2011-08-27': True,\n",
       " '2012-03-17': False,\n",
       " '2011-11-06': True,\n",
       " '2012-05-05': True,\n",
       " '2012-04-11': False,\n",
       " '2011-12-17': True,\n",
       " '2012-02-03': False,\n",
       " '2011-10-29': False,\n",
       " '2012-01-22': True,\n",
       " '2011-12-03': True,\n",
       " '2012-04-14': False,\n",
       " '2012-03-25': False,\n",
       " '2012-03-10': False,\n",
       " '2012-04-07': False,\n",
       " '2011-11-19': False,\n",
       " '2011-10-14': False,\n",
       " '2011-09-24': False,\n",
       " '2012-04-28': False,\n",
       " '2011-12-18': True,\n",
       " '2012-03-02': False,\n",
       " '2012-03-16': False,\n",
       " '2012-02-17': True,\n",
       " '2011-08-06': True,\n",
       " '2011-11-04': False,\n",
       " '2011-09-16': False,\n",
       " '2011-07-15': False,\n",
       " '2012-05-06': True,\n",
       " '2012-02-11': False,\n",
       " '2011-10-02': False,\n",
       " '2012-03-30': False,\n",
       " '2011-10-22': False,\n",
       " '2011-08-26': True,\n",
       " '2011-08-07': True,\n",
       " '2012-02-24': True,\n",
       " '2011-07-17': True,\n",
       " '2012-02-12': False,\n",
       " '2011-08-22': False,\n",
       " '2011-09-09': True,\n",
       " '2012-04-01': False,\n",
       " '2011-09-25': False,\n",
       " '2012-04-20': False,\n",
       " '2011-11-25': True,\n",
       " '2012-03-09': False,\n",
       " '2011-11-07': False,\n",
       " '2011-09-10': True,\n",
       " '2011-08-21': False,\n",
       " '2011-09-26': False,\n",
       " '2012-03-26': False,\n",
       " '2011-10-30': True,\n",
       " '2012-02-13': False,\n",
       " '2012-02-26': False,\n",
       " '2011-12-19': False,\n",
       " '2012-03-11': False,\n",
       " '2011-11-26': True,\n",
       " '2012-04-23': False,\n",
       " '2011-12-16': True,\n",
       " '2011-11-05': True,\n",
       " '2012-04-10': False,\n",
       " '2012-04-15': False,\n",
       " '2012-02-05': False,\n",
       " '2012-03-04': False,\n",
       " '2011-09-17': False,\n",
       " '2012-01-21': False,\n",
       " '2012-03-18': False,\n",
       " '2012-04-22': False,\n",
       " '2011-08-20': False,\n",
       " '2012-02-10': False,\n",
       " '2012-02-25': False,\n",
       " '2011-12-10': True,\n",
       " '2012-01-29': False,\n",
       " '2011-10-16': True,\n",
       " '2011-08-05': True,\n",
       " '2012-03-23': False,\n",
       " '2011-09-23': False,\n",
       " '2012-01-28': False,\n",
       " '2011-10-15': False,\n",
       " '2012-03-24': False,\n",
       " '2011-11-18': True,\n",
       " '2012-04-29': False,\n",
       " '2011-12-09': True,\n",
       " '2012-04-08': False,\n",
       " '2012-03-12': True,\n",
       " '2011-07-23': True,\n",
       " '2011-10-28': False,\n",
       " '2012-01-27': False,\n",
       " '2011-12-04': False,\n",
       " '2011-09-11': True,\n",
       " '2011-09-30': False,\n",
       " '2012-02-19': True,\n",
       " '2012-04-13': False,\n",
       " '2011-10-21': False,\n",
       " '2011-08-14': True,\n",
       " '2011-09-12': True,\n",
       " '2011-07-18': True,\n",
       " '2011-08-08': True,\n",
       " '2011-07-24': False,\n",
       " '2011-12-13': True,\n",
       " '2011-08-28': False,\n",
       " '2011-08-19': True,\n",
       " '2012-03-14': False,\n",
       " '2011-08-12': True,\n",
       " '2012-03-05': False,\n",
       " '2011-12-02': True,\n",
       " '2011-09-19': True,\n",
       " '2011-07-25': False,\n",
       " '2012-04-02': True,\n",
       " '2012-02-06': False,\n",
       " '2011-11-21': False,\n",
       " '2011-07-22': True,\n",
       " '2011-08-29': True,\n",
       " '2012-04-05': False,\n",
       " '2011-11-28': False,\n",
       " '2011-12-12': True,\n",
       " '2011-11-20': False,\n",
       " '2012-02-27': True,\n",
       " '2011-07-16': False,\n",
       " '2011-10-31': False,\n",
       " '2012-02-20': False,\n",
       " '2011-10-17': False,\n",
       " '2011-12-05': False,\n",
       " '2012-04-16': False,\n",
       " '2011-10-03': False,\n",
       " '2012-03-19': False,\n",
       " '2011-08-15': True,\n",
       " '2011-12-20': False,\n",
       " '2011-12-21': True,\n",
       " '2011-12-22': False,\n",
       " '2011-12-26': True,\n",
       " '2011-12-27': False,\n",
       " '2011-12-30': True,\n",
       " '2011-12-31': False,\n",
       " '2012-01-01': True,\n",
       " '2012-01-02': True,\n",
       " '2012-01-03': True,\n",
       " '2012-01-04': True,\n",
       " '2012-01-11': False,\n",
       " '2012-01-14': False,\n",
       " '2012-01-15': False,\n",
       " '2012-01-16': True,\n",
       " '2012-01-31': False,\n",
       " '2012-02-01': False,\n",
       " '2012-03-13': False,\n",
       " '2012-03-20': False,\n",
       " '2012-03-21': False,\n",
       " '2012-04-06': False,\n",
       " '2012-04-09': False,\n",
       " '2012-04-24': True,\n",
       " '2012-04-30': False,\n",
       " '2012-05-01': False,\n",
       " '2012-05-02': False,\n",
       " '2012-05-07': False,\n",
       " '2012-05-08': False,\n",
       " '2012-05-13': False}"
      ]
     },
     "execution_count": 13,
     "metadata": {},
     "output_type": "execute_result"
    }
   ],
   "source": [
    "# Get weather data from API into a dictionary\n",
    "weather_dict = weather_data.fill_weather_dict(dates_unique)\n",
    "weather_dict"
   ]
  },
  {
   "cell_type": "code",
   "execution_count": 14,
   "metadata": {
    "ExecuteTime": {
     "end_time": "2019-09-17T22:37:11.090686Z",
     "start_time": "2019-09-17T22:37:11.064511Z"
    }
   },
   "outputs": [
    {
     "data": {
      "text/html": [
       "<div>\n",
       "<style scoped>\n",
       "    .dataframe tbody tr th:only-of-type {\n",
       "        vertical-align: middle;\n",
       "    }\n",
       "\n",
       "    .dataframe tbody tr th {\n",
       "        vertical-align: top;\n",
       "    }\n",
       "\n",
       "    .dataframe thead th {\n",
       "        text-align: right;\n",
       "    }\n",
       "</style>\n",
       "<table border=\"1\" class=\"dataframe\">\n",
       "  <thead>\n",
       "    <tr style=\"text-align: right;\">\n",
       "      <th></th>\n",
       "      <th>Match_ID</th>\n",
       "      <th>Div</th>\n",
       "      <th>Season</th>\n",
       "      <th>Date</th>\n",
       "      <th>HomeTeam</th>\n",
       "      <th>AwayTeam</th>\n",
       "      <th>FTHG</th>\n",
       "      <th>FTAG</th>\n",
       "      <th>FTR</th>\n",
       "      <th>rain</th>\n",
       "    </tr>\n",
       "  </thead>\n",
       "  <tbody>\n",
       "    <tr>\n",
       "      <th>0</th>\n",
       "      <td>1092</td>\n",
       "      <td>D1</td>\n",
       "      <td>2011</td>\n",
       "      <td>2012-03-31</td>\n",
       "      <td>Nurnberg</td>\n",
       "      <td>Bayern Munich</td>\n",
       "      <td>0</td>\n",
       "      <td>1</td>\n",
       "      <td>A</td>\n",
       "      <td>True</td>\n",
       "    </tr>\n",
       "    <tr>\n",
       "      <th>1</th>\n",
       "      <td>1093</td>\n",
       "      <td>D1</td>\n",
       "      <td>2011</td>\n",
       "      <td>2011-12-11</td>\n",
       "      <td>Stuttgart</td>\n",
       "      <td>Bayern Munich</td>\n",
       "      <td>1</td>\n",
       "      <td>2</td>\n",
       "      <td>A</td>\n",
       "      <td>False</td>\n",
       "    </tr>\n",
       "    <tr>\n",
       "      <th>2</th>\n",
       "      <td>1094</td>\n",
       "      <td>D1</td>\n",
       "      <td>2011</td>\n",
       "      <td>2011-08-13</td>\n",
       "      <td>Wolfsburg</td>\n",
       "      <td>Bayern Munich</td>\n",
       "      <td>0</td>\n",
       "      <td>1</td>\n",
       "      <td>A</td>\n",
       "      <td>False</td>\n",
       "    </tr>\n",
       "    <tr>\n",
       "      <th>3</th>\n",
       "      <td>1095</td>\n",
       "      <td>D1</td>\n",
       "      <td>2011</td>\n",
       "      <td>2011-11-27</td>\n",
       "      <td>Mainz</td>\n",
       "      <td>Bayern Munich</td>\n",
       "      <td>3</td>\n",
       "      <td>2</td>\n",
       "      <td>H</td>\n",
       "      <td>False</td>\n",
       "    </tr>\n",
       "    <tr>\n",
       "      <th>4</th>\n",
       "      <td>1096</td>\n",
       "      <td>D1</td>\n",
       "      <td>2011</td>\n",
       "      <td>2012-02-18</td>\n",
       "      <td>Freiburg</td>\n",
       "      <td>Bayern Munich</td>\n",
       "      <td>0</td>\n",
       "      <td>0</td>\n",
       "      <td>D</td>\n",
       "      <td>False</td>\n",
       "    </tr>\n",
       "  </tbody>\n",
       "</table>\n",
       "</div>"
      ],
      "text/plain": [
       "   Match_ID Div  Season        Date   HomeTeam       AwayTeam  FTHG  FTAG FTR  \\\n",
       "0      1092  D1    2011  2012-03-31   Nurnberg  Bayern Munich     0     1   A   \n",
       "1      1093  D1    2011  2011-12-11  Stuttgart  Bayern Munich     1     2   A   \n",
       "2      1094  D1    2011  2011-08-13  Wolfsburg  Bayern Munich     0     1   A   \n",
       "3      1095  D1    2011  2011-11-27      Mainz  Bayern Munich     3     2   H   \n",
       "4      1096  D1    2011  2012-02-18   Freiburg  Bayern Munich     0     0   D   \n",
       "\n",
       "    rain  \n",
       "0   True  \n",
       "1  False  \n",
       "2  False  \n",
       "3  False  \n",
       "4  False  "
      ]
     },
     "execution_count": 14,
     "metadata": {},
     "output_type": "execute_result"
    }
   ],
   "source": [
    "# Use weather_dict to populate a new column in matches_2011\n",
    "rain_values = []\n",
    "for date in matches_2011['Date']:\n",
    "    rain_values.append(weather_dict[date])\n",
    "\n",
    "matches_2011['rain'] = rain_values\n",
    "matches_2011.head()"
   ]
  },
  {
   "cell_type": "markdown",
   "metadata": {},
   "source": [
    "# Make a dictionary for each team, update with data from DataFrame"
   ]
  },
  {
   "cell_type": "code",
   "execution_count": 15,
   "metadata": {
    "ExecuteTime": {
     "end_time": "2019-09-17T22:37:14.825883Z",
     "start_time": "2019-09-17T22:37:14.815707Z"
    }
   },
   "outputs": [
    {
     "data": {
      "text/plain": [
       "56"
      ]
     },
     "execution_count": 15,
     "metadata": {},
     "output_type": "execute_result"
    }
   ],
   "source": [
    "# Get a list of unique team names\n",
    "teams_list = matches_2011['HomeTeam'].unique()\n",
    "len(teams_list)"
   ]
  },
  {
   "cell_type": "code",
   "execution_count": 16,
   "metadata": {
    "ExecuteTime": {
     "end_time": "2019-09-17T22:37:15.565053Z",
     "start_time": "2019-09-17T22:37:15.558894Z"
    }
   },
   "outputs": [],
   "source": [
    "# Create a dict of dicts and initialize all keys to 0\n",
    "team_dicts = {}\n",
    "\n",
    "for team in teams_list:\n",
    "    data = {'matches': 0,\n",
    "            'goals': 0,\n",
    "            'wins': 0,\n",
    "            'losses': 0,\n",
    "            'rain_wins': 0,\n",
    "            'rain_losses': 0}\n",
    "    team_dicts[team] = data"
   ]
  },
  {
   "cell_type": "code",
   "execution_count": 17,
   "metadata": {
    "ExecuteTime": {
     "end_time": "2019-09-17T22:37:16.323805Z",
     "start_time": "2019-09-17T22:37:16.312058Z"
    }
   },
   "outputs": [],
   "source": [
    "# Define a function to determine the outcome of each match\n",
    "def update_team_dict(row):\n",
    "    \n",
    "    # Assign variables using row data\n",
    "    home = row['HomeTeam']\n",
    "    away = row['AwayTeam']\n",
    "    home_goals = row['FTHG']\n",
    "    away_goals = row['FTAG']\n",
    "    home_won = False\n",
    "    away_won = False\n",
    "    rain = row['rain']\n",
    "    \n",
    "    # Determine match outcome\n",
    "    if row['FTR'] == 'H':\n",
    "        home_won = True\n",
    "        away_won = False\n",
    "    elif row['FTR'] == 'A':\n",
    "        home_won = False\n",
    "        away_won = True\n",
    "    else:\n",
    "        home_won = False\n",
    "        away_won = False\n",
    "    \n",
    "    # Update team dictionaries\n",
    "    update_scorecard(home, home_goals, home_won, rain)    \n",
    "    update_scorecard(away, away_goals, away_won, rain)\n",
    "    \n",
    "# Define a function to update team dictionaries with data from matches_2011\n",
    "def update_scorecard(team, goals, won, rain):\n",
    "    team = team_dicts[team]\n",
    "    team['matches'] += 1\n",
    "    team['goals'] += goals\n",
    "    if won == True:\n",
    "        team['wins'] += 1\n",
    "        if rain == True:\n",
    "            team['rain_wins'] += 1\n",
    "    else:\n",
    "        team['losses'] += 1\n",
    "        team['rain_losses'] += 1   "
   ]
  },
  {
   "cell_type": "code",
   "execution_count": 18,
   "metadata": {
    "ExecuteTime": {
     "end_time": "2019-09-17T22:37:17.171628Z",
     "start_time": "2019-09-17T22:37:17.079498Z"
    },
    "scrolled": true
   },
   "outputs": [
    {
     "data": {
      "text/plain": [
       "0      None\n",
       "1      None\n",
       "2      None\n",
       "3      None\n",
       "4      None\n",
       "5      None\n",
       "6      None\n",
       "7      None\n",
       "8      None\n",
       "9      None\n",
       "10     None\n",
       "11     None\n",
       "12     None\n",
       "13     None\n",
       "14     None\n",
       "15     None\n",
       "16     None\n",
       "17     None\n",
       "18     None\n",
       "19     None\n",
       "20     None\n",
       "21     None\n",
       "22     None\n",
       "23     None\n",
       "24     None\n",
       "25     None\n",
       "26     None\n",
       "27     None\n",
       "28     None\n",
       "29     None\n",
       "       ... \n",
       "962    None\n",
       "963    None\n",
       "964    None\n",
       "965    None\n",
       "966    None\n",
       "967    None\n",
       "968    None\n",
       "969    None\n",
       "970    None\n",
       "971    None\n",
       "972    None\n",
       "973    None\n",
       "974    None\n",
       "975    None\n",
       "976    None\n",
       "977    None\n",
       "978    None\n",
       "979    None\n",
       "980    None\n",
       "981    None\n",
       "982    None\n",
       "983    None\n",
       "984    None\n",
       "985    None\n",
       "986    None\n",
       "987    None\n",
       "988    None\n",
       "989    None\n",
       "990    None\n",
       "991    None\n",
       "Length: 992, dtype: object"
      ]
     },
     "execution_count": 18,
     "metadata": {},
     "output_type": "execute_result"
    }
   ],
   "source": [
    "# Apply the functions row-wise to matches_2011\n",
    "matches_2011.apply(update_team_dict, axis=1)"
   ]
  },
  {
   "cell_type": "code",
   "execution_count": 19,
   "metadata": {
    "ExecuteTime": {
     "end_time": "2019-09-17T22:37:17.870183Z",
     "start_time": "2019-09-17T22:37:17.864097Z"
    },
    "scrolled": true
   },
   "outputs": [
    {
     "name": "stdout",
     "output_type": "stream",
     "text": [
      "{'Nurnberg': {'matches': 34, 'goals': 38, 'wins': 12, 'losses': 22, 'rain_wins': 5, 'rain_losses': 22}, 'Stuttgart': {'matches': 34, 'goals': 63, 'wins': 15, 'losses': 19, 'rain_wins': 3, 'rain_losses': 19}, 'Wolfsburg': {'matches': 34, 'goals': 47, 'wins': 13, 'losses': 21, 'rain_wins': 4, 'rain_losses': 21}, 'Mainz': {'matches': 34, 'goals': 47, 'wins': 9, 'losses': 25, 'rain_wins': 2, 'rain_losses': 25}, 'Freiburg': {'matches': 34, 'goals': 45, 'wins': 10, 'losses': 24, 'rain_wins': 3, 'rain_losses': 24}, \"M'gladbach\": {'matches': 34, 'goals': 49, 'wins': 17, 'losses': 17, 'rain_wins': 8, 'rain_losses': 17}, 'Hamburg': {'matches': 34, 'goals': 35, 'wins': 8, 'losses': 26, 'rain_wins': 2, 'rain_losses': 26}, 'Werder Bremen': {'matches': 34, 'goals': 49, 'wins': 11, 'losses': 23, 'rain_wins': 5, 'rain_losses': 23}, 'Schalke 04': {'matches': 34, 'goals': 74, 'wins': 20, 'losses': 14, 'rain_wins': 5, 'rain_losses': 14}, 'Hannover': {'matches': 34, 'goals': 41, 'wins': 12, 'losses': 22, 'rain_wins': 5, 'rain_losses': 22}, 'Hoffenheim': {'matches': 34, 'goals': 41, 'wins': 10, 'losses': 24, 'rain_wins': 2, 'rain_losses': 24}, 'Leverkusen': {'matches': 34, 'goals': 52, 'wins': 15, 'losses': 19, 'rain_wins': 6, 'rain_losses': 19}, 'Kaiserslautern': {'matches': 34, 'goals': 24, 'wins': 4, 'losses': 30, 'rain_wins': 0, 'rain_losses': 30}, 'Hertha': {'matches': 34, 'goals': 38, 'wins': 7, 'losses': 27, 'rain_wins': 3, 'rain_losses': 27}, 'Augsburg': {'matches': 34, 'goals': 36, 'wins': 8, 'losses': 26, 'rain_wins': 4, 'rain_losses': 26}, 'FC Koln': {'matches': 34, 'goals': 39, 'wins': 8, 'losses': 26, 'rain_wins': 4, 'rain_losses': 26}, 'Dortmund': {'matches': 34, 'goals': 80, 'wins': 25, 'losses': 9, 'rain_wins': 6, 'rain_losses': 9}, 'Bayern Munich': {'matches': 34, 'goals': 77, 'wins': 23, 'losses': 11, 'rain_wins': 8, 'rain_losses': 11}, 'Hansa Rostock': {'matches': 34, 'goals': 34, 'wins': 5, 'losses': 29, 'rain_wins': 1, 'rain_losses': 29}, 'Bochum': {'matches': 34, 'goals': 41, 'wins': 10, 'losses': 24, 'rain_wins': 3, 'rain_losses': 24}, 'Ein Frankfurt': {'matches': 34, 'goals': 76, 'wins': 20, 'losses': 14, 'rain_wins': 3, 'rain_losses': 14}, 'Paderborn': {'matches': 34, 'goals': 51, 'wins': 17, 'losses': 17, 'rain_wins': 6, 'rain_losses': 17}, 'Greuther Furth': {'matches': 34, 'goals': 73, 'wins': 20, 'losses': 14, 'rain_wins': 8, 'rain_losses': 14}, 'Fortuna Dusseldorf': {'matches': 34, 'goals': 64, 'wins': 16, 'losses': 18, 'rain_wins': 5, 'rain_losses': 18}, 'Ingolstadt': {'matches': 34, 'goals': 43, 'wins': 8, 'losses': 26, 'rain_wins': 2, 'rain_losses': 26}, 'Cottbus': {'matches': 34, 'goals': 30, 'wins': 8, 'losses': 26, 'rain_wins': 3, 'rain_losses': 26}, 'St Pauli': {'matches': 34, 'goals': 59, 'wins': 18, 'losses': 16, 'rain_wins': 8, 'rain_losses': 16}, 'Frankfurt FSV': {'matches': 34, 'goals': 43, 'wins': 7, 'losses': 27, 'rain_wins': 1, 'rain_losses': 27}, 'Union Berlin': {'matches': 34, 'goals': 55, 'wins': 14, 'losses': 20, 'rain_wins': 5, 'rain_losses': 20}, 'Munich 1860': {'matches': 34, 'goals': 62, 'wins': 17, 'losses': 17, 'rain_wins': 11, 'rain_losses': 17}, 'Aachen': {'matches': 34, 'goals': 30, 'wins': 6, 'losses': 28, 'rain_wins': 3, 'rain_losses': 28}, 'Karlsruhe': {'matches': 34, 'goals': 34, 'wins': 9, 'losses': 25, 'rain_wins': 4, 'rain_losses': 25}, 'Braunschweig': {'matches': 34, 'goals': 37, 'wins': 10, 'losses': 24, 'rain_wins': 4, 'rain_losses': 24}, 'Erzgebirge Aue': {'matches': 34, 'goals': 31, 'wins': 8, 'losses': 26, 'rain_wins': 1, 'rain_losses': 26}, 'Duisburg': {'matches': 34, 'goals': 42, 'wins': 10, 'losses': 24, 'rain_wins': 4, 'rain_losses': 24}, 'Dresden': {'matches': 34, 'goals': 50, 'wins': 12, 'losses': 22, 'rain_wins': 3, 'rain_losses': 22}, 'Blackburn': {'matches': 38, 'goals': 48, 'wins': 8, 'losses': 30, 'rain_wins': 1, 'rain_losses': 30}, 'Fulham': {'matches': 38, 'goals': 48, 'wins': 14, 'losses': 24, 'rain_wins': 4, 'rain_losses': 24}, 'Liverpool': {'matches': 38, 'goals': 47, 'wins': 14, 'losses': 24, 'rain_wins': 4, 'rain_losses': 24}, 'Newcastle': {'matches': 38, 'goals': 56, 'wins': 19, 'losses': 19, 'rain_wins': 3, 'rain_losses': 19}, 'QPR': {'matches': 38, 'goals': 43, 'wins': 10, 'losses': 28, 'rain_wins': 3, 'rain_losses': 28}, 'Wigan': {'matches': 38, 'goals': 42, 'wins': 11, 'losses': 27, 'rain_wins': 4, 'rain_losses': 27}, 'Stoke': {'matches': 38, 'goals': 36, 'wins': 11, 'losses': 27, 'rain_wins': 4, 'rain_losses': 27}, 'West Brom': {'matches': 38, 'goals': 45, 'wins': 13, 'losses': 25, 'rain_wins': 4, 'rain_losses': 25}, 'Man City': {'matches': 38, 'goals': 93, 'wins': 28, 'losses': 10, 'rain_wins': 11, 'rain_losses': 10}, 'Arsenal': {'matches': 38, 'goals': 74, 'wins': 21, 'losses': 17, 'rain_wins': 8, 'rain_losses': 17}, 'Aston Villa': {'matches': 38, 'goals': 37, 'wins': 7, 'losses': 31, 'rain_wins': 2, 'rain_losses': 31}, 'Chelsea': {'matches': 38, 'goals': 65, 'wins': 18, 'losses': 20, 'rain_wins': 8, 'rain_losses': 20}, 'Everton': {'matches': 38, 'goals': 50, 'wins': 15, 'losses': 23, 'rain_wins': 6, 'rain_losses': 23}, 'Sunderland': {'matches': 38, 'goals': 45, 'wins': 11, 'losses': 27, 'rain_wins': 4, 'rain_losses': 27}, 'Swansea': {'matches': 38, 'goals': 44, 'wins': 12, 'losses': 26, 'rain_wins': 2, 'rain_losses': 26}, 'Bolton': {'matches': 38, 'goals': 46, 'wins': 10, 'losses': 28, 'rain_wins': 4, 'rain_losses': 28}, 'Norwich': {'matches': 38, 'goals': 52, 'wins': 12, 'losses': 26, 'rain_wins': 3, 'rain_losses': 26}, 'Wolves': {'matches': 38, 'goals': 40, 'wins': 5, 'losses': 33, 'rain_wins': 1, 'rain_losses': 33}, 'Man United': {'matches': 38, 'goals': 89, 'wins': 28, 'losses': 10, 'rain_wins': 12, 'rain_losses': 10}, 'Tottenham': {'matches': 38, 'goals': 66, 'wins': 20, 'losses': 18, 'rain_wins': 9, 'rain_losses': 18}}\n"
     ]
    }
   ],
   "source": [
    "# View the populated dict of dicts\n",
    "print(team_dicts)"
   ]
  },
  {
   "cell_type": "markdown",
   "metadata": {},
   "source": [
    "# Create and populate Mongo database"
   ]
  },
  {
   "cell_type": "code",
   "execution_count": 20,
   "metadata": {
    "ExecuteTime": {
     "end_time": "2019-09-17T22:37:22.840660Z",
     "start_time": "2019-09-17T22:37:22.832263Z"
    }
   },
   "outputs": [],
   "source": [
    "# Instantiate a MongoHandler() object\n",
    "database = MongoHandler()"
   ]
  },
  {
   "cell_type": "code",
   "execution_count": 21,
   "metadata": {
    "ExecuteTime": {
     "end_time": "2019-09-17T22:37:25.243855Z",
     "start_time": "2019-09-17T22:37:23.616741Z"
    },
    "scrolled": true
   },
   "outputs": [
    {
     "data": {
      "image/png": "[encoded data removed]",
      "text/plain": [
       "<Figure size 432x288 with 1 Axes>"
      ]
     },
     "metadata": {
      "needs_background": "light"
     },
     "output_type": "display_data"
    }
   ],
   "source": [
    "# Populate the database with a record for each team\n",
    "for name, data in team_dicts.items():\n",
    "    \n",
    "    # Calculate rain day win rate\n",
    "    if data['rain_wins'] == 0 and data['rain_losses'] == 0:\n",
    "        rain_win_rate = 'n/a'\n",
    "    else:\n",
    "        rain_games = data['rain_wins'] + data['rain_losses']\n",
    "        rain_win_rate = round((data['rain_wins'] / rain_games), 2)\n",
    "    \n",
    "    # Generate histogram\n",
    "    # NB: histogram object gets coerced to string to make it easier to insert\n",
    "    # in the database\n",
    "    hist = str(hist_it(data))\n",
    "    \n",
    "    # Prep team record with relevant data\n",
    "    record = database.prep_record(name=name, goals=data['goals'], \n",
    "                                  wins=data['wins'], histogram=hist,\n",
    "                                  rain_win_rate=rain_win_rate)\n",
    "    \n",
    "    # Print record for inspection\n",
    "    # print(record)\n",
    "    \n",
    "    # Insert record into database\n",
    "    database.insert_record(record)\n",
    "    \n",
    "    # Delete the histogram to avoid overplotting\n",
    "    del(hist)"
   ]
  },
  {
   "cell_type": "markdown",
   "metadata": {
    "ExecuteTime": {
     "end_time": "2019-09-17T22:40:15.660554Z",
     "start_time": "2019-09-17T22:40:15.656326Z"
    }
   },
   "source": [
    "# Inspect the database"
   ]
  },
  {
   "cell_type": "code",
   "execution_count": 28,
   "metadata": {
    "ExecuteTime": {
     "end_time": "2019-09-17T22:42:13.790316Z",
     "start_time": "2019-09-17T22:42:13.781836Z"
    }
   },
   "outputs": [
    {
     "name": "stdout",
     "output_type": "stream",
     "text": [
      "{'_id': ObjectId('5d81589c937fb6aa58ee5567'), 'team_name': 'Aachen', 'total_goals': 30, 'total_wins': 6, 'rain_game_win_rate': 0.1}\n",
      "{'_id': ObjectId('5d8158e0937fb6aa58ee55a1'), 'team_name': 'Aachen', 'total_goals': 30, 'total_wins': 6, 'win_loss_histogram': '(array([ 6.,  0.,  0.,  0.,  0.,  0.,  0.,  0.,  0., 28.]), array([0. , 0.1, 0.2, 0.3, 0.4, 0.5, 0.6, 0.7, 0.8, 0.9, 1. ]), <a list of 10 Patch objects>)', 'rain_game_win_rate': 0.1}\n",
      "{'_id': ObjectId('5d815918937fb6aa58ee55d9'), 'team_name': 'Aachen', 'total_goals': 30, 'total_wins': 6, 'win_loss_histogram': '(array([ 6.,  0.,  0.,  0.,  0.,  0.,  0.,  0.,  0., 28.]), array([0. , 0.1, 0.2, 0.3, 0.4, 0.5, 0.6, 0.7, 0.8, 0.9, 1. ]), <a list of 10 Patch objects>)', 'rain_game_win_rate': 0.1}\n",
      "{'_id': ObjectId('5d816023113a382578f962dc'), 'team_name': 'Aachen', 'total_goals': 30, 'total_wins': 6, 'win_loss_histogram': '(array([ 6.,  0.,  0.,  0.,  0.,  0.,  0.,  0.,  0., 28.]), array([0. , 0.1, 0.2, 0.3, 0.4, 0.5, 0.6, 0.7, 0.8, 0.9, 1. ]), <a list of 10 Patch objects>)', 'rain_game_win_rate': 0.1}\n"
     ]
    }
   ],
   "source": [
    "# Inspect the database\n",
    "coll = database.collection\n",
    "query = coll.find({'team_name': 'Aachen'})\n",
    "for i in query:\n",
    "    print(i)"
   ]
  },
  {
   "cell_type": "markdown",
   "metadata": {},
   "source": [
    "There are four duplicate entries for Aachen, which makes me think that the database has been populated with identical data four times (as I was rerunning the code)."
   ]
  },
  {
   "cell_type": "markdown",
   "metadata": {},
   "source": [
    "# Summary\n",
    "\n",
    "In this lab, we dug deep and used everything we've learned so far about python programming, databases, HTTP requests and API calls to ETL data from a SQL database into a MongoDB instance!"
   ]
  }
 ],
 "metadata": {
  "kernelspec": {
   "display_name": "learn-env",
   "language": "python",
   "name": "learn-env"
  },
  "language_info": {
   "codemirror_mode": {
    "name": "ipython",
    "version": 3
   },
   "file_extension": ".py",
   "mimetype": "text/x-python",
   "name": "python",
   "nbconvert_exporter": "python",
   "pygments_lexer": "ipython3",
   "version": "3.6.6"
  },
  "toc": {
   "base_numbering": 1,
   "nav_menu": {},
   "number_sections": true,
   "sideBar": true,
   "skip_h1_title": false,
   "title_cell": "Table of Contents",
   "title_sidebar": "Contents",
   "toc_cell": false,
   "toc_position": {},
   "toc_section_display": true,
   "toc_window_display": false
  }
 },
 "nbformat": 4,
 "nbformat_minor": 2
}
