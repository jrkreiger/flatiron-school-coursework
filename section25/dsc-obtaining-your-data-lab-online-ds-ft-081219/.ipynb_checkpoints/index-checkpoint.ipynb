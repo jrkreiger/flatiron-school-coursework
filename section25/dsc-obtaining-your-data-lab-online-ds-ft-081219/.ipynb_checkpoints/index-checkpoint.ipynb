{
 "cells": [
  {
   "cell_type": "markdown",
   "metadata": {},
   "source": [
    "# Obtaining Your Data - Lab"
   ]
  },
  {
   "cell_type": "markdown",
   "metadata": {},
   "source": [
    "## Introduction\n",
    "In this lab you'll practice your munging and transforming skills in order to load in your data to solve a regression problem."
   ]
  },
  {
   "cell_type": "markdown",
   "metadata": {},
   "source": [
    "## Objectives\n",
    "You will be able to:\n",
    "* Understand the ETL process and the steps it consists of\n",
    "* Understand the challenges of working with data from multiple sources "
   ]
  },
  {
   "cell_type": "markdown",
   "metadata": {},
   "source": [
    "## Task Description\n",
    "\n",
    "You just got hired by Lego! Your first project is going to be to develop a pricing algorithm to help set a target price for new lego sets that are released to market. To do this, you're first going to need to start mining the company database in order to collect the information you need to develop a model.\n",
    "\n",
    "Start by investigating the database stored in lego.db and joining the tables into a unified dataset!\n",
    "\n",
    "> **Hint:** use this SQL query to preview the tables in an unknown database:\n",
    "```sql\n",
    "SELECT name FROM sqlite_master\n",
    "            WHERE type='table'\n",
    "            ORDER BY name;\n",
    "```"
   ]
  },
  {
   "cell_type": "code",
   "execution_count": 2,
   "metadata": {
    "ExecuteTime": {
     "end_time": "2019-10-14T14:45:38.127304Z",
     "start_time": "2019-10-14T14:45:36.342756Z"
    }
   },
   "outputs": [],
   "source": [
    "# Import needed packages\n",
    "import pandas as pd\n",
    "import numpy as np\n",
    "import sqlite3"
   ]
  },
  {
   "cell_type": "code",
   "execution_count": 14,
   "metadata": {
    "ExecuteTime": {
     "end_time": "2019-10-14T14:51:46.674013Z",
     "start_time": "2019-10-14T14:51:46.667599Z"
    }
   },
   "outputs": [],
   "source": [
    "# Create a query-to-DataFrame function\n",
    "def query_to_df(query):\n",
    "    cur.execute(query)\n",
    "    df = pd.DataFrame(cur.fetchall())\n",
    "    df.columns = [x[0] for x in cur.description]\n",
    "    return df"
   ]
  },
  {
   "cell_type": "code",
   "execution_count": 4,
   "metadata": {
    "ExecuteTime": {
     "end_time": "2019-10-14T14:46:53.002031Z",
     "start_time": "2019-10-14T14:46:52.995846Z"
    }
   },
   "outputs": [],
   "source": [
    "# Set up database connection and cursor\n",
    "conn = sqlite3.connect('lego.db')\n",
    "cur = conn.cursor()"
   ]
  },
  {
   "cell_type": "code",
   "execution_count": 5,
   "metadata": {
    "ExecuteTime": {
     "end_time": "2019-10-14T14:47:31.133654Z",
     "start_time": "2019-10-14T14:47:31.116552Z"
    },
    "scrolled": true
   },
   "outputs": [
    {
     "data": {
      "text/plain": [
       "[('product_details',),\n",
       " ('product_info',),\n",
       " ('product_pricing',),\n",
       " ('product_reviews',)]"
      ]
     },
     "execution_count": 5,
     "metadata": {},
     "output_type": "execute_result"
    }
   ],
   "source": [
    "# View table names\n",
    "cur.execute(\"\"\"\n",
    "    SELECT name\n",
    "    FROM sqlite_master\n",
    "    WHERE type = 'table'\n",
    "    ORDER BY name;\"\"\").fetchall()\n"
   ]
  },
  {
   "cell_type": "markdown",
   "metadata": {},
   "source": [
    "## View the tables"
   ]
  },
  {
   "cell_type": "code",
   "execution_count": 24,
   "metadata": {
    "ExecuteTime": {
     "end_time": "2019-10-14T14:58:18.698719Z",
     "start_time": "2019-10-14T14:58:18.677228Z"
    },
    "scrolled": true
   },
   "outputs": [
    {
     "data": {
      "text/html": [
       "<div>\n",
       "<style scoped>\n",
       "    .dataframe tbody tr th:only-of-type {\n",
       "        vertical-align: middle;\n",
       "    }\n",
       "\n",
       "    .dataframe tbody tr th {\n",
       "        vertical-align: top;\n",
       "    }\n",
       "\n",
       "    .dataframe thead th {\n",
       "        text-align: right;\n",
       "    }\n",
       "</style>\n",
       "<table border=\"1\" class=\"dataframe\">\n",
       "  <thead>\n",
       "    <tr style=\"text-align: right;\">\n",
       "      <th></th>\n",
       "      <th>prod_id</th>\n",
       "      <th>prod_desc</th>\n",
       "      <th>prod_long_desc</th>\n",
       "      <th>theme_name</th>\n",
       "    </tr>\n",
       "  </thead>\n",
       "  <tbody>\n",
       "    <tr>\n",
       "      <td>0</td>\n",
       "      <td>630</td>\n",
       "      <td>blah</td>\n",
       "      <td>blahblah</td>\n",
       "      <td>Classic</td>\n",
       "    </tr>\n",
       "    <tr>\n",
       "      <td>1</td>\n",
       "      <td>2304</td>\n",
       "      <td>blah</td>\n",
       "      <td>blahblah</td>\n",
       "      <td>DUPLO®</td>\n",
       "    </tr>\n",
       "    <tr>\n",
       "      <td>2</td>\n",
       "      <td>7280</td>\n",
       "      <td>blah</td>\n",
       "      <td>blahblah</td>\n",
       "      <td>City</td>\n",
       "    </tr>\n",
       "    <tr>\n",
       "      <td>3</td>\n",
       "      <td>7281</td>\n",
       "      <td>blah</td>\n",
       "      <td>blahblah</td>\n",
       "      <td>City</td>\n",
       "    </tr>\n",
       "    <tr>\n",
       "      <td>4</td>\n",
       "      <td>7499</td>\n",
       "      <td>blah</td>\n",
       "      <td>blahblah</td>\n",
       "      <td>City</td>\n",
       "    </tr>\n",
       "  </tbody>\n",
       "</table>\n",
       "</div>"
      ],
      "text/plain": [
       "   prod_id prod_desc prod_long_desc theme_name\n",
       "0      630      blah       blahblah    Classic\n",
       "1     2304      blah       blahblah     DUPLO®\n",
       "2     7280      blah       blahblah       City\n",
       "3     7281      blah       blahblah       City\n",
       "4     7499      blah       blahblah       City"
      ]
     },
     "metadata": {},
     "output_type": "display_data"
    },
    {
     "name": "stdout",
     "output_type": "stream",
     "text": [
      "744\n"
     ]
    }
   ],
   "source": [
    "# Query first table to see column names\n",
    "product_details = query_to_df(\"\"\"SELECT * FROM product_details\"\"\")\n",
    "display(product_details.head())\n",
    "print(len(product_details))"
   ]
  },
  {
   "cell_type": "code",
   "execution_count": 21,
   "metadata": {
    "ExecuteTime": {
     "end_time": "2019-10-14T14:54:11.625952Z",
     "start_time": "2019-10-14T14:54:11.615820Z"
    }
   },
   "outputs": [
    {
     "name": "stdout",
     "output_type": "stream",
     "text": [
      "['blah']\n",
      "['blahblah']\n"
     ]
    }
   ],
   "source": [
    "print(product_details.prod_desc.unique())\n",
    "print(product_details.prod_long_desc.unique())"
   ]
  },
  {
   "cell_type": "code",
   "execution_count": 25,
   "metadata": {
    "ExecuteTime": {
     "end_time": "2019-10-14T14:58:54.517966Z",
     "start_time": "2019-10-14T14:58:54.495079Z"
    }
   },
   "outputs": [
    {
     "data": {
      "text/html": [
       "<div>\n",
       "<style scoped>\n",
       "    .dataframe tbody tr th:only-of-type {\n",
       "        vertical-align: middle;\n",
       "    }\n",
       "\n",
       "    .dataframe tbody tr th {\n",
       "        vertical-align: top;\n",
       "    }\n",
       "\n",
       "    .dataframe thead th {\n",
       "        text-align: right;\n",
       "    }\n",
       "</style>\n",
       "<table border=\"1\" class=\"dataframe\">\n",
       "  <thead>\n",
       "    <tr style=\"text-align: right;\">\n",
       "      <th></th>\n",
       "      <th>prod_id</th>\n",
       "      <th>ages</th>\n",
       "      <th>piece_count</th>\n",
       "      <th>set_name</th>\n",
       "    </tr>\n",
       "  </thead>\n",
       "  <tbody>\n",
       "    <tr>\n",
       "      <td>0</td>\n",
       "      <td>630</td>\n",
       "      <td>4+</td>\n",
       "      <td>1</td>\n",
       "      <td>Brick Separator</td>\n",
       "    </tr>\n",
       "    <tr>\n",
       "      <td>1</td>\n",
       "      <td>2304</td>\n",
       "      <td>1½-5</td>\n",
       "      <td>1</td>\n",
       "      <td>LEGO® DUPLO® Green Baseplate</td>\n",
       "    </tr>\n",
       "    <tr>\n",
       "      <td>2</td>\n",
       "      <td>7280</td>\n",
       "      <td>5-12</td>\n",
       "      <td>2</td>\n",
       "      <td>Straight &amp; Crossroad Plates</td>\n",
       "    </tr>\n",
       "    <tr>\n",
       "      <td>3</td>\n",
       "      <td>7281</td>\n",
       "      <td>5-12</td>\n",
       "      <td>2</td>\n",
       "      <td>T-Junction &amp; Curved Road Plates</td>\n",
       "    </tr>\n",
       "    <tr>\n",
       "      <td>4</td>\n",
       "      <td>7499</td>\n",
       "      <td>5-12</td>\n",
       "      <td>24</td>\n",
       "      <td>Flexible and Straight Tracks</td>\n",
       "    </tr>\n",
       "  </tbody>\n",
       "</table>\n",
       "</div>"
      ],
      "text/plain": [
       "   prod_id  ages  piece_count                         set_name\n",
       "0      630    4+            1                  Brick Separator\n",
       "1     2304  1½-5            1     LEGO® DUPLO® Green Baseplate\n",
       "2     7280  5-12            2      Straight & Crossroad Plates\n",
       "3     7281  5-12            2  T-Junction & Curved Road Plates\n",
       "4     7499  5-12           24     Flexible and Straight Tracks"
      ]
     },
     "metadata": {},
     "output_type": "display_data"
    },
    {
     "name": "stdout",
     "output_type": "stream",
     "text": [
      "744\n"
     ]
    }
   ],
   "source": [
    "product_info = query_to_df(\"\"\"SELECT * FROM product_info\"\"\")\n",
    "display(product_info.head())\n",
    "print(len(product_info))"
   ]
  },
  {
   "cell_type": "code",
   "execution_count": 26,
   "metadata": {
    "ExecuteTime": {
     "end_time": "2019-10-14T14:59:15.086462Z",
     "start_time": "2019-10-14T14:59:15.040096Z"
    }
   },
   "outputs": [
    {
     "data": {
      "text/html": [
       "<div>\n",
       "<style scoped>\n",
       "    .dataframe tbody tr th:only-of-type {\n",
       "        vertical-align: middle;\n",
       "    }\n",
       "\n",
       "    .dataframe tbody tr th {\n",
       "        vertical-align: top;\n",
       "    }\n",
       "\n",
       "    .dataframe thead th {\n",
       "        text-align: right;\n",
       "    }\n",
       "</style>\n",
       "<table border=\"1\" class=\"dataframe\">\n",
       "  <thead>\n",
       "    <tr style=\"text-align: right;\">\n",
       "      <th></th>\n",
       "      <th>prod_id</th>\n",
       "      <th>country</th>\n",
       "      <th>list_price</th>\n",
       "    </tr>\n",
       "  </thead>\n",
       "  <tbody>\n",
       "    <tr>\n",
       "      <td>0</td>\n",
       "      <td>75823</td>\n",
       "      <td>US</td>\n",
       "      <td>29.99</td>\n",
       "    </tr>\n",
       "    <tr>\n",
       "      <td>1</td>\n",
       "      <td>75822</td>\n",
       "      <td>US</td>\n",
       "      <td>19.99</td>\n",
       "    </tr>\n",
       "    <tr>\n",
       "      <td>2</td>\n",
       "      <td>75821</td>\n",
       "      <td>US</td>\n",
       "      <td>12.99</td>\n",
       "    </tr>\n",
       "    <tr>\n",
       "      <td>3</td>\n",
       "      <td>21030</td>\n",
       "      <td>US</td>\n",
       "      <td>99.99</td>\n",
       "    </tr>\n",
       "    <tr>\n",
       "      <td>4</td>\n",
       "      <td>21035</td>\n",
       "      <td>US</td>\n",
       "      <td>79.99</td>\n",
       "    </tr>\n",
       "  </tbody>\n",
       "</table>\n",
       "</div>"
      ],
      "text/plain": [
       "   prod_id country list_price\n",
       "0    75823      US      29.99\n",
       "1    75822      US      19.99\n",
       "2    75821      US      12.99\n",
       "3    21030      US      99.99\n",
       "4    21035      US      79.99"
      ]
     },
     "metadata": {},
     "output_type": "display_data"
    },
    {
     "name": "stdout",
     "output_type": "stream",
     "text": [
      "10870\n"
     ]
    }
   ],
   "source": [
    "product_pricing = query_to_df(\"\"\"SELECT * FROM product_pricing\"\"\")\n",
    "display(product_pricing.head())\n",
    "print(len(product_pricing))"
   ]
  },
  {
   "cell_type": "code",
   "execution_count": 27,
   "metadata": {
    "ExecuteTime": {
     "end_time": "2019-10-14T14:59:48.474332Z",
     "start_time": "2019-10-14T14:59:48.448251Z"
    },
    "scrolled": true
   },
   "outputs": [
    {
     "data": {
      "text/html": [
       "<div>\n",
       "<style scoped>\n",
       "    .dataframe tbody tr th:only-of-type {\n",
       "        vertical-align: middle;\n",
       "    }\n",
       "\n",
       "    .dataframe tbody tr th {\n",
       "        vertical-align: top;\n",
       "    }\n",
       "\n",
       "    .dataframe thead th {\n",
       "        text-align: right;\n",
       "    }\n",
       "</style>\n",
       "<table border=\"1\" class=\"dataframe\">\n",
       "  <thead>\n",
       "    <tr style=\"text-align: right;\">\n",
       "      <th></th>\n",
       "      <th>prod_id</th>\n",
       "      <th>num_reviews</th>\n",
       "      <th>play_star_rating</th>\n",
       "      <th>review_difficulty</th>\n",
       "      <th>star_rating</th>\n",
       "      <th>val_star_rating</th>\n",
       "    </tr>\n",
       "  </thead>\n",
       "  <tbody>\n",
       "    <tr>\n",
       "      <td>0</td>\n",
       "      <td>630</td>\n",
       "      <td>180.0</td>\n",
       "      <td>4.0</td>\n",
       "      <td>Very Easy</td>\n",
       "      <td>4.8</td>\n",
       "      <td>4.6</td>\n",
       "    </tr>\n",
       "    <tr>\n",
       "      <td>1</td>\n",
       "      <td>2304</td>\n",
       "      <td>15.0</td>\n",
       "      <td>4.4</td>\n",
       "      <td>Easy</td>\n",
       "      <td>4.0</td>\n",
       "      <td>3.3</td>\n",
       "    </tr>\n",
       "    <tr>\n",
       "      <td>2</td>\n",
       "      <td>7280</td>\n",
       "      <td>85.0</td>\n",
       "      <td>4.1</td>\n",
       "      <td>Very Easy</td>\n",
       "      <td>3.5</td>\n",
       "      <td>2.3</td>\n",
       "    </tr>\n",
       "    <tr>\n",
       "      <td>3</td>\n",
       "      <td>7281</td>\n",
       "      <td>40.0</td>\n",
       "      <td>4.1</td>\n",
       "      <td>Very Easy</td>\n",
       "      <td>3.9</td>\n",
       "      <td>2.8</td>\n",
       "    </tr>\n",
       "    <tr>\n",
       "      <td>4</td>\n",
       "      <td>7499</td>\n",
       "      <td>89.0</td>\n",
       "      <td>2.9</td>\n",
       "      <td>Easy</td>\n",
       "      <td>2.5</td>\n",
       "      <td>2.2</td>\n",
       "    </tr>\n",
       "  </tbody>\n",
       "</table>\n",
       "</div>"
      ],
      "text/plain": [
       "   prod_id  num_reviews  play_star_rating review_difficulty  star_rating  \\\n",
       "0      630        180.0               4.0         Very Easy          4.8   \n",
       "1     2304         15.0               4.4              Easy          4.0   \n",
       "2     7280         85.0               4.1         Very Easy          3.5   \n",
       "3     7281         40.0               4.1         Very Easy          3.9   \n",
       "4     7499         89.0               2.9              Easy          2.5   \n",
       "\n",
       "   val_star_rating  \n",
       "0              4.6  \n",
       "1              3.3  \n",
       "2              2.3  \n",
       "3              2.8  \n",
       "4              2.2  "
      ]
     },
     "metadata": {},
     "output_type": "display_data"
    },
    {
     "name": "stdout",
     "output_type": "stream",
     "text": [
      "744\n"
     ]
    }
   ],
   "source": [
    "product_reviews = query_to_df(\"\"\"SELECT * FROM product_reviews\"\"\")\n",
    "display(product_reviews.head())\n",
    "print(len(product_reviews))"
   ]
  },
  {
   "cell_type": "markdown",
   "metadata": {},
   "source": [
    "## Build the big query"
   ]
  },
  {
   "cell_type": "code",
   "execution_count": 28,
   "metadata": {
    "ExecuteTime": {
     "end_time": "2019-10-14T15:00:16.547492Z",
     "start_time": "2019-10-14T15:00:16.418790Z"
    }
   },
   "outputs": [
    {
     "name": "stdout",
     "output_type": "stream",
     "text": [
      "<class 'pandas.core.frame.DataFrame'>\n",
      "RangeIndex: 10870 entries, 0 to 10869\n",
      "Data columns (total 14 columns):\n",
      "prod_id              10870 non-null int64\n",
      "prod_desc            10870 non-null object\n",
      "prod_long_desc       10870 non-null object\n",
      "theme_name           10870 non-null object\n",
      "ages                 10870 non-null object\n",
      "piece_count          10870 non-null int64\n",
      "set_name             10870 non-null object\n",
      "country              10870 non-null object\n",
      "list_price           10870 non-null object\n",
      "num_reviews          9449 non-null float64\n",
      "play_star_rating     9321 non-null float64\n",
      "review_difficulty    10870 non-null object\n",
      "star_rating          9449 non-null float64\n",
      "val_star_rating      9301 non-null float64\n",
      "dtypes: float64(4), int64(2), object(8)\n",
      "memory usage: 1.2+ MB\n"
     ]
    }
   ],
   "source": [
    "df = query_to_df(\"\"\"\n",
    "    SELECT *\n",
    "    FROM product_details\n",
    "    JOIN product_info\n",
    "    USING(prod_id)\n",
    "    JOIN product_pricing\n",
    "    USING(prod_id)\n",
    "    JOIN product_reviews\n",
    "    USING(prod_id);\"\"\")\n",
    "df.info()"
   ]
  },
  {
   "cell_type": "code",
   "execution_count": 29,
   "metadata": {
    "ExecuteTime": {
     "end_time": "2019-10-14T15:00:36.267563Z",
     "start_time": "2019-10-14T15:00:36.193192Z"
    },
    "scrolled": true
   },
   "outputs": [
    {
     "data": {
      "text/html": [
       "<div>\n",
       "<style scoped>\n",
       "    .dataframe tbody tr th:only-of-type {\n",
       "        vertical-align: middle;\n",
       "    }\n",
       "\n",
       "    .dataframe tbody tr th {\n",
       "        vertical-align: top;\n",
       "    }\n",
       "\n",
       "    .dataframe thead th {\n",
       "        text-align: right;\n",
       "    }\n",
       "</style>\n",
       "<table border=\"1\" class=\"dataframe\">\n",
       "  <thead>\n",
       "    <tr style=\"text-align: right;\">\n",
       "      <th></th>\n",
       "      <th>prod_id</th>\n",
       "      <th>piece_count</th>\n",
       "      <th>num_reviews</th>\n",
       "      <th>play_star_rating</th>\n",
       "      <th>star_rating</th>\n",
       "      <th>val_star_rating</th>\n",
       "    </tr>\n",
       "  </thead>\n",
       "  <tbody>\n",
       "    <tr>\n",
       "      <td>count</td>\n",
       "      <td>1.087000e+04</td>\n",
       "      <td>10870.000000</td>\n",
       "      <td>9449.000000</td>\n",
       "      <td>9321.000000</td>\n",
       "      <td>9449.000000</td>\n",
       "      <td>9301.000000</td>\n",
       "    </tr>\n",
       "    <tr>\n",
       "      <td>mean</td>\n",
       "      <td>6.181634e+04</td>\n",
       "      <td>503.936431</td>\n",
       "      <td>17.813737</td>\n",
       "      <td>4.355413</td>\n",
       "      <td>4.510319</td>\n",
       "      <td>4.214439</td>\n",
       "    </tr>\n",
       "    <tr>\n",
       "      <td>std</td>\n",
       "      <td>1.736390e+05</td>\n",
       "      <td>831.209318</td>\n",
       "      <td>38.166693</td>\n",
       "      <td>0.617272</td>\n",
       "      <td>0.516463</td>\n",
       "      <td>0.670906</td>\n",
       "    </tr>\n",
       "    <tr>\n",
       "      <td>min</td>\n",
       "      <td>6.300000e+02</td>\n",
       "      <td>1.000000</td>\n",
       "      <td>1.000000</td>\n",
       "      <td>1.000000</td>\n",
       "      <td>1.800000</td>\n",
       "      <td>1.000000</td>\n",
       "    </tr>\n",
       "    <tr>\n",
       "      <td>25%</td>\n",
       "      <td>2.112300e+04</td>\n",
       "      <td>97.000000</td>\n",
       "      <td>2.000000</td>\n",
       "      <td>4.000000</td>\n",
       "      <td>4.300000</td>\n",
       "      <td>4.000000</td>\n",
       "    </tr>\n",
       "    <tr>\n",
       "      <td>50%</td>\n",
       "      <td>4.207350e+04</td>\n",
       "      <td>223.000000</td>\n",
       "      <td>6.000000</td>\n",
       "      <td>4.500000</td>\n",
       "      <td>4.600000</td>\n",
       "      <td>4.300000</td>\n",
       "    </tr>\n",
       "    <tr>\n",
       "      <td>75%</td>\n",
       "      <td>7.124800e+04</td>\n",
       "      <td>556.000000</td>\n",
       "      <td>14.000000</td>\n",
       "      <td>4.800000</td>\n",
       "      <td>5.000000</td>\n",
       "      <td>4.700000</td>\n",
       "    </tr>\n",
       "    <tr>\n",
       "      <td>max</td>\n",
       "      <td>2.000431e+06</td>\n",
       "      <td>7541.000000</td>\n",
       "      <td>367.000000</td>\n",
       "      <td>5.000000</td>\n",
       "      <td>5.000000</td>\n",
       "      <td>5.000000</td>\n",
       "    </tr>\n",
       "  </tbody>\n",
       "</table>\n",
       "</div>"
      ],
      "text/plain": [
       "            prod_id   piece_count  num_reviews  play_star_rating  star_rating  \\\n",
       "count  1.087000e+04  10870.000000  9449.000000       9321.000000  9449.000000   \n",
       "mean   6.181634e+04    503.936431    17.813737          4.355413     4.510319   \n",
       "std    1.736390e+05    831.209318    38.166693          0.617272     0.516463   \n",
       "min    6.300000e+02      1.000000     1.000000          1.000000     1.800000   \n",
       "25%    2.112300e+04     97.000000     2.000000          4.000000     4.300000   \n",
       "50%    4.207350e+04    223.000000     6.000000          4.500000     4.600000   \n",
       "75%    7.124800e+04    556.000000    14.000000          4.800000     5.000000   \n",
       "max    2.000431e+06   7541.000000   367.000000          5.000000     5.000000   \n",
       "\n",
       "       val_star_rating  \n",
       "count      9301.000000  \n",
       "mean          4.214439  \n",
       "std           0.670906  \n",
       "min           1.000000  \n",
       "25%           4.000000  \n",
       "50%           4.300000  \n",
       "75%           4.700000  \n",
       "max           5.000000  "
      ]
     },
     "execution_count": 29,
     "metadata": {},
     "output_type": "execute_result"
    }
   ],
   "source": [
    "df.describe()"
   ]
  },
  {
   "cell_type": "code",
   "execution_count": 30,
   "metadata": {
    "ExecuteTime": {
     "end_time": "2019-10-14T15:02:49.990822Z",
     "start_time": "2019-10-14T15:02:49.829198Z"
    }
   },
   "outputs": [],
   "source": [
    "df.to_csv('Lego_data_full.csv')"
   ]
  },
  {
   "cell_type": "markdown",
   "metadata": {},
   "source": [
    "## Summary\n",
    "Nice work! You're working more and more independently through the workflow and ensuring data integrity!"
   ]
  }
 ],
 "metadata": {
  "kernelspec": {
   "display_name": "Python 3",
   "language": "python",
   "name": "python3"
  },
  "language_info": {
   "codemirror_mode": {
    "name": "ipython",
    "version": 3
   },
   "file_extension": ".py",
   "mimetype": "text/x-python",
   "name": "python",
   "nbconvert_exporter": "python",
   "pygments_lexer": "ipython3",
   "version": "3.6.6"
  },
  "toc": {
   "base_numbering": 1,
   "nav_menu": {},
   "number_sections": true,
   "sideBar": true,
   "skip_h1_title": false,
   "title_cell": "Table of Contents",
   "title_sidebar": "Contents",
   "toc_cell": false,
   "toc_position": {},
   "toc_section_display": true,
   "toc_window_display": false
  }
 },
 "nbformat": 4,
 "nbformat_minor": 2
}
