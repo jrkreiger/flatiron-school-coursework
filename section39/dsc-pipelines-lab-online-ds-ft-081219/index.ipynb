{
 "cells": [
  {
   "cell_type": "markdown",
   "metadata": {},
   "source": [
    "# Comparing Machine Learning Techniques Using Pipelines - Lab"
   ]
  },
  {
   "cell_type": "markdown",
   "metadata": {},
   "source": [
    "## Introduction"
   ]
  },
  {
   "cell_type": "markdown",
   "metadata": {},
   "source": [
    "In this lab, you'lll use a Dataset created by Otto group, which was also used in a [Kaggle competition](https://www.kaggle.com/c/otto-group-product-classification-challenge/data).\n",
    "\n",
    "The description of the data set is as follows:\n",
    "\n",
    "The Otto Group is one of the world’s biggest e-commerce companies, with subsidiaries in more than 20 countries, including Crate & Barrel (USA), Otto.de (Germany) and 3 Suisses (France). They are selling millions of products worldwide every day, with several thousand products being added to our product line.\n",
    "\n",
    "A consistent analysis of the performance of our products is crucial. However, due to their global infrastructure, many identical products get classified differently. Therefore, the quality of our product analysis depends heavily on the ability to accurately cluster similar products. The better the classification, the more insights Otto Group can generate about their product range.\n",
    "\n",
    "In this lab, you'll use a data set containing:\n",
    "- A column `id`, which is an anonymous id unique to a product\n",
    "- 93 columns `feat_1`, `feat_2`, ..., `feat_93`, which are the various features of a product\n",
    "- a column `target` - the class of a product\n"
   ]
  },
  {
   "cell_type": "markdown",
   "metadata": {},
   "source": [
    "## Objectives\n",
    "\n",
    "You will be able to:\n",
    "- Compare different classification techniques\n",
    "- Construct pipelines in scikit-learn\n",
    "- Use pipelines in combination with GridSearchCV"
   ]
  },
  {
   "cell_type": "markdown",
   "metadata": {},
   "source": [
    "## The Data Science Workflow"
   ]
  },
  {
   "cell_type": "markdown",
   "metadata": {},
   "source": [
    "You will be following the data science workflow:\n",
    "\n",
    "1. Initial data inspection, exploratory data analysis, and cleaning\n",
    "2. Feature engineering and selection\n",
    "3. create a baseline model\n",
    "4. create a machine learning pipeline and compare results with the baseline model\n",
    "5. Interpret the model and draw conclusions"
   ]
  },
  {
   "cell_type": "markdown",
   "metadata": {},
   "source": [
    "##  Initial data inspection, exploratory data analysis, and cleaning"
   ]
  },
  {
   "cell_type": "markdown",
   "metadata": {},
   "source": [
    "The data is stored in \"otto_group.csv\".\n",
    "\n",
    "Things to do here:\n",
    "- Check for NAs\n",
    "- Check the distributions\n",
    "- Check how many inputs there are\n",
    "- ..."
   ]
  },
  {
   "cell_type": "code",
   "execution_count": 1,
   "metadata": {
    "ExecuteTime": {
     "end_time": "2019-11-13T17:48:21.213110Z",
     "start_time": "2019-11-13T17:48:19.928840Z"
    }
   },
   "outputs": [],
   "source": [
    "# Import packages\n",
    "import pandas as pd\n",
    "import numpy as np\n",
    "import matplotlib.pyplot as plt\n",
    "%matplotlib inline\n",
    "import seaborn as sns\n",
    "\n",
    "from sklearn.decomposition import PCA\n",
    "from sklearn.model_selection import train_test_split\n",
    "from sklearn.pipeline import Pipeline\n",
    "from sklearn.linear_model import LogisticRegression"
   ]
  },
  {
   "cell_type": "code",
   "execution_count": 2,
   "metadata": {
    "ExecuteTime": {
     "end_time": "2019-11-13T17:48:21.858742Z",
     "start_time": "2019-11-13T17:48:21.220795Z"
    }
   },
   "outputs": [
    {
     "data": {
      "text/html": [
       "<div>\n",
       "<style scoped>\n",
       "    .dataframe tbody tr th:only-of-type {\n",
       "        vertical-align: middle;\n",
       "    }\n",
       "\n",
       "    .dataframe tbody tr th {\n",
       "        vertical-align: top;\n",
       "    }\n",
       "\n",
       "    .dataframe thead th {\n",
       "        text-align: right;\n",
       "    }\n",
       "</style>\n",
       "<table border=\"1\" class=\"dataframe\">\n",
       "  <thead>\n",
       "    <tr style=\"text-align: right;\">\n",
       "      <th></th>\n",
       "      <th>id</th>\n",
       "      <th>feat_1</th>\n",
       "      <th>feat_2</th>\n",
       "      <th>feat_3</th>\n",
       "      <th>feat_4</th>\n",
       "      <th>feat_5</th>\n",
       "      <th>feat_6</th>\n",
       "      <th>feat_7</th>\n",
       "      <th>feat_8</th>\n",
       "      <th>feat_9</th>\n",
       "      <th>...</th>\n",
       "      <th>feat_85</th>\n",
       "      <th>feat_86</th>\n",
       "      <th>feat_87</th>\n",
       "      <th>feat_88</th>\n",
       "      <th>feat_89</th>\n",
       "      <th>feat_90</th>\n",
       "      <th>feat_91</th>\n",
       "      <th>feat_92</th>\n",
       "      <th>feat_93</th>\n",
       "      <th>target</th>\n",
       "    </tr>\n",
       "  </thead>\n",
       "  <tbody>\n",
       "    <tr>\n",
       "      <td>0</td>\n",
       "      <td>1</td>\n",
       "      <td>1</td>\n",
       "      <td>0</td>\n",
       "      <td>0</td>\n",
       "      <td>0</td>\n",
       "      <td>0</td>\n",
       "      <td>0</td>\n",
       "      <td>0</td>\n",
       "      <td>0</td>\n",
       "      <td>0</td>\n",
       "      <td>...</td>\n",
       "      <td>1</td>\n",
       "      <td>0</td>\n",
       "      <td>0</td>\n",
       "      <td>0</td>\n",
       "      <td>0</td>\n",
       "      <td>0</td>\n",
       "      <td>0</td>\n",
       "      <td>0</td>\n",
       "      <td>0</td>\n",
       "      <td>Class_1</td>\n",
       "    </tr>\n",
       "    <tr>\n",
       "      <td>1</td>\n",
       "      <td>2</td>\n",
       "      <td>0</td>\n",
       "      <td>0</td>\n",
       "      <td>0</td>\n",
       "      <td>0</td>\n",
       "      <td>0</td>\n",
       "      <td>0</td>\n",
       "      <td>0</td>\n",
       "      <td>1</td>\n",
       "      <td>0</td>\n",
       "      <td>...</td>\n",
       "      <td>0</td>\n",
       "      <td>0</td>\n",
       "      <td>0</td>\n",
       "      <td>0</td>\n",
       "      <td>0</td>\n",
       "      <td>0</td>\n",
       "      <td>0</td>\n",
       "      <td>0</td>\n",
       "      <td>0</td>\n",
       "      <td>Class_1</td>\n",
       "    </tr>\n",
       "    <tr>\n",
       "      <td>2</td>\n",
       "      <td>3</td>\n",
       "      <td>0</td>\n",
       "      <td>0</td>\n",
       "      <td>0</td>\n",
       "      <td>0</td>\n",
       "      <td>0</td>\n",
       "      <td>0</td>\n",
       "      <td>0</td>\n",
       "      <td>1</td>\n",
       "      <td>0</td>\n",
       "      <td>...</td>\n",
       "      <td>0</td>\n",
       "      <td>0</td>\n",
       "      <td>0</td>\n",
       "      <td>0</td>\n",
       "      <td>0</td>\n",
       "      <td>0</td>\n",
       "      <td>0</td>\n",
       "      <td>0</td>\n",
       "      <td>0</td>\n",
       "      <td>Class_1</td>\n",
       "    </tr>\n",
       "    <tr>\n",
       "      <td>3</td>\n",
       "      <td>4</td>\n",
       "      <td>1</td>\n",
       "      <td>0</td>\n",
       "      <td>0</td>\n",
       "      <td>1</td>\n",
       "      <td>6</td>\n",
       "      <td>1</td>\n",
       "      <td>5</td>\n",
       "      <td>0</td>\n",
       "      <td>0</td>\n",
       "      <td>...</td>\n",
       "      <td>0</td>\n",
       "      <td>1</td>\n",
       "      <td>2</td>\n",
       "      <td>0</td>\n",
       "      <td>0</td>\n",
       "      <td>0</td>\n",
       "      <td>0</td>\n",
       "      <td>0</td>\n",
       "      <td>0</td>\n",
       "      <td>Class_1</td>\n",
       "    </tr>\n",
       "    <tr>\n",
       "      <td>4</td>\n",
       "      <td>5</td>\n",
       "      <td>0</td>\n",
       "      <td>0</td>\n",
       "      <td>0</td>\n",
       "      <td>0</td>\n",
       "      <td>0</td>\n",
       "      <td>0</td>\n",
       "      <td>0</td>\n",
       "      <td>0</td>\n",
       "      <td>0</td>\n",
       "      <td>...</td>\n",
       "      <td>1</td>\n",
       "      <td>0</td>\n",
       "      <td>0</td>\n",
       "      <td>0</td>\n",
       "      <td>0</td>\n",
       "      <td>1</td>\n",
       "      <td>0</td>\n",
       "      <td>0</td>\n",
       "      <td>0</td>\n",
       "      <td>Class_1</td>\n",
       "    </tr>\n",
       "  </tbody>\n",
       "</table>\n",
       "<p>5 rows × 95 columns</p>\n",
       "</div>"
      ],
      "text/plain": [
       "   id  feat_1  feat_2  feat_3  feat_4  feat_5  feat_6  feat_7  feat_8  feat_9  \\\n",
       "0   1       1       0       0       0       0       0       0       0       0   \n",
       "1   2       0       0       0       0       0       0       0       1       0   \n",
       "2   3       0       0       0       0       0       0       0       1       0   \n",
       "3   4       1       0       0       1       6       1       5       0       0   \n",
       "4   5       0       0       0       0       0       0       0       0       0   \n",
       "\n",
       "   ...  feat_85  feat_86  feat_87  feat_88  feat_89  feat_90  feat_91  \\\n",
       "0  ...        1        0        0        0        0        0        0   \n",
       "1  ...        0        0        0        0        0        0        0   \n",
       "2  ...        0        0        0        0        0        0        0   \n",
       "3  ...        0        1        2        0        0        0        0   \n",
       "4  ...        1        0        0        0        0        1        0   \n",
       "\n",
       "   feat_92  feat_93   target  \n",
       "0        0        0  Class_1  \n",
       "1        0        0  Class_1  \n",
       "2        0        0  Class_1  \n",
       "3        0        0  Class_1  \n",
       "4        0        0  Class_1  \n",
       "\n",
       "[5 rows x 95 columns]"
      ]
     },
     "execution_count": 2,
     "metadata": {},
     "output_type": "execute_result"
    }
   ],
   "source": [
    "# Get data\n",
    "df = pd.read_csv('otto_group.csv')\n",
    "df.head()"
   ]
  },
  {
   "cell_type": "code",
   "execution_count": 3,
   "metadata": {
    "ExecuteTime": {
     "end_time": "2019-11-13T17:48:21.932401Z",
     "start_time": "2019-11-13T17:48:21.862166Z"
    },
    "scrolled": true
   },
   "outputs": [
    {
     "name": "stdout",
     "output_type": "stream",
     "text": [
      "<class 'pandas.core.frame.DataFrame'>\n",
      "RangeIndex: 61878 entries, 0 to 61877\n",
      "Data columns (total 95 columns):\n",
      "id         61878 non-null int64\n",
      "feat_1     61878 non-null int64\n",
      "feat_2     61878 non-null int64\n",
      "feat_3     61878 non-null int64\n",
      "feat_4     61878 non-null int64\n",
      "feat_5     61878 non-null int64\n",
      "feat_6     61878 non-null int64\n",
      "feat_7     61878 non-null int64\n",
      "feat_8     61878 non-null int64\n",
      "feat_9     61878 non-null int64\n",
      "feat_10    61878 non-null int64\n",
      "feat_11    61878 non-null int64\n",
      "feat_12    61878 non-null int64\n",
      "feat_13    61878 non-null int64\n",
      "feat_14    61878 non-null int64\n",
      "feat_15    61878 non-null int64\n",
      "feat_16    61878 non-null int64\n",
      "feat_17    61878 non-null int64\n",
      "feat_18    61878 non-null int64\n",
      "feat_19    61878 non-null int64\n",
      "feat_20    61878 non-null int64\n",
      "feat_21    61878 non-null int64\n",
      "feat_22    61878 non-null int64\n",
      "feat_23    61878 non-null int64\n",
      "feat_24    61878 non-null int64\n",
      "feat_25    61878 non-null int64\n",
      "feat_26    61878 non-null int64\n",
      "feat_27    61878 non-null int64\n",
      "feat_28    61878 non-null int64\n",
      "feat_29    61878 non-null int64\n",
      "feat_30    61878 non-null int64\n",
      "feat_31    61878 non-null int64\n",
      "feat_32    61878 non-null int64\n",
      "feat_33    61878 non-null int64\n",
      "feat_34    61878 non-null int64\n",
      "feat_35    61878 non-null int64\n",
      "feat_36    61878 non-null int64\n",
      "feat_37    61878 non-null int64\n",
      "feat_38    61878 non-null int64\n",
      "feat_39    61878 non-null int64\n",
      "feat_40    61878 non-null int64\n",
      "feat_41    61878 non-null int64\n",
      "feat_42    61878 non-null int64\n",
      "feat_43    61878 non-null int64\n",
      "feat_44    61878 non-null int64\n",
      "feat_45    61878 non-null int64\n",
      "feat_46    61878 non-null int64\n",
      "feat_47    61878 non-null int64\n",
      "feat_48    61878 non-null int64\n",
      "feat_49    61878 non-null int64\n",
      "feat_50    61878 non-null int64\n",
      "feat_51    61878 non-null int64\n",
      "feat_52    61878 non-null int64\n",
      "feat_53    61878 non-null int64\n",
      "feat_54    61878 non-null int64\n",
      "feat_55    61878 non-null int64\n",
      "feat_56    61878 non-null int64\n",
      "feat_57    61878 non-null int64\n",
      "feat_58    61878 non-null int64\n",
      "feat_59    61878 non-null int64\n",
      "feat_60    61878 non-null int64\n",
      "feat_61    61878 non-null int64\n",
      "feat_62    61878 non-null int64\n",
      "feat_63    61878 non-null int64\n",
      "feat_64    61878 non-null int64\n",
      "feat_65    61878 non-null int64\n",
      "feat_66    61878 non-null int64\n",
      "feat_67    61878 non-null int64\n",
      "feat_68    61878 non-null int64\n",
      "feat_69    61878 non-null int64\n",
      "feat_70    61878 non-null int64\n",
      "feat_71    61878 non-null int64\n",
      "feat_72    61878 non-null int64\n",
      "feat_73    61878 non-null int64\n",
      "feat_74    61878 non-null int64\n",
      "feat_75    61878 non-null int64\n",
      "feat_76    61878 non-null int64\n",
      "feat_77    61878 non-null int64\n",
      "feat_78    61878 non-null int64\n",
      "feat_79    61878 non-null int64\n",
      "feat_80    61878 non-null int64\n",
      "feat_81    61878 non-null int64\n",
      "feat_82    61878 non-null int64\n",
      "feat_83    61878 non-null int64\n",
      "feat_84    61878 non-null int64\n",
      "feat_85    61878 non-null int64\n",
      "feat_86    61878 non-null int64\n",
      "feat_87    61878 non-null int64\n",
      "feat_88    61878 non-null int64\n",
      "feat_89    61878 non-null int64\n",
      "feat_90    61878 non-null int64\n",
      "feat_91    61878 non-null int64\n",
      "feat_92    61878 non-null int64\n",
      "feat_93    61878 non-null int64\n",
      "target     61878 non-null object\n",
      "dtypes: int64(94), object(1)\n",
      "memory usage: 44.8+ MB\n"
     ]
    }
   ],
   "source": [
    "# Check for missing values\n",
    "df.info()"
   ]
  },
  {
   "cell_type": "markdown",
   "metadata": {},
   "source": [
    "There appear to be no missing values."
   ]
  },
  {
   "cell_type": "code",
   "execution_count": 4,
   "metadata": {
    "ExecuteTime": {
     "end_time": "2019-11-13T17:48:22.980296Z",
     "start_time": "2019-11-13T17:48:22.962979Z"
    }
   },
   "outputs": [
    {
     "name": "stdout",
     "output_type": "stream",
     "text": [
      "Class_2    16122\n",
      "Class_6    14135\n",
      "Class_8     8464\n",
      "Class_3     8004\n",
      "Class_9     4955\n",
      "Class_7     2839\n",
      "Class_5     2739\n",
      "Class_4     2691\n",
      "Class_1     1929\n",
      "Name: target, dtype: int64\n"
     ]
    }
   ],
   "source": [
    "# Check distributions\n",
    "print(df.target.value_counts())"
   ]
  },
  {
   "cell_type": "code",
   "execution_count": 5,
   "metadata": {
    "ExecuteTime": {
     "end_time": "2019-11-13T17:48:24.372891Z",
     "start_time": "2019-11-13T17:48:23.311582Z"
    },
    "scrolled": true
   },
   "outputs": [
    {
     "data": {
      "image/png": "[encoded data removed]",
      "text/plain": [
       "<Figure size 1152x576 with 6 Axes>"
      ]
     },
     "metadata": {
      "needs_background": "light"
     },
     "output_type": "display_data"
    }
   ],
   "source": [
    "# Check histograms of a sample of features\n",
    "cols = ['feat_1', 'feat_2', 'feat_20', 'feat_50', 'feat_70', 'feat_90']\n",
    "\n",
    "plt.figure(figsize=(16,8))\n",
    "for idx, col in enumerate(cols):\n",
    "    plt.subplot(2, 3, idx+1)\n",
    "    plt.hist(df[col])\n",
    "    plt.title(col)"
   ]
  },
  {
   "cell_type": "markdown",
   "metadata": {},
   "source": [
    "If these six features are any indication, then I need to make some adjustments to deal with strong right skew in the data."
   ]
  },
  {
   "cell_type": "markdown",
   "metadata": {},
   "source": [
    "If you look at all the histograms, you can tell that a lot of the data are zero-inflated, so most of the variables contain mostly zeros and then some higher values here and there. No normality, but for most machine learning techniques this is not an issue. "
   ]
  },
  {
   "cell_type": "code",
   "execution_count": 6,
   "metadata": {
    "ExecuteTime": {
     "end_time": "2019-11-13T17:48:25.739539Z",
     "start_time": "2019-11-13T17:48:24.882835Z"
    },
    "scrolled": true
   },
   "outputs": [
    {
     "data": {
      "image/png": "[encoded data removed]",
      "text/plain": [
       "<Figure size 1152x576 with 6 Axes>"
      ]
     },
     "metadata": {
      "needs_background": "light"
     },
     "output_type": "display_data"
    }
   ],
   "source": [
    "plt.figure(figsize=(16,8))\n",
    "for idx, col in enumerate(cols):\n",
    "    plt.subplot(2, 3, idx+1)\n",
    "    plt.boxplot(df[col])\n",
    "    plt.title(col)"
   ]
  },
  {
   "cell_type": "markdown",
   "metadata": {},
   "source": [
    "Because the data is zero-inflated the boxplots look as shown above. Because there are this many zeroes, most values above zero will seem to be outliers. The safe decision for this data is to not delete any outliers and see what happens. With many 0s, sparse data is available and high values may be super informative. More-over, without having any intuitive meaning for each of the features, we don't know if a value of ~260 is actually an outlier."
   ]
  },
  {
   "cell_type": "code",
   "execution_count": 7,
   "metadata": {
    "ExecuteTime": {
     "end_time": "2019-11-13T17:48:25.806149Z",
     "start_time": "2019-11-13T17:48:25.799971Z"
    }
   },
   "outputs": [
    {
     "data": {
      "text/plain": [
       "(61878, 95)"
      ]
     },
     "execution_count": 7,
     "metadata": {},
     "output_type": "execute_result"
    }
   ],
   "source": [
    "df.shape"
   ]
  },
  {
   "cell_type": "markdown",
   "metadata": {},
   "source": [
    "## Feature engineering and selection with PCA"
   ]
  },
  {
   "cell_type": "markdown",
   "metadata": {},
   "source": [
    "Have a look at the correlation structure of your features using a heatmap."
   ]
  },
  {
   "cell_type": "code",
   "execution_count": 8,
   "metadata": {
    "ExecuteTime": {
     "end_time": "2019-11-13T17:48:29.385895Z",
     "start_time": "2019-11-13T17:48:26.890209Z"
    },
    "scrolled": true
   },
   "outputs": [
    {
     "data": {
      "image/png": "[encoded data removed]",
      "text/plain": [
       "<Figure size 1152x864 with 2 Axes>"
      ]
     },
     "metadata": {
      "needs_background": "light"
     },
     "output_type": "display_data"
    }
   ],
   "source": [
    "feat = df.loc[:, 'feat_1':'feat_93']\n",
    "corr = feat.corr()\n",
    "\n",
    "plt.figure(figsize=(16,12))\n",
    "sns.heatmap(corr);"
   ]
  },
  {
   "cell_type": "markdown",
   "metadata": {},
   "source": [
    "Use PCA to downscale your features. Use PCA to select a number of features in a way that you still keep 80% of your explained variance."
   ]
  },
  {
   "cell_type": "code",
   "execution_count": 9,
   "metadata": {
    "ExecuteTime": {
     "end_time": "2019-11-13T17:48:30.577794Z",
     "start_time": "2019-11-13T17:48:29.389311Z"
    },
    "scrolled": true
   },
   "outputs": [
    {
     "name": "stdout",
     "output_type": "stream",
     "text": [
      "[0.11772072 0.20386621 0.26774827 0.32903525 0.37312763 0.41282705\n",
      " 0.44771843 0.47921907 0.50859908 0.53606071 0.56199323 0.5842443\n",
      " 0.6058627  0.62556818 0.64479361 0.66340061 0.68091933 0.69797329\n",
      " 0.71347273 0.72761167 0.74005531 0.75188075 0.76258291 0.77274627\n",
      " 0.78275328 0.792036   0.80063501 0.80889725 0.81701851 0.824522\n",
      " 0.83196213 0.83899259 0.84592705 0.85266224 0.85922733 0.86546163\n",
      " 0.87152838 0.87748574 0.88316181 0.88862579]\n"
     ]
    }
   ],
   "source": [
    "pca = PCA(n_components=40)\n",
    "\n",
    "principalComponents = pca.fit_transform(feat)\n",
    "\n",
    "print(pca.explained_variance_ratio_.cumsum())"
   ]
  },
  {
   "cell_type": "code",
   "execution_count": 10,
   "metadata": {
    "ExecuteTime": {
     "end_time": "2019-11-13T17:48:32.447524Z",
     "start_time": "2019-11-13T17:48:31.627960Z"
    }
   },
   "outputs": [
    {
     "name": "stdout",
     "output_type": "stream",
     "text": [
      "0.8085398425696436\n"
     ]
    }
   ],
   "source": [
    "# Try again with 28 components; aim for 80% explained variance\n",
    "pca = PCA(n_components=28)\n",
    "\n",
    "principalComponents = pca.fit_transform(feat)\n",
    "\n",
    "print(pca.explained_variance_ratio_.sum())"
   ]
  },
  {
   "cell_type": "markdown",
   "metadata": {},
   "source": [
    "## Create a train test split with a test size of 40%"
   ]
  },
  {
   "cell_type": "markdown",
   "metadata": {},
   "source": [
    "This is a relatively big training set. Feel free to make it smaller (down to ~20%), but for an initial run you can try smaller training sets so the computation time is more manageable.\n",
    "\n",
    "For now, simply use the original data and not the principal components. We looked at the PC's first to get a sense of our correlation structure, and to see how we can downsize our data without losing too much information. In what's next, you'll make PCA part of the pipeline!!"
   ]
  },
  {
   "cell_type": "code",
   "execution_count": 11,
   "metadata": {
    "ExecuteTime": {
     "end_time": "2019-11-13T17:48:33.139019Z",
     "start_time": "2019-11-13T17:48:33.042975Z"
    }
   },
   "outputs": [],
   "source": [
    "y = df.target\n",
    "X = df.drop('target', axis=1)\n",
    "\n",
    "X_train, X_test, y_train, y_test = train_test_split(X, y, test_size=0.4)"
   ]
  },
  {
   "cell_type": "markdown",
   "metadata": {},
   "source": [
    "## Create a baseline model"
   ]
  },
  {
   "cell_type": "markdown",
   "metadata": {},
   "source": [
    "Create your baseline model *in a pipeline setting*. In the pipeline\n",
    "- Your first step will be to scale your features down to the number of features that ensure you keep just 80% of your explained variance (which we saw before)\n",
    "- Your second step will be the building a basic logistic regression model.\n",
    "\n",
    "Make sure to fit the model using the training set, and test the result by obtaining the accuracy using the test set."
   ]
  },
  {
   "cell_type": "code",
   "execution_count": 12,
   "metadata": {
    "ExecuteTime": {
     "end_time": "2019-11-13T17:48:34.736239Z",
     "start_time": "2019-11-13T17:48:34.731210Z"
    }
   },
   "outputs": [],
   "source": [
    "pipe = Pipeline([('pca', PCA(n_components=28)),\n",
    "                 ('logreg', LogisticRegression())])"
   ]
  },
  {
   "cell_type": "code",
   "execution_count": 13,
   "metadata": {
    "ExecuteTime": {
     "end_time": "2019-11-13T17:48:51.731337Z",
     "start_time": "2019-11-13T17:48:35.396961Z"
    }
   },
   "outputs": [
    {
     "name": "stderr",
     "output_type": "stream",
     "text": [
      "/Users/jennykreiger/anaconda3/envs/learn-env/lib/python3.6/site-packages/sklearn/linear_model/logistic.py:433: FutureWarning: Default solver will be changed to 'lbfgs' in 0.22. Specify a solver to silence this warning.\n",
      "  FutureWarning)\n",
      "/Users/jennykreiger/anaconda3/envs/learn-env/lib/python3.6/site-packages/sklearn/linear_model/logistic.py:460: FutureWarning: Default multi_class will be changed to 'auto' in 0.22. Specify the multi_class option to silence this warning.\n",
      "  \"this warning.\", FutureWarning)\n"
     ]
    },
    {
     "data": {
      "text/plain": [
       "Pipeline(memory=None,\n",
       "     steps=[('pca', PCA(copy=True, iterated_power='auto', n_components=28, random_state=None,\n",
       "  svd_solver='auto', tol=0.0, whiten=False)), ('logreg', LogisticRegression(C=1.0, class_weight=None, dual=False, fit_intercept=True,\n",
       "          intercept_scaling=1, max_iter=100, multi_class='warn',\n",
       "          n_jobs=None, penalty='l2', random_state=None, solver='warn',\n",
       "          tol=0.0001, verbose=0, warm_start=False))])"
      ]
     },
     "execution_count": 13,
     "metadata": {},
     "output_type": "execute_result"
    }
   ],
   "source": [
    "pipe.fit(X_train, y_train)"
   ]
  },
  {
   "cell_type": "code",
   "execution_count": 14,
   "metadata": {
    "ExecuteTime": {
     "end_time": "2019-11-13T17:48:56.549175Z",
     "start_time": "2019-11-13T17:48:56.468232Z"
    }
   },
   "outputs": [
    {
     "data": {
      "text/plain": [
       "0.8080963154492566"
      ]
     },
     "execution_count": 14,
     "metadata": {},
     "output_type": "execute_result"
    }
   ],
   "source": [
    "pipe.score(X_test, y_test)"
   ]
  },
  {
   "cell_type": "markdown",
   "metadata": {},
   "source": [
    "## Create a pipeline consisting of a linear SVM, a simple Decision Tree and a simple Random Forest Classifier"
   ]
  },
  {
   "cell_type": "markdown",
   "metadata": {},
   "source": [
    "Repeat the above, but now create three different pipelines:\n",
    "- One for a standard linear SCM\n",
    "- One for a default decision tree\n",
    "- One for a RandomForestClassifier"
   ]
  },
  {
   "cell_type": "code",
   "execution_count": 15,
   "metadata": {
    "ExecuteTime": {
     "end_time": "2019-11-13T17:49:02.159061Z",
     "start_time": "2019-11-13T17:49:02.131559Z"
    }
   },
   "outputs": [],
   "source": [
    "from sklearn.svm import SVC\n",
    "from sklearn.tree import DecisionTreeClassifier\n",
    "from sklearn.ensemble import RandomForestClassifier"
   ]
  },
  {
   "cell_type": "code",
   "execution_count": 16,
   "metadata": {
    "ExecuteTime": {
     "end_time": "2019-11-13T17:49:02.530706Z",
     "start_time": "2019-11-13T17:49:02.524441Z"
    }
   },
   "outputs": [],
   "source": [
    "pipe_svm = Pipeline([('pca', PCA(n_components=28)),\n",
    "                     ('svm', SVC())])\n",
    "\n",
    "pipe_tree = Pipeline([('pca', PCA(n_components=28)),\n",
    "                      ('tree', DecisionTreeClassifier())])\n",
    "\n",
    "pipe_forest = Pipeline([('pca', PCA(n_components=28)),\n",
    "                        ('forest', RandomForestClassifier())])"
   ]
  },
  {
   "cell_type": "code",
   "execution_count": 17,
   "metadata": {
    "ExecuteTime": {
     "end_time": "2019-11-13T17:49:05.420032Z",
     "start_time": "2019-11-13T17:49:04.324940Z"
    }
   },
   "outputs": [
    {
     "data": {
      "text/plain": [
       "Pipeline(memory=None,\n",
       "     steps=[('pca', PCA(copy=True, iterated_power='auto', n_components=28, random_state=None,\n",
       "  svd_solver='auto', tol=0.0, whiten=False)), ('tree', DecisionTreeClassifier(class_weight=None, criterion='gini', max_depth=None,\n",
       "            max_features=None, max_leaf_nodes=None,\n",
       "            min_impurity_decrease=0.0, min_impurity_split=None,\n",
       "            min_samples_leaf=1, min_samples_split=2,\n",
       "            min_weight_fraction_leaf=0.0, presort=False, random_state=None,\n",
       "            splitter='best'))])"
      ]
     },
     "execution_count": 17,
     "metadata": {},
     "output_type": "execute_result"
    }
   ],
   "source": [
    "pipe_tree.fit(X_train, y_train)"
   ]
  },
  {
   "cell_type": "code",
   "execution_count": 18,
   "metadata": {
    "ExecuteTime": {
     "end_time": "2019-11-13T17:49:09.036301Z",
     "start_time": "2019-11-13T17:49:06.844148Z"
    }
   },
   "outputs": [
    {
     "name": "stderr",
     "output_type": "stream",
     "text": [
      "/Users/jennykreiger/anaconda3/envs/learn-env/lib/python3.6/site-packages/sklearn/ensemble/forest.py:246: FutureWarning: The default value of n_estimators will change from 10 in version 0.20 to 100 in 0.22.\n",
      "  \"10 in version 0.20 to 100 in 0.22.\", FutureWarning)\n"
     ]
    },
    {
     "data": {
      "text/plain": [
       "Pipeline(memory=None,\n",
       "     steps=[('pca', PCA(copy=True, iterated_power='auto', n_components=28, random_state=None,\n",
       "  svd_solver='auto', tol=0.0, whiten=False)), ('forest', RandomForestClassifier(bootstrap=True, class_weight=None, criterion='gini',\n",
       "            max_depth=None, max_features='auto', max_leaf_nodes=None,\n",
       "        ...obs=None,\n",
       "            oob_score=False, random_state=None, verbose=0,\n",
       "            warm_start=False))])"
      ]
     },
     "execution_count": 18,
     "metadata": {},
     "output_type": "execute_result"
    }
   ],
   "source": [
    "pipe_forest.fit(X_train, y_train)"
   ]
  },
  {
   "cell_type": "code",
   "execution_count": 33,
   "metadata": {
    "ExecuteTime": {
     "end_time": "2019-11-13T18:20:01.853850Z",
     "start_time": "2019-11-13T18:03:00.893366Z"
    },
    "scrolled": true
   },
   "outputs": [
    {
     "name": "stderr",
     "output_type": "stream",
     "text": [
      "/Users/jennykreiger/anaconda3/envs/learn-env/lib/python3.6/site-packages/sklearn/svm/base.py:196: FutureWarning: The default value of gamma will change from 'auto' to 'scale' in version 0.22 to account better for unscaled features. Set gamma explicitly to 'auto' or 'scale' to avoid this warning.\n",
      "  \"avoid this warning.\", FutureWarning)\n"
     ]
    },
    {
     "data": {
      "text/plain": [
       "Pipeline(memory=None,\n",
       "     steps=[('pca', PCA(copy=True, iterated_power='auto', n_components=28, random_state=None,\n",
       "  svd_solver='auto', tol=0.0, whiten=False)), ('svm', SVC(C=1.0, cache_size=200, class_weight=None, coef0=0.0,\n",
       "  decision_function_shape='ovr', degree=3, gamma='auto_deprecated',\n",
       "  kernel='rbf', max_iter=-1, probability=False, random_state=None,\n",
       "  shrinking=True, tol=0.001, verbose=False))])"
      ]
     },
     "execution_count": 33,
     "metadata": {},
     "output_type": "execute_result"
    }
   ],
   "source": [
    "pipe_svm.fit(X_train, y_train)"
   ]
  },
  {
   "cell_type": "code",
   "execution_count": 35,
   "metadata": {
    "ExecuteTime": {
     "end_time": "2019-11-13T18:25:42.012207Z",
     "start_time": "2019-11-13T18:24:51.550579Z"
    }
   },
   "outputs": [
    {
     "name": "stdout",
     "output_type": "stream",
     "text": [
      "SCORES\n",
      "_________________\n",
      "SVM: 0.4703054298642534\n",
      "Tree: 0.9999191984486102\n",
      "Forest: 0.9922430510665805\n"
     ]
    }
   ],
   "source": [
    "print('SCORES')\n",
    "print('_________________')\n",
    "print('SVM:', pipe_svm.score(X_test, y_test))\n",
    "print('Tree:', pipe_tree.score(X_test, y_test))\n",
    "print('Forest:', pipe_forest.score(X_test, y_test))"
   ]
  },
  {
   "cell_type": "markdown",
   "metadata": {},
   "source": [
    "## Pipeline with grid search"
   ]
  },
  {
   "cell_type": "markdown",
   "metadata": {},
   "source": [
    "Construct two pipelines with grid search:\n",
    "- one for random forests - try to have around 40 different models\n",
    "- one for the adaboost algorithm \n",
    "\n",
    "As extra, level-up work, construct a pipeline with grid search for support vector machines. \n",
    "* Make sure your grid isn't too big. You'll see it takes quite a while to fit SVMs with non-linear kernel functions!"
   ]
  },
  {
   "cell_type": "markdown",
   "metadata": {},
   "source": [
    "### Random Forest pipeline with grid search"
   ]
  },
  {
   "cell_type": "code",
   "execution_count": 23,
   "metadata": {
    "ExecuteTime": {
     "end_time": "2019-11-13T17:52:30.091325Z",
     "start_time": "2019-11-13T17:52:30.084081Z"
    }
   },
   "outputs": [],
   "source": [
    "from sklearn.ensemble import AdaBoostClassifier\n",
    "from sklearn.model_selection import GridSearchCV\n",
    "\n",
    "param_grid_for = {'forest__max_depth': [5, 10, 20],\n",
    "                  'forest__max_features': [10, 20],\n",
    "                  'forest__min_samples_leaf': [10, 20]}\n",
    "\n"
   ]
  },
  {
   "cell_type": "code",
   "execution_count": 24,
   "metadata": {
    "ExecuteTime": {
     "end_time": "2019-11-13T17:53:46.997793Z",
     "start_time": "2019-11-13T17:52:31.007724Z"
    },
    "scrolled": true
   },
   "outputs": [
    {
     "name": "stdout",
     "output_type": "stream",
     "text": [
      "Fitting 3 folds for each of 12 candidates, totalling 36 fits\n",
      "[CV] forest__max_depth=5, forest__max_features=10, forest__min_samples_leaf=10 \n"
     ]
    },
    {
     "name": "stderr",
     "output_type": "stream",
     "text": [
      "[Parallel(n_jobs=1)]: Using backend SequentialBackend with 1 concurrent workers.\n"
     ]
    },
    {
     "name": "stdout",
     "output_type": "stream",
     "text": [
      "[CV]  forest__max_depth=5, forest__max_features=10, forest__min_samples_leaf=10, total=   1.4s\n",
      "[CV] forest__max_depth=5, forest__max_features=10, forest__min_samples_leaf=10 \n"
     ]
    },
    {
     "name": "stderr",
     "output_type": "stream",
     "text": [
      "[Parallel(n_jobs=1)]: Done   1 out of   1 | elapsed:    1.5s remaining:    0.0s\n"
     ]
    },
    {
     "name": "stdout",
     "output_type": "stream",
     "text": [
      "[CV]  forest__max_depth=5, forest__max_features=10, forest__min_samples_leaf=10, total=   1.5s\n",
      "[CV] forest__max_depth=5, forest__max_features=10, forest__min_samples_leaf=10 \n",
      "[CV]  forest__max_depth=5, forest__max_features=10, forest__min_samples_leaf=10, total=   1.5s\n",
      "[CV] forest__max_depth=5, forest__max_features=10, forest__min_samples_leaf=20 \n",
      "[CV]  forest__max_depth=5, forest__max_features=10, forest__min_samples_leaf=20, total=   1.5s\n",
      "[CV] forest__max_depth=5, forest__max_features=10, forest__min_samples_leaf=20 \n",
      "[CV]  forest__max_depth=5, forest__max_features=10, forest__min_samples_leaf=20, total=   1.6s\n",
      "[CV] forest__max_depth=5, forest__max_features=10, forest__min_samples_leaf=20 \n",
      "[CV]  forest__max_depth=5, forest__max_features=10, forest__min_samples_leaf=20, total=   1.4s\n",
      "[CV] forest__max_depth=5, forest__max_features=20, forest__min_samples_leaf=10 \n",
      "[CV]  forest__max_depth=5, forest__max_features=20, forest__min_samples_leaf=10, total=   2.0s\n",
      "[CV] forest__max_depth=5, forest__max_features=20, forest__min_samples_leaf=10 \n",
      "[CV]  forest__max_depth=5, forest__max_features=20, forest__min_samples_leaf=10, total=   2.0s\n",
      "[CV] forest__max_depth=5, forest__max_features=20, forest__min_samples_leaf=10 \n",
      "[CV]  forest__max_depth=5, forest__max_features=20, forest__min_samples_leaf=10, total=   2.1s\n",
      "[CV] forest__max_depth=5, forest__max_features=20, forest__min_samples_leaf=20 \n",
      "[CV]  forest__max_depth=5, forest__max_features=20, forest__min_samples_leaf=20, total=   2.1s\n",
      "[CV] forest__max_depth=5, forest__max_features=20, forest__min_samples_leaf=20 \n",
      "[CV]  forest__max_depth=5, forest__max_features=20, forest__min_samples_leaf=20, total=   2.0s\n",
      "[CV] forest__max_depth=5, forest__max_features=20, forest__min_samples_leaf=20 \n",
      "[CV]  forest__max_depth=5, forest__max_features=20, forest__min_samples_leaf=20, total=   2.0s\n",
      "[CV] forest__max_depth=10, forest__max_features=10, forest__min_samples_leaf=10 \n",
      "[CV]  forest__max_depth=10, forest__max_features=10, forest__min_samples_leaf=10, total=   1.8s\n",
      "[CV] forest__max_depth=10, forest__max_features=10, forest__min_samples_leaf=10 \n",
      "[CV]  forest__max_depth=10, forest__max_features=10, forest__min_samples_leaf=10, total=   1.7s\n",
      "[CV] forest__max_depth=10, forest__max_features=10, forest__min_samples_leaf=10 \n",
      "[CV]  forest__max_depth=10, forest__max_features=10, forest__min_samples_leaf=10, total=   1.7s\n",
      "[CV] forest__max_depth=10, forest__max_features=10, forest__min_samples_leaf=20 \n",
      "[CV]  forest__max_depth=10, forest__max_features=10, forest__min_samples_leaf=20, total=   1.8s\n",
      "[CV] forest__max_depth=10, forest__max_features=10, forest__min_samples_leaf=20 \n",
      "[CV]  forest__max_depth=10, forest__max_features=10, forest__min_samples_leaf=20, total=   1.8s\n",
      "[CV] forest__max_depth=10, forest__max_features=10, forest__min_samples_leaf=20 \n",
      "[CV]  forest__max_depth=10, forest__max_features=10, forest__min_samples_leaf=20, total=   1.6s\n",
      "[CV] forest__max_depth=10, forest__max_features=20, forest__min_samples_leaf=10 \n",
      "[CV]  forest__max_depth=10, forest__max_features=20, forest__min_samples_leaf=10, total=   2.3s\n",
      "[CV] forest__max_depth=10, forest__max_features=20, forest__min_samples_leaf=10 \n",
      "[CV]  forest__max_depth=10, forest__max_features=20, forest__min_samples_leaf=10, total=   2.2s\n",
      "[CV] forest__max_depth=10, forest__max_features=20, forest__min_samples_leaf=10 \n",
      "[CV]  forest__max_depth=10, forest__max_features=20, forest__min_samples_leaf=10, total=   2.1s\n",
      "[CV] forest__max_depth=10, forest__max_features=20, forest__min_samples_leaf=20 \n",
      "[CV]  forest__max_depth=10, forest__max_features=20, forest__min_samples_leaf=20, total=   2.2s\n",
      "[CV] forest__max_depth=10, forest__max_features=20, forest__min_samples_leaf=20 \n",
      "[CV]  forest__max_depth=10, forest__max_features=20, forest__min_samples_leaf=20, total=   2.3s\n",
      "[CV] forest__max_depth=10, forest__max_features=20, forest__min_samples_leaf=20 \n",
      "[CV]  forest__max_depth=10, forest__max_features=20, forest__min_samples_leaf=20, total=   2.2s\n",
      "[CV] forest__max_depth=20, forest__max_features=10, forest__min_samples_leaf=10 \n",
      "[CV]  forest__max_depth=20, forest__max_features=10, forest__min_samples_leaf=10, total=   1.8s\n",
      "[CV] forest__max_depth=20, forest__max_features=10, forest__min_samples_leaf=10 \n",
      "[CV]  forest__max_depth=20, forest__max_features=10, forest__min_samples_leaf=10, total=   1.9s\n",
      "[CV] forest__max_depth=20, forest__max_features=10, forest__min_samples_leaf=10 \n",
      "[CV]  forest__max_depth=20, forest__max_features=10, forest__min_samples_leaf=10, total=   1.8s\n",
      "[CV] forest__max_depth=20, forest__max_features=10, forest__min_samples_leaf=20 \n",
      "[CV]  forest__max_depth=20, forest__max_features=10, forest__min_samples_leaf=20, total=   1.8s\n",
      "[CV] forest__max_depth=20, forest__max_features=10, forest__min_samples_leaf=20 \n",
      "[CV]  forest__max_depth=20, forest__max_features=10, forest__min_samples_leaf=20, total=   1.8s\n",
      "[CV] forest__max_depth=20, forest__max_features=10, forest__min_samples_leaf=20 \n",
      "[CV]  forest__max_depth=20, forest__max_features=10, forest__min_samples_leaf=20, total=   1.9s\n",
      "[CV] forest__max_depth=20, forest__max_features=20, forest__min_samples_leaf=10 \n",
      "[CV]  forest__max_depth=20, forest__max_features=20, forest__min_samples_leaf=10, total=   2.1s\n",
      "[CV] forest__max_depth=20, forest__max_features=20, forest__min_samples_leaf=10 \n",
      "[CV]  forest__max_depth=20, forest__max_features=20, forest__min_samples_leaf=10, total=   2.3s\n",
      "[CV] forest__max_depth=20, forest__max_features=20, forest__min_samples_leaf=10 \n",
      "[CV]  forest__max_depth=20, forest__max_features=20, forest__min_samples_leaf=10, total=   2.2s\n",
      "[CV] forest__max_depth=20, forest__max_features=20, forest__min_samples_leaf=20 \n",
      "[CV]  forest__max_depth=20, forest__max_features=20, forest__min_samples_leaf=20, total=   2.4s\n",
      "[CV] forest__max_depth=20, forest__max_features=20, forest__min_samples_leaf=20 \n",
      "[CV]  forest__max_depth=20, forest__max_features=20, forest__min_samples_leaf=20, total=   2.2s\n",
      "[CV] forest__max_depth=20, forest__max_features=20, forest__min_samples_leaf=20 \n",
      "[CV]  forest__max_depth=20, forest__max_features=20, forest__min_samples_leaf=20, total=   2.3s\n"
     ]
    },
    {
     "name": "stderr",
     "output_type": "stream",
     "text": [
      "[Parallel(n_jobs=1)]: Done  36 out of  36 | elapsed:  1.2min finished\n"
     ]
    },
    {
     "name": "stdout",
     "output_type": "stream",
     "text": [
      "Best score: 0.9998653234929699\n",
      "Best params: {'forest__max_depth': 10, 'forest__max_features': 20, 'forest__min_samples_leaf': 10}\n"
     ]
    }
   ],
   "source": [
    "grid_for = GridSearchCV(pipe_forest, param_grid_for, scoring='accuracy',\n",
    "                        cv=3, verbose=2, return_train_score=True)\n",
    "grid_for.fit(X_train, y_train)\n",
    "print('Best score:', grid_for.best_score_)\n",
    "print('Best params:', grid_for.best_params_)"
   ]
  },
  {
   "cell_type": "markdown",
   "metadata": {},
   "source": [
    "Use your grid search object along with `.cv_results` to get the full result overview"
   ]
  },
  {
   "cell_type": "code",
   "execution_count": 25,
   "metadata": {
    "ExecuteTime": {
     "end_time": "2019-11-13T17:54:10.783184Z",
     "start_time": "2019-11-13T17:54:10.766937Z"
    }
   },
   "outputs": [
    {
     "data": {
      "text/plain": [
       "{'mean_fit_time': array([1.44303322, 1.43560704, 1.98829317, 1.97156763, 1.67689339,\n",
       "        1.68707625, 2.15778708, 2.20116027, 1.77345181, 1.77528961,\n",
       "        2.17652408, 2.24369176]),\n",
       " 'std_fit_time': array([0.05653477, 0.08813436, 0.03539479, 0.03271033, 0.03131859,\n",
       "        0.07455686, 0.05858841, 0.07159889, 0.02616591, 0.04681968,\n",
       "        0.05163194, 0.05602705]),\n",
       " 'mean_score_time': array([0.05013792, 0.04407438, 0.04586442, 0.04808434, 0.04658922,\n",
       "        0.04611508, 0.04373129, 0.04540793, 0.04660217, 0.04573369,\n",
       "        0.04598403, 0.04950285]),\n",
       " 'std_score_time': array([0.00829016, 0.00239694, 0.005282  , 0.00111576, 0.0019821 ,\n",
       "        0.00306305, 0.00151884, 0.00251125, 0.0025164 , 0.00175339,\n",
       "        0.00278709, 0.00520757]),\n",
       " 'param_forest__max_depth': masked_array(data=[5, 5, 5, 5, 10, 10, 10, 10, 20, 20, 20, 20],\n",
       "              mask=[False, False, False, False, False, False, False, False,\n",
       "                    False, False, False, False],\n",
       "        fill_value='?',\n",
       "             dtype=object),\n",
       " 'param_forest__max_features': masked_array(data=[10, 10, 20, 20, 10, 10, 20, 20, 10, 10, 20, 20],\n",
       "              mask=[False, False, False, False, False, False, False, False,\n",
       "                    False, False, False, False],\n",
       "        fill_value='?',\n",
       "             dtype=object),\n",
       " 'param_forest__min_samples_leaf': masked_array(data=[10, 20, 10, 20, 10, 20, 10, 20, 10, 20, 10, 20],\n",
       "              mask=[False, False, False, False, False, False, False, False,\n",
       "                    False, False, False, False],\n",
       "        fill_value='?',\n",
       "             dtype=object),\n",
       " 'params': [{'forest__max_depth': 5,\n",
       "   'forest__max_features': 10,\n",
       "   'forest__min_samples_leaf': 10},\n",
       "  {'forest__max_depth': 5,\n",
       "   'forest__max_features': 10,\n",
       "   'forest__min_samples_leaf': 20},\n",
       "  {'forest__max_depth': 5,\n",
       "   'forest__max_features': 20,\n",
       "   'forest__min_samples_leaf': 10},\n",
       "  {'forest__max_depth': 5,\n",
       "   'forest__max_features': 20,\n",
       "   'forest__min_samples_leaf': 20},\n",
       "  {'forest__max_depth': 10,\n",
       "   'forest__max_features': 10,\n",
       "   'forest__min_samples_leaf': 10},\n",
       "  {'forest__max_depth': 10,\n",
       "   'forest__max_features': 10,\n",
       "   'forest__min_samples_leaf': 20},\n",
       "  {'forest__max_depth': 10,\n",
       "   'forest__max_features': 20,\n",
       "   'forest__min_samples_leaf': 10},\n",
       "  {'forest__max_depth': 10,\n",
       "   'forest__max_features': 20,\n",
       "   'forest__min_samples_leaf': 20},\n",
       "  {'forest__max_depth': 20,\n",
       "   'forest__max_features': 10,\n",
       "   'forest__min_samples_leaf': 10},\n",
       "  {'forest__max_depth': 20,\n",
       "   'forest__max_features': 10,\n",
       "   'forest__min_samples_leaf': 20},\n",
       "  {'forest__max_depth': 20,\n",
       "   'forest__max_features': 20,\n",
       "   'forest__min_samples_leaf': 10},\n",
       "  {'forest__max_depth': 20,\n",
       "   'forest__max_features': 20,\n",
       "   'forest__min_samples_leaf': 20}],\n",
       " 'split0_test_score': array([0.93844414, 0.91598675, 0.99830358, 0.99838436, 0.99725341,\n",
       "        0.9959609 , 1.        , 1.        , 0.99919218, 0.99676872,\n",
       "        1.        , 0.99991922]),\n",
       " 'split1_test_score': array([0.91272727, 0.93632323, 0.98278788, 0.99919192, 0.99765657,\n",
       "        0.99579798, 0.99959596, 0.99959596, 0.99878788, 0.99894949,\n",
       "        0.99959596, 0.99975758]),\n",
       " 'split2_test_score': array([0.90284513, 0.96952797, 0.99676689, 0.99951503, 0.99886841,\n",
       "        0.99886841, 1.        , 0.99967669, 0.99919172, 0.99700938,\n",
       "        0.99991917, 0.99991917]),\n",
       " 'mean_test_score': array([0.91800894, 0.94060766, 0.99261973, 0.99903033, 0.99792598,\n",
       "        0.99687551, 0.99986532, 0.99975758, 0.99905726, 0.99757582,\n",
       "        0.99983839, 0.99986532]),\n",
       " 'std_test_score': array([1.50055037e-02, 2.20671958e-02, 6.98027531e-03, 4.75529559e-04,\n",
       "        6.86294967e-04, 1.41048305e-03, 1.90465190e-04, 1.74591774e-04,\n",
       "        1.90480672e-04, 9.76269405e-04, 1.74566582e-04, 7.61876175e-05]),\n",
       " 'rank_test_score': array([12, 11, 10,  6,  7,  9,  1,  4,  5,  8,  3,  1], dtype=int32),\n",
       " 'split0_train_score': array([0.9380531 , 0.91796985, 0.99874732, 0.99793914, 0.99797955,\n",
       "        0.99608033, 1.        , 1.        , 0.99979796, 0.99765628,\n",
       "        1.        , 1.        ]),\n",
       " 'split1_train_score': array([0.91406408, 0.93769949, 0.98339461, 0.99951517, 0.99915155,\n",
       "        0.99773747, 0.9999596 , 1.        , 0.99963638, 0.99919195,\n",
       "        1.        , 1.        ]),\n",
       " 'split2_train_score': array([0.90320756, 0.97123697, 0.99737416, 0.99959602, 0.99915165,\n",
       "        0.99878807, 1.        , 0.9999192 , 0.99951523, 0.9983033 ,\n",
       "        1.        , 1.        ]),\n",
       " 'mean_train_score': array([0.91844158, 0.9423021 , 0.99317203, 0.99901678, 0.99876092,\n",
       "        0.99753529, 0.99998653, 0.99997307, 0.99964985, 0.99838385,\n",
       "        1.        , 1.        ]),\n",
       " 'std_train_score': array([1.45584961e-02, 2.19883985e-02, 6.93637124e-03, 7.62718248e-04,\n",
       "        5.52508618e-04, 1.11463658e-03, 1.90458778e-05, 3.80871391e-05,\n",
       "        1.15814866e-04, 6.29516211e-04, 0.00000000e+00, 0.00000000e+00])}"
      ]
     },
     "execution_count": 25,
     "metadata": {},
     "output_type": "execute_result"
    }
   ],
   "source": [
    "grid_for.cv_results_"
   ]
  },
  {
   "cell_type": "markdown",
   "metadata": {},
   "source": [
    "### Adaboost"
   ]
  },
  {
   "cell_type": "code",
   "execution_count": 28,
   "metadata": {
    "ExecuteTime": {
     "end_time": "2019-11-13T17:56:06.881711Z",
     "start_time": "2019-11-13T17:56:06.874696Z"
    }
   },
   "outputs": [],
   "source": [
    "param_grid_ada = {'ada__n_estimators': [10, 50, 100],\n",
    "                  'ada__learning_rate': [0.1, 0.5]}\n",
    "\n",
    "pipe_ada = Pipeline([('pca', PCA(n_components=28)),\n",
    "                     ('ada', AdaBoostClassifier())])"
   ]
  },
  {
   "cell_type": "code",
   "execution_count": 30,
   "metadata": {
    "ExecuteTime": {
     "end_time": "2019-11-13T18:00:02.033718Z",
     "start_time": "2019-11-13T17:56:45.498680Z"
    }
   },
   "outputs": [
    {
     "name": "stdout",
     "output_type": "stream",
     "text": [
      "Fitting 3 folds for each of 6 candidates, totalling 18 fits\n",
      "[CV] ada__learning_rate=0.1, ada__n_estimators=10 ....................\n"
     ]
    },
    {
     "name": "stderr",
     "output_type": "stream",
     "text": [
      "[Parallel(n_jobs=1)]: Using backend SequentialBackend with 1 concurrent workers.\n"
     ]
    },
    {
     "name": "stdout",
     "output_type": "stream",
     "text": [
      "[CV] ..... ada__learning_rate=0.1, ada__n_estimators=10, total=   2.2s\n",
      "[CV] ada__learning_rate=0.1, ada__n_estimators=10 ....................\n"
     ]
    },
    {
     "name": "stderr",
     "output_type": "stream",
     "text": [
      "[Parallel(n_jobs=1)]: Done   1 out of   1 | elapsed:    2.3s remaining:    0.0s\n"
     ]
    },
    {
     "name": "stdout",
     "output_type": "stream",
     "text": [
      "[CV] ..... ada__learning_rate=0.1, ada__n_estimators=10, total=   2.2s\n",
      "[CV] ada__learning_rate=0.1, ada__n_estimators=10 ....................\n",
      "[CV] ..... ada__learning_rate=0.1, ada__n_estimators=10, total=   2.1s\n",
      "[CV] ada__learning_rate=0.1, ada__n_estimators=50 ....................\n",
      "[CV] ..... ada__learning_rate=0.1, ada__n_estimators=50, total=   9.1s\n",
      "[CV] ada__learning_rate=0.1, ada__n_estimators=50 ....................\n",
      "[CV] ..... ada__learning_rate=0.1, ada__n_estimators=50, total=   8.7s\n",
      "[CV] ada__learning_rate=0.1, ada__n_estimators=50 ....................\n",
      "[CV] ..... ada__learning_rate=0.1, ada__n_estimators=50, total=   8.9s\n",
      "[CV] ada__learning_rate=0.1, ada__n_estimators=100 ...................\n",
      "[CV] .... ada__learning_rate=0.1, ada__n_estimators=100, total=  16.9s\n",
      "[CV] ada__learning_rate=0.1, ada__n_estimators=100 ...................\n",
      "[CV] .... ada__learning_rate=0.1, ada__n_estimators=100, total=  17.7s\n",
      "[CV] ada__learning_rate=0.1, ada__n_estimators=100 ...................\n",
      "[CV] .... ada__learning_rate=0.1, ada__n_estimators=100, total=  17.8s\n",
      "[CV] ada__learning_rate=0.5, ada__n_estimators=10 ....................\n",
      "[CV] ..... ada__learning_rate=0.5, ada__n_estimators=10, total=   2.0s\n",
      "[CV] ada__learning_rate=0.5, ada__n_estimators=10 ....................\n",
      "[CV] ..... ada__learning_rate=0.5, ada__n_estimators=10, total=   2.1s\n",
      "[CV] ada__learning_rate=0.5, ada__n_estimators=10 ....................\n",
      "[CV] ..... ada__learning_rate=0.5, ada__n_estimators=10, total=   2.0s\n",
      "[CV] ada__learning_rate=0.5, ada__n_estimators=50 ....................\n",
      "[CV] ..... ada__learning_rate=0.5, ada__n_estimators=50, total=   8.9s\n",
      "[CV] ada__learning_rate=0.5, ada__n_estimators=50 ....................\n",
      "[CV] ..... ada__learning_rate=0.5, ada__n_estimators=50, total=   9.3s\n",
      "[CV] ada__learning_rate=0.5, ada__n_estimators=50 ....................\n",
      "[CV] ..... ada__learning_rate=0.5, ada__n_estimators=50, total=   8.7s\n",
      "[CV] ada__learning_rate=0.5, ada__n_estimators=100 ...................\n",
      "[CV] .... ada__learning_rate=0.5, ada__n_estimators=100, total=  20.9s\n",
      "[CV] ada__learning_rate=0.5, ada__n_estimators=100 ...................\n",
      "[CV] .... ada__learning_rate=0.5, ada__n_estimators=100, total=  22.6s\n",
      "[CV] ada__learning_rate=0.5, ada__n_estimators=100 ...................\n",
      "[CV] .... ada__learning_rate=0.5, ada__n_estimators=100, total=  23.7s\n"
     ]
    },
    {
     "name": "stderr",
     "output_type": "stream",
     "text": [
      "[Parallel(n_jobs=1)]: Done  18 out of  18 | elapsed:  3.2min finished\n"
     ]
    },
    {
     "name": "stdout",
     "output_type": "stream",
     "text": [
      "Best score: 0.8426439691860151\n",
      "Best params: {'ada__learning_rate': 0.1, 'ada__n_estimators': 10}\n"
     ]
    }
   ],
   "source": [
    "grid_ada = GridSearchCV(pipe_ada, param_grid_ada, scoring='accuracy',\n",
    "                        cv=3, verbose=2, return_train_score=True)\n",
    "grid_ada.fit(X_train, y_train)\n",
    "\n",
    "print('Best score:', grid_ada.best_score_)\n",
    "print('Best params:', grid_ada.best_params_)"
   ]
  },
  {
   "cell_type": "markdown",
   "metadata": {},
   "source": [
    "Use your grid search object along with `.cv_results` to get the full result overview"
   ]
  },
  {
   "cell_type": "code",
   "execution_count": 32,
   "metadata": {
    "ExecuteTime": {
     "end_time": "2019-11-13T18:00:19.546813Z",
     "start_time": "2019-11-13T18:00:19.518994Z"
    }
   },
   "outputs": [
    {
     "data": {
      "text/plain": [
       "{'mean_fit_time': array([ 2.10533969,  8.71862292, 17.19021996,  1.98739266,  8.82760596,\n",
       "        22.03956135]),\n",
       " 'std_fit_time': array([0.04728248, 0.15841805, 0.41969955, 0.01474295, 0.23816168,\n",
       "        1.1059571 ]),\n",
       " 'mean_score_time': array([0.06286979, 0.14460762, 0.27202829, 0.05556305, 0.15048401,\n",
       "        0.3607506 ]),\n",
       " 'std_score_time': array([0.00455687, 0.00124834, 0.02204346, 0.00385061, 0.00642161,\n",
       "        0.01677345]),\n",
       " 'param_ada__learning_rate': masked_array(data=[0.1, 0.1, 0.1, 0.5, 0.5, 0.5],\n",
       "              mask=[False, False, False, False, False, False],\n",
       "        fill_value='?',\n",
       "             dtype=object),\n",
       " 'param_ada__n_estimators': masked_array(data=[10, 50, 100, 10, 50, 100],\n",
       "              mask=[False, False, False, False, False, False],\n",
       "        fill_value='?',\n",
       "             dtype=object),\n",
       " 'params': [{'ada__learning_rate': 0.1, 'ada__n_estimators': 10},\n",
       "  {'ada__learning_rate': 0.1, 'ada__n_estimators': 50},\n",
       "  {'ada__learning_rate': 0.1, 'ada__n_estimators': 100},\n",
       "  {'ada__learning_rate': 0.5, 'ada__n_estimators': 10},\n",
       "  {'ada__learning_rate': 0.5, 'ada__n_estimators': 50},\n",
       "  {'ada__learning_rate': 0.5, 'ada__n_estimators': 100}],\n",
       " 'split0_test_score': array([0.84263672, 0.84263672, 0.84263672, 0.84263672, 0.84263672,\n",
       "        0.84263672]),\n",
       " 'split1_test_score': array([0.84258586, 0.84258586, 0.84258586, 0.84258586, 0.84258586,\n",
       "        0.84258586]),\n",
       " 'split2_test_score': array([0.84270934, 0.84270934, 0.84270934, 0.84270934, 0.84270934,\n",
       "        0.84270934]),\n",
       " 'mean_test_score': array([0.84264397, 0.84264397, 0.84264397, 0.84264397, 0.84264397,\n",
       "        0.84264397]),\n",
       " 'std_test_score': array([5.06686618e-05, 5.06686618e-05, 5.06686618e-05, 5.06686618e-05,\n",
       "        5.06686618e-05, 5.06686618e-05]),\n",
       " 'rank_test_score': array([1, 1, 1, 1, 1, 1], dtype=int32),\n",
       " 'split0_train_score': array([0.842688, 0.842688, 0.842688, 0.842688, 0.842688, 0.842688]),\n",
       " 'split1_train_score': array([0.84267302, 0.84267302, 0.84267302, 0.84267302, 0.84267302,\n",
       "        0.84267302]),\n",
       " 'split2_train_score': array([0.84265169, 0.84265169, 0.84265169, 0.84265169, 0.84265169,\n",
       "        0.84265169]),\n",
       " 'mean_train_score': array([0.84267091, 0.84267091, 0.84267091, 0.84267091, 0.84267091,\n",
       "        0.84267091]),\n",
       " 'std_train_score': array([1.48988687e-05, 1.48988687e-05, 1.48988687e-05, 1.48988687e-05,\n",
       "        1.48988687e-05, 1.48988687e-05])}"
      ]
     },
     "execution_count": 32,
     "metadata": {},
     "output_type": "execute_result"
    }
   ],
   "source": [
    "grid_ada.cv_results_"
   ]
  },
  {
   "cell_type": "markdown",
   "metadata": {},
   "source": [
    "### Level-up: SVM pipeline with grid search"
   ]
  },
  {
   "cell_type": "code",
   "execution_count": null,
   "metadata": {
    "ExecuteTime": {
     "end_time": "2019-11-13T17:12:11.989764Z",
     "start_time": "2019-11-13T17:12:03.313Z"
    }
   },
   "outputs": [],
   "source": [
    "# Your code here\n",
    "# ⏰ This cell may take a very long time to run!"
   ]
  },
  {
   "cell_type": "markdown",
   "metadata": {},
   "source": [
    "Use your grid search object along with `.cv_results` to get the full result overview"
   ]
  },
  {
   "cell_type": "code",
   "execution_count": null,
   "metadata": {
    "ExecuteTime": {
     "end_time": "2019-11-13T17:12:11.993379Z",
     "start_time": "2019-11-13T17:12:03.316Z"
    }
   },
   "outputs": [],
   "source": [
    "# Your code here "
   ]
  },
  {
   "cell_type": "markdown",
   "metadata": {},
   "source": [
    "## Note\n",
    "\n",
    "Note that this solution is only one of many options. The results in the Random Forest and Adaboost models show that there is a lot of improvement possible tuning the hyperparameters further, so make sure to explore this yourself!"
   ]
  },
  {
   "cell_type": "markdown",
   "metadata": {},
   "source": [
    "## Summary \n",
    "\n",
    "Great! You now got a lot of practice in. What algorithm would you choose and why?"
   ]
  }
 ],
 "metadata": {
  "kernelspec": {
   "display_name": "Python 3",
   "language": "python",
   "name": "python3"
  },
  "language_info": {
   "codemirror_mode": {
    "name": "ipython",
    "version": 3
   },
   "file_extension": ".py",
   "mimetype": "text/x-python",
   "name": "python",
   "nbconvert_exporter": "python",
   "pygments_lexer": "ipython3",
   "version": "3.6.6"
  },
  "toc": {
   "base_numbering": 1,
   "nav_menu": {},
   "number_sections": true,
   "sideBar": true,
   "skip_h1_title": false,
   "title_cell": "Table of Contents",
   "title_sidebar": "Contents",
   "toc_cell": false,
   "toc_position": {},
   "toc_section_display": true,
   "toc_window_display": false
  }
 },
 "nbformat": 4,
 "nbformat_minor": 2
}
